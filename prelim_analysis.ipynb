{
 "cells": [
  {
   "cell_type": "code",
   "execution_count": 1,
   "id": "937450ee-491f-4687-aa9b-5093bc2465e5",
   "metadata": {},
   "outputs": [],
   "source": [
    "import pandas as pd \n",
    "import numpy as np \n",
    "import seaborn as sns\n",
    "import matplotlib.pyplot as plt"
   ]
  },
  {
   "cell_type": "code",
   "execution_count": 2,
   "id": "326d7a87-1bb9-4460-98f4-71fd27b3b0ae",
   "metadata": {},
   "outputs": [],
   "source": [
    "from sklearn.model_selection import train_test_split, GridSearchCV\n",
    "import sklearn.linear_model as lm \n",
    "import sklearn.ensemble as em \n",
    "from sklearn.svm import SVC"
   ]
  },
  {
   "cell_type": "code",
   "execution_count": 12,
   "id": "677480c2-a143-4601-a558-0608c6f756ee",
   "metadata": {},
   "outputs": [],
   "source": [
    "pd.set_option('display.max_rows', 10)\n",
    "pd.set_option('display.max_columns', 50)\n",
    "np.set_printoptions(suppress=True)\n",
    "rseed = 1234"
   ]
  },
  {
   "cell_type": "code",
   "execution_count": 4,
   "id": "e818024c-7b73-42eb-a7b3-81149e811f93",
   "metadata": {},
   "outputs": [],
   "source": [
    "# download data \n",
    "# if you don't have these csvs, run the preprocessing notebook. \n",
    "# I turn this this into a py file later, but for now should be fine \n",
    "dfs04 = pd.read_csv(\"2021_04_processed_df.csv\")\n",
    "dfs03 = pd.read_csv(\"2021_03_processed_df.csv\")\n",
    "dfs02 = pd.read_csv(\"2021_02_processed_df.csv\")\n",
    "dfs = pd.concat((dfs02, dfs03, dfs04))"
   ]
  },
  {
   "cell_type": "code",
   "execution_count": 5,
   "id": "97112882-26ea-43e8-92d1-dcc3ddf67ccb",
   "metadata": {},
   "outputs": [
    {
     "name": "stdout",
     "output_type": "stream",
     "text": [
      "successful    381950\n",
      "failed        221091\n",
      "Name: state, dtype: int64\n"
     ]
    },
    {
     "data": {
      "text/html": [
       "<div>\n",
       "<style scoped>\n",
       "    .dataframe tbody tr th:only-of-type {\n",
       "        vertical-align: middle;\n",
       "    }\n",
       "\n",
       "    .dataframe tbody tr th {\n",
       "        vertical-align: top;\n",
       "    }\n",
       "\n",
       "    .dataframe thead th {\n",
       "        text-align: right;\n",
       "    }\n",
       "</style>\n",
       "<table border=\"1\" class=\"dataframe\">\n",
       "  <thead>\n",
       "    <tr style=\"text-align: right;\">\n",
       "      <th></th>\n",
       "      <th>Unnamed: 0</th>\n",
       "      <th>state</th>\n",
       "      <th>usd_goal</th>\n",
       "      <th>available_time</th>\n",
       "      <th>blurb_len</th>\n",
       "      <th>launched_at</th>\n",
       "      <th>deadline</th>\n",
       "      <th>blurb</th>\n",
       "      <th>name</th>\n",
       "      <th>currency</th>\n",
       "      <th>country</th>\n",
       "      <th>is_starred</th>\n",
       "      <th>is_starrable</th>\n",
       "      <th>spotlight</th>\n",
       "      <th>staff_pick</th>\n",
       "      <th>photo</th>\n",
       "      <th>cat_id</th>\n",
       "      <th>cat_position</th>\n",
       "      <th>cat_parent_id</th>\n",
       "      <th>cat_color</th>\n",
       "      <th>loc_id</th>\n",
       "      <th>loc_type</th>\n",
       "      <th>loc_state</th>\n",
       "    </tr>\n",
       "  </thead>\n",
       "  <tbody>\n",
       "    <tr>\n",
       "      <th>0</th>\n",
       "      <td>1</td>\n",
       "      <td>failed</td>\n",
       "      <td>18193.28550</td>\n",
       "      <td>2592000</td>\n",
       "      <td>104.0</td>\n",
       "      <td>1465517483</td>\n",
       "      <td>1468109483</td>\n",
       "      <td>With your help we will create this device that...</td>\n",
       "      <td>Save water 100% liquid downloads in toilets at...</td>\n",
       "      <td>EUR</td>\n",
       "      <td>ES</td>\n",
       "      <td>NaN</td>\n",
       "      <td>False</td>\n",
       "      <td>False</td>\n",
       "      <td>False</td>\n",
       "      <td>{\"key\":\"assets/012/228/546/686a9e499d109ace619...</td>\n",
       "      <td>331</td>\n",
       "      <td>1</td>\n",
       "      <td>16.0</td>\n",
       "      <td>6526716</td>\n",
       "      <td>55897673.0</td>\n",
       "      <td>Suburb</td>\n",
       "      <td>Yucatan</td>\n",
       "    </tr>\n",
       "    <tr>\n",
       "      <th>1</th>\n",
       "      <td>2</td>\n",
       "      <td>failed</td>\n",
       "      <td>3617.92405</td>\n",
       "      <td>2592000</td>\n",
       "      <td>125.0</td>\n",
       "      <td>1439409341</td>\n",
       "      <td>1442001341</td>\n",
       "      <td>We at Ormiston Primary are looking at starting...</td>\n",
       "      <td>Ormiston Primary Community Garden</td>\n",
       "      <td>NZD</td>\n",
       "      <td>NZ</td>\n",
       "      <td>NaN</td>\n",
       "      <td>False</td>\n",
       "      <td>False</td>\n",
       "      <td>False</td>\n",
       "      <td>{\"key\":\"assets/012/222/299/fb9dd113522a914a605...</td>\n",
       "      <td>309</td>\n",
       "      <td>7</td>\n",
       "      <td>10.0</td>\n",
       "      <td>16725570</td>\n",
       "      <td>22726370.0</td>\n",
       "      <td>Suburb</td>\n",
       "      <td>Auckland Region</td>\n",
       "    </tr>\n",
       "    <tr>\n",
       "      <th>2</th>\n",
       "      <td>3</td>\n",
       "      <td>failed</td>\n",
       "      <td>10000.00000</td>\n",
       "      <td>2506611</td>\n",
       "      <td>109.0</td>\n",
       "      <td>1430355429</td>\n",
       "      <td>1432862040</td>\n",
       "      <td>Self-taught aspiring metalsmith Looking for he...</td>\n",
       "      <td>Aspiring metalsmith in need of better tools, a...</td>\n",
       "      <td>USD</td>\n",
       "      <td>US</td>\n",
       "      <td>NaN</td>\n",
       "      <td>False</td>\n",
       "      <td>False</td>\n",
       "      <td>False</td>\n",
       "      <td>{\"key\":\"assets/012/122/450/73c72b3b1578078e1c9...</td>\n",
       "      <td>54</td>\n",
       "      <td>6</td>\n",
       "      <td>1.0</td>\n",
       "      <td>16760235</td>\n",
       "      <td>2428184.0</td>\n",
       "      <td>Town</td>\n",
       "      <td>MS</td>\n",
       "    </tr>\n",
       "  </tbody>\n",
       "</table>\n",
       "</div>"
      ],
      "text/plain": [
       "   Unnamed: 0   state     usd_goal  available_time  blurb_len  launched_at  \\\n",
       "0           1  failed  18193.28550         2592000      104.0   1465517483   \n",
       "1           2  failed   3617.92405         2592000      125.0   1439409341   \n",
       "2           3  failed  10000.00000         2506611      109.0   1430355429   \n",
       "\n",
       "     deadline                                              blurb  \\\n",
       "0  1468109483  With your help we will create this device that...   \n",
       "1  1442001341  We at Ormiston Primary are looking at starting...   \n",
       "2  1432862040  Self-taught aspiring metalsmith Looking for he...   \n",
       "\n",
       "                                                name currency country  \\\n",
       "0  Save water 100% liquid downloads in toilets at...      EUR      ES   \n",
       "1                  Ormiston Primary Community Garden      NZD      NZ   \n",
       "2  Aspiring metalsmith in need of better tools, a...      USD      US   \n",
       "\n",
       "  is_starred  is_starrable  spotlight  staff_pick  \\\n",
       "0        NaN         False      False       False   \n",
       "1        NaN         False      False       False   \n",
       "2        NaN         False      False       False   \n",
       "\n",
       "                                               photo  cat_id  cat_position  \\\n",
       "0  {\"key\":\"assets/012/228/546/686a9e499d109ace619...     331             1   \n",
       "1  {\"key\":\"assets/012/222/299/fb9dd113522a914a605...     309             7   \n",
       "2  {\"key\":\"assets/012/122/450/73c72b3b1578078e1c9...      54             6   \n",
       "\n",
       "   cat_parent_id  cat_color      loc_id loc_type        loc_state  \n",
       "0           16.0    6526716  55897673.0   Suburb          Yucatan  \n",
       "1           10.0   16725570  22726370.0   Suburb  Auckland Region  \n",
       "2            1.0   16760235   2428184.0     Town               MS  "
      ]
     },
     "execution_count": 5,
     "metadata": {},
     "output_type": "execute_result"
    }
   ],
   "source": [
    "print(dfs['state'].value_counts())\n",
    "dfs.head(3)"
   ]
  },
  {
   "cell_type": "code",
   "execution_count": 6,
   "id": "a8abea9d-e193-4a78-8d59-0267a763acd6",
   "metadata": {},
   "outputs": [],
   "source": [
    "# add outcome var + unique id \n",
    "dfs['outcome'] = np.where(dfs['state']==\"successful\", 1, 0)\n",
    "dfs['un_id'] = np.arange(0, dfs.shape[0], 1)"
   ]
  },
  {
   "cell_type": "code",
   "execution_count": 7,
   "id": "786077c8-7617-4834-b2f0-4a7838b1bcb3",
   "metadata": {},
   "outputs": [],
   "source": [
    "def lnom(df, grp_col, target_col=\"outcome\", min_n=1000):\n",
    "    \"\"\"\n",
    "    Encode our categorical variables, by calculating the leave-nothing-out mean, \n",
    "    i.e. for each category, we calculate the mean of the target and use it as our feature \n",
    "    \"\"\"\n",
    "    out_col = grp_col + \"_\" + target_col + \"_mean\"\n",
    "    tmp_df = df.groupby([grp_col])[target_col].agg(\n",
    "        [(out_col, \"mean\"), (\"c\", \"count\")]\n",
    "    )\n",
    "    tmp_df = tmp_df.loc[tmp_df[\"c\"] >= min_n].reset_index()\n",
    "    return tmp_df[[grp_col, out_col]]\n",
    "\n",
    "def add_lnoms(df1, df2, target_col=\"outcome\"):\n",
    "    \"\"\"\n",
    "    lnom = \"Leave none out mean\", i.e. calculate the average within a group. (as opposed to a loom -- \"leave one out of mean\")\n",
    "    Add lnoms for a bunch of categorical variables (currently hard-coded). \n",
    "    Lnoms are calculated using df2 and then merged onto df1 (i.e. insuring indepdence, though don't think this all that important). \n",
    "    Target column is specified with target_col. \n",
    "    \"\"\"\n",
    "    dfs_lnom = df1.merge(\n",
    "        lnom(df2, \"currency\", target_col), on=\"currency\", how=\"left\"\n",
    "    ).merge(\n",
    "        lnom(df2, \"country\", target_col), on=\"country\", how=\"left\"\n",
    "    ).merge(\n",
    "        lnom(df2, \"cat_id\", target_col), on=\"cat_id\", how=\"left\"\n",
    "    ).merge(\n",
    "        lnom(df2, \"cat_parent_id\", target_col), on=\"cat_parent_id\", how=\"left\"\n",
    "    ).merge(\n",
    "        lnom(df2, \"loc_type\", target_col), on=\"loc_type\", how=\"left\"\n",
    "    ).merge(\n",
    "        lnom(df2, \"loc_id\", target_col), on=\"loc_id\", how=\"left\"\n",
    "    )\n",
    "    return dfs_lnom\n",
    "\n",
    "def replace_nas(df1, df2, df1_varlist):\n",
    "    \"\"\"\n",
    "    Impute NAs in our data (df1) with the overall means (best-guess) from a independent dataframe (df2). \n",
    "    \"\"\"\n",
    "    # if grouped outcome means are missing, replace w/ over all outcome mean \n",
    "    df1.loc[:, df1.columns.str.contains('outcome')]  = df1.loc[:, df1.columns.str.contains('outcome')].fillna(  df2['outcome'].mean()  )\n",
    "    \n",
    "    # if using usd_goal variables \n",
    "    #df1.loc[:, df1.columns.str.contains('usd_goal')] = df1.loc[:, df1.columns.str.contains('usd_goal')].fillna( df2['usd_goal'].mean() )\n",
    "    \n",
    "    # if blurb len is missing, either: blurb is missing because it doesn't exist or it couldn't be scraped \n",
    "    # to be more conservative Im just assuming the later and setting equal to blurb mean \n",
    "    df1['blurb_len'] = df1['blurb_len'].fillna( df2['blurb_len'].mean() )\n",
    "    return df1 "
   ]
  },
  {
   "cell_type": "code",
   "execution_count": 8,
   "id": "8adcf1b8-fbe8-4a93-8bae-1f8e7fd28531",
   "metadata": {},
   "outputs": [],
   "source": [
    "#X_train, X_test, y_train, y_test = train_test_split(dfs, dfs[\"outcome\"], test_size=0.3, random_state=rseed)\n",
    "# to avoid info leakage, we'll calculate the averages on a different df \n",
    "#          I don't think it would be a problem to calculate on train df, but currently trying to remove \n",
    "#          any even potential problems to figure out performance ... \n",
    "X_train, X_lnom, y_train, y_lnom = train_test_split(dfs, dfs[\"outcome\"], test_size=0.3, random_state=rseed)\n",
    "X_train, X_test, y_train, y_test = train_test_split(X_train, y_train, test_size=0.25, random_state=rseed)\n",
    "# add outcome lnoms  \n",
    "X_train_lnom = add_lnoms(X_train, X_lnom, \"outcome\")\n",
    "X_test_lnom = add_lnoms(X_test, X_lnom, \"outcome\")\n",
    "# add usd_goal lnoms (let's ignore these for now --> don't help performance at all, if anything hurt it )\n",
    "#X_train_lnom = add_lnoms(X_train_lnom, X_lnom, \"usd_goal\")\n",
    "#X_test_lnom = add_lnoms(X_test_lnom, X_lnom, \"usd_goal\")"
   ]
  },
  {
   "cell_type": "code",
   "execution_count": 9,
   "id": "edcc9a7b-5315-4854-ae09-6a590cb59b36",
   "metadata": {},
   "outputs": [],
   "source": [
    "# specify feature set here\n",
    "\n",
    "# categorical variables (we won't use these raw, but will use lnom results)\n",
    "categorical_cols = [\"currency\", \"country\", \"cat_id\", \"cat_parent_id\", \"loc_id\", \"loc_type\"]\n",
    "# for results for lnom \n",
    "X_lnom_cols_outcome = pd.Series(categorical_cols) + \"_outcome_mean\"\n",
    "X_lnom_cols_usdgoal = pd.Series(categorical_cols) + \"_usd_goal_mean\"\n",
    "# specify other features here \n",
    "X_cols = [\"blurb_len\", \"usd_goal\"]\n",
    "# join all features together \n",
    "X_cols_all = np.concatenate((X_cols, X_lnom_cols_outcome))\n",
    "#X_cols_all = np.concatenate((X_cols, X_lnom_cols_outcome, X_lnom_cols_usdgoal))\n",
    "# subset features on our train and test data \n",
    "X_train_lnom = X_train_lnom[X_cols_all]\n",
    "X_test_lnom = X_test_lnom[X_cols_all]\n",
    "# make sure all values are floats, if na --> fill w/ 0.5 (i.e. we have no better guess)\n",
    "# there aren't many nas though, only really in cat_parent_id and loc_type \n",
    "X_test_lnom = replace_nas(X_test_lnom, X_lnom, X_cols_all)\n",
    "X_train_lnom = replace_nas(X_train_lnom, X_lnom, X_cols_all)"
   ]
  },
  {
   "cell_type": "code",
   "execution_count": 13,
   "id": "425e0949-26bd-408d-9a92-b5d50f3bea5d",
   "metadata": {},
   "outputs": [],
   "source": [
    "#### ---> IGNORE THIS CELL FOR NOW <--- ####\n",
    "### only use when using usd_goal vars, which we aren't \n",
    "## subtract actual usd_goal from category goal \n",
    "X_train_lnom[X_lnom_cols_usdgoal] = np.log(X_train_lnom[X_lnom_cols_usdgoal]+1).sub(np.log(X_train_lnom['usd_goal']+1), axis= 0 )\n",
    "X_test_lnom[X_lnom_cols_usdgoal] =  np.log(X_test_lnom[X_lnom_cols_usdgoal]+1).sub(np.log(X_test_lnom['usd_goal']+1), axis= 0 )"
   ]
  },
  {
   "cell_type": "code",
   "execution_count": 10,
   "id": "ffda63f3-afca-48a7-8652-a127cf12dfcc",
   "metadata": {},
   "outputs": [],
   "source": [
    "# specify some model performance funcs \n",
    "def rmse(y, yhat):\n",
    "    print(\"RMSE:\", np.round(np.sqrt( np.mean( (y - yhat)**2 ) ), 3))\n",
    "    \n",
    "def acc(y, yhat):\n",
    "    yhat_rounded = np.round(yhat)\n",
    "    print(\"Accuracy:\", np.round(np.mean(yhat_rounded == y), 3))"
   ]
  },
  {
   "cell_type": "markdown",
   "id": "cb9e0ee1-8309-4985-b296-eebfc411cff7",
   "metadata": {},
   "source": [
    "### Models"
   ]
  },
  {
   "cell_type": "code",
   "execution_count": 11,
   "id": "98d86f78-7fe7-4030-8b86-2fe7a3073426",
   "metadata": {},
   "outputs": [
    {
     "name": "stdout",
     "output_type": "stream",
     "text": [
      "RMSE: 0.539\n",
      "Accuracy: 0.71\n"
     ]
    }
   ],
   "source": [
    "## 1. Naive approach:\n",
    "# Idea: what if we just guess the outcome of previous projects within this category\n",
    "naive = np.array(np.round(X_test_lnom['cat_id_outcome_mean']).reset_index(drop=True))\n",
    "rmse(y_test, naive)\n",
    "acc(y_test, naive)"
   ]
  },
  {
   "cell_type": "code",
   "execution_count": 13,
   "id": "df5e3646-f646-4dc9-a40c-afb727299f30",
   "metadata": {},
   "outputs": [
    {
     "name": "stdout",
     "output_type": "stream",
     "text": [
      "RMSE: 0.481\n",
      "Accuracy: 0.633\n"
     ]
    }
   ],
   "source": [
    "## 2. Lasso\n",
    "# Since our feature space isn't that large and also not very rich (at least in a linear sense), don't expect great results here  \n",
    "clf_lasso = lm.Lasso(alpha=0.5, normalize=False, random_state=rseed)\n",
    "clf_lasso.fit(X_train_lnom, y_train)\n",
    "y_test_hat = clf_lasso.predict(X_test_lnom)\n",
    "rmse(y_test, y_test_hat)\n",
    "acc(y_test, y_test_hat)"
   ]
  },
  {
   "cell_type": "code",
   "execution_count": 14,
   "id": "1e77ad7f-21bf-4b30-b9ef-cd100da80823",
   "metadata": {},
   "outputs": [
    {
     "name": "stdout",
     "output_type": "stream",
     "text": [
      "RMSE: 0.408\n",
      "Accuracy: 0.721\n"
     ]
    }
   ],
   "source": [
    "## 3. Ridge\n",
    "# Similar expectations to lasso, though at least it won't kick out features from our model, so should do a bit better  \n",
    "\n",
    "# training procedure for a cross-validated ridge, but don't think this is necessary right now \n",
    "#clf_ridgecv = lm.RidgeCV(alphas=np.arange(0.1, 1, 0.02), cv=10).fit(X_train_lnom, y_train)\n",
    "#print(clf_ridgecv.alpha_)\n",
    "#y_test_hat = clf_ridgecv.predict(X_test_lnom)\n",
    "#rmse(y_test, y_test_hat)\n",
    "#acc(y_test, y_test_hat)\n",
    "# train ridge \n",
    "clf_ridge = lm.Ridge(alpha=0.5, normalize=False, random_state=rseed)\n",
    "clf_ridge.fit(X_train_lnom, y_train)\n",
    "y_test_hat = clf_ridge.predict(X_test_lnom)\n",
    "rmse(y_test, y_test_hat)\n",
    "acc(y_test, y_test_hat)"
   ]
  },
  {
   "cell_type": "code",
   "execution_count": 20,
   "id": "f10fbbe7-3376-4dcd-b738-b5142f03f95c",
   "metadata": {},
   "outputs": [
    {
     "name": "stdout",
     "output_type": "stream",
     "text": [
      "Coefficients: [0.00006428] [[ 0.006 -0.     0.     0.     0.     0.     0.     0.   ]]\n",
      "1    96534\n",
      "0     8998\n",
      "dtype: int64\n",
      "RMSE: 0.578\n",
      "Accuracy: 0.666\n"
     ]
    }
   ],
   "source": [
    "## 4. Logistic Reg  \n",
    "# Similar expectations to lasso + ridge \n",
    "# To avoid regularization set C to be very large and/or penalty to none \n",
    "glf = lm.LogisticRegression(C=10000, random_state=rseed, penalty='l2')\n",
    "glf.fit(X_train_lnom, y_train)\n",
    "print(\"Coefficients:\", glf.intercept_, np.round(glf.coef_, 3)) \n",
    "y_test_hat = glf.predict(X_test_lnom)\n",
    "print(pd.Series(y_test_hat).value_counts())\n",
    "rmse(y_test, y_test_hat)\n",
    "acc(y_test, y_test_hat)"
   ]
  },
  {
   "cell_type": "code",
   "execution_count": 20,
   "id": "260f71a2-959a-4548-b036-191e68e6b4ff",
   "metadata": {
    "tags": []
   },
   "outputs": [
    {
     "name": "stdout",
     "output_type": "stream",
     "text": [
      "[LibSVM]1    27021\n",
      "0     9468\n",
      "dtype: int64\n",
      "RMSE: 0.593\n",
      "Accuracy: 0.648\n"
     ]
    }
   ],
   "source": [
    "#### ---> DON'T RUN THIS <--- ####\n",
    "# this seems very slow and honestly don't have great results\n",
    "# definitely should look into improving SVM as it has potential, but...\n",
    "\n",
    "## 5. SVM \n",
    "svm = SVC(C=0.1, random_state=rseed, kernel='sigmoid', verbose=True)\n",
    "svm.fit(X_train_lnom, y_train)\n",
    "y_test_hat = svm.predict(X_test_lnom)\n",
    "print(pd.Series(y_test_hat).value_counts())\n",
    "rmse(y_test, y_test_hat)\n",
    "acc(y_test, y_test_hat)"
   ]
  },
  {
   "cell_type": "code",
   "execution_count": null,
   "id": "79efa8ce-8f83-4833-8a85-0dd4ae50ed97",
   "metadata": {},
   "outputs": [],
   "source": [
    "##### ---> NOTE: this will take a while to execute \n",
    "\n",
    "## 6. Random Forest \n",
    "# set up a parameter grid to find optimal parameters\n",
    "param_grid = {\n",
    "    'n_estimators': [5, 10, 20], \n",
    "    'max_depth': [5, 10, 15, 25, 35], \n",
    "    'max_features': ['auto', 'sqrt'], \n",
    "    'min_samples_split':[2, 3, 5, 10], \n",
    "    'min_samples_leaf':[1, 2, 3, 10], \n",
    "    'bootstrap': [True, False]\n",
    "    \n",
    "}\n",
    "# run grid search over parameters using 5 fold CV verbose on \n",
    "grid_rf = GridSearchCV(em.RandomForestClassifier(random_state=rseed, class_weight='balanced'), param_grid, cv=5, verbose=2)\n",
    "grid_rf.fit(X_train_lnom, y_train)\n",
    "print(grid_rf.best_params_)\n",
    "y_test_hat = grid_rf.predict(X_test_lnom)\n",
    "print(pd.Series(y_test_hat).value_counts())\n",
    "rmse(y_test, y_test_hat)\n",
    "acc(y_test, y_test_hat)\n",
    "# OLD: best params = {'bootstrap': False, 'max_depth': 13, 'max_features': 'auto', 'min_samples_leaf': 1, 'min_samples_split': 2, 'n_estimators': 20}"
   ]
  },
  {
   "cell_type": "code",
   "execution_count": 21,
   "id": "21caf48f-0b78-4248-8087-7ea71b24707e",
   "metadata": {},
   "outputs": [
    {
     "name": "stdout",
     "output_type": "stream",
     "text": [
      "1    65517\n",
      "0    40015\n",
      "dtype: int64\n",
      "RMSE: 0.278\n",
      "Accuracy: 0.923\n"
     ]
    }
   ],
   "source": [
    "## 6. Random Forest (cont. )\n",
    "# selected optimal params from cell above\n",
    "best_params = {'max_depth': 35, 'min_samples_leaf': 1, 'min_samples_split': 2, 'n_estimators': 20, 'max_features': 'auto', 'bootstrap':False}\n",
    "# run RF \n",
    "rf = em.RandomForestClassifier(random_state=rseed, class_weight='balanced', **best_params)\n",
    "rf.fit(X_train_lnom, y_train)\n",
    "y_test_hat = rf.predict(X_test_lnom)\n",
    "y_test_hat_proba = rf.predict_proba(X_test_lnom)\n",
    "print(pd.Series(y_test_hat).value_counts())\n",
    "rmse(y_test, y_test_hat)\n",
    "acc(y_test, y_test_hat)"
   ]
  },
  {
   "cell_type": "markdown",
   "id": "4e7a3565-334b-4ed3-8c4c-04250a4fb0aa",
   "metadata": {},
   "source": [
    "#### Generate some plots from RF output"
   ]
  },
  {
   "cell_type": "code",
   "execution_count": 106,
   "id": "608e77c7-7a55-47b4-8d70-6ee2142d8784",
   "metadata": {},
   "outputs": [
    {
     "data": {
      "text/plain": [
       "<AxesSubplot:ylabel='Count'>"
      ]
     },
     "execution_count": 106,
     "metadata": {},
     "output_type": "execute_result"
    },
    {
     "data": {
      "image/png": "[encoded data removed]",
      "text/plain": [
       "<Figure size 432x288 with 1 Axes>"
      ]
     },
     "metadata": {
      "needs_background": "light"
     },
     "output_type": "display_data"
    }
   ],
   "source": [
    "sns.histplot(x=y_test_hat_proba[:, 1], hue=y_test)"
   ]
  },
  {
   "cell_type": "code",
   "execution_count": 107,
   "id": "debb48e6-c7cb-4ac9-ae3f-cfcb105bcf81",
   "metadata": {},
   "outputs": [
    {
     "data": {
      "text/plain": [
       "<AxesSubplot:ylabel='Density'>"
      ]
     },
     "execution_count": 107,
     "metadata": {},
     "output_type": "execute_result"
    },
    {
     "data": {
      "image/png": "[encoded data removed]",
      "text/plain": [
       "<Figure size 432x288 with 1 Axes>"
      ]
     },
     "metadata": {
      "needs_background": "light"
     },
     "output_type": "display_data"
    }
   ],
   "source": [
    "sns.kdeplot(x=y_test_hat_proba[:, 1], hue=y_test)"
   ]
  },
  {
   "cell_type": "code",
   "execution_count": 108,
   "id": "33879681-c0d9-4b52-a2d4-ce2738acc5a3",
   "metadata": {},
   "outputs": [
    {
     "data": {
      "text/plain": [
       "<AxesSubplot:xlabel='predicted', ylabel='observed'>"
      ]
     },
     "execution_count": 108,
     "metadata": {},
     "output_type": "execute_result"
    },
    {
     "data": {
      "image/png": "[encoded data removed]",
      "text/plain": [
       "<Figure size 432x288 with 2 Axes>"
      ]
     },
     "metadata": {
      "needs_background": "light"
     },
     "output_type": "display_data"
    }
   ],
   "source": [
    "rf_preds = pd.DataFrame({'observed':y_test, 'predicted':y_test_hat})\n",
    "sns.heatmap(pd.crosstab(rf_preds['observed'], rf_preds['predicted']), annot=True, cmap='Blues', fmt='g')"
   ]
  },
  {
   "cell_type": "code",
   "execution_count": 83,
   "id": "30506adc-6d16-4bb7-a3fe-b9c1ad7dc00c",
   "metadata": {},
   "outputs": [],
   "source": [
    "rf_impt_std = np.std([tree.feature_importances_ for tree in rf.estimators_], axis=0)"
   ]
  },
  {
   "cell_type": "code",
   "execution_count": 109,
   "id": "05155f9e-96b5-4eb3-8c58-899334b91bb2",
   "metadata": {},
   "outputs": [
    {
     "data": {
      "image/png": "[encoded data removed]",
      "text/plain": [
       "<Figure size 1080x576 with 1 Axes>"
      ]
     },
     "metadata": {
      "needs_background": "light"
     },
     "output_type": "display_data"
    }
   ],
   "source": [
    "rf_impt = pd.DataFrame({'var':X_cols_all, 'importance':rf.feature_importances_}).sort_values('importance', ascending=False)\n",
    "plt.subplots(1, 1, figsize=(15, 8))\n",
    "sns.barplot(x=\"var\", y=\"importance\", data=rf_impt, ci=\"sd\")\n",
    "plt.xticks(rotation=45)\n",
    "plt.show()"
   ]
  },
  {
   "cell_type": "code",
   "execution_count": null,
   "id": "9988b5e5-17ba-42c8-8546-dfb8ebe4aa60",
   "metadata": {},
   "outputs": [],
   "source": []
  },
  {
   "cell_type": "code",
   "execution_count": null,
   "id": "a1344477-fa6c-4997-965d-bed878ec95c2",
   "metadata": {},
   "outputs": [],
   "source": []
  },
  {
   "cell_type": "code",
   "execution_count": null,
   "id": "8303349b-fad7-4b6f-b534-c26c1508fc3e",
   "metadata": {},
   "outputs": [],
   "source": [
    "#### misc stuff re: dummy encodings: \n",
    "\n",
    "def add_dummies(df, dummy_cols):\n",
    "    return pd.get_dummies(df, drop_first=False, dummy_na=True, columns=dummy_cols)\n",
    "\n",
    "\n",
    "# specify columns\n",
    "y_col = \"outcome\"\n",
    "# y_col = [\"usd_goal\"]\n",
    "X_cols = [\"blurb_len\", \"spotlight\", \"staff_pick\", \"cat_position\",]\n",
    "X_dummy_cols = np.concatenate((\n",
    "    dfs_full.columns[dfs_full.columns.str.startswith(\"currency\")],\n",
    "    dfs_full.columns[dfs_full.columns.str.startswith(\"country\")], \n",
    "    dfs_full.columns[dfs_full.columns.str.startswith(\"cat_id\")], \n",
    "    dfs_full.columns[dfs_full.columns.str.startswith(\"cat_parent_id\")], \n",
    "    #dfs_full.columns[dfs_full.columns.str.startswith(\"loc_id\")], \n",
    "    dfs_full.columns[dfs_full.columns.str.startswith(\"loc_type\")], \n",
    "))\n",
    "X_lnom_cols = pd.Series(dummy_cols) + \"_mean\"\n",
    "#X_cols_all = np.concatenate((X_cols, X_dummy_cols))\n",
    "X_cols_all = np.concatenate((X_cols, X_lnom_cols))\n",
    "\n",
    "\n",
    "#X = dfs_full[X_cols_all].astype(float)\n",
    "#y = np.array(dfs_full[y_col])\n",
    "X = dfs_lnom[X_cols_all].astype(float)\n",
    "y = np.array(dfs_lnom[y_col])"
   ]
  },
  {
   "cell_type": "code",
   "execution_count": null,
   "id": "137eccce-5590-4d17-be53-fd9e2eb942e2",
   "metadata": {},
   "outputs": [],
   "source": []
  },
  {
   "cell_type": "code",
   "execution_count": null,
   "id": "d6c72dd8-a462-4b8a-989a-03cef02682bb",
   "metadata": {},
   "outputs": [],
   "source": []
  },
  {
   "cell_type": "code",
   "execution_count": null,
   "id": "091667f1-275f-496b-8476-c70d16505cd7",
   "metadata": {},
   "outputs": [],
   "source": []
  },
  {
   "cell_type": "code",
   "execution_count": null,
   "id": "7e841c63-c7b3-4090-83a5-66b1ba98b826",
   "metadata": {},
   "outputs": [],
   "source": []
  }
 ],
 "metadata": {
  "kernelspec": {
   "display_name": "Python 3",
   "language": "python",
   "name": "python3"
  },
  "language_info": {
   "codemirror_mode": {
    "name": "ipython",
    "version": 3
   },
   "file_extension": ".py",
   "mimetype": "text/x-python",
   "name": "python",
   "nbconvert_exporter": "python",
   "pygments_lexer": "ipython3",
   "version": "3.8.8"
  }
 },
 "nbformat": 4,
 "nbformat_minor": 5
}
