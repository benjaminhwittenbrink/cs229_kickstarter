{
 "cells": [
  {
   "cell_type": "code",
   "execution_count": 1,
   "id": "937450ee-491f-4687-aa9b-5093bc2465e5",
   "metadata": {},
   "outputs": [],
   "source": [
    "import pandas as pd \n",
    "import numpy as np \n",
    "import seaborn as sns\n",
    "import matplotlib.pyplot as plt"
   ]
  },
  {
   "cell_type": "code",
   "execution_count": 2,
   "id": "326d7a87-1bb9-4460-98f4-71fd27b3b0ae",
   "metadata": {},
   "outputs": [],
   "source": [
    "from sklearn import tree\n",
    "from sklearn import metrics\n",
    "from sklearn.model_selection import train_test_split, GridSearchCV\n",
    "import sklearn.linear_model as lm \n",
    "import sklearn.ensemble as em \n",
    "from sklearn.svm import SVC"
   ]
  },
  {
   "cell_type": "code",
   "execution_count": 3,
   "id": "677480c2-a143-4601-a558-0608c6f756ee",
   "metadata": {},
   "outputs": [],
   "source": [
    "pd.set_option('display.max_rows', 10)\n",
    "pd.set_option('display.max_columns', 50)\n",
    "np.set_printoptions(suppress=True)\n",
    "rseed = 1234"
   ]
  },
  {
   "cell_type": "code",
   "execution_count": 4,
   "id": "e818024c-7b73-42eb-a7b3-81149e811f93",
   "metadata": {},
   "outputs": [
    {
     "name": "stderr",
     "output_type": "stream",
     "text": [
      "/Users/benji/anaconda3/envs/play/lib/python3.8/site-packages/IPython/core/interactiveshell.py:3165: DtypeWarning: Columns (11) have mixed types.Specify dtype option on import or set low_memory=False.\n",
      "  has_raised = await self.run_ast_nodes(code_ast.body, cell_name,\n"
     ]
    }
   ],
   "source": [
    "# download data \n",
    "# if you don't have these csvs, run the preprocessing notebook. \n",
    "# Ill turn this this into a py file later, but for now should be fine \n",
    "dfs = pd.read_csv(\"all_processed_df.csv\")"
   ]
  },
  {
   "cell_type": "code",
   "execution_count": 5,
   "id": "a8abea9d-e193-4a78-8d59-0267a763acd6",
   "metadata": {},
   "outputs": [],
   "source": [
    "# add outcome var + unique id \n",
    "dfs['outcome'] = np.where(dfs['state']==\"successful\", 1, 0)\n",
    "dfs['un_id'] = np.arange(0, dfs.shape[0], 1)\n",
    "dfs['name_len'] = dfs['name'].str.len()"
   ]
  },
  {
   "cell_type": "code",
   "execution_count": 6,
   "id": "786077c8-7617-4834-b2f0-4a7838b1bcb3",
   "metadata": {},
   "outputs": [],
   "source": [
    "def lnom(df, grp_col, target_col=\"outcome\", min_n=1000):\n",
    "    \"\"\"\n",
    "    Encode our categorical variables, by calculating the leave-nothing-out mean, \n",
    "    i.e. for each category, we calculate the mean of the target and use it as our feature \n",
    "    \"\"\"\n",
    "    out_col = grp_col + \"_\" + target_col + \"_mean\"\n",
    "    tmp_df = df.groupby([grp_col])[target_col].agg(\n",
    "        [(out_col, \"mean\"), (\"c\", \"count\")]\n",
    "    )\n",
    "    tmp_df = tmp_df.loc[tmp_df[\"c\"] >= min_n].reset_index()\n",
    "    return tmp_df[[grp_col, out_col]]\n",
    "\n",
    "def add_lnoms(df1, df2, target_col=\"outcome\"):\n",
    "    \"\"\"\n",
    "    lnom = \"Leave none out mean\", i.e. calculate the average within a group. (as opposed to a loom -- \"leave one out of mean\")\n",
    "    Add lnoms for a bunch of categorical variables (currently hard-coded). \n",
    "    Lnoms are calculated using df2 and then merged onto df1 (i.e. insuring indepdence, though don't think this all that important). \n",
    "    Target column is specified with target_col. \n",
    "    \"\"\"\n",
    "    dfs_lnom = df1.merge(\n",
    "        lnom(df2, \"currency\", target_col), on=\"currency\", how=\"left\"\n",
    "    ).merge(\n",
    "        lnom(df2, \"country\", target_col), on=\"country\", how=\"left\"\n",
    "    ).merge(\n",
    "        lnom(df2, \"cat_id\", target_col), on=\"cat_id\", how=\"left\"\n",
    "    ).merge(\n",
    "        lnom(df2, \"cat_parent_id\", target_col), on=\"cat_parent_id\", how=\"left\"\n",
    "    ).merge(\n",
    "        lnom(df2, \"loc_type\", target_col), on=\"loc_type\", how=\"left\"\n",
    "    ).merge(\n",
    "        lnom(df2, \"loc_id\", target_col), on=\"loc_id\", how=\"left\"\n",
    "    )\n",
    "    return dfs_lnom\n",
    "\n",
    "def replace_nas(df1, df2, df1_varlist):\n",
    "    \"\"\"\n",
    "    Impute NAs in our data (df1) with the overall means (best-guess) from a independent dataframe (df2). \n",
    "    \"\"\"\n",
    "    # if grouped outcome means are missing, replace w/ over all outcome mean \n",
    "    df1.loc[:, df1.columns.str.contains('outcome')]  = df1.loc[:, df1.columns.str.contains('outcome')].fillna(  df2['outcome'].mean()  )\n",
    "    \n",
    "    # if using usd_goal variables \n",
    "    #df1.loc[:, df1.columns.str.contains('usd_goal')] = df1.loc[:, df1.columns.str.contains('usd_goal')].fillna( df2['usd_goal'].mean() )\n",
    "    \n",
    "    # if blurb len is missing, either: blurb is missing because it doesn't exist or it couldn't be scraped \n",
    "    # to be more conservative Im just assuming the later and setting equal to blurb mean \n",
    "    df1['blurb_len'] = df1['blurb_len'].fillna( df2['blurb_len'].mean() )\n",
    "    return df1 "
   ]
  },
  {
   "cell_type": "code",
   "execution_count": 7,
   "id": "8adcf1b8-fbe8-4a93-8bae-1f8e7fd28531",
   "metadata": {},
   "outputs": [],
   "source": [
    "#X_train, X_test, y_train, y_test = train_test_split(dfs, dfs[\"outcome\"], test_size=0.3, random_state=rseed)\n",
    "# to avoid info leakage, we'll calculate the averages on a different df \n",
    "#          I don't think it would be a problem to calculate on train df, but currently trying to remove \n",
    "#          any even potential problems to figure out performance ... \n",
    "X_train, X_lnom, y_train, y_lnom = train_test_split(dfs, dfs[\"outcome\"], test_size=0.3, random_state=rseed)\n",
    "X_train, X_test, y_train, y_test = train_test_split(X_train, y_train, test_size=0.25, random_state=rseed)\n",
    "# add outcome lnoms  \n",
    "X_train_lnom = add_lnoms(X_train, X_lnom, \"outcome\")\n",
    "X_test_lnom = add_lnoms(X_test, X_lnom, \"outcome\")\n",
    "# add usd_goal lnoms (let's ignore these for now --> don't help performance at all, if anything hurt it )\n",
    "#X_train_lnom = add_lnoms(X_train_lnom, X_lnom, \"usd_goal\")\n",
    "#X_test_lnom = add_lnoms(X_test_lnom, X_lnom, \"usd_goal\")"
   ]
  },
  {
   "cell_type": "code",
   "execution_count": 8,
   "id": "edcc9a7b-5315-4854-ae09-6a590cb59b36",
   "metadata": {},
   "outputs": [],
   "source": [
    "# specify feature set here\n",
    "\n",
    "# categorical variables (we won't use these raw, but will use lnom results)\n",
    "categorical_cols = [\"currency\", \"country\", \"cat_id\", \"cat_parent_id\", \"loc_id\", \"loc_type\"]\n",
    "# for results for lnom \n",
    "X_lnom_cols_outcome = pd.Series(categorical_cols) + \"_outcome_mean\"\n",
    "X_lnom_cols_usdgoal = pd.Series(categorical_cols) + \"_usd_goal_mean\"\n",
    "# specify other features here \n",
    "X_cols = [\"blurb_len\", \"name_len\", \"usd_goal\"]\n",
    "# join all features together \n",
    "X_cols_all = np.concatenate((X_cols, X_lnom_cols_outcome))\n",
    "#X_cols_all = np.concatenate((X_cols, X_lnom_cols_outcome, X_lnom_cols_usdgoal))\n",
    "# subset features on our train and test data \n",
    "X_train_lnom = X_train_lnom[X_cols_all]\n",
    "X_test_lnom = X_test_lnom[X_cols_all]\n",
    "# make sure all values are floats, if na --> fill w/ 0.5 (i.e. we have no better guess)\n",
    "# there aren't many nas though, only really in cat_parent_id and loc_type \n",
    "X_test_lnom = replace_nas(X_test_lnom, X_lnom, X_cols_all)\n",
    "X_train_lnom = replace_nas(X_train_lnom, X_lnom, X_cols_all)"
   ]
  },
  {
   "cell_type": "code",
   "execution_count": 30,
   "id": "425e0949-26bd-408d-9a92-b5d50f3bea5d",
   "metadata": {
    "collapsed": true,
    "jupyter": {
     "outputs_hidden": true
    },
    "tags": []
   },
   "outputs": [
    {
     "ename": "KeyError",
     "evalue": "\"None of [Index(['currency_usd_goal_mean', 'country_usd_goal_mean',\\n       'cat_id_usd_goal_mean', 'cat_parent_id_usd_goal_mean',\\n       'loc_id_usd_goal_mean', 'loc_type_usd_goal_mean'],\\n      dtype='object')] are in the [columns]\"",
     "output_type": "error",
     "traceback": [
      "\u001b[0;31m---------------------------------------------------------------------------\u001b[0m",
      "\u001b[0;31mKeyError\u001b[0m                                  Traceback (most recent call last)",
      "\u001b[0;32m<ipython-input-30-6e8d12d5370d>\u001b[0m in \u001b[0;36m<module>\u001b[0;34m\u001b[0m\n\u001b[1;32m      2\u001b[0m \u001b[0;31m### only use when using usd_goal vars, which we aren't\u001b[0m\u001b[0;34m\u001b[0m\u001b[0;34m\u001b[0m\u001b[0;34m\u001b[0m\u001b[0m\n\u001b[1;32m      3\u001b[0m \u001b[0;31m## subtract actual usd_goal from category goal\u001b[0m\u001b[0;34m\u001b[0m\u001b[0;34m\u001b[0m\u001b[0;34m\u001b[0m\u001b[0m\n\u001b[0;32m----> 4\u001b[0;31m \u001b[0mX_train_lnom\u001b[0m\u001b[0;34m[\u001b[0m\u001b[0mX_lnom_cols_usdgoal\u001b[0m\u001b[0;34m]\u001b[0m \u001b[0;34m=\u001b[0m \u001b[0mnp\u001b[0m\u001b[0;34m.\u001b[0m\u001b[0mlog\u001b[0m\u001b[0;34m(\u001b[0m\u001b[0mX_train_lnom\u001b[0m\u001b[0;34m[\u001b[0m\u001b[0mX_lnom_cols_usdgoal\u001b[0m\u001b[0;34m]\u001b[0m\u001b[0;34m+\u001b[0m\u001b[0;36m1\u001b[0m\u001b[0;34m)\u001b[0m\u001b[0;34m.\u001b[0m\u001b[0msub\u001b[0m\u001b[0;34m(\u001b[0m\u001b[0mnp\u001b[0m\u001b[0;34m.\u001b[0m\u001b[0mlog\u001b[0m\u001b[0;34m(\u001b[0m\u001b[0mX_train_lnom\u001b[0m\u001b[0;34m[\u001b[0m\u001b[0;34m'usd_goal'\u001b[0m\u001b[0;34m]\u001b[0m\u001b[0;34m+\u001b[0m\u001b[0;36m1\u001b[0m\u001b[0;34m)\u001b[0m\u001b[0;34m,\u001b[0m \u001b[0maxis\u001b[0m\u001b[0;34m=\u001b[0m \u001b[0;36m0\u001b[0m \u001b[0;34m)\u001b[0m\u001b[0;34m\u001b[0m\u001b[0;34m\u001b[0m\u001b[0m\n\u001b[0m\u001b[1;32m      5\u001b[0m \u001b[0mX_test_lnom\u001b[0m\u001b[0;34m[\u001b[0m\u001b[0mX_lnom_cols_usdgoal\u001b[0m\u001b[0;34m]\u001b[0m \u001b[0;34m=\u001b[0m  \u001b[0mnp\u001b[0m\u001b[0;34m.\u001b[0m\u001b[0mlog\u001b[0m\u001b[0;34m(\u001b[0m\u001b[0mX_test_lnom\u001b[0m\u001b[0;34m[\u001b[0m\u001b[0mX_lnom_cols_usdgoal\u001b[0m\u001b[0;34m]\u001b[0m\u001b[0;34m+\u001b[0m\u001b[0;36m1\u001b[0m\u001b[0;34m)\u001b[0m\u001b[0;34m.\u001b[0m\u001b[0msub\u001b[0m\u001b[0;34m(\u001b[0m\u001b[0mnp\u001b[0m\u001b[0;34m.\u001b[0m\u001b[0mlog\u001b[0m\u001b[0;34m(\u001b[0m\u001b[0mX_test_lnom\u001b[0m\u001b[0;34m[\u001b[0m\u001b[0;34m'usd_goal'\u001b[0m\u001b[0;34m]\u001b[0m\u001b[0;34m+\u001b[0m\u001b[0;36m1\u001b[0m\u001b[0;34m)\u001b[0m\u001b[0;34m,\u001b[0m \u001b[0maxis\u001b[0m\u001b[0;34m=\u001b[0m \u001b[0;36m0\u001b[0m \u001b[0;34m)\u001b[0m\u001b[0;34m\u001b[0m\u001b[0;34m\u001b[0m\u001b[0m\n",
      "\u001b[0;32m~/anaconda3/envs/play/lib/python3.8/site-packages/pandas/core/frame.py\u001b[0m in \u001b[0;36m__getitem__\u001b[0;34m(self, key)\u001b[0m\n\u001b[1;32m   3028\u001b[0m             \u001b[0;32mif\u001b[0m \u001b[0mis_iterator\u001b[0m\u001b[0;34m(\u001b[0m\u001b[0mkey\u001b[0m\u001b[0;34m)\u001b[0m\u001b[0;34m:\u001b[0m\u001b[0;34m\u001b[0m\u001b[0;34m\u001b[0m\u001b[0m\n\u001b[1;32m   3029\u001b[0m                 \u001b[0mkey\u001b[0m \u001b[0;34m=\u001b[0m \u001b[0mlist\u001b[0m\u001b[0;34m(\u001b[0m\u001b[0mkey\u001b[0m\u001b[0;34m)\u001b[0m\u001b[0;34m\u001b[0m\u001b[0;34m\u001b[0m\u001b[0m\n\u001b[0;32m-> 3030\u001b[0;31m             \u001b[0mindexer\u001b[0m \u001b[0;34m=\u001b[0m \u001b[0mself\u001b[0m\u001b[0;34m.\u001b[0m\u001b[0mloc\u001b[0m\u001b[0;34m.\u001b[0m\u001b[0m_get_listlike_indexer\u001b[0m\u001b[0;34m(\u001b[0m\u001b[0mkey\u001b[0m\u001b[0;34m,\u001b[0m \u001b[0maxis\u001b[0m\u001b[0;34m=\u001b[0m\u001b[0;36m1\u001b[0m\u001b[0;34m,\u001b[0m \u001b[0mraise_missing\u001b[0m\u001b[0;34m=\u001b[0m\u001b[0;32mTrue\u001b[0m\u001b[0;34m)\u001b[0m\u001b[0;34m[\u001b[0m\u001b[0;36m1\u001b[0m\u001b[0;34m]\u001b[0m\u001b[0;34m\u001b[0m\u001b[0;34m\u001b[0m\u001b[0m\n\u001b[0m\u001b[1;32m   3031\u001b[0m \u001b[0;34m\u001b[0m\u001b[0m\n\u001b[1;32m   3032\u001b[0m         \u001b[0;31m# take() does not accept boolean indexers\u001b[0m\u001b[0;34m\u001b[0m\u001b[0;34m\u001b[0m\u001b[0;34m\u001b[0m\u001b[0m\n",
      "\u001b[0;32m~/anaconda3/envs/play/lib/python3.8/site-packages/pandas/core/indexing.py\u001b[0m in \u001b[0;36m_get_listlike_indexer\u001b[0;34m(self, key, axis, raise_missing)\u001b[0m\n\u001b[1;32m   1264\u001b[0m             \u001b[0mkeyarr\u001b[0m\u001b[0;34m,\u001b[0m \u001b[0mindexer\u001b[0m\u001b[0;34m,\u001b[0m \u001b[0mnew_indexer\u001b[0m \u001b[0;34m=\u001b[0m \u001b[0max\u001b[0m\u001b[0;34m.\u001b[0m\u001b[0m_reindex_non_unique\u001b[0m\u001b[0;34m(\u001b[0m\u001b[0mkeyarr\u001b[0m\u001b[0;34m)\u001b[0m\u001b[0;34m\u001b[0m\u001b[0;34m\u001b[0m\u001b[0m\n\u001b[1;32m   1265\u001b[0m \u001b[0;34m\u001b[0m\u001b[0m\n\u001b[0;32m-> 1266\u001b[0;31m         \u001b[0mself\u001b[0m\u001b[0;34m.\u001b[0m\u001b[0m_validate_read_indexer\u001b[0m\u001b[0;34m(\u001b[0m\u001b[0mkeyarr\u001b[0m\u001b[0;34m,\u001b[0m \u001b[0mindexer\u001b[0m\u001b[0;34m,\u001b[0m \u001b[0maxis\u001b[0m\u001b[0;34m,\u001b[0m \u001b[0mraise_missing\u001b[0m\u001b[0;34m=\u001b[0m\u001b[0mraise_missing\u001b[0m\u001b[0;34m)\u001b[0m\u001b[0;34m\u001b[0m\u001b[0;34m\u001b[0m\u001b[0m\n\u001b[0m\u001b[1;32m   1267\u001b[0m         \u001b[0;32mreturn\u001b[0m \u001b[0mkeyarr\u001b[0m\u001b[0;34m,\u001b[0m \u001b[0mindexer\u001b[0m\u001b[0;34m\u001b[0m\u001b[0;34m\u001b[0m\u001b[0m\n\u001b[1;32m   1268\u001b[0m \u001b[0;34m\u001b[0m\u001b[0m\n",
      "\u001b[0;32m~/anaconda3/envs/play/lib/python3.8/site-packages/pandas/core/indexing.py\u001b[0m in \u001b[0;36m_validate_read_indexer\u001b[0;34m(self, key, indexer, axis, raise_missing)\u001b[0m\n\u001b[1;32m   1306\u001b[0m             \u001b[0;32mif\u001b[0m \u001b[0mmissing\u001b[0m \u001b[0;34m==\u001b[0m \u001b[0mlen\u001b[0m\u001b[0;34m(\u001b[0m\u001b[0mindexer\u001b[0m\u001b[0;34m)\u001b[0m\u001b[0;34m:\u001b[0m\u001b[0;34m\u001b[0m\u001b[0;34m\u001b[0m\u001b[0m\n\u001b[1;32m   1307\u001b[0m                 \u001b[0maxis_name\u001b[0m \u001b[0;34m=\u001b[0m \u001b[0mself\u001b[0m\u001b[0;34m.\u001b[0m\u001b[0mobj\u001b[0m\u001b[0;34m.\u001b[0m\u001b[0m_get_axis_name\u001b[0m\u001b[0;34m(\u001b[0m\u001b[0maxis\u001b[0m\u001b[0;34m)\u001b[0m\u001b[0;34m\u001b[0m\u001b[0;34m\u001b[0m\u001b[0m\n\u001b[0;32m-> 1308\u001b[0;31m                 \u001b[0;32mraise\u001b[0m \u001b[0mKeyError\u001b[0m\u001b[0;34m(\u001b[0m\u001b[0;34mf\"None of [{key}] are in the [{axis_name}]\"\u001b[0m\u001b[0;34m)\u001b[0m\u001b[0;34m\u001b[0m\u001b[0;34m\u001b[0m\u001b[0m\n\u001b[0m\u001b[1;32m   1309\u001b[0m \u001b[0;34m\u001b[0m\u001b[0m\n\u001b[1;32m   1310\u001b[0m             \u001b[0max\u001b[0m \u001b[0;34m=\u001b[0m \u001b[0mself\u001b[0m\u001b[0;34m.\u001b[0m\u001b[0mobj\u001b[0m\u001b[0;34m.\u001b[0m\u001b[0m_get_axis\u001b[0m\u001b[0;34m(\u001b[0m\u001b[0maxis\u001b[0m\u001b[0;34m)\u001b[0m\u001b[0;34m\u001b[0m\u001b[0;34m\u001b[0m\u001b[0m\n",
      "\u001b[0;31mKeyError\u001b[0m: \"None of [Index(['currency_usd_goal_mean', 'country_usd_goal_mean',\\n       'cat_id_usd_goal_mean', 'cat_parent_id_usd_goal_mean',\\n       'loc_id_usd_goal_mean', 'loc_type_usd_goal_mean'],\\n      dtype='object')] are in the [columns]\""
     ]
    }
   ],
   "source": [
    "#### ---> IGNORE THIS CELL FOR NOW <--- ####\n",
    "### only use when using usd_goal vars, which we aren't \n",
    "## subtract actual usd_goal from category goal \n",
    "X_train_lnom[X_lnom_cols_usdgoal] = np.log(X_train_lnom[X_lnom_cols_usdgoal]+1).sub(np.log(X_train_lnom['usd_goal']+1), axis= 0 )\n",
    "X_test_lnom[X_lnom_cols_usdgoal] =  np.log(X_test_lnom[X_lnom_cols_usdgoal]+1).sub(np.log(X_test_lnom['usd_goal']+1), axis= 0 )"
   ]
  },
  {
   "cell_type": "code",
   "execution_count": 9,
   "id": "ffda63f3-afca-48a7-8652-a127cf12dfcc",
   "metadata": {},
   "outputs": [],
   "source": [
    "# specify some model performance funcs \n",
    "def rmse(y, yhat):\n",
    "    print(\"RMSE:\", np.round(np.sqrt( np.mean( (y - yhat)**2 ) ), 3))\n",
    "    \n",
    "def acc(y, yhat):\n",
    "    yhat_rounded = np.round(yhat)\n",
    "    print(\"Accuracy:\", np.round(np.mean(yhat_rounded == y), 3))\n",
    "    \n",
    "def tfpn(y, yhat):\n",
    "    tp = np.logical_and((y==1), (yhat==1)).sum()\n",
    "    fp = np.logical_and((y==0), (yhat==1)).sum()\n",
    "    fn = np.logical_and((y==1), (yhat==0)).sum()\n",
    "    tn = np.logical_and((y==0), (yhat==0)).sum()\n",
    "    \n",
    "    fpr = fp / (fp + tn)\n",
    "    fnr = fn / (fn + tp)\n",
    "    tpr = tp / (tp + fn)\n",
    "    tnr = tn / (tn + fp)\n",
    "    res = {\n",
    "        'False Positive Rate':np.round(fpr,3), \n",
    "        'False Negative Rate':np.round(fnr,3), \n",
    "        'True Positive Rate':np.round(tpr,3), \n",
    "        'True Negative Rate':np.round(tnr,3)\n",
    "    }\n",
    "    [print(k, \":\", v) for k, v in res.items()]"
   ]
  },
  {
   "cell_type": "markdown",
   "id": "cb9e0ee1-8309-4985-b296-eebfc411cff7",
   "metadata": {},
   "source": [
    "### Models"
   ]
  },
  {
   "cell_type": "code",
   "execution_count": 10,
   "id": "98d86f78-7fe7-4030-8b86-2fe7a3073426",
   "metadata": {},
   "outputs": [
    {
     "name": "stdout",
     "output_type": "stream",
     "text": [
      "RMSE: 0.581\n",
      "Accuracy: 0.662\n"
     ]
    }
   ],
   "source": [
    "## 1. Naive approach:\n",
    "# Idea: what if we just guess the outcome of previous projects within this category\n",
    "naive = np.array(np.round(X_test_lnom['cat_id_outcome_mean']).reset_index(drop=True))\n",
    "rmse(y_test, naive)\n",
    "acc(y_test, naive)"
   ]
  },
  {
   "cell_type": "code",
   "execution_count": 11,
   "id": "5c15bc5f-7e50-4071-9f99-20daa8302b90",
   "metadata": {},
   "outputs": [
    {
     "name": "stdout",
     "output_type": "stream",
     "text": [
      "RMSE: 0.417\n",
      "Accuracy: 0.72\n"
     ]
    }
   ],
   "source": [
    "## 1.5 OLS: \n",
    "ols = lm.LinearRegression(normalize=False)\n",
    "ols.fit(X_train_lnom, y_train)\n",
    "y_test_hat = ols.predict(X_test_lnom)\n",
    "rmse(y_test, y_test_hat)\n",
    "acc(y_test, y_test_hat)"
   ]
  },
  {
   "cell_type": "code",
   "execution_count": 12,
   "id": "df5e3646-f646-4dc9-a40c-afb727299f30",
   "metadata": {},
   "outputs": [
    {
     "name": "stdout",
     "output_type": "stream",
     "text": [
      "RMSE: 0.474\n",
      "Accuracy: 0.633\n"
     ]
    }
   ],
   "source": [
    "## 2. Lasso\n",
    "# Since our feature space isn't that large and also not very rich (at least in a linear sense), don't expect great results here  \n",
    "clf_lasso = lm.Lasso(alpha=0.05, normalize=False, random_state=rseed)\n",
    "clf_lasso.fit(X_train_lnom, y_train)\n",
    "y_test_hat = clf_lasso.predict(X_test_lnom)\n",
    "rmse(y_test, y_test_hat)\n",
    "acc(y_test, y_test_hat)"
   ]
  },
  {
   "cell_type": "code",
   "execution_count": 13,
   "id": "1e77ad7f-21bf-4b30-b9ef-cd100da80823",
   "metadata": {},
   "outputs": [
    {
     "name": "stdout",
     "output_type": "stream",
     "text": [
      "RMSE: 0.417\n",
      "Accuracy: 0.72\n"
     ]
    }
   ],
   "source": [
    "## 3. Ridge\n",
    "# Similar expectations to lasso, though at least it won't kick out features from our model, so should do a bit better  \n",
    "\n",
    "# training procedure for a cross-validated ridge, but don't think this is necessary right now \n",
    "#clf_ridgecv = lm.RidgeCV(alphas=np.arange(0.1, 1, 0.02), cv=10).fit(X_train_lnom, y_train)\n",
    "#print(clf_ridgecv.alpha_)\n",
    "#y_test_hat = clf_ridgecv.predict(X_test_lnom)\n",
    "#rmse(y_test, y_test_hat)\n",
    "#acc(y_test, y_test_hat)\n",
    "# train ridge \n",
    "clf_ridge = lm.Ridge(alpha=0.055, normalize=False, random_state=rseed)\n",
    "clf_ridge.fit(X_train_lnom, y_train)\n",
    "y_test_hat = clf_ridge.predict(X_test_lnom)\n",
    "rmse(y_test, y_test_hat)\n",
    "acc(y_test, y_test_hat)"
   ]
  },
  {
   "cell_type": "code",
   "execution_count": 14,
   "id": "f10fbbe7-3376-4dcd-b738-b5142f03f95c",
   "metadata": {},
   "outputs": [
    {
     "name": "stdout",
     "output_type": "stream",
     "text": [
      "Coefficients: [0.00026786] [[-0.001  0.021 -0.     0.     0.     0.001  0.     0.     0.   ]]\n",
      "1    61517\n",
      "0    12481\n",
      "dtype: int64\n",
      "RMSE: 0.594\n",
      "Accuracy: 0.648\n"
     ]
    }
   ],
   "source": [
    "## 4. Logistic Reg  \n",
    "# Similar expectations to lasso + ridge \n",
    "# To avoid regularization set C to be very large and/or penalty to none \n",
    "glf = lm.LogisticRegression(C=10000, random_state=rseed, penalty='l2')\n",
    "glf.fit(X_train_lnom, y_train)\n",
    "print(\"Coefficients:\", glf.intercept_, np.round(glf.coef_, 3)) \n",
    "y_test_hat = glf.predict(X_test_lnom)\n",
    "print(pd.Series(y_test_hat).value_counts())\n",
    "rmse(y_test, y_test_hat)\n",
    "acc(y_test, y_test_hat)"
   ]
  },
  {
   "cell_type": "code",
   "execution_count": 20,
   "id": "260f71a2-959a-4548-b036-191e68e6b4ff",
   "metadata": {
    "tags": []
   },
   "outputs": [
    {
     "name": "stdout",
     "output_type": "stream",
     "text": [
      "[LibSVM]1    27021\n",
      "0     9468\n",
      "dtype: int64\n",
      "RMSE: 0.593\n",
      "Accuracy: 0.648\n"
     ]
    }
   ],
   "source": [
    "#### ---> DON'T RUN THIS <--- ####\n",
    "# this seems very slow and honestly don't have great results\n",
    "# definitely should look into improving SVM as it has potential, but...\n",
    "\n",
    "## 5. SVM \n",
    "svm = SVC(C=0.1, random_state=rseed, kernel='sigmoid', verbose=True)\n",
    "svm.fit(X_train_lnom, y_train)\n",
    "y_test_hat = svm.predict(X_test_lnom)\n",
    "print(pd.Series(y_test_hat).value_counts())\n",
    "rmse(y_test, y_test_hat)\n",
    "acc(y_test, y_test_hat)"
   ]
  },
  {
   "cell_type": "code",
   "execution_count": 71,
   "id": "79efa8ce-8f83-4833-8a85-0dd4ae50ed97",
   "metadata": {
    "collapsed": true,
    "jupyter": {
     "outputs_hidden": true
    },
    "tags": []
   },
   "outputs": [
    {
     "name": "stdout",
     "output_type": "stream",
     "text": [
      "Fitting 5 folds for each of 108 candidates, totalling 540 fits\n",
      "[CV] END bootstrap=False, max_depth=15, max_features=auto, min_samples_leaf=1, min_samples_split=2, n_estimators=10; total time=   1.6s\n",
      "[CV] END bootstrap=False, max_depth=15, max_features=auto, min_samples_leaf=1, min_samples_split=2, n_estimators=10; total time=   1.0s\n",
      "[CV] END bootstrap=False, max_depth=15, max_features=auto, min_samples_leaf=1, min_samples_split=2, n_estimators=10; total time=   0.8s\n",
      "[CV] END bootstrap=False, max_depth=15, max_features=auto, min_samples_leaf=1, min_samples_split=2, n_estimators=10; total time=   0.8s\n",
      "[CV] END bootstrap=False, max_depth=15, max_features=auto, min_samples_leaf=1, min_samples_split=2, n_estimators=10; total time=   0.8s\n",
      "[CV] END bootstrap=False, max_depth=15, max_features=auto, min_samples_leaf=1, min_samples_split=2, n_estimators=20; total time=   1.4s\n",
      "[CV] END bootstrap=False, max_depth=15, max_features=auto, min_samples_leaf=1, min_samples_split=2, n_estimators=20; total time=   2.4s\n",
      "[CV] END bootstrap=False, max_depth=15, max_features=auto, min_samples_leaf=1, min_samples_split=2, n_estimators=20; total time=   1.5s\n",
      "[CV] END bootstrap=False, max_depth=15, max_features=auto, min_samples_leaf=1, min_samples_split=2, n_estimators=20; total time=   1.6s\n",
      "[CV] END bootstrap=False, max_depth=15, max_features=auto, min_samples_leaf=1, min_samples_split=2, n_estimators=20; total time=   1.5s\n",
      "[CV] END bootstrap=False, max_depth=15, max_features=auto, min_samples_leaf=1, min_samples_split=3, n_estimators=10; total time=   0.8s\n",
      "[CV] END bootstrap=False, max_depth=15, max_features=auto, min_samples_leaf=1, min_samples_split=3, n_estimators=10; total time=   0.7s\n",
      "[CV] END bootstrap=False, max_depth=15, max_features=auto, min_samples_leaf=1, min_samples_split=3, n_estimators=10; total time=   0.7s\n",
      "[CV] END bootstrap=False, max_depth=15, max_features=auto, min_samples_leaf=1, min_samples_split=3, n_estimators=10; total time=   0.8s\n",
      "[CV] END bootstrap=False, max_depth=15, max_features=auto, min_samples_leaf=1, min_samples_split=3, n_estimators=10; total time=   0.8s\n",
      "[CV] END bootstrap=False, max_depth=15, max_features=auto, min_samples_leaf=1, min_samples_split=3, n_estimators=20; total time=   1.4s\n",
      "[CV] END bootstrap=False, max_depth=15, max_features=auto, min_samples_leaf=1, min_samples_split=3, n_estimators=20; total time=   1.3s\n",
      "[CV] END bootstrap=False, max_depth=15, max_features=auto, min_samples_leaf=1, min_samples_split=3, n_estimators=20; total time=   1.3s\n",
      "[CV] END bootstrap=False, max_depth=15, max_features=auto, min_samples_leaf=1, min_samples_split=3, n_estimators=20; total time=   1.3s\n",
      "[CV] END bootstrap=False, max_depth=15, max_features=auto, min_samples_leaf=1, min_samples_split=3, n_estimators=20; total time=   1.3s\n",
      "[CV] END bootstrap=False, max_depth=15, max_features=auto, min_samples_leaf=1, min_samples_split=5, n_estimators=10; total time=   0.9s\n",
      "[CV] END bootstrap=False, max_depth=15, max_features=auto, min_samples_leaf=1, min_samples_split=5, n_estimators=10; total time=   1.5s\n",
      "[CV] END bootstrap=False, max_depth=15, max_features=auto, min_samples_leaf=1, min_samples_split=5, n_estimators=10; total time=   1.0s\n",
      "[CV] END bootstrap=False, max_depth=15, max_features=auto, min_samples_leaf=1, min_samples_split=5, n_estimators=10; total time=   0.8s\n",
      "[CV] END bootstrap=False, max_depth=15, max_features=auto, min_samples_leaf=1, min_samples_split=5, n_estimators=10; total time=   0.9s\n",
      "[CV] END bootstrap=False, max_depth=15, max_features=auto, min_samples_leaf=1, min_samples_split=5, n_estimators=20; total time=   2.0s\n",
      "[CV] END bootstrap=False, max_depth=15, max_features=auto, min_samples_leaf=1, min_samples_split=5, n_estimators=20; total time=   1.7s\n",
      "[CV] END bootstrap=False, max_depth=15, max_features=auto, min_samples_leaf=1, min_samples_split=5, n_estimators=20; total time=   1.7s\n",
      "[CV] END bootstrap=False, max_depth=15, max_features=auto, min_samples_leaf=1, min_samples_split=5, n_estimators=20; total time=   1.5s\n",
      "[CV] END bootstrap=False, max_depth=15, max_features=auto, min_samples_leaf=1, min_samples_split=5, n_estimators=20; total time=   1.6s\n",
      "[CV] END bootstrap=False, max_depth=15, max_features=auto, min_samples_leaf=2, min_samples_split=2, n_estimators=10; total time=   0.8s\n",
      "[CV] END bootstrap=False, max_depth=15, max_features=auto, min_samples_leaf=2, min_samples_split=2, n_estimators=10; total time=   0.8s\n",
      "[CV] END bootstrap=False, max_depth=15, max_features=auto, min_samples_leaf=2, min_samples_split=2, n_estimators=10; total time=   0.8s\n",
      "[CV] END bootstrap=False, max_depth=15, max_features=auto, min_samples_leaf=2, min_samples_split=2, n_estimators=10; total time=   0.8s\n",
      "[CV] END bootstrap=False, max_depth=15, max_features=auto, min_samples_leaf=2, min_samples_split=2, n_estimators=10; total time=   0.9s\n",
      "[CV] END bootstrap=False, max_depth=15, max_features=auto, min_samples_leaf=2, min_samples_split=2, n_estimators=20; total time=   2.1s\n",
      "[CV] END bootstrap=False, max_depth=15, max_features=auto, min_samples_leaf=2, min_samples_split=2, n_estimators=20; total time=   2.0s\n",
      "[CV] END bootstrap=False, max_depth=15, max_features=auto, min_samples_leaf=2, min_samples_split=2, n_estimators=20; total time=   1.6s\n",
      "[CV] END bootstrap=False, max_depth=15, max_features=auto, min_samples_leaf=2, min_samples_split=2, n_estimators=20; total time=   1.7s\n",
      "[CV] END bootstrap=False, max_depth=15, max_features=auto, min_samples_leaf=2, min_samples_split=2, n_estimators=20; total time=   1.7s\n",
      "[CV] END bootstrap=False, max_depth=15, max_features=auto, min_samples_leaf=2, min_samples_split=3, n_estimators=10; total time=   0.9s\n",
      "[CV] END bootstrap=False, max_depth=15, max_features=auto, min_samples_leaf=2, min_samples_split=3, n_estimators=10; total time=   0.8s\n",
      "[CV] END bootstrap=False, max_depth=15, max_features=auto, min_samples_leaf=2, min_samples_split=3, n_estimators=10; total time=   0.8s\n",
      "[CV] END bootstrap=False, max_depth=15, max_features=auto, min_samples_leaf=2, min_samples_split=3, n_estimators=10; total time=   1.2s\n",
      "[CV] END bootstrap=False, max_depth=15, max_features=auto, min_samples_leaf=2, min_samples_split=3, n_estimators=10; total time=   1.3s\n",
      "[CV] END bootstrap=False, max_depth=15, max_features=auto, min_samples_leaf=2, min_samples_split=3, n_estimators=20; total time=   1.6s\n",
      "[CV] END bootstrap=False, max_depth=15, max_features=auto, min_samples_leaf=2, min_samples_split=3, n_estimators=20; total time=   1.8s\n",
      "[CV] END bootstrap=False, max_depth=15, max_features=auto, min_samples_leaf=2, min_samples_split=3, n_estimators=20; total time=   1.9s\n",
      "[CV] END bootstrap=False, max_depth=15, max_features=auto, min_samples_leaf=2, min_samples_split=3, n_estimators=20; total time=   1.7s\n",
      "[CV] END bootstrap=False, max_depth=15, max_features=auto, min_samples_leaf=2, min_samples_split=3, n_estimators=20; total time=   1.8s\n",
      "[CV] END bootstrap=False, max_depth=15, max_features=auto, min_samples_leaf=2, min_samples_split=5, n_estimators=10; total time=   0.8s\n",
      "[CV] END bootstrap=False, max_depth=15, max_features=auto, min_samples_leaf=2, min_samples_split=5, n_estimators=10; total time=   1.0s\n",
      "[CV] END bootstrap=False, max_depth=15, max_features=auto, min_samples_leaf=2, min_samples_split=5, n_estimators=10; total time=   1.0s\n",
      "[CV] END bootstrap=False, max_depth=15, max_features=auto, min_samples_leaf=2, min_samples_split=5, n_estimators=10; total time=   0.8s\n",
      "[CV] END bootstrap=False, max_depth=15, max_features=auto, min_samples_leaf=2, min_samples_split=5, n_estimators=10; total time=   0.8s\n",
      "[CV] END bootstrap=False, max_depth=15, max_features=auto, min_samples_leaf=2, min_samples_split=5, n_estimators=20; total time=   1.6s\n",
      "[CV] END bootstrap=False, max_depth=15, max_features=auto, min_samples_leaf=2, min_samples_split=5, n_estimators=20; total time=   2.1s\n",
      "[CV] END bootstrap=False, max_depth=15, max_features=auto, min_samples_leaf=2, min_samples_split=5, n_estimators=20; total time=   1.8s\n",
      "[CV] END bootstrap=False, max_depth=15, max_features=auto, min_samples_leaf=2, min_samples_split=5, n_estimators=20; total time=   1.7s\n",
      "[CV] END bootstrap=False, max_depth=15, max_features=auto, min_samples_leaf=2, min_samples_split=5, n_estimators=20; total time=   1.6s\n",
      "[CV] END bootstrap=False, max_depth=15, max_features=auto, min_samples_leaf=3, min_samples_split=2, n_estimators=10; total time=   0.9s\n",
      "[CV] END bootstrap=False, max_depth=15, max_features=auto, min_samples_leaf=3, min_samples_split=2, n_estimators=10; total time=   0.9s\n",
      "[CV] END bootstrap=False, max_depth=15, max_features=auto, min_samples_leaf=3, min_samples_split=2, n_estimators=10; total time=   0.9s\n",
      "[CV] END bootstrap=False, max_depth=15, max_features=auto, min_samples_leaf=3, min_samples_split=2, n_estimators=10; total time=   0.8s\n",
      "[CV] END bootstrap=False, max_depth=15, max_features=auto, min_samples_leaf=3, min_samples_split=2, n_estimators=10; total time=   0.9s\n",
      "[CV] END bootstrap=False, max_depth=15, max_features=auto, min_samples_leaf=3, min_samples_split=2, n_estimators=20; total time=   1.6s\n",
      "[CV] END bootstrap=False, max_depth=15, max_features=auto, min_samples_leaf=3, min_samples_split=2, n_estimators=20; total time=   1.7s\n",
      "[CV] END bootstrap=False, max_depth=15, max_features=auto, min_samples_leaf=3, min_samples_split=2, n_estimators=20; total time=   1.5s\n",
      "[CV] END bootstrap=False, max_depth=15, max_features=auto, min_samples_leaf=3, min_samples_split=2, n_estimators=20; total time=   2.4s\n",
      "[CV] END bootstrap=False, max_depth=15, max_features=auto, min_samples_leaf=3, min_samples_split=2, n_estimators=20; total time=   2.3s\n",
      "[CV] END bootstrap=False, max_depth=15, max_features=auto, min_samples_leaf=3, min_samples_split=3, n_estimators=10; total time=   1.3s\n",
      "[CV] END bootstrap=False, max_depth=15, max_features=auto, min_samples_leaf=3, min_samples_split=3, n_estimators=10; total time=   1.6s\n",
      "[CV] END bootstrap=False, max_depth=15, max_features=auto, min_samples_leaf=3, min_samples_split=3, n_estimators=10; total time=   1.0s\n",
      "[CV] END bootstrap=False, max_depth=15, max_features=auto, min_samples_leaf=3, min_samples_split=3, n_estimators=10; total time=   1.2s\n",
      "[CV] END bootstrap=False, max_depth=15, max_features=auto, min_samples_leaf=3, min_samples_split=3, n_estimators=10; total time=   1.5s\n",
      "[CV] END bootstrap=False, max_depth=15, max_features=auto, min_samples_leaf=3, min_samples_split=3, n_estimators=20; total time=   2.5s\n",
      "[CV] END bootstrap=False, max_depth=15, max_features=auto, min_samples_leaf=3, min_samples_split=3, n_estimators=20; total time=   2.1s\n",
      "[CV] END bootstrap=False, max_depth=15, max_features=auto, min_samples_leaf=3, min_samples_split=3, n_estimators=20; total time=   1.7s\n",
      "[CV] END bootstrap=False, max_depth=15, max_features=auto, min_samples_leaf=3, min_samples_split=3, n_estimators=20; total time=   1.6s\n",
      "[CV] END bootstrap=False, max_depth=15, max_features=auto, min_samples_leaf=3, min_samples_split=3, n_estimators=20; total time=   1.5s\n",
      "[CV] END bootstrap=False, max_depth=15, max_features=auto, min_samples_leaf=3, min_samples_split=5, n_estimators=10; total time=   0.8s\n",
      "[CV] END bootstrap=False, max_depth=15, max_features=auto, min_samples_leaf=3, min_samples_split=5, n_estimators=10; total time=   1.1s\n",
      "[CV] END bootstrap=False, max_depth=15, max_features=auto, min_samples_leaf=3, min_samples_split=5, n_estimators=10; total time=   1.6s\n",
      "[CV] END bootstrap=False, max_depth=15, max_features=auto, min_samples_leaf=3, min_samples_split=5, n_estimators=10; total time=   1.5s\n",
      "[CV] END bootstrap=False, max_depth=15, max_features=auto, min_samples_leaf=3, min_samples_split=5, n_estimators=10; total time=   1.2s\n",
      "[CV] END bootstrap=False, max_depth=15, max_features=auto, min_samples_leaf=3, min_samples_split=5, n_estimators=20; total time=   1.8s\n",
      "[CV] END bootstrap=False, max_depth=15, max_features=auto, min_samples_leaf=3, min_samples_split=5, n_estimators=20; total time=   1.8s\n",
      "[CV] END bootstrap=False, max_depth=15, max_features=auto, min_samples_leaf=3, min_samples_split=5, n_estimators=20; total time=   1.8s\n",
      "[CV] END bootstrap=False, max_depth=15, max_features=auto, min_samples_leaf=3, min_samples_split=5, n_estimators=20; total time=   1.8s\n",
      "[CV] END bootstrap=False, max_depth=15, max_features=auto, min_samples_leaf=3, min_samples_split=5, n_estimators=20; total time=   1.8s\n",
      "[CV] END bootstrap=False, max_depth=15, max_features=sqrt, min_samples_leaf=1, min_samples_split=2, n_estimators=10; total time=   0.9s\n",
      "[CV] END bootstrap=False, max_depth=15, max_features=sqrt, min_samples_leaf=1, min_samples_split=2, n_estimators=10; total time=   0.9s\n",
      "[CV] END bootstrap=False, max_depth=15, max_features=sqrt, min_samples_leaf=1, min_samples_split=2, n_estimators=10; total time=   1.0s\n",
      "[CV] END bootstrap=False, max_depth=15, max_features=sqrt, min_samples_leaf=1, min_samples_split=2, n_estimators=10; total time=   1.3s\n",
      "[CV] END bootstrap=False, max_depth=15, max_features=sqrt, min_samples_leaf=1, min_samples_split=2, n_estimators=10; total time=   1.1s\n",
      "[CV] END bootstrap=False, max_depth=15, max_features=sqrt, min_samples_leaf=1, min_samples_split=2, n_estimators=20; total time=   2.4s\n",
      "[CV] END bootstrap=False, max_depth=15, max_features=sqrt, min_samples_leaf=1, min_samples_split=2, n_estimators=20; total time=   1.9s\n",
      "[CV] END bootstrap=False, max_depth=15, max_features=sqrt, min_samples_leaf=1, min_samples_split=2, n_estimators=20; total time=   2.0s\n",
      "[CV] END bootstrap=False, max_depth=15, max_features=sqrt, min_samples_leaf=1, min_samples_split=2, n_estimators=20; total time=   1.9s\n",
      "[CV] END bootstrap=False, max_depth=15, max_features=sqrt, min_samples_leaf=1, min_samples_split=2, n_estimators=20; total time=   1.9s\n",
      "[CV] END bootstrap=False, max_depth=15, max_features=sqrt, min_samples_leaf=1, min_samples_split=3, n_estimators=10; total time=   1.0s\n",
      "[CV] END bootstrap=False, max_depth=15, max_features=sqrt, min_samples_leaf=1, min_samples_split=3, n_estimators=10; total time=   1.0s\n",
      "[CV] END bootstrap=False, max_depth=15, max_features=sqrt, min_samples_leaf=1, min_samples_split=3, n_estimators=10; total time=   1.0s\n",
      "[CV] END bootstrap=False, max_depth=15, max_features=sqrt, min_samples_leaf=1, min_samples_split=3, n_estimators=10; total time=   1.0s\n",
      "[CV] END bootstrap=False, max_depth=15, max_features=sqrt, min_samples_leaf=1, min_samples_split=3, n_estimators=10; total time=   1.0s\n",
      "[CV] END bootstrap=False, max_depth=15, max_features=sqrt, min_samples_leaf=1, min_samples_split=3, n_estimators=20; total time=   1.9s\n",
      "[CV] END bootstrap=False, max_depth=15, max_features=sqrt, min_samples_leaf=1, min_samples_split=3, n_estimators=20; total time=   1.9s\n",
      "[CV] END bootstrap=False, max_depth=15, max_features=sqrt, min_samples_leaf=1, min_samples_split=3, n_estimators=20; total time=   1.9s\n",
      "[CV] END bootstrap=False, max_depth=15, max_features=sqrt, min_samples_leaf=1, min_samples_split=3, n_estimators=20; total time=   2.0s\n",
      "[CV] END bootstrap=False, max_depth=15, max_features=sqrt, min_samples_leaf=1, min_samples_split=3, n_estimators=20; total time=   1.9s\n",
      "[CV] END bootstrap=False, max_depth=15, max_features=sqrt, min_samples_leaf=1, min_samples_split=5, n_estimators=10; total time=   1.0s\n",
      "[CV] END bootstrap=False, max_depth=15, max_features=sqrt, min_samples_leaf=1, min_samples_split=5, n_estimators=10; total time=   1.0s\n",
      "[CV] END bootstrap=False, max_depth=15, max_features=sqrt, min_samples_leaf=1, min_samples_split=5, n_estimators=10; total time=   1.0s\n",
      "[CV] END bootstrap=False, max_depth=15, max_features=sqrt, min_samples_leaf=1, min_samples_split=5, n_estimators=10; total time=   1.0s\n",
      "[CV] END bootstrap=False, max_depth=15, max_features=sqrt, min_samples_leaf=1, min_samples_split=5, n_estimators=10; total time=   1.0s\n",
      "[CV] END bootstrap=False, max_depth=15, max_features=sqrt, min_samples_leaf=1, min_samples_split=5, n_estimators=20; total time=   2.1s\n",
      "[CV] END bootstrap=False, max_depth=15, max_features=sqrt, min_samples_leaf=1, min_samples_split=5, n_estimators=20; total time=   1.9s\n",
      "[CV] END bootstrap=False, max_depth=15, max_features=sqrt, min_samples_leaf=1, min_samples_split=5, n_estimators=20; total time=   1.9s\n",
      "[CV] END bootstrap=False, max_depth=15, max_features=sqrt, min_samples_leaf=1, min_samples_split=5, n_estimators=20; total time=   1.9s\n",
      "[CV] END bootstrap=False, max_depth=15, max_features=sqrt, min_samples_leaf=1, min_samples_split=5, n_estimators=20; total time=   1.9s\n",
      "[CV] END bootstrap=False, max_depth=15, max_features=sqrt, min_samples_leaf=2, min_samples_split=2, n_estimators=10; total time=   1.0s\n",
      "[CV] END bootstrap=False, max_depth=15, max_features=sqrt, min_samples_leaf=2, min_samples_split=2, n_estimators=10; total time=   1.0s\n",
      "[CV] END bootstrap=False, max_depth=15, max_features=sqrt, min_samples_leaf=2, min_samples_split=2, n_estimators=10; total time=   1.3s\n",
      "[CV] END bootstrap=False, max_depth=15, max_features=sqrt, min_samples_leaf=2, min_samples_split=2, n_estimators=10; total time=   1.0s\n",
      "[CV] END bootstrap=False, max_depth=15, max_features=sqrt, min_samples_leaf=2, min_samples_split=2, n_estimators=10; total time=   1.0s\n",
      "[CV] END bootstrap=False, max_depth=15, max_features=sqrt, min_samples_leaf=2, min_samples_split=2, n_estimators=20; total time=   1.9s\n",
      "[CV] END bootstrap=False, max_depth=15, max_features=sqrt, min_samples_leaf=2, min_samples_split=2, n_estimators=20; total time=   1.9s\n",
      "[CV] END bootstrap=False, max_depth=15, max_features=sqrt, min_samples_leaf=2, min_samples_split=2, n_estimators=20; total time=   1.9s\n",
      "[CV] END bootstrap=False, max_depth=15, max_features=sqrt, min_samples_leaf=2, min_samples_split=2, n_estimators=20; total time=   2.1s\n",
      "[CV] END bootstrap=False, max_depth=15, max_features=sqrt, min_samples_leaf=2, min_samples_split=2, n_estimators=20; total time=   2.0s\n",
      "[CV] END bootstrap=False, max_depth=15, max_features=sqrt, min_samples_leaf=2, min_samples_split=3, n_estimators=10; total time=   1.0s\n",
      "[CV] END bootstrap=False, max_depth=15, max_features=sqrt, min_samples_leaf=2, min_samples_split=3, n_estimators=10; total time=   1.0s\n",
      "[CV] END bootstrap=False, max_depth=15, max_features=sqrt, min_samples_leaf=2, min_samples_split=3, n_estimators=10; total time=   0.9s\n",
      "[CV] END bootstrap=False, max_depth=15, max_features=sqrt, min_samples_leaf=2, min_samples_split=3, n_estimators=10; total time=   1.0s\n",
      "[CV] END bootstrap=False, max_depth=15, max_features=sqrt, min_samples_leaf=2, min_samples_split=3, n_estimators=10; total time=   1.0s\n",
      "[CV] END bootstrap=False, max_depth=15, max_features=sqrt, min_samples_leaf=2, min_samples_split=3, n_estimators=20; total time=   1.9s\n",
      "[CV] END bootstrap=False, max_depth=15, max_features=sqrt, min_samples_leaf=2, min_samples_split=3, n_estimators=20; total time=   2.0s\n",
      "[CV] END bootstrap=False, max_depth=15, max_features=sqrt, min_samples_leaf=2, min_samples_split=3, n_estimators=20; total time=   2.0s\n",
      "[CV] END bootstrap=False, max_depth=15, max_features=sqrt, min_samples_leaf=2, min_samples_split=3, n_estimators=20; total time=   2.0s\n",
      "[CV] END bootstrap=False, max_depth=15, max_features=sqrt, min_samples_leaf=2, min_samples_split=3, n_estimators=20; total time=   1.9s\n",
      "[CV] END bootstrap=False, max_depth=15, max_features=sqrt, min_samples_leaf=2, min_samples_split=5, n_estimators=10; total time=   1.0s\n",
      "[CV] END bootstrap=False, max_depth=15, max_features=sqrt, min_samples_leaf=2, min_samples_split=5, n_estimators=10; total time=   1.0s\n",
      "[CV] END bootstrap=False, max_depth=15, max_features=sqrt, min_samples_leaf=2, min_samples_split=5, n_estimators=10; total time=   1.0s\n",
      "[CV] END bootstrap=False, max_depth=15, max_features=sqrt, min_samples_leaf=2, min_samples_split=5, n_estimators=10; total time=   1.3s\n",
      "[CV] END bootstrap=False, max_depth=15, max_features=sqrt, min_samples_leaf=2, min_samples_split=5, n_estimators=10; total time=   1.1s\n",
      "[CV] END bootstrap=False, max_depth=15, max_features=sqrt, min_samples_leaf=2, min_samples_split=5, n_estimators=20; total time=   2.3s\n",
      "[CV] END bootstrap=False, max_depth=15, max_features=sqrt, min_samples_leaf=2, min_samples_split=5, n_estimators=20; total time=   1.9s\n",
      "[CV] END bootstrap=False, max_depth=15, max_features=sqrt, min_samples_leaf=2, min_samples_split=5, n_estimators=20; total time=   1.9s\n",
      "[CV] END bootstrap=False, max_depth=15, max_features=sqrt, min_samples_leaf=2, min_samples_split=5, n_estimators=20; total time=   1.9s\n",
      "[CV] END bootstrap=False, max_depth=15, max_features=sqrt, min_samples_leaf=2, min_samples_split=5, n_estimators=20; total time=   1.9s\n",
      "[CV] END bootstrap=False, max_depth=15, max_features=sqrt, min_samples_leaf=3, min_samples_split=2, n_estimators=10; total time=   1.0s\n",
      "[CV] END bootstrap=False, max_depth=15, max_features=sqrt, min_samples_leaf=3, min_samples_split=2, n_estimators=10; total time=   1.0s\n",
      "[CV] END bootstrap=False, max_depth=15, max_features=sqrt, min_samples_leaf=3, min_samples_split=2, n_estimators=10; total time=   1.0s\n",
      "[CV] END bootstrap=False, max_depth=15, max_features=sqrt, min_samples_leaf=3, min_samples_split=2, n_estimators=10; total time=   1.0s\n",
      "[CV] END bootstrap=False, max_depth=15, max_features=sqrt, min_samples_leaf=3, min_samples_split=2, n_estimators=10; total time=   1.1s\n",
      "[CV] END bootstrap=False, max_depth=15, max_features=sqrt, min_samples_leaf=3, min_samples_split=2, n_estimators=20; total time=   1.9s\n",
      "[CV] END bootstrap=False, max_depth=15, max_features=sqrt, min_samples_leaf=3, min_samples_split=2, n_estimators=20; total time=   1.9s\n",
      "[CV] END bootstrap=False, max_depth=15, max_features=sqrt, min_samples_leaf=3, min_samples_split=2, n_estimators=20; total time=   1.9s\n",
      "[CV] END bootstrap=False, max_depth=15, max_features=sqrt, min_samples_leaf=3, min_samples_split=2, n_estimators=20; total time=   1.8s\n",
      "[CV] END bootstrap=False, max_depth=15, max_features=sqrt, min_samples_leaf=3, min_samples_split=2, n_estimators=20; total time=   2.0s\n",
      "[CV] END bootstrap=False, max_depth=15, max_features=sqrt, min_samples_leaf=3, min_samples_split=3, n_estimators=10; total time=   1.0s\n",
      "[CV] END bootstrap=False, max_depth=15, max_features=sqrt, min_samples_leaf=3, min_samples_split=3, n_estimators=10; total time=   1.1s\n",
      "[CV] END bootstrap=False, max_depth=15, max_features=sqrt, min_samples_leaf=3, min_samples_split=3, n_estimators=10; total time=   1.3s\n",
      "[CV] END bootstrap=False, max_depth=15, max_features=sqrt, min_samples_leaf=3, min_samples_split=3, n_estimators=10; total time=   1.1s\n",
      "[CV] END bootstrap=False, max_depth=15, max_features=sqrt, min_samples_leaf=3, min_samples_split=3, n_estimators=10; total time=   1.0s\n",
      "[CV] END bootstrap=False, max_depth=15, max_features=sqrt, min_samples_leaf=3, min_samples_split=3, n_estimators=20; total time=   1.9s\n",
      "[CV] END bootstrap=False, max_depth=15, max_features=sqrt, min_samples_leaf=3, min_samples_split=3, n_estimators=20; total time=   2.0s\n",
      "[CV] END bootstrap=False, max_depth=15, max_features=sqrt, min_samples_leaf=3, min_samples_split=3, n_estimators=20; total time=   1.9s\n",
      "[CV] END bootstrap=False, max_depth=15, max_features=sqrt, min_samples_leaf=3, min_samples_split=3, n_estimators=20; total time=   2.0s\n",
      "[CV] END bootstrap=False, max_depth=15, max_features=sqrt, min_samples_leaf=3, min_samples_split=3, n_estimators=20; total time=   2.0s\n",
      "[CV] END bootstrap=False, max_depth=15, max_features=sqrt, min_samples_leaf=3, min_samples_split=5, n_estimators=10; total time=   1.1s\n",
      "[CV] END bootstrap=False, max_depth=15, max_features=sqrt, min_samples_leaf=3, min_samples_split=5, n_estimators=10; total time=   1.0s\n",
      "[CV] END bootstrap=False, max_depth=15, max_features=sqrt, min_samples_leaf=3, min_samples_split=5, n_estimators=10; total time=   1.0s\n",
      "[CV] END bootstrap=False, max_depth=15, max_features=sqrt, min_samples_leaf=3, min_samples_split=5, n_estimators=10; total time=   1.0s\n",
      "[CV] END bootstrap=False, max_depth=15, max_features=sqrt, min_samples_leaf=3, min_samples_split=5, n_estimators=10; total time=   1.0s\n",
      "[CV] END bootstrap=False, max_depth=15, max_features=sqrt, min_samples_leaf=3, min_samples_split=5, n_estimators=20; total time=   1.9s\n",
      "[CV] END bootstrap=False, max_depth=15, max_features=sqrt, min_samples_leaf=3, min_samples_split=5, n_estimators=20; total time=   2.0s\n",
      "[CV] END bootstrap=False, max_depth=15, max_features=sqrt, min_samples_leaf=3, min_samples_split=5, n_estimators=20; total time=   2.0s\n",
      "[CV] END bootstrap=False, max_depth=15, max_features=sqrt, min_samples_leaf=3, min_samples_split=5, n_estimators=20; total time=   1.8s\n",
      "[CV] END bootstrap=False, max_depth=15, max_features=sqrt, min_samples_leaf=3, min_samples_split=5, n_estimators=20; total time=   1.9s\n",
      "[CV] END bootstrap=False, max_depth=25, max_features=auto, min_samples_leaf=1, min_samples_split=2, n_estimators=10; total time=   1.5s\n",
      "[CV] END bootstrap=False, max_depth=25, max_features=auto, min_samples_leaf=1, min_samples_split=2, n_estimators=10; total time=   1.5s\n",
      "[CV] END bootstrap=False, max_depth=25, max_features=auto, min_samples_leaf=1, min_samples_split=2, n_estimators=10; total time=   1.5s\n",
      "[CV] END bootstrap=False, max_depth=25, max_features=auto, min_samples_leaf=1, min_samples_split=2, n_estimators=10; total time=   1.5s\n",
      "[CV] END bootstrap=False, max_depth=25, max_features=auto, min_samples_leaf=1, min_samples_split=2, n_estimators=10; total time=   1.5s\n",
      "[CV] END bootstrap=False, max_depth=25, max_features=auto, min_samples_leaf=1, min_samples_split=2, n_estimators=20; total time=   2.9s\n",
      "[CV] END bootstrap=False, max_depth=25, max_features=auto, min_samples_leaf=1, min_samples_split=2, n_estimators=20; total time=   2.9s\n",
      "[CV] END bootstrap=False, max_depth=25, max_features=auto, min_samples_leaf=1, min_samples_split=2, n_estimators=20; total time=   3.1s\n",
      "[CV] END bootstrap=False, max_depth=25, max_features=auto, min_samples_leaf=1, min_samples_split=2, n_estimators=20; total time=   3.7s\n",
      "[CV] END bootstrap=False, max_depth=25, max_features=auto, min_samples_leaf=1, min_samples_split=2, n_estimators=20; total time=   3.8s\n",
      "[CV] END bootstrap=False, max_depth=25, max_features=auto, min_samples_leaf=1, min_samples_split=3, n_estimators=10; total time=   1.8s\n",
      "[CV] END bootstrap=False, max_depth=25, max_features=auto, min_samples_leaf=1, min_samples_split=3, n_estimators=10; total time=   2.2s\n",
      "[CV] END bootstrap=False, max_depth=25, max_features=auto, min_samples_leaf=1, min_samples_split=3, n_estimators=10; total time=   1.8s\n",
      "[CV] END bootstrap=False, max_depth=25, max_features=auto, min_samples_leaf=1, min_samples_split=3, n_estimators=10; total time=   1.6s\n",
      "[CV] END bootstrap=False, max_depth=25, max_features=auto, min_samples_leaf=1, min_samples_split=3, n_estimators=10; total time=   1.4s\n",
      "[CV] END bootstrap=False, max_depth=25, max_features=auto, min_samples_leaf=1, min_samples_split=3, n_estimators=20; total time=   2.9s\n",
      "[CV] END bootstrap=False, max_depth=25, max_features=auto, min_samples_leaf=1, min_samples_split=3, n_estimators=20; total time=   3.0s\n",
      "[CV] END bootstrap=False, max_depth=25, max_features=auto, min_samples_leaf=1, min_samples_split=3, n_estimators=20; total time=   2.9s\n",
      "[CV] END bootstrap=False, max_depth=25, max_features=auto, min_samples_leaf=1, min_samples_split=3, n_estimators=20; total time=   2.9s\n",
      "[CV] END bootstrap=False, max_depth=25, max_features=auto, min_samples_leaf=1, min_samples_split=3, n_estimators=20; total time=   3.0s\n",
      "[CV] END bootstrap=False, max_depth=25, max_features=auto, min_samples_leaf=1, min_samples_split=5, n_estimators=10; total time=   1.5s\n",
      "[CV] END bootstrap=False, max_depth=25, max_features=auto, min_samples_leaf=1, min_samples_split=5, n_estimators=10; total time=   1.4s\n",
      "[CV] END bootstrap=False, max_depth=25, max_features=auto, min_samples_leaf=1, min_samples_split=5, n_estimators=10; total time=   1.4s\n",
      "[CV] END bootstrap=False, max_depth=25, max_features=auto, min_samples_leaf=1, min_samples_split=5, n_estimators=10; total time=   1.4s\n",
      "[CV] END bootstrap=False, max_depth=25, max_features=auto, min_samples_leaf=1, min_samples_split=5, n_estimators=10; total time=   1.2s\n",
      "[CV] END bootstrap=False, max_depth=25, max_features=auto, min_samples_leaf=1, min_samples_split=5, n_estimators=20; total time=   2.3s\n",
      "[CV] END bootstrap=False, max_depth=25, max_features=auto, min_samples_leaf=1, min_samples_split=5, n_estimators=20; total time=   2.4s\n",
      "[CV] END bootstrap=False, max_depth=25, max_features=auto, min_samples_leaf=1, min_samples_split=5, n_estimators=20; total time=   2.4s\n",
      "[CV] END bootstrap=False, max_depth=25, max_features=auto, min_samples_leaf=1, min_samples_split=5, n_estimators=20; total time=   2.2s\n",
      "[CV] END bootstrap=False, max_depth=25, max_features=auto, min_samples_leaf=1, min_samples_split=5, n_estimators=20; total time=   2.2s\n",
      "[CV] END bootstrap=False, max_depth=25, max_features=auto, min_samples_leaf=2, min_samples_split=2, n_estimators=10; total time=   1.0s\n",
      "[CV] END bootstrap=False, max_depth=25, max_features=auto, min_samples_leaf=2, min_samples_split=2, n_estimators=10; total time=   1.0s\n",
      "[CV] END bootstrap=False, max_depth=25, max_features=auto, min_samples_leaf=2, min_samples_split=2, n_estimators=10; total time=   1.0s\n",
      "[CV] END bootstrap=False, max_depth=25, max_features=auto, min_samples_leaf=2, min_samples_split=2, n_estimators=10; total time=   1.1s\n",
      "[CV] END bootstrap=False, max_depth=25, max_features=auto, min_samples_leaf=2, min_samples_split=2, n_estimators=10; total time=   1.0s\n",
      "[CV] END bootstrap=False, max_depth=25, max_features=auto, min_samples_leaf=2, min_samples_split=2, n_estimators=20; total time=   2.1s\n",
      "[CV] END bootstrap=False, max_depth=25, max_features=auto, min_samples_leaf=2, min_samples_split=2, n_estimators=20; total time=   2.0s\n",
      "[CV] END bootstrap=False, max_depth=25, max_features=auto, min_samples_leaf=2, min_samples_split=2, n_estimators=20; total time=   2.1s\n",
      "[CV] END bootstrap=False, max_depth=25, max_features=auto, min_samples_leaf=2, min_samples_split=2, n_estimators=20; total time=   2.6s\n",
      "[CV] END bootstrap=False, max_depth=25, max_features=auto, min_samples_leaf=2, min_samples_split=2, n_estimators=20; total time=   2.0s\n",
      "[CV] END bootstrap=False, max_depth=25, max_features=auto, min_samples_leaf=2, min_samples_split=3, n_estimators=10; total time=   1.0s\n",
      "[CV] END bootstrap=False, max_depth=25, max_features=auto, min_samples_leaf=2, min_samples_split=3, n_estimators=10; total time=   1.0s\n",
      "[CV] END bootstrap=False, max_depth=25, max_features=auto, min_samples_leaf=2, min_samples_split=3, n_estimators=10; total time=   1.0s\n",
      "[CV] END bootstrap=False, max_depth=25, max_features=auto, min_samples_leaf=2, min_samples_split=3, n_estimators=10; total time=   1.0s\n",
      "[CV] END bootstrap=False, max_depth=25, max_features=auto, min_samples_leaf=2, min_samples_split=3, n_estimators=10; total time=   1.0s\n",
      "[CV] END bootstrap=False, max_depth=25, max_features=auto, min_samples_leaf=2, min_samples_split=3, n_estimators=20; total time=   2.0s\n",
      "[CV] END bootstrap=False, max_depth=25, max_features=auto, min_samples_leaf=2, min_samples_split=3, n_estimators=20; total time=   2.0s\n",
      "[CV] END bootstrap=False, max_depth=25, max_features=auto, min_samples_leaf=2, min_samples_split=3, n_estimators=20; total time=   2.0s\n",
      "[CV] END bootstrap=False, max_depth=25, max_features=auto, min_samples_leaf=2, min_samples_split=3, n_estimators=20; total time=   2.0s\n",
      "[CV] END bootstrap=False, max_depth=25, max_features=auto, min_samples_leaf=2, min_samples_split=3, n_estimators=20; total time=   1.9s\n",
      "[CV] END bootstrap=False, max_depth=25, max_features=auto, min_samples_leaf=2, min_samples_split=5, n_estimators=10; total time=   1.0s\n",
      "[CV] END bootstrap=False, max_depth=25, max_features=auto, min_samples_leaf=2, min_samples_split=5, n_estimators=10; total time=   1.0s\n",
      "[CV] END bootstrap=False, max_depth=25, max_features=auto, min_samples_leaf=2, min_samples_split=5, n_estimators=10; total time=   1.1s\n",
      "[CV] END bootstrap=False, max_depth=25, max_features=auto, min_samples_leaf=2, min_samples_split=5, n_estimators=10; total time=   1.1s\n",
      "[CV] END bootstrap=False, max_depth=25, max_features=auto, min_samples_leaf=2, min_samples_split=5, n_estimators=10; total time=   1.1s\n",
      "[CV] END bootstrap=False, max_depth=25, max_features=auto, min_samples_leaf=2, min_samples_split=5, n_estimators=20; total time=   2.5s\n",
      "[CV] END bootstrap=False, max_depth=25, max_features=auto, min_samples_leaf=2, min_samples_split=5, n_estimators=20; total time=   2.3s\n",
      "[CV] END bootstrap=False, max_depth=25, max_features=auto, min_samples_leaf=2, min_samples_split=5, n_estimators=20; total time=   2.0s\n",
      "[CV] END bootstrap=False, max_depth=25, max_features=auto, min_samples_leaf=2, min_samples_split=5, n_estimators=20; total time=   2.0s\n",
      "[CV] END bootstrap=False, max_depth=25, max_features=auto, min_samples_leaf=2, min_samples_split=5, n_estimators=20; total time=   2.4s\n",
      "[CV] END bootstrap=False, max_depth=25, max_features=auto, min_samples_leaf=3, min_samples_split=2, n_estimators=10; total time=   1.0s\n",
      "[CV] END bootstrap=False, max_depth=25, max_features=auto, min_samples_leaf=3, min_samples_split=2, n_estimators=10; total time=   1.0s\n",
      "[CV] END bootstrap=False, max_depth=25, max_features=auto, min_samples_leaf=3, min_samples_split=2, n_estimators=10; total time=   1.0s\n",
      "[CV] END bootstrap=False, max_depth=25, max_features=auto, min_samples_leaf=3, min_samples_split=2, n_estimators=10; total time=   0.9s\n",
      "[CV] END bootstrap=False, max_depth=25, max_features=auto, min_samples_leaf=3, min_samples_split=2, n_estimators=10; total time=   1.0s\n",
      "[CV] END bootstrap=False, max_depth=25, max_features=auto, min_samples_leaf=3, min_samples_split=2, n_estimators=20; total time=   1.9s\n",
      "[CV] END bootstrap=False, max_depth=25, max_features=auto, min_samples_leaf=3, min_samples_split=2, n_estimators=20; total time=   1.9s\n",
      "[CV] END bootstrap=False, max_depth=25, max_features=auto, min_samples_leaf=3, min_samples_split=2, n_estimators=20; total time=   1.9s\n",
      "[CV] END bootstrap=False, max_depth=25, max_features=auto, min_samples_leaf=3, min_samples_split=2, n_estimators=20; total time=   1.9s\n",
      "[CV] END bootstrap=False, max_depth=25, max_features=auto, min_samples_leaf=3, min_samples_split=2, n_estimators=20; total time=   1.8s\n",
      "[CV] END bootstrap=False, max_depth=25, max_features=auto, min_samples_leaf=3, min_samples_split=3, n_estimators=10; total time=   1.0s\n",
      "[CV] END bootstrap=False, max_depth=25, max_features=auto, min_samples_leaf=3, min_samples_split=3, n_estimators=10; total time=   1.0s\n",
      "[CV] END bootstrap=False, max_depth=25, max_features=auto, min_samples_leaf=3, min_samples_split=3, n_estimators=10; total time=   1.0s\n",
      "[CV] END bootstrap=False, max_depth=25, max_features=auto, min_samples_leaf=3, min_samples_split=3, n_estimators=10; total time=   1.0s\n",
      "[CV] END bootstrap=False, max_depth=25, max_features=auto, min_samples_leaf=3, min_samples_split=3, n_estimators=10; total time=   1.0s\n",
      "[CV] END bootstrap=False, max_depth=25, max_features=auto, min_samples_leaf=3, min_samples_split=3, n_estimators=20; total time=   1.9s\n",
      "[CV] END bootstrap=False, max_depth=25, max_features=auto, min_samples_leaf=3, min_samples_split=3, n_estimators=20; total time=   1.8s\n",
      "[CV] END bootstrap=False, max_depth=25, max_features=auto, min_samples_leaf=3, min_samples_split=3, n_estimators=20; total time=   1.8s\n",
      "[CV] END bootstrap=False, max_depth=25, max_features=auto, min_samples_leaf=3, min_samples_split=3, n_estimators=20; total time=   1.9s\n",
      "[CV] END bootstrap=False, max_depth=25, max_features=auto, min_samples_leaf=3, min_samples_split=3, n_estimators=20; total time=   1.9s\n",
      "[CV] END bootstrap=False, max_depth=25, max_features=auto, min_samples_leaf=3, min_samples_split=5, n_estimators=10; total time=   1.0s\n",
      "[CV] END bootstrap=False, max_depth=25, max_features=auto, min_samples_leaf=3, min_samples_split=5, n_estimators=10; total time=   1.0s\n",
      "[CV] END bootstrap=False, max_depth=25, max_features=auto, min_samples_leaf=3, min_samples_split=5, n_estimators=10; total time=   1.0s\n",
      "[CV] END bootstrap=False, max_depth=25, max_features=auto, min_samples_leaf=3, min_samples_split=5, n_estimators=10; total time=   1.0s\n",
      "[CV] END bootstrap=False, max_depth=25, max_features=auto, min_samples_leaf=3, min_samples_split=5, n_estimators=10; total time=   0.9s\n",
      "[CV] END bootstrap=False, max_depth=25, max_features=auto, min_samples_leaf=3, min_samples_split=5, n_estimators=20; total time=   1.8s\n",
      "[CV] END bootstrap=False, max_depth=25, max_features=auto, min_samples_leaf=3, min_samples_split=5, n_estimators=20; total time=   1.9s\n",
      "[CV] END bootstrap=False, max_depth=25, max_features=auto, min_samples_leaf=3, min_samples_split=5, n_estimators=20; total time=   2.0s\n",
      "[CV] END bootstrap=False, max_depth=25, max_features=auto, min_samples_leaf=3, min_samples_split=5, n_estimators=20; total time=   2.1s\n",
      "[CV] END bootstrap=False, max_depth=25, max_features=auto, min_samples_leaf=3, min_samples_split=5, n_estimators=20; total time=   2.0s\n",
      "[CV] END bootstrap=False, max_depth=25, max_features=sqrt, min_samples_leaf=1, min_samples_split=2, n_estimators=10; total time=   1.1s\n",
      "[CV] END bootstrap=False, max_depth=25, max_features=sqrt, min_samples_leaf=1, min_samples_split=2, n_estimators=10; total time=   1.2s\n",
      "[CV] END bootstrap=False, max_depth=25, max_features=sqrt, min_samples_leaf=1, min_samples_split=2, n_estimators=10; total time=   1.2s\n",
      "[CV] END bootstrap=False, max_depth=25, max_features=sqrt, min_samples_leaf=1, min_samples_split=2, n_estimators=10; total time=   1.3s\n",
      "[CV] END bootstrap=False, max_depth=25, max_features=sqrt, min_samples_leaf=1, min_samples_split=2, n_estimators=10; total time=   1.3s\n",
      "[CV] END bootstrap=False, max_depth=25, max_features=sqrt, min_samples_leaf=1, min_samples_split=2, n_estimators=20; total time=   2.4s\n",
      "[CV] END bootstrap=False, max_depth=25, max_features=sqrt, min_samples_leaf=1, min_samples_split=2, n_estimators=20; total time=   2.3s\n",
      "[CV] END bootstrap=False, max_depth=25, max_features=sqrt, min_samples_leaf=1, min_samples_split=2, n_estimators=20; total time=   2.3s\n",
      "[CV] END bootstrap=False, max_depth=25, max_features=sqrt, min_samples_leaf=1, min_samples_split=2, n_estimators=20; total time=   2.3s\n",
      "[CV] END bootstrap=False, max_depth=25, max_features=sqrt, min_samples_leaf=1, min_samples_split=2, n_estimators=20; total time=   2.4s\n",
      "[CV] END bootstrap=False, max_depth=25, max_features=sqrt, min_samples_leaf=1, min_samples_split=3, n_estimators=10; total time=   1.1s\n",
      "[CV] END bootstrap=False, max_depth=25, max_features=sqrt, min_samples_leaf=1, min_samples_split=3, n_estimators=10; total time=   1.2s\n",
      "[CV] END bootstrap=False, max_depth=25, max_features=sqrt, min_samples_leaf=1, min_samples_split=3, n_estimators=10; total time=   1.2s\n",
      "[CV] END bootstrap=False, max_depth=25, max_features=sqrt, min_samples_leaf=1, min_samples_split=3, n_estimators=10; total time=   1.2s\n",
      "[CV] END bootstrap=False, max_depth=25, max_features=sqrt, min_samples_leaf=1, min_samples_split=3, n_estimators=10; total time=   1.1s\n",
      "[CV] END bootstrap=False, max_depth=25, max_features=sqrt, min_samples_leaf=1, min_samples_split=3, n_estimators=20; total time=   2.2s\n",
      "[CV] END bootstrap=False, max_depth=25, max_features=sqrt, min_samples_leaf=1, min_samples_split=3, n_estimators=20; total time=   2.2s\n",
      "[CV] END bootstrap=False, max_depth=25, max_features=sqrt, min_samples_leaf=1, min_samples_split=3, n_estimators=20; total time=   2.1s\n",
      "[CV] END bootstrap=False, max_depth=25, max_features=sqrt, min_samples_leaf=1, min_samples_split=3, n_estimators=20; total time=   2.1s\n",
      "[CV] END bootstrap=False, max_depth=25, max_features=sqrt, min_samples_leaf=1, min_samples_split=3, n_estimators=20; total time=   2.2s\n",
      "[CV] END bootstrap=False, max_depth=25, max_features=sqrt, min_samples_leaf=1, min_samples_split=5, n_estimators=10; total time=   1.1s\n",
      "[CV] END bootstrap=False, max_depth=25, max_features=sqrt, min_samples_leaf=1, min_samples_split=5, n_estimators=10; total time=   1.1s\n",
      "[CV] END bootstrap=False, max_depth=25, max_features=sqrt, min_samples_leaf=1, min_samples_split=5, n_estimators=10; total time=   1.1s\n",
      "[CV] END bootstrap=False, max_depth=25, max_features=sqrt, min_samples_leaf=1, min_samples_split=5, n_estimators=10; total time=   1.1s\n",
      "[CV] END bootstrap=False, max_depth=25, max_features=sqrt, min_samples_leaf=1, min_samples_split=5, n_estimators=10; total time=   1.1s\n",
      "[CV] END bootstrap=False, max_depth=25, max_features=sqrt, min_samples_leaf=1, min_samples_split=5, n_estimators=20; total time=   2.0s\n",
      "[CV] END bootstrap=False, max_depth=25, max_features=sqrt, min_samples_leaf=1, min_samples_split=5, n_estimators=20; total time=   2.1s\n",
      "[CV] END bootstrap=False, max_depth=25, max_features=sqrt, min_samples_leaf=1, min_samples_split=5, n_estimators=20; total time=   2.1s\n",
      "[CV] END bootstrap=False, max_depth=25, max_features=sqrt, min_samples_leaf=1, min_samples_split=5, n_estimators=20; total time=   2.1s\n",
      "[CV] END bootstrap=False, max_depth=25, max_features=sqrt, min_samples_leaf=1, min_samples_split=5, n_estimators=20; total time=   2.1s\n",
      "[CV] END bootstrap=False, max_depth=25, max_features=sqrt, min_samples_leaf=2, min_samples_split=2, n_estimators=10; total time=   1.0s\n",
      "[CV] END bootstrap=False, max_depth=25, max_features=sqrt, min_samples_leaf=2, min_samples_split=2, n_estimators=10; total time=   0.9s\n",
      "[CV] END bootstrap=False, max_depth=25, max_features=sqrt, min_samples_leaf=2, min_samples_split=2, n_estimators=10; total time=   1.0s\n",
      "[CV] END bootstrap=False, max_depth=25, max_features=sqrt, min_samples_leaf=2, min_samples_split=2, n_estimators=10; total time=   1.1s\n",
      "[CV] END bootstrap=False, max_depth=25, max_features=sqrt, min_samples_leaf=2, min_samples_split=2, n_estimators=10; total time=   1.0s\n",
      "[CV] END bootstrap=False, max_depth=25, max_features=sqrt, min_samples_leaf=2, min_samples_split=2, n_estimators=20; total time=   2.1s\n",
      "[CV] END bootstrap=False, max_depth=25, max_features=sqrt, min_samples_leaf=2, min_samples_split=2, n_estimators=20; total time=   2.0s\n",
      "[CV] END bootstrap=False, max_depth=25, max_features=sqrt, min_samples_leaf=2, min_samples_split=2, n_estimators=20; total time=   1.9s\n",
      "[CV] END bootstrap=False, max_depth=25, max_features=sqrt, min_samples_leaf=2, min_samples_split=2, n_estimators=20; total time=   2.4s\n",
      "[CV] END bootstrap=False, max_depth=25, max_features=sqrt, min_samples_leaf=2, min_samples_split=2, n_estimators=20; total time=   3.0s\n",
      "[CV] END bootstrap=False, max_depth=25, max_features=sqrt, min_samples_leaf=2, min_samples_split=3, n_estimators=10; total time=   1.2s\n",
      "[CV] END bootstrap=False, max_depth=25, max_features=sqrt, min_samples_leaf=2, min_samples_split=3, n_estimators=10; total time=   1.2s\n",
      "[CV] END bootstrap=False, max_depth=25, max_features=sqrt, min_samples_leaf=2, min_samples_split=3, n_estimators=10; total time=   1.1s\n",
      "[CV] END bootstrap=False, max_depth=25, max_features=sqrt, min_samples_leaf=2, min_samples_split=3, n_estimators=10; total time=   1.2s\n",
      "[CV] END bootstrap=False, max_depth=25, max_features=sqrt, min_samples_leaf=2, min_samples_split=3, n_estimators=10; total time=   1.4s\n",
      "[CV] END bootstrap=False, max_depth=25, max_features=sqrt, min_samples_leaf=2, min_samples_split=3, n_estimators=20; total time=   2.2s\n",
      "[CV] END bootstrap=False, max_depth=25, max_features=sqrt, min_samples_leaf=2, min_samples_split=3, n_estimators=20; total time=   2.4s\n",
      "[CV] END bootstrap=False, max_depth=25, max_features=sqrt, min_samples_leaf=2, min_samples_split=3, n_estimators=20; total time=   4.5s\n",
      "[CV] END bootstrap=False, max_depth=25, max_features=sqrt, min_samples_leaf=2, min_samples_split=3, n_estimators=20; total time=   2.8s\n",
      "[CV] END bootstrap=False, max_depth=25, max_features=sqrt, min_samples_leaf=2, min_samples_split=3, n_estimators=20; total time=   2.8s\n",
      "[CV] END bootstrap=False, max_depth=25, max_features=sqrt, min_samples_leaf=2, min_samples_split=5, n_estimators=10; total time=   1.4s\n",
      "[CV] END bootstrap=False, max_depth=25, max_features=sqrt, min_samples_leaf=2, min_samples_split=5, n_estimators=10; total time=   1.6s\n",
      "[CV] END bootstrap=False, max_depth=25, max_features=sqrt, min_samples_leaf=2, min_samples_split=5, n_estimators=10; total time=   1.7s\n",
      "[CV] END bootstrap=False, max_depth=25, max_features=sqrt, min_samples_leaf=2, min_samples_split=5, n_estimators=10; total time=   1.3s\n",
      "[CV] END bootstrap=False, max_depth=25, max_features=sqrt, min_samples_leaf=2, min_samples_split=5, n_estimators=10; total time=   1.2s\n",
      "[CV] END bootstrap=False, max_depth=25, max_features=sqrt, min_samples_leaf=2, min_samples_split=5, n_estimators=20; total time=   2.4s\n",
      "[CV] END bootstrap=False, max_depth=25, max_features=sqrt, min_samples_leaf=2, min_samples_split=5, n_estimators=20; total time=   2.4s\n",
      "[CV] END bootstrap=False, max_depth=25, max_features=sqrt, min_samples_leaf=2, min_samples_split=5, n_estimators=20; total time=   2.3s\n",
      "[CV] END bootstrap=False, max_depth=25, max_features=sqrt, min_samples_leaf=2, min_samples_split=5, n_estimators=20; total time=   2.4s\n",
      "[CV] END bootstrap=False, max_depth=25, max_features=sqrt, min_samples_leaf=2, min_samples_split=5, n_estimators=20; total time=   2.4s\n",
      "[CV] END bootstrap=False, max_depth=25, max_features=sqrt, min_samples_leaf=3, min_samples_split=2, n_estimators=10; total time=   1.3s\n",
      "[CV] END bootstrap=False, max_depth=25, max_features=sqrt, min_samples_leaf=3, min_samples_split=2, n_estimators=10; total time=   1.3s\n",
      "[CV] END bootstrap=False, max_depth=25, max_features=sqrt, min_samples_leaf=3, min_samples_split=2, n_estimators=10; total time=   0.9s\n",
      "[CV] END bootstrap=False, max_depth=25, max_features=sqrt, min_samples_leaf=3, min_samples_split=2, n_estimators=10; total time=   1.1s\n",
      "[CV] END bootstrap=False, max_depth=25, max_features=sqrt, min_samples_leaf=3, min_samples_split=2, n_estimators=10; total time=   1.0s\n",
      "[CV] END bootstrap=False, max_depth=25, max_features=sqrt, min_samples_leaf=3, min_samples_split=2, n_estimators=20; total time=   1.9s\n",
      "[CV] END bootstrap=False, max_depth=25, max_features=sqrt, min_samples_leaf=3, min_samples_split=2, n_estimators=20; total time=   1.9s\n",
      "[CV] END bootstrap=False, max_depth=25, max_features=sqrt, min_samples_leaf=3, min_samples_split=2, n_estimators=20; total time=   2.0s\n",
      "[CV] END bootstrap=False, max_depth=25, max_features=sqrt, min_samples_leaf=3, min_samples_split=2, n_estimators=20; total time=   2.7s\n",
      "[CV] END bootstrap=False, max_depth=25, max_features=sqrt, min_samples_leaf=3, min_samples_split=2, n_estimators=20; total time=   2.7s\n",
      "[CV] END bootstrap=False, max_depth=25, max_features=sqrt, min_samples_leaf=3, min_samples_split=3, n_estimators=10; total time=   1.6s\n",
      "[CV] END bootstrap=False, max_depth=25, max_features=sqrt, min_samples_leaf=3, min_samples_split=3, n_estimators=10; total time=   1.3s\n",
      "[CV] END bootstrap=False, max_depth=25, max_features=sqrt, min_samples_leaf=3, min_samples_split=3, n_estimators=10; total time=   1.1s\n",
      "[CV] END bootstrap=False, max_depth=25, max_features=sqrt, min_samples_leaf=3, min_samples_split=3, n_estimators=10; total time=   1.2s\n",
      "[CV] END bootstrap=False, max_depth=25, max_features=sqrt, min_samples_leaf=3, min_samples_split=3, n_estimators=10; total time=   1.1s\n",
      "[CV] END bootstrap=False, max_depth=25, max_features=sqrt, min_samples_leaf=3, min_samples_split=3, n_estimators=20; total time=   2.0s\n",
      "[CV] END bootstrap=False, max_depth=25, max_features=sqrt, min_samples_leaf=3, min_samples_split=3, n_estimators=20; total time=   2.2s\n",
      "[CV] END bootstrap=False, max_depth=25, max_features=sqrt, min_samples_leaf=3, min_samples_split=3, n_estimators=20; total time=   2.2s\n",
      "[CV] END bootstrap=False, max_depth=25, max_features=sqrt, min_samples_leaf=3, min_samples_split=3, n_estimators=20; total time=   2.4s\n",
      "[CV] END bootstrap=False, max_depth=25, max_features=sqrt, min_samples_leaf=3, min_samples_split=3, n_estimators=20; total time=   2.1s\n",
      "[CV] END bootstrap=False, max_depth=25, max_features=sqrt, min_samples_leaf=3, min_samples_split=5, n_estimators=10; total time=   1.1s\n",
      "[CV] END bootstrap=False, max_depth=25, max_features=sqrt, min_samples_leaf=3, min_samples_split=5, n_estimators=10; total time=   1.2s\n",
      "[CV] END bootstrap=False, max_depth=25, max_features=sqrt, min_samples_leaf=3, min_samples_split=5, n_estimators=10; total time=   1.2s\n",
      "[CV] END bootstrap=False, max_depth=25, max_features=sqrt, min_samples_leaf=3, min_samples_split=5, n_estimators=10; total time=   2.2s\n",
      "[CV] END bootstrap=False, max_depth=25, max_features=sqrt, min_samples_leaf=3, min_samples_split=5, n_estimators=10; total time=   2.3s\n",
      "[CV] END bootstrap=False, max_depth=25, max_features=sqrt, min_samples_leaf=3, min_samples_split=5, n_estimators=20; total time=   2.8s\n",
      "[CV] END bootstrap=False, max_depth=25, max_features=sqrt, min_samples_leaf=3, min_samples_split=5, n_estimators=20; total time=   3.1s\n",
      "[CV] END bootstrap=False, max_depth=25, max_features=sqrt, min_samples_leaf=3, min_samples_split=5, n_estimators=20; total time=   2.4s\n",
      "[CV] END bootstrap=False, max_depth=25, max_features=sqrt, min_samples_leaf=3, min_samples_split=5, n_estimators=20; total time=   2.1s\n",
      "[CV] END bootstrap=False, max_depth=25, max_features=sqrt, min_samples_leaf=3, min_samples_split=5, n_estimators=20; total time=   2.1s\n",
      "[CV] END bootstrap=False, max_depth=35, max_features=auto, min_samples_leaf=1, min_samples_split=2, n_estimators=10; total time=   1.3s\n",
      "[CV] END bootstrap=False, max_depth=35, max_features=auto, min_samples_leaf=1, min_samples_split=2, n_estimators=10; total time=   1.4s\n",
      "[CV] END bootstrap=False, max_depth=35, max_features=auto, min_samples_leaf=1, min_samples_split=2, n_estimators=10; total time=   1.2s\n",
      "[CV] END bootstrap=False, max_depth=35, max_features=auto, min_samples_leaf=1, min_samples_split=2, n_estimators=10; total time=   1.4s\n",
      "[CV] END bootstrap=False, max_depth=35, max_features=auto, min_samples_leaf=1, min_samples_split=2, n_estimators=10; total time=   1.3s\n",
      "[CV] END bootstrap=False, max_depth=35, max_features=auto, min_samples_leaf=1, min_samples_split=2, n_estimators=20; total time=   2.5s\n",
      "[CV] END bootstrap=False, max_depth=35, max_features=auto, min_samples_leaf=1, min_samples_split=2, n_estimators=20; total time=   2.4s\n",
      "[CV] END bootstrap=False, max_depth=35, max_features=auto, min_samples_leaf=1, min_samples_split=2, n_estimators=20; total time=   2.1s\n",
      "[CV] END bootstrap=False, max_depth=35, max_features=auto, min_samples_leaf=1, min_samples_split=2, n_estimators=20; total time=   2.4s\n",
      "[CV] END bootstrap=False, max_depth=35, max_features=auto, min_samples_leaf=1, min_samples_split=2, n_estimators=20; total time=   2.3s\n",
      "[CV] END bootstrap=False, max_depth=35, max_features=auto, min_samples_leaf=1, min_samples_split=3, n_estimators=10; total time=   1.2s\n",
      "[CV] END bootstrap=False, max_depth=35, max_features=auto, min_samples_leaf=1, min_samples_split=3, n_estimators=10; total time=   1.1s\n",
      "[CV] END bootstrap=False, max_depth=35, max_features=auto, min_samples_leaf=1, min_samples_split=3, n_estimators=10; total time=   1.1s\n",
      "[CV] END bootstrap=False, max_depth=35, max_features=auto, min_samples_leaf=1, min_samples_split=3, n_estimators=10; total time=   1.1s\n",
      "[CV] END bootstrap=False, max_depth=35, max_features=auto, min_samples_leaf=1, min_samples_split=3, n_estimators=10; total time=   1.2s\n",
      "[CV] END bootstrap=False, max_depth=35, max_features=auto, min_samples_leaf=1, min_samples_split=3, n_estimators=20; total time=   2.6s\n",
      "[CV] END bootstrap=False, max_depth=35, max_features=auto, min_samples_leaf=1, min_samples_split=3, n_estimators=20; total time=   2.4s\n",
      "[CV] END bootstrap=False, max_depth=35, max_features=auto, min_samples_leaf=1, min_samples_split=3, n_estimators=20; total time=   2.4s\n",
      "[CV] END bootstrap=False, max_depth=35, max_features=auto, min_samples_leaf=1, min_samples_split=3, n_estimators=20; total time=   2.2s\n",
      "[CV] END bootstrap=False, max_depth=35, max_features=auto, min_samples_leaf=1, min_samples_split=3, n_estimators=20; total time=   2.3s\n",
      "[CV] END bootstrap=False, max_depth=35, max_features=auto, min_samples_leaf=1, min_samples_split=5, n_estimators=10; total time=   1.2s\n",
      "[CV] END bootstrap=False, max_depth=35, max_features=auto, min_samples_leaf=1, min_samples_split=5, n_estimators=10; total time=   1.1s\n",
      "[CV] END bootstrap=False, max_depth=35, max_features=auto, min_samples_leaf=1, min_samples_split=5, n_estimators=10; total time=   1.1s\n",
      "[CV] END bootstrap=False, max_depth=35, max_features=auto, min_samples_leaf=1, min_samples_split=5, n_estimators=10; total time=   1.1s\n",
      "[CV] END bootstrap=False, max_depth=35, max_features=auto, min_samples_leaf=1, min_samples_split=5, n_estimators=10; total time=   1.1s\n",
      "[CV] END bootstrap=False, max_depth=35, max_features=auto, min_samples_leaf=1, min_samples_split=5, n_estimators=20; total time=   2.0s\n",
      "[CV] END bootstrap=False, max_depth=35, max_features=auto, min_samples_leaf=1, min_samples_split=5, n_estimators=20; total time=   2.2s\n",
      "[CV] END bootstrap=False, max_depth=35, max_features=auto, min_samples_leaf=1, min_samples_split=5, n_estimators=20; total time=   2.3s\n",
      "[CV] END bootstrap=False, max_depth=35, max_features=auto, min_samples_leaf=1, min_samples_split=5, n_estimators=20; total time=   2.3s\n",
      "[CV] END bootstrap=False, max_depth=35, max_features=auto, min_samples_leaf=1, min_samples_split=5, n_estimators=20; total time=   2.1s\n",
      "[CV] END bootstrap=False, max_depth=35, max_features=auto, min_samples_leaf=2, min_samples_split=2, n_estimators=10; total time=   1.0s\n",
      "[CV] END bootstrap=False, max_depth=35, max_features=auto, min_samples_leaf=2, min_samples_split=2, n_estimators=10; total time=   1.3s\n",
      "[CV] END bootstrap=False, max_depth=35, max_features=auto, min_samples_leaf=2, min_samples_split=2, n_estimators=10; total time=   1.1s\n",
      "[CV] END bootstrap=False, max_depth=35, max_features=auto, min_samples_leaf=2, min_samples_split=2, n_estimators=10; total time=   1.1s\n",
      "[CV] END bootstrap=False, max_depth=35, max_features=auto, min_samples_leaf=2, min_samples_split=2, n_estimators=10; total time=   1.1s\n",
      "[CV] END bootstrap=False, max_depth=35, max_features=auto, min_samples_leaf=2, min_samples_split=2, n_estimators=20; total time=   2.1s\n",
      "[CV] END bootstrap=False, max_depth=35, max_features=auto, min_samples_leaf=2, min_samples_split=2, n_estimators=20; total time=   2.1s\n",
      "[CV] END bootstrap=False, max_depth=35, max_features=auto, min_samples_leaf=2, min_samples_split=2, n_estimators=20; total time=   1.9s\n",
      "[CV] END bootstrap=False, max_depth=35, max_features=auto, min_samples_leaf=2, min_samples_split=2, n_estimators=20; total time=   2.1s\n",
      "[CV] END bootstrap=False, max_depth=35, max_features=auto, min_samples_leaf=2, min_samples_split=2, n_estimators=20; total time=   2.1s\n",
      "[CV] END bootstrap=False, max_depth=35, max_features=auto, min_samples_leaf=2, min_samples_split=3, n_estimators=10; total time=   1.1s\n",
      "[CV] END bootstrap=False, max_depth=35, max_features=auto, min_samples_leaf=2, min_samples_split=3, n_estimators=10; total time=   1.2s\n",
      "[CV] END bootstrap=False, max_depth=35, max_features=auto, min_samples_leaf=2, min_samples_split=3, n_estimators=10; total time=   1.0s\n",
      "[CV] END bootstrap=False, max_depth=35, max_features=auto, min_samples_leaf=2, min_samples_split=3, n_estimators=10; total time=   0.9s\n",
      "[CV] END bootstrap=False, max_depth=35, max_features=auto, min_samples_leaf=2, min_samples_split=3, n_estimators=10; total time=   1.3s\n",
      "[CV] END bootstrap=False, max_depth=35, max_features=auto, min_samples_leaf=2, min_samples_split=3, n_estimators=20; total time=   2.3s\n",
      "[CV] END bootstrap=False, max_depth=35, max_features=auto, min_samples_leaf=2, min_samples_split=3, n_estimators=20; total time=   2.7s\n",
      "[CV] END bootstrap=False, max_depth=35, max_features=auto, min_samples_leaf=2, min_samples_split=3, n_estimators=20; total time=   2.7s\n",
      "[CV] END bootstrap=False, max_depth=35, max_features=auto, min_samples_leaf=2, min_samples_split=3, n_estimators=20; total time=   2.3s\n",
      "[CV] END bootstrap=False, max_depth=35, max_features=auto, min_samples_leaf=2, min_samples_split=3, n_estimators=20; total time=   2.4s\n",
      "[CV] END bootstrap=False, max_depth=35, max_features=auto, min_samples_leaf=2, min_samples_split=5, n_estimators=10; total time=   1.6s\n",
      "[CV] END bootstrap=False, max_depth=35, max_features=auto, min_samples_leaf=2, min_samples_split=5, n_estimators=10; total time=   1.3s\n",
      "[CV] END bootstrap=False, max_depth=35, max_features=auto, min_samples_leaf=2, min_samples_split=5, n_estimators=10; total time=   1.3s\n",
      "[CV] END bootstrap=False, max_depth=35, max_features=auto, min_samples_leaf=2, min_samples_split=5, n_estimators=10; total time=   1.1s\n",
      "[CV] END bootstrap=False, max_depth=35, max_features=auto, min_samples_leaf=2, min_samples_split=5, n_estimators=10; total time=   1.3s\n",
      "[CV] END bootstrap=False, max_depth=35, max_features=auto, min_samples_leaf=2, min_samples_split=5, n_estimators=20; total time=   2.9s\n",
      "[CV] END bootstrap=False, max_depth=35, max_features=auto, min_samples_leaf=2, min_samples_split=5, n_estimators=20; total time=   2.6s\n",
      "[CV] END bootstrap=False, max_depth=35, max_features=auto, min_samples_leaf=2, min_samples_split=5, n_estimators=20; total time=   2.5s\n",
      "[CV] END bootstrap=False, max_depth=35, max_features=auto, min_samples_leaf=2, min_samples_split=5, n_estimators=20; total time=   2.7s\n",
      "[CV] END bootstrap=False, max_depth=35, max_features=auto, min_samples_leaf=2, min_samples_split=5, n_estimators=20; total time=   2.6s\n",
      "[CV] END bootstrap=False, max_depth=35, max_features=auto, min_samples_leaf=3, min_samples_split=2, n_estimators=10; total time=   1.2s\n",
      "[CV] END bootstrap=False, max_depth=35, max_features=auto, min_samples_leaf=3, min_samples_split=2, n_estimators=10; total time=   1.4s\n",
      "[CV] END bootstrap=False, max_depth=35, max_features=auto, min_samples_leaf=3, min_samples_split=2, n_estimators=10; total time=   1.2s\n",
      "[CV] END bootstrap=False, max_depth=35, max_features=auto, min_samples_leaf=3, min_samples_split=2, n_estimators=10; total time=   1.0s\n",
      "[CV] END bootstrap=False, max_depth=35, max_features=auto, min_samples_leaf=3, min_samples_split=2, n_estimators=10; total time=   1.0s\n",
      "[CV] END bootstrap=False, max_depth=35, max_features=auto, min_samples_leaf=3, min_samples_split=2, n_estimators=20; total time=   1.8s\n",
      "[CV] END bootstrap=False, max_depth=35, max_features=auto, min_samples_leaf=3, min_samples_split=2, n_estimators=20; total time=   2.0s\n",
      "[CV] END bootstrap=False, max_depth=35, max_features=auto, min_samples_leaf=3, min_samples_split=2, n_estimators=20; total time=   1.9s\n",
      "[CV] END bootstrap=False, max_depth=35, max_features=auto, min_samples_leaf=3, min_samples_split=2, n_estimators=20; total time=   1.9s\n",
      "[CV] END bootstrap=False, max_depth=35, max_features=auto, min_samples_leaf=3, min_samples_split=2, n_estimators=20; total time=   1.9s\n",
      "[CV] END bootstrap=False, max_depth=35, max_features=auto, min_samples_leaf=3, min_samples_split=3, n_estimators=10; total time=   0.9s\n",
      "[CV] END bootstrap=False, max_depth=35, max_features=auto, min_samples_leaf=3, min_samples_split=3, n_estimators=10; total time=   0.9s\n",
      "[CV] END bootstrap=False, max_depth=35, max_features=auto, min_samples_leaf=3, min_samples_split=3, n_estimators=10; total time=   0.9s\n",
      "[CV] END bootstrap=False, max_depth=35, max_features=auto, min_samples_leaf=3, min_samples_split=3, n_estimators=10; total time=   0.9s\n",
      "[CV] END bootstrap=False, max_depth=35, max_features=auto, min_samples_leaf=3, min_samples_split=3, n_estimators=10; total time=   1.0s\n",
      "[CV] END bootstrap=False, max_depth=35, max_features=auto, min_samples_leaf=3, min_samples_split=3, n_estimators=20; total time=   1.9s\n",
      "[CV] END bootstrap=False, max_depth=35, max_features=auto, min_samples_leaf=3, min_samples_split=3, n_estimators=20; total time=   2.0s\n",
      "[CV] END bootstrap=False, max_depth=35, max_features=auto, min_samples_leaf=3, min_samples_split=3, n_estimators=20; total time=   1.9s\n",
      "[CV] END bootstrap=False, max_depth=35, max_features=auto, min_samples_leaf=3, min_samples_split=3, n_estimators=20; total time=   1.8s\n",
      "[CV] END bootstrap=False, max_depth=35, max_features=auto, min_samples_leaf=3, min_samples_split=3, n_estimators=20; total time=   1.8s\n",
      "[CV] END bootstrap=False, max_depth=35, max_features=auto, min_samples_leaf=3, min_samples_split=5, n_estimators=10; total time=   1.0s\n",
      "[CV] END bootstrap=False, max_depth=35, max_features=auto, min_samples_leaf=3, min_samples_split=5, n_estimators=10; total time=   1.0s\n",
      "[CV] END bootstrap=False, max_depth=35, max_features=auto, min_samples_leaf=3, min_samples_split=5, n_estimators=10; total time=   1.0s\n",
      "[CV] END bootstrap=False, max_depth=35, max_features=auto, min_samples_leaf=3, min_samples_split=5, n_estimators=10; total time=   1.0s\n",
      "[CV] END bootstrap=False, max_depth=35, max_features=auto, min_samples_leaf=3, min_samples_split=5, n_estimators=10; total time=   1.0s\n",
      "[CV] END bootstrap=False, max_depth=35, max_features=auto, min_samples_leaf=3, min_samples_split=5, n_estimators=20; total time=   1.8s\n",
      "[CV] END bootstrap=False, max_depth=35, max_features=auto, min_samples_leaf=3, min_samples_split=5, n_estimators=20; total time=   1.8s\n",
      "[CV] END bootstrap=False, max_depth=35, max_features=auto, min_samples_leaf=3, min_samples_split=5, n_estimators=20; total time=   2.4s\n",
      "[CV] END bootstrap=False, max_depth=35, max_features=auto, min_samples_leaf=3, min_samples_split=5, n_estimators=20; total time=   2.2s\n",
      "[CV] END bootstrap=False, max_depth=35, max_features=auto, min_samples_leaf=3, min_samples_split=5, n_estimators=20; total time=   2.1s\n",
      "[CV] END bootstrap=False, max_depth=35, max_features=sqrt, min_samples_leaf=1, min_samples_split=2, n_estimators=10; total time=   1.5s\n",
      "[CV] END bootstrap=False, max_depth=35, max_features=sqrt, min_samples_leaf=1, min_samples_split=2, n_estimators=10; total time=   1.5s\n",
      "[CV] END bootstrap=False, max_depth=35, max_features=sqrt, min_samples_leaf=1, min_samples_split=2, n_estimators=10; total time=   1.4s\n",
      "[CV] END bootstrap=False, max_depth=35, max_features=sqrt, min_samples_leaf=1, min_samples_split=2, n_estimators=10; total time=   1.6s\n",
      "[CV] END bootstrap=False, max_depth=35, max_features=sqrt, min_samples_leaf=1, min_samples_split=2, n_estimators=10; total time=   1.3s\n",
      "[CV] END bootstrap=False, max_depth=35, max_features=sqrt, min_samples_leaf=1, min_samples_split=2, n_estimators=20; total time=   2.3s\n",
      "[CV] END bootstrap=False, max_depth=35, max_features=sqrt, min_samples_leaf=1, min_samples_split=2, n_estimators=20; total time=   2.3s\n",
      "[CV] END bootstrap=False, max_depth=35, max_features=sqrt, min_samples_leaf=1, min_samples_split=2, n_estimators=20; total time=   2.2s\n",
      "[CV] END bootstrap=False, max_depth=35, max_features=sqrt, min_samples_leaf=1, min_samples_split=2, n_estimators=20; total time=   2.3s\n",
      "[CV] END bootstrap=False, max_depth=35, max_features=sqrt, min_samples_leaf=1, min_samples_split=2, n_estimators=20; total time=   2.4s\n",
      "[CV] END bootstrap=False, max_depth=35, max_features=sqrt, min_samples_leaf=1, min_samples_split=3, n_estimators=10; total time=   1.2s\n",
      "[CV] END bootstrap=False, max_depth=35, max_features=sqrt, min_samples_leaf=1, min_samples_split=3, n_estimators=10; total time=   1.1s\n",
      "[CV] END bootstrap=False, max_depth=35, max_features=sqrt, min_samples_leaf=1, min_samples_split=3, n_estimators=10; total time=   1.1s\n",
      "[CV] END bootstrap=False, max_depth=35, max_features=sqrt, min_samples_leaf=1, min_samples_split=3, n_estimators=10; total time=   1.1s\n",
      "[CV] END bootstrap=False, max_depth=35, max_features=sqrt, min_samples_leaf=1, min_samples_split=3, n_estimators=10; total time=   1.1s\n",
      "[CV] END bootstrap=False, max_depth=35, max_features=sqrt, min_samples_leaf=1, min_samples_split=3, n_estimators=20; total time=   2.2s\n",
      "[CV] END bootstrap=False, max_depth=35, max_features=sqrt, min_samples_leaf=1, min_samples_split=3, n_estimators=20; total time=   2.3s\n",
      "[CV] END bootstrap=False, max_depth=35, max_features=sqrt, min_samples_leaf=1, min_samples_split=3, n_estimators=20; total time=   2.2s\n",
      "[CV] END bootstrap=False, max_depth=35, max_features=sqrt, min_samples_leaf=1, min_samples_split=3, n_estimators=20; total time=   2.1s\n",
      "[CV] END bootstrap=False, max_depth=35, max_features=sqrt, min_samples_leaf=1, min_samples_split=3, n_estimators=20; total time=   3.2s\n",
      "[CV] END bootstrap=False, max_depth=35, max_features=sqrt, min_samples_leaf=1, min_samples_split=5, n_estimators=10; total time=   1.2s\n",
      "[CV] END bootstrap=False, max_depth=35, max_features=sqrt, min_samples_leaf=1, min_samples_split=5, n_estimators=10; total time=   1.1s\n",
      "[CV] END bootstrap=False, max_depth=35, max_features=sqrt, min_samples_leaf=1, min_samples_split=5, n_estimators=10; total time=   1.1s\n",
      "[CV] END bootstrap=False, max_depth=35, max_features=sqrt, min_samples_leaf=1, min_samples_split=5, n_estimators=10; total time=   1.1s\n",
      "[CV] END bootstrap=False, max_depth=35, max_features=sqrt, min_samples_leaf=1, min_samples_split=5, n_estimators=10; total time=   1.1s\n",
      "[CV] END bootstrap=False, max_depth=35, max_features=sqrt, min_samples_leaf=1, min_samples_split=5, n_estimators=20; total time=   2.4s\n",
      "[CV] END bootstrap=False, max_depth=35, max_features=sqrt, min_samples_leaf=1, min_samples_split=5, n_estimators=20; total time=   2.6s\n",
      "[CV] END bootstrap=False, max_depth=35, max_features=sqrt, min_samples_leaf=1, min_samples_split=5, n_estimators=20; total time=   2.3s\n",
      "[CV] END bootstrap=False, max_depth=35, max_features=sqrt, min_samples_leaf=1, min_samples_split=5, n_estimators=20; total time=   2.4s\n",
      "[CV] END bootstrap=False, max_depth=35, max_features=sqrt, min_samples_leaf=1, min_samples_split=5, n_estimators=20; total time=   2.2s\n",
      "[CV] END bootstrap=False, max_depth=35, max_features=sqrt, min_samples_leaf=2, min_samples_split=2, n_estimators=10; total time=   1.1s\n",
      "[CV] END bootstrap=False, max_depth=35, max_features=sqrt, min_samples_leaf=2, min_samples_split=2, n_estimators=10; total time=   1.3s\n",
      "[CV] END bootstrap=False, max_depth=35, max_features=sqrt, min_samples_leaf=2, min_samples_split=2, n_estimators=10; total time=   1.1s\n",
      "[CV] END bootstrap=False, max_depth=35, max_features=sqrt, min_samples_leaf=2, min_samples_split=2, n_estimators=10; total time=   1.1s\n",
      "[CV] END bootstrap=False, max_depth=35, max_features=sqrt, min_samples_leaf=2, min_samples_split=2, n_estimators=10; total time=   1.1s\n",
      "[CV] END bootstrap=False, max_depth=35, max_features=sqrt, min_samples_leaf=2, min_samples_split=2, n_estimators=20; total time=   2.3s\n",
      "[CV] END bootstrap=False, max_depth=35, max_features=sqrt, min_samples_leaf=2, min_samples_split=2, n_estimators=20; total time=   2.2s\n",
      "[CV] END bootstrap=False, max_depth=35, max_features=sqrt, min_samples_leaf=2, min_samples_split=2, n_estimators=20; total time=   2.1s\n",
      "[CV] END bootstrap=False, max_depth=35, max_features=sqrt, min_samples_leaf=2, min_samples_split=2, n_estimators=20; total time=   2.0s\n",
      "[CV] END bootstrap=False, max_depth=35, max_features=sqrt, min_samples_leaf=2, min_samples_split=2, n_estimators=20; total time=   2.0s\n",
      "[CV] END bootstrap=False, max_depth=35, max_features=sqrt, min_samples_leaf=2, min_samples_split=3, n_estimators=10; total time=   1.0s\n",
      "[CV] END bootstrap=False, max_depth=35, max_features=sqrt, min_samples_leaf=2, min_samples_split=3, n_estimators=10; total time=   1.1s\n",
      "[CV] END bootstrap=False, max_depth=35, max_features=sqrt, min_samples_leaf=2, min_samples_split=3, n_estimators=10; total time=   1.1s\n",
      "[CV] END bootstrap=False, max_depth=35, max_features=sqrt, min_samples_leaf=2, min_samples_split=3, n_estimators=10; total time=   1.4s\n",
      "[CV] END bootstrap=False, max_depth=35, max_features=sqrt, min_samples_leaf=2, min_samples_split=3, n_estimators=10; total time=   1.2s\n",
      "[CV] END bootstrap=False, max_depth=35, max_features=sqrt, min_samples_leaf=2, min_samples_split=3, n_estimators=20; total time=   2.2s\n",
      "[CV] END bootstrap=False, max_depth=35, max_features=sqrt, min_samples_leaf=2, min_samples_split=3, n_estimators=20; total time=   2.0s\n",
      "[CV] END bootstrap=False, max_depth=35, max_features=sqrt, min_samples_leaf=2, min_samples_split=3, n_estimators=20; total time=   2.2s\n",
      "[CV] END bootstrap=False, max_depth=35, max_features=sqrt, min_samples_leaf=2, min_samples_split=3, n_estimators=20; total time=   2.0s\n",
      "[CV] END bootstrap=False, max_depth=35, max_features=sqrt, min_samples_leaf=2, min_samples_split=3, n_estimators=20; total time=   2.0s\n",
      "[CV] END bootstrap=False, max_depth=35, max_features=sqrt, min_samples_leaf=2, min_samples_split=5, n_estimators=10; total time=   1.1s\n",
      "[CV] END bootstrap=False, max_depth=35, max_features=sqrt, min_samples_leaf=2, min_samples_split=5, n_estimators=10; total time=   1.2s\n",
      "[CV] END bootstrap=False, max_depth=35, max_features=sqrt, min_samples_leaf=2, min_samples_split=5, n_estimators=10; total time=   1.0s\n",
      "[CV] END bootstrap=False, max_depth=35, max_features=sqrt, min_samples_leaf=2, min_samples_split=5, n_estimators=10; total time=   1.0s\n",
      "[CV] END bootstrap=False, max_depth=35, max_features=sqrt, min_samples_leaf=2, min_samples_split=5, n_estimators=10; total time=   1.0s\n",
      "[CV] END bootstrap=False, max_depth=35, max_features=sqrt, min_samples_leaf=2, min_samples_split=5, n_estimators=20; total time=   2.0s\n",
      "[CV] END bootstrap=False, max_depth=35, max_features=sqrt, min_samples_leaf=2, min_samples_split=5, n_estimators=20; total time=   1.9s\n",
      "[CV] END bootstrap=False, max_depth=35, max_features=sqrt, min_samples_leaf=2, min_samples_split=5, n_estimators=20; total time=   2.1s\n",
      "[CV] END bootstrap=False, max_depth=35, max_features=sqrt, min_samples_leaf=2, min_samples_split=5, n_estimators=20; total time=   2.0s\n",
      "[CV] END bootstrap=False, max_depth=35, max_features=sqrt, min_samples_leaf=2, min_samples_split=5, n_estimators=20; total time=   2.0s\n",
      "[CV] END bootstrap=False, max_depth=35, max_features=sqrt, min_samples_leaf=3, min_samples_split=2, n_estimators=10; total time=   0.9s\n",
      "[CV] END bootstrap=False, max_depth=35, max_features=sqrt, min_samples_leaf=3, min_samples_split=2, n_estimators=10; total time=   0.9s\n",
      "[CV] END bootstrap=False, max_depth=35, max_features=sqrt, min_samples_leaf=3, min_samples_split=2, n_estimators=10; total time=   0.9s\n",
      "[CV] END bootstrap=False, max_depth=35, max_features=sqrt, min_samples_leaf=3, min_samples_split=2, n_estimators=10; total time=   0.9s\n",
      "[CV] END bootstrap=False, max_depth=35, max_features=sqrt, min_samples_leaf=3, min_samples_split=2, n_estimators=10; total time=   0.9s\n",
      "[CV] END bootstrap=False, max_depth=35, max_features=sqrt, min_samples_leaf=3, min_samples_split=2, n_estimators=20; total time=   1.9s\n",
      "[CV] END bootstrap=False, max_depth=35, max_features=sqrt, min_samples_leaf=3, min_samples_split=2, n_estimators=20; total time=   1.9s\n",
      "[CV] END bootstrap=False, max_depth=35, max_features=sqrt, min_samples_leaf=3, min_samples_split=2, n_estimators=20; total time=   1.9s\n",
      "[CV] END bootstrap=False, max_depth=35, max_features=sqrt, min_samples_leaf=3, min_samples_split=2, n_estimators=20; total time=   1.8s\n",
      "[CV] END bootstrap=False, max_depth=35, max_features=sqrt, min_samples_leaf=3, min_samples_split=2, n_estimators=20; total time=   1.9s\n",
      "[CV] END bootstrap=False, max_depth=35, max_features=sqrt, min_samples_leaf=3, min_samples_split=3, n_estimators=10; total time=   1.0s\n",
      "[CV] END bootstrap=False, max_depth=35, max_features=sqrt, min_samples_leaf=3, min_samples_split=3, n_estimators=10; total time=   1.1s\n",
      "[CV] END bootstrap=False, max_depth=35, max_features=sqrt, min_samples_leaf=3, min_samples_split=3, n_estimators=10; total time=   1.1s\n",
      "[CV] END bootstrap=False, max_depth=35, max_features=sqrt, min_samples_leaf=3, min_samples_split=3, n_estimators=10; total time=   1.1s\n",
      "[CV] END bootstrap=False, max_depth=35, max_features=sqrt, min_samples_leaf=3, min_samples_split=3, n_estimators=10; total time=   1.0s\n",
      "[CV] END bootstrap=False, max_depth=35, max_features=sqrt, min_samples_leaf=3, min_samples_split=3, n_estimators=20; total time=   1.9s\n",
      "[CV] END bootstrap=False, max_depth=35, max_features=sqrt, min_samples_leaf=3, min_samples_split=3, n_estimators=20; total time=   1.9s\n",
      "[CV] END bootstrap=False, max_depth=35, max_features=sqrt, min_samples_leaf=3, min_samples_split=3, n_estimators=20; total time=   1.9s\n",
      "[CV] END bootstrap=False, max_depth=35, max_features=sqrt, min_samples_leaf=3, min_samples_split=3, n_estimators=20; total time=   2.0s\n",
      "[CV] END bootstrap=False, max_depth=35, max_features=sqrt, min_samples_leaf=3, min_samples_split=3, n_estimators=20; total time=   1.9s\n",
      "[CV] END bootstrap=False, max_depth=35, max_features=sqrt, min_samples_leaf=3, min_samples_split=5, n_estimators=10; total time=   1.0s\n",
      "[CV] END bootstrap=False, max_depth=35, max_features=sqrt, min_samples_leaf=3, min_samples_split=5, n_estimators=10; total time=   1.0s\n",
      "[CV] END bootstrap=False, max_depth=35, max_features=sqrt, min_samples_leaf=3, min_samples_split=5, n_estimators=10; total time=   0.9s\n",
      "[CV] END bootstrap=False, max_depth=35, max_features=sqrt, min_samples_leaf=3, min_samples_split=5, n_estimators=10; total time=   0.9s\n",
      "[CV] END bootstrap=False, max_depth=35, max_features=sqrt, min_samples_leaf=3, min_samples_split=5, n_estimators=10; total time=   0.9s\n",
      "[CV] END bootstrap=False, max_depth=35, max_features=sqrt, min_samples_leaf=3, min_samples_split=5, n_estimators=20; total time=   1.8s\n",
      "[CV] END bootstrap=False, max_depth=35, max_features=sqrt, min_samples_leaf=3, min_samples_split=5, n_estimators=20; total time=   1.9s\n",
      "[CV] END bootstrap=False, max_depth=35, max_features=sqrt, min_samples_leaf=3, min_samples_split=5, n_estimators=20; total time=   1.9s\n",
      "[CV] END bootstrap=False, max_depth=35, max_features=sqrt, min_samples_leaf=3, min_samples_split=5, n_estimators=20; total time=   1.9s\n",
      "[CV] END bootstrap=False, max_depth=35, max_features=sqrt, min_samples_leaf=3, min_samples_split=5, n_estimators=20; total time=   1.9s\n",
      "{'bootstrap': False, 'max_depth': 15, 'max_features': 'auto', 'min_samples_leaf': 1, 'min_samples_split': 5, 'n_estimators': 20}\n",
      "1    21753\n",
      "0    14736\n",
      "dtype: int64\n",
      "RMSE: 0.553\n",
      "Accuracy: 0.694\n"
     ]
    }
   ],
   "source": [
    "##### ---> NOTE: this will take a while to execute \n",
    "\n",
    "## 6. Random Forest \n",
    "# set up a parameter grid to find optimal parameters\n",
    "param_grid = {\n",
    "    'n_estimators': [5, 10, 20], \n",
    "    'max_depth': [5, 10, 15, 25, 35], \n",
    "    'max_features': ['auto', 'sqrt'], \n",
    "    'min_samples_split':[2, 3, 5, 10], \n",
    "    'min_samples_leaf':[1, 2, 3, 10], \n",
    "    'bootstrap': [True, False]\n",
    "    \n",
    "}\n",
    "param_grid = {\n",
    "    'n_estimators': [10, 20], \n",
    "    'max_depth': [15, 25, 35], \n",
    "    'max_features': ['auto', 'sqrt'], \n",
    "    'min_samples_split':[2, 3, 5], \n",
    "    'min_samples_leaf':[1, 2, 3], \n",
    "    'bootstrap': [False]\n",
    "    \n",
    "}\n",
    "# run grid search over parameters using 5 fold CV verbose on \n",
    "grid_rf = GridSearchCV(em.RandomForestClassifier(random_state=rseed, class_weight='balanced'), param_grid, cv=5, verbose=2)\n",
    "grid_rf.fit(X_train_lnom, y_train)\n",
    "print(grid_rf.best_params_)\n",
    "y_test_hat = grid_rf.predict(X_test_lnom)\n",
    "print(pd.Series(y_test_hat).value_counts())\n",
    "rmse(y_test, y_test_hat)\n",
    "acc(y_test, y_test_hat)\n",
    "# OLD: best params = {'bootstrap': False, 'max_depth': 13, 'max_features': 'auto', 'min_samples_leaf': 1, 'min_samples_split': 2, 'n_estimators': 20}"
   ]
  },
  {
   "cell_type": "code",
   "execution_count": 15,
   "id": "21caf48f-0b78-4248-8087-7ea71b24707e",
   "metadata": {},
   "outputs": [
    {
     "name": "stdout",
     "output_type": "stream",
     "text": [
      "0    37781\n",
      "1    36217\n",
      "dtype: int64\n",
      "RMSE: 0.419\n",
      "Accuracy: 0.824\n"
     ]
    }
   ],
   "source": [
    "## 6. Random Forest (cont. )\n",
    "# selected optimal params from cell above\n",
    "best_params = {'max_depth': 15, 'min_samples_leaf': 1, 'min_samples_split': 5, 'n_estimators': 20, 'max_features': 'auto', 'bootstrap':False}\n",
    "# run RF \n",
    "rf = em.RandomForestClassifier(random_state=rseed, class_weight='balanced', **best_params)\n",
    "rf.fit(X_train_lnom, y_train)\n",
    "y_test_hat = rf.predict(X_test_lnom)\n",
    "y_test_hat_proba = rf.predict_proba(X_test_lnom)\n",
    "print(pd.Series(y_test_hat).value_counts())\n",
    "rmse(y_test, y_test_hat)\n",
    "acc(y_test, y_test_hat)"
   ]
  },
  {
   "cell_type": "code",
   "execution_count": 16,
   "id": "7b368065-4671-411b-ae4a-4b2b10269011",
   "metadata": {},
   "outputs": [
    {
     "name": "stdout",
     "output_type": "stream",
     "text": [
      "False Positive Rate : 0.094\n",
      "False Negative Rate : 0.233\n",
      "True Positive Rate : 0.767\n",
      "True Negative Rate : 0.906\n",
      "F1 score 0.837\n"
     ]
    }
   ],
   "source": [
    "tfpn(y_test, y_test_hat)\n",
    "print(\"F1 score\", np.round(metrics.f1_score(y_test, y_test_hat), 3))"
   ]
  },
  {
   "cell_type": "code",
   "execution_count": 17,
   "id": "a0fddb10-c948-4ec9-a9ba-90f2b7614f7e",
   "metadata": {},
   "outputs": [
    {
     "data": {
      "text/plain": [
       "<sklearn.metrics._plot.roc_curve.RocCurveDisplay at 0x7fee0341cb80>"
      ]
     },
     "execution_count": 17,
     "metadata": {},
     "output_type": "execute_result"
    },
    {
     "data": {
      "image/png": "[encoded data removed]",
      "text/plain": [
       "<Figure size 432x288 with 1 Axes>"
      ]
     },
     "metadata": {
      "needs_background": "light"
     },
     "output_type": "display_data"
    }
   ],
   "source": [
    "metrics.plot_roc_curve(rf, X_test_lnom, y_test)"
   ]
  },
  {
   "cell_type": "markdown",
   "id": "4e7a3565-334b-4ed3-8c4c-04250a4fb0aa",
   "metadata": {},
   "source": [
    "#### Generate some plots from RF output"
   ]
  },
  {
   "cell_type": "code",
   "execution_count": 18,
   "id": "608e77c7-7a55-47b4-8d70-6ee2142d8784",
   "metadata": {},
   "outputs": [
    {
     "data": {
      "text/plain": [
       "Text(0.5, 0, 'Predicted Probabilities')"
      ]
     },
     "execution_count": 18,
     "metadata": {},
     "output_type": "execute_result"
    },
    {
     "data": {
      "image/png": "[encoded data removed]",
      "text/plain": [
       "<Figure size 432x288 with 1 Axes>"
      ]
     },
     "metadata": {
      "needs_background": "light"
     },
     "output_type": "display_data"
    }
   ],
   "source": [
    "sns.histplot(x=y_test_hat_proba[:, 1], hue=y_test)\n",
    "plt.xlabel(\"Predicted Probabilities\")"
   ]
  },
  {
   "cell_type": "code",
   "execution_count": 19,
   "id": "debb48e6-c7cb-4ac9-ae3f-cfcb105bcf81",
   "metadata": {},
   "outputs": [
    {
     "data": {
      "text/plain": [
       "<AxesSubplot:ylabel='Density'>"
      ]
     },
     "execution_count": 19,
     "metadata": {},
     "output_type": "execute_result"
    },
    {
     "data": {
      "image/png": "[encoded data removed]",
      "text/plain": [
       "<Figure size 432x288 with 1 Axes>"
      ]
     },
     "metadata": {
      "needs_background": "light"
     },
     "output_type": "display_data"
    }
   ],
   "source": [
    "sns.kdeplot(x=y_test_hat_proba[:, 1], hue=y_test)"
   ]
  },
  {
   "cell_type": "code",
   "execution_count": 20,
   "id": "33879681-c0d9-4b52-a2d4-ce2738acc5a3",
   "metadata": {},
   "outputs": [
    {
     "data": {
      "text/plain": [
       "<AxesSubplot:xlabel='predicted', ylabel='observed'>"
      ]
     },
     "execution_count": 20,
     "metadata": {},
     "output_type": "execute_result"
    },
    {
     "data": {
      "image/png": "[encoded data removed]",
      "text/plain": [
       "<Figure size 432x288 with 2 Axes>"
      ]
     },
     "metadata": {
      "needs_background": "light"
     },
     "output_type": "display_data"
    }
   ],
   "source": [
    "rf_preds = pd.DataFrame({'observed':y_test, 'predicted':y_test_hat})\n",
    "sns.heatmap(pd.crosstab(rf_preds['observed'], rf_preds['predicted']), annot=True, cmap='Blues', fmt='g')"
   ]
  },
  {
   "cell_type": "code",
   "execution_count": 21,
   "id": "30506adc-6d16-4bb7-a3fe-b9c1ad7dc00c",
   "metadata": {},
   "outputs": [],
   "source": [
    "rf_impt_std = np.std([tree.feature_importances_ for tree in rf.estimators_], axis=0)"
   ]
  },
  {
   "cell_type": "code",
   "execution_count": 22,
   "id": "05155f9e-96b5-4eb3-8c58-899334b91bb2",
   "metadata": {},
   "outputs": [
    {
     "data": {
      "image/png": "[encoded data removed]",
      "text/plain": [
       "<Figure size 1080x576 with 1 Axes>"
      ]
     },
     "metadata": {
      "needs_background": "light"
     },
     "output_type": "display_data"
    }
   ],
   "source": [
    "rf_impt = pd.DataFrame({'var':X_cols_all, 'importance':rf.feature_importances_}).sort_values('importance', ascending=False)\n",
    "plt.subplots(1, 1, figsize=(15, 8))\n",
    "sns.barplot(x=\"var\", y=\"importance\", data=rf_impt, ci=\"sd\")\n",
    "plt.xticks(rotation=45)\n",
    "plt.show()"
   ]
  },
  {
   "cell_type": "code",
   "execution_count": null,
   "id": "9988b5e5-17ba-42c8-8546-dfb8ebe4aa60",
   "metadata": {},
   "outputs": [],
   "source": []
  },
  {
   "cell_type": "code",
   "execution_count": null,
   "id": "a1344477-fa6c-4997-965d-bed878ec95c2",
   "metadata": {},
   "outputs": [],
   "source": []
  },
  {
   "cell_type": "code",
   "execution_count": null,
   "id": "8303349b-fad7-4b6f-b534-c26c1508fc3e",
   "metadata": {},
   "outputs": [],
   "source": [
    "#### misc stuff re: dummy encodings: \n",
    "\n",
    "def add_dummies(df, dummy_cols):\n",
    "    return pd.get_dummies(df, drop_first=False, dummy_na=True, columns=dummy_cols)\n",
    "\n",
    "\n",
    "# specify columns\n",
    "y_col = \"outcome\"\n",
    "# y_col = [\"usd_goal\"]\n",
    "X_cols = [\"blurb_len\", \"spotlight\", \"staff_pick\", \"cat_position\",]\n",
    "X_dummy_cols = np.concatenate((\n",
    "    dfs_full.columns[dfs_full.columns.str.startswith(\"currency\")],\n",
    "    dfs_full.columns[dfs_full.columns.str.startswith(\"country\")], \n",
    "    dfs_full.columns[dfs_full.columns.str.startswith(\"cat_id\")], \n",
    "    dfs_full.columns[dfs_full.columns.str.startswith(\"cat_parent_id\")], \n",
    "    #dfs_full.columns[dfs_full.columns.str.startswith(\"loc_id\")], \n",
    "    dfs_full.columns[dfs_full.columns.str.startswith(\"loc_type\")], \n",
    "))\n",
    "X_lnom_cols = pd.Series(dummy_cols) + \"_mean\"\n",
    "#X_cols_all = np.concatenate((X_cols, X_dummy_cols))\n",
    "X_cols_all = np.concatenate((X_cols, X_lnom_cols))\n",
    "\n",
    "\n",
    "#X = dfs_full[X_cols_all].astype(float)\n",
    "#y = np.array(dfs_full[y_col])\n",
    "X = dfs_lnom[X_cols_all].astype(float)\n",
    "y = np.array(dfs_lnom[y_col])"
   ]
  },
  {
   "cell_type": "code",
   "execution_count": null,
   "id": "137eccce-5590-4d17-be53-fd9e2eb942e2",
   "metadata": {},
   "outputs": [],
   "source": []
  },
  {
   "cell_type": "code",
   "execution_count": null,
   "id": "d6c72dd8-a462-4b8a-989a-03cef02682bb",
   "metadata": {},
   "outputs": [],
   "source": []
  },
  {
   "cell_type": "code",
   "execution_count": null,
   "id": "091667f1-275f-496b-8476-c70d16505cd7",
   "metadata": {},
   "outputs": [],
   "source": []
  },
  {
   "cell_type": "code",
   "execution_count": null,
   "id": "7e841c63-c7b3-4090-83a5-66b1ba98b826",
   "metadata": {},
   "outputs": [],
   "source": []
  }
 ],
 "metadata": {
  "kernelspec": {
   "display_name": "Python 3",
   "language": "python",
   "name": "python3"
  },
  "language_info": {
   "codemirror_mode": {
    "name": "ipython",
    "version": 3
   },
   "file_extension": ".py",
   "mimetype": "text/x-python",
   "name": "python",
   "nbconvert_exporter": "python",
   "pygments_lexer": "ipython3",
   "version": "3.8.8"
  }
 },
 "nbformat": 4,
 "nbformat_minor": 5
}
