{
 "cells": [
  {
   "cell_type": "code",
   "execution_count": 1,
   "id": "deaee7a2-15ef-4da3-8066-6669c2b8ec33",
   "metadata": {},
   "outputs": [],
   "source": [
    "import pandas as pd \n",
    "import numpy as np "
   ]
  },
  {
   "cell_type": "code",
   "execution_count": 2,
   "id": "ebca38de-352f-4e69-88d0-1f5c14ed6890",
   "metadata": {},
   "outputs": [
    {
     "name": "stderr",
     "output_type": "stream",
     "text": [
      "/Users/benji/anaconda3/envs/play/lib/python3.8/site-packages/gensim/similarities/__init__.py:15: UserWarning: The gensim.similarities.levenshtein submodule is disabled, because the optional Levenshtein package <https://pypi.org/project/python-Levenshtein/> is unavailable. Install Levenhstein (e.g. `pip install python-Levenshtein`) to suppress this warning.\n",
      "  warnings.warn(msg)\n"
     ]
    }
   ],
   "source": [
    "import data_clean_for_model\n",
    "import PipelineHelper"
   ]
  },
  {
   "cell_type": "code",
   "execution_count": 8,
   "id": "2a001768-0b51-4deb-9415-f7b6a4242936",
   "metadata": {},
   "outputs": [],
   "source": [
    "import pickle"
   ]
  },
  {
   "cell_type": "code",
   "execution_count": 11,
   "id": "a24e5b6c-5d75-4397-941c-97284a8c66f3",
   "metadata": {},
   "outputs": [],
   "source": [
    "### 1. Load Data\n",
    "df = pd.read_parquet(\"data/all_processed_df.parquet.gzip\")"
   ]
  },
  {
   "cell_type": "code",
   "execution_count": 12,
   "id": "f47ae1ed-afa5-404a-9c4b-e20aa7511587",
   "metadata": {},
   "outputs": [],
   "source": [
    "k = 5\n",
    "rseed = 229\n",
    "df[\"outcome\"] = np.where( df[\"state\"]==\"successful\", 1, 0, )\n",
    "df[\"un_id\"] = np.arange(0, df.shape[0], 1 )\n",
    "df[\"name_len\"] = df[\"name\"].str.len()\n",
    "df[\"cv_group\"] = np.random.choice( np.arange(0, k), size=df.shape[0] )\n",
    "df[\"binned_usd_goal\"] = pd.qcut( np.log(df[\"usd_goal\"]+1), 20 )"
   ]
  },
  {
   "cell_type": "code",
   "execution_count": 9,
   "id": "f6019839-e44d-4274-80ac-259683511014",
   "metadata": {},
   "outputs": [],
   "source": [
    "## load project metadata\n",
    "try:\n",
    "    f = open(\"data/features.pkl\", \"rb\")\n",
    "    ft_dict = pickle.load(f)\n",
    "    f.close()\n",
    "    X_train, y_train, X_test, y_test = ft_dict.values()\n",
    "except:\n",
    "    print(\"oops\")"
   ]
  },
  {
   "cell_type": "code",
   "execution_count": 14,
   "id": "3ec21445-e2dc-4812-9b94-b422ec2958d7",
   "metadata": {},
   "outputs": [],
   "source": [
    "train_indices = X_train['un_id']"
   ]
  },
  {
   "cell_type": "code",
   "execution_count": 19,
   "id": "3b169b76-46e1-4d71-a9ee-e802c5f2ea46",
   "metadata": {},
   "outputs": [],
   "source": [
    "train_df = df[df.un_id.isin(train_indices)]"
   ]
  },
  {
   "cell_type": "code",
   "execution_count": 33,
   "id": "b3686bd6-c3a3-447c-8ab7-e79e5d9ccf8b",
   "metadata": {},
   "outputs": [
    {
     "name": "stdout",
     "output_type": "stream",
     "text": [
      "\\begin{tabular}{lrrrr}\n",
      "\\toprule\n",
      "{} &  outcome &      usd\\_goal &  blurb\\_len &  name\\_len \\\\\n",
      "\\midrule\n",
      "mean   &      0.6 &  3.394373e+04 &     107.72 &     34.76 \\\\\n",
      "min    &      0.0 &  1.000000e-02 &       1.00 &      1.00 \\\\\n",
      "max    &      1.0 &  1.123396e+08 &     151.00 &     85.00 \\\\\n",
      "median &      1.0 &  4.820280e+03 &     120.00 &     34.00 \\\\\n",
      "\\bottomrule\n",
      "\\end{tabular}\n",
      "\n"
     ]
    }
   ],
   "source": [
    "print(np.round(train_df[['outcome', 'usd_goal', 'blurb_len', 'name_len']].agg(['mean', 'min', 'max', 'median']), 2).to_latex())"
   ]
  },
  {
   "cell_type": "code",
   "execution_count": 22,
   "id": "2070aef5-15d7-47a2-9487-8fcf53f1ce1e",
   "metadata": {},
   "outputs": [
    {
     "data": {
      "text/plain": [
       "currency            15\n",
       "country             25\n",
       "cat_id             171\n",
       "cat_parent_id       15\n",
       "loc_id           13771\n",
       "loc_type             9\n",
       "dtype: int64"
      ]
     },
     "execution_count": 22,
     "metadata": {},
     "output_type": "execute_result"
    }
   ],
   "source": [
    "train_df[[\"currency\", \"country\", \"cat_id\", \"cat_parent_id\", \"loc_id\", \"loc_type\"]].nunique()"
   ]
  },
  {
   "cell_type": "code",
   "execution_count": 35,
   "id": "29dbd346-7199-470c-8a03-0f415b612540",
   "metadata": {},
   "outputs": [
    {
     "name": "stdout",
     "output_type": "stream",
     "text": [
      "currency 10324.87\n",
      "country 6194.92\n",
      "cat_id 905.69\n",
      "cat_parent_id 9660.47\n",
      "loc_id 11.24\n",
      "loc_type 17190.89\n"
     ]
    }
   ],
   "source": [
    "for c in [\"currency\", \"country\", \"cat_id\", \"cat_parent_id\", \"loc_id\", \"loc_type\"]:\n",
    "    print(c, \n",
    "         np.round(train_df.groupby(c).size().mean(), 2\n",
    "         )\n",
    "         )"
   ]
  },
  {
   "cell_type": "code",
   "execution_count": 36,
   "id": "a826e239-f707-453c-8aed-7101ea623584",
   "metadata": {},
   "outputs": [
    {
     "name": "stdout",
     "output_type": "stream",
     "text": [
      "currency 14\n",
      "country 13\n",
      "cat_id 5\n",
      "cat_parent_id 1218\n",
      "loc_id 1\n",
      "loc_type 1\n"
     ]
    }
   ],
   "source": [
    "for c in [\"currency\", \"country\", \"cat_id\", \"cat_parent_id\", \"loc_id\", \"loc_type\"]:\n",
    "    print(c, \n",
    "         np.round(train_df.groupby(c).size().min(), 2\n",
    "         )\n",
    "         )"
   ]
  },
  {
   "cell_type": "code",
   "execution_count": 37,
   "id": "ea8513eb-674c-494f-b29f-f1f918bf492f",
   "metadata": {},
   "outputs": [
    {
     "name": "stdout",
     "output_type": "stream",
     "text": [
      "currency 106524\n",
      "country 106524\n",
      "cat_id 5280\n",
      "cat_parent_id 19527\n",
      "loc_id 6905\n",
      "loc_type 143863\n"
     ]
    }
   ],
   "source": [
    "for c in [\"currency\", \"country\", \"cat_id\", \"cat_parent_id\", \"loc_id\", \"loc_type\"]:\n",
    "    print(c, \n",
    "         np.round(train_df.groupby(c).size().max(), 2\n",
    "         )\n",
    "         )"
   ]
  },
  {
   "cell_type": "code",
   "execution_count": null,
   "id": "dffe0d7f-3cbb-493b-9bec-a9a4cd93c4f0",
   "metadata": {},
   "outputs": [],
   "source": []
  }
 ],
 "metadata": {
  "kernelspec": {
   "display_name": "Python 3",
   "language": "python",
   "name": "python3"
  },
  "language_info": {
   "codemirror_mode": {
    "name": "ipython",
    "version": 3
   },
   "file_extension": ".py",
   "mimetype": "text/x-python",
   "name": "python",
   "nbconvert_exporter": "python",
   "pygments_lexer": "ipython3",
   "version": "3.8.8"
  }
 },
 "nbformat": 4,
 "nbformat_minor": 5
}
