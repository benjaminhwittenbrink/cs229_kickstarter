{
 "cells": [
  {
   "cell_type": "code",
   "execution_count": 1,
   "id": "d1b9e45a-4563-45c3-897a-30ce404a59bf",
   "metadata": {},
   "outputs": [],
   "source": [
    "import os \n",
    "import pandas as pd\n",
    "import seaborn as sns\n",
    "import matplotlib.pyplot as plt "
   ]
  },
  {
   "cell_type": "code",
   "execution_count": 2,
   "id": "5ec4d50e-8852-40ef-9254-057ea2c08a17",
   "metadata": {},
   "outputs": [],
   "source": [
    "import numpy as np "
   ]
  },
  {
   "cell_type": "code",
   "execution_count": 28,
   "id": "283eb6fd-69d2-43cb-8288-851577ae5fc0",
   "metadata": {},
   "outputs": [],
   "source": [
    "files = os.listdir(\"model_exports/test_size30/rseeds\")\n",
    "dfs = []\n",
    "for f in files: \n",
    "    ff = pd.read_csv(\"model_exports/test_size30/rseeds/\" + f)\n",
    "    dfs.append(ff)\n",
    "df = pd.concat(dfs)"
   ]
  },
  {
   "cell_type": "code",
   "execution_count": 29,
   "id": "efcf213c-ebe6-4d54-8a92-a3dd6f1ee7b0",
   "metadata": {},
   "outputs": [],
   "source": [
    "lgbs = df[df.model==\"LGBMClassifier\"]\n",
    "lgbs = lgbs[~ lgbs.data.isin([\"metadata_nb_lda_scale\",\"metadata_nb_w2v_scale\", \"metadata_nobin\", \"metadata_nb_scale\"]) ]"
   ]
  },
  {
   "cell_type": "code",
   "execution_count": 33,
   "id": "c0b16902-20ea-4770-b5c0-0be245e4cbb2",
   "metadata": {},
   "outputs": [],
   "source": [
    "data_rename = pd.DataFrame({\n",
    "    'data': ['metadata', 'metadata_nb', 'metadata_nb_nlp', 'metadata_nb_lda', 'metadata_nb_w2v'], \n",
    "    'name':[\n",
    "        'Metadata', 'Metadata + NB', 'Metadata + NB + NLP', 'Metadata + NB + LDA', 'Metadata + NB + W2V',\n",
    "    ]}\n",
    ")\n",
    "lgbs = lgbs.merge(data_rename, on=\"data\", how=\"left\")"
   ]
  },
  {
   "cell_type": "code",
   "execution_count": null,
   "id": "c010d535-0fa1-45e1-ac0d-e280a5646222",
   "metadata": {},
   "outputs": [],
   "source": [
    "lgbs"
   ]
  },
  {
   "cell_type": "code",
   "execution_count": 49,
   "id": "1caa13e1-263d-408b-a0a7-74f7c82be56f",
   "metadata": {},
   "outputs": [
    {
     "data": {
      "image/png": "[encoded data removed]",
      "text/plain": [
       "<Figure size 432x288 with 1 Axes>"
      ]
     },
     "metadata": {
      "needs_background": "light"
     },
     "output_type": "display_data"
    }
   ],
   "source": [
    "plt.subplots(1, 1, figsize=(6,4))\n",
    "sns.boxplot(x=(lgbs['f1_score']), y=lgbs['name'], order=['Metadata', 'Metadata + NB', 'Metadata + NB + NLP', 'Metadata + NB + LDA', 'Metadata + NB + W2V'], saturation=1)\n",
    "plt.ylabel(\"Data Sample\", size=14)\n",
    "plt.xlabel(\"F-1 Score (gradient boosting)\", size=14)\n",
    "plt.savefig(\"plots/lgbm_data_f1.png\", bbox_inches='tight')"
   ]
  },
  {
   "cell_type": "code",
   "execution_count": 50,
   "id": "cd2dfb46-9ffa-4494-bb2b-841d5f64537b",
   "metadata": {},
   "outputs": [
    {
     "data": {
      "image/png": "[encoded data removed]",
      "text/plain": [
       "<Figure size 432x288 with 1 Axes>"
      ]
     },
     "metadata": {
      "needs_background": "light"
     },
     "output_type": "display_data"
    }
   ],
   "source": [
    "plt.subplots(1, 1, figsize=(6,4))\n",
    "sns.boxplot(x=(lgbs['accuracy']), y=lgbs['name'], order=['Metadata', 'Metadata + NB', 'Metadata + NB + NLP', 'Metadata + NB + LDA', 'Metadata + NB + W2V'], saturation=1)\n",
    "plt.ylabel(\"Data Sample\", size=14)\n",
    "plt.xlabel(\"Accuracy (gradient boosting)\", size=14)\n",
    "plt.savefig(\"plots/lgbm_data_acc.png\", bbox_inches='tight')"
   ]
  },
  {
   "cell_type": "code",
   "execution_count": 3,
   "id": "4a9ec99f-2c37-4761-b5ba-40cf1178b856",
   "metadata": {},
   "outputs": [],
   "source": [
    "core_nlp_sentiment = pd.read_csv(\"data/res/sentiment_col.csv\")\n",
    "core_nlp_sentiment['un_id'] = np.arange(0, core_nlp_sentiment.shape[0], 1 )"
   ]
  },
  {
   "cell_type": "code",
   "execution_count": 5,
   "id": "be07f098-4361-4dce-97d6-b764cb938b55",
   "metadata": {},
   "outputs": [],
   "source": [
    "dfs = pd.read_parquet(\"data/all_processed_df.parquet.gzip\")\n",
    "dfs['outcome'] = np.where(dfs['state']==\"successful\", 1, 0)"
   ]
  },
  {
   "cell_type": "code",
   "execution_count": 6,
   "id": "155d2396-a712-4cda-a5f6-8d1288ea9ee1",
   "metadata": {},
   "outputs": [],
   "source": [
    "from sklearn.metrics import accuracy_score, confusion_matrix, classification_report\n",
    "import sklearn.linear_model as lm\n",
    "from sklearn.model_selection import train_test_split"
   ]
  },
  {
   "cell_type": "code",
   "execution_count": 7,
   "id": "4c08309a-7ec6-40d6-a41b-c15f710ff2e6",
   "metadata": {},
   "outputs": [],
   "source": [
    "x_tr, x_t, y_tr, y_t = train_test_split(core_nlp_sentiment, dfs['outcome'], random_state=229, test_size=0.3)"
   ]
  },
  {
   "cell_type": "code",
   "execution_count": 13,
   "id": "37ab3846-19c5-423b-abe7-e7aaabfad252",
   "metadata": {},
   "outputs": [],
   "source": [
    "logreg = lm.LinearRegression()\n",
    "logreg.fit(x_tr, y_tr)\n",
    "y_t_pred = logreg.predict(x_t)"
   ]
  },
  {
   "cell_type": "code",
   "execution_count": 15,
   "id": "c159e3e6-6a44-4c2d-89fe-50fb91495c46",
   "metadata": {},
   "outputs": [
    {
     "name": "stderr",
     "output_type": "stream",
     "text": [
      "/Users/benji/anaconda3/envs/play/lib/python3.8/site-packages/sklearn/metrics/_classification.py:1245: UndefinedMetricWarning: Precision and F-score are ill-defined and being set to 0.0 in labels with no predicted samples. Use `zero_division` parameter to control this behavior.\n",
      "  _warn_prf(average, modifier, msg_start, len(result))\n",
      "/Users/benji/anaconda3/envs/play/lib/python3.8/site-packages/sklearn/metrics/_classification.py:1245: UndefinedMetricWarning: Precision and F-score are ill-defined and being set to 0.0 in labels with no predicted samples. Use `zero_division` parameter to control this behavior.\n",
      "  _warn_prf(average, modifier, msg_start, len(result))\n"
     ]
    },
    {
     "name": "stdout",
     "output_type": "stream",
     "text": [
      "              precision    recall  f1-score   support\n",
      "\n",
      "           0       0.00      0.00      0.00     26428\n",
      "           1       0.60      1.00      0.75     39947\n",
      "\n",
      "    accuracy                           0.60     66375\n",
      "   macro avg       0.30      0.50      0.38     66375\n",
      "weighted avg       0.36      0.60      0.45     66375\n",
      "\n"
     ]
    },
    {
     "name": "stderr",
     "output_type": "stream",
     "text": [
      "/Users/benji/anaconda3/envs/play/lib/python3.8/site-packages/sklearn/metrics/_classification.py:1245: UndefinedMetricWarning: Precision and F-score are ill-defined and being set to 0.0 in labels with no predicted samples. Use `zero_division` parameter to control this behavior.\n",
      "  _warn_prf(average, modifier, msg_start, len(result))\n"
     ]
    }
   ],
   "source": [
    "print(classification_report(y_t, np.round(y_t_pred)))"
   ]
  },
  {
   "cell_type": "code",
   "execution_count": 21,
   "id": "3e09b8c9-887d-44a5-b678-0b209289dec6",
   "metadata": {},
   "outputs": [],
   "source": [
    "import pickle"
   ]
  },
  {
   "cell_type": "code",
   "execution_count": 22,
   "id": "9b19e483-dfab-4e71-b221-3907c0f36321",
   "metadata": {},
   "outputs": [],
   "source": [
    "try: \n",
    "    f = open(\"data/res/text_models.pkl\", \"rb\")\n",
    "    text_models = pickle.load(f)\n",
    "    f.close()\n",
    "except:\n",
    "    raise Warning(\"Text models do not exist. Will load from scratch\")"
   ]
  },
  {
   "cell_type": "code",
   "execution_count": 23,
   "id": "16f9e28b-7890-41f9-94b3-d88aca9913a8",
   "metadata": {},
   "outputs": [],
   "source": [
    "lda_train, lda_test = text_models['lda_train'], text_models['lda_test']"
   ]
  },
  {
   "cell_type": "code",
   "execution_count": 24,
   "id": "57a1bc83-78f5-48e4-b97e-c572753f7d58",
   "metadata": {},
   "outputs": [
    {
     "name": "stdout",
     "output_type": "stream",
     "text": [
      "              precision    recall  f1-score   support\n",
      "\n",
      "           0       0.54      0.15      0.24     26428\n",
      "           1       0.62      0.91      0.74     39947\n",
      "\n",
      "    accuracy                           0.61     66375\n",
      "   macro avg       0.58      0.53      0.49     66375\n",
      "weighted avg       0.59      0.61      0.54     66375\n",
      "\n"
     ]
    }
   ],
   "source": [
    "logreg = lm.LinearRegression()\n",
    "logreg.fit(lda_train, y_tr)\n",
    "y_t_pred = logreg.predict(lda_test)\n",
    "print(classification_report(y_t, np.round(y_t_pred)))"
   ]
  },
  {
   "cell_type": "code",
   "execution_count": 27,
   "id": "328c201f-c267-420c-99af-ad8a41ca2541",
   "metadata": {},
   "outputs": [
    {
     "name": "stdout",
     "output_type": "stream",
     "text": [
      "              precision    recall  f1-score   support\n",
      "\n",
      "           0       0.54      0.16      0.25     26428\n",
      "           1       0.62      0.91      0.74     39947\n",
      "\n",
      "    accuracy                           0.61     66375\n",
      "   macro avg       0.58      0.54      0.49     66375\n",
      "weighted avg       0.59      0.61      0.54     66375\n",
      "\n"
     ]
    }
   ],
   "source": [
    "logreg = lm.LogisticRegression()\n",
    "logreg.fit(lda_train, y_tr)\n",
    "y_t_pred = logreg.predict(lda_test)\n",
    "print(classification_report(y_t, np.round(y_t_pred)))"
   ]
  },
  {
   "cell_type": "code",
   "execution_count": null,
   "id": "4967ca83-5e10-4ca1-ad72-a81d3fd2e820",
   "metadata": {},
   "outputs": [],
   "source": []
  }
 ],
 "metadata": {
  "kernelspec": {
   "display_name": "Python 3",
   "language": "python",
   "name": "python3"
  },
  "language_info": {
   "codemirror_mode": {
    "name": "ipython",
    "version": 3
   },
   "file_extension": ".py",
   "mimetype": "text/x-python",
   "name": "python",
   "nbconvert_exporter": "python",
   "pygments_lexer": "ipython3",
   "version": "3.8.8"
  }
 },
 "nbformat": 4,
 "nbformat_minor": 5
}
