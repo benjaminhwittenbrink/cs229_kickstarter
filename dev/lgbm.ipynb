{
 "cells": [
  {
   "cell_type": "code",
   "execution_count": 1,
   "id": "b1d4403c-66e0-40c6-87e4-a94740643882",
   "metadata": {},
   "outputs": [],
   "source": [
    "import pandas as pd \n",
    "import numpy as np "
   ]
  },
  {
   "cell_type": "code",
   "execution_count": 2,
   "id": "642e3d06-55a9-4173-a4db-70d505ead62f",
   "metadata": {},
   "outputs": [],
   "source": [
    "import lightgbm as lgb\n",
    "from sklearn.metrics import accuracy_score, confusion_matrix, classification_report"
   ]
  },
  {
   "cell_type": "code",
   "execution_count": 3,
   "id": "02e8c328-08c4-4387-be96-59063147e974",
   "metadata": {},
   "outputs": [],
   "source": [
    "from data_clean_for_model import data_clean_for_model"
   ]
  },
  {
   "cell_type": "code",
   "execution_count": 4,
   "id": "bea3d4d2-6002-43fa-a732-4b40ad03ed3d",
   "metadata": {},
   "outputs": [],
   "source": [
    "pd.set_option('display.max_rows', 300)\n",
    "pd.set_option('display.max_columns', 50)\n",
    "np.set_printoptions(suppress=True)"
   ]
  },
  {
   "cell_type": "code",
   "execution_count": 5,
   "id": "30c678f7-3cc4-4dd4-867c-5535ab3d1555",
   "metadata": {},
   "outputs": [],
   "source": [
    "dfs = pd.read_parquet(\"data/all_processed_df.parquet.gzip\")"
   ]
  },
  {
   "cell_type": "code",
   "execution_count": 6,
   "id": "9f1d98ea-9d28-4cff-860b-110f60a568c1",
   "metadata": {},
   "outputs": [],
   "source": [
    "k = 5\n",
    "rseed=229\n",
    "np.random.seed(rseed)\n",
    "# add outcome var + unique id \n",
    "dfs['outcome'] = np.where(dfs['state']==\"successful\", 1, 0)\n",
    "dfs['un_id'] = np.arange(0, dfs.shape[0], 1)\n",
    "dfs['name_len'] = dfs['name'].str.len()\n",
    "dfs['cv_group'] = np.random.choice(np.arange(0, k), size=dfs.shape[0])"
   ]
  },
  {
   "cell_type": "code",
   "execution_count": 7,
   "id": "d4858e58-fafe-4048-a4fd-74d0a14ab90b",
   "metadata": {},
   "outputs": [],
   "source": [
    "dfs['binned_usd_goal'] = pd.qcut(np.log(dfs['usd_goal']+1), 20)"
   ]
  },
  {
   "cell_type": "code",
   "execution_count": 8,
   "id": "4d39ca61-0b1c-409d-9dce-d98e820fbf64",
   "metadata": {},
   "outputs": [],
   "source": [
    "model_params = {\n",
    "    'cv': True, \n",
    "    #'lnom_frac':0.3, \n",
    "    'test_frac':0.3, \n",
    "    'lnom_usdgoal':True,\n",
    "    'dummies':True,\n",
    "    'rseed': 229,\n",
    "}\n",
    "X_train, X_test, y_train, y_test = data_clean_for_model(dfs, \"outcome\", model_params, cv=model_params['cv'])"
   ]
  },
  {
   "cell_type": "code",
   "execution_count": 9,
   "id": "e8b09947-9072-4586-9a40-483928aff7b1",
   "metadata": {},
   "outputs": [],
   "source": [
    "del dfs"
   ]
  },
  {
   "cell_type": "code",
   "execution_count": 10,
   "id": "fa970494-364a-46a4-89e4-433c0aa017c2",
   "metadata": {},
   "outputs": [],
   "source": [
    "id_vars = [\"un_id\", \"cv_group\"]\n",
    "id_train = X_train[id_vars]\n",
    "id_test = X_test[id_vars]\n",
    "X_train = X_train.drop(columns=id_vars)\n",
    "X_test = X_test.drop(columns=id_vars)"
   ]
  },
  {
   "cell_type": "code",
   "execution_count": 11,
   "id": "e11532f6-ebad-4845-984f-9a37667760b5",
   "metadata": {},
   "outputs": [],
   "source": [
    "nb_proba_train = np.load(\"data/res/multi_nb_preds_train.npy\")\n",
    "nb_proba_test = np.load(\"data/res/multi_nb_preds_test.npy\")\n",
    "#nb_proba_train2 = np.load(\"data/res/multi_nb_preds_train_opt.npy\")\n",
    "#nb_proba_test2 = np.load(\"data/res/multi_nb_preds_test_opt.npy\")\n",
    "X_train_nb = X_train.copy()\n",
    "X_test_nb = X_test.copy()\n",
    "# NB \n",
    "X_train_nb['nb_proba'] = nb_proba_train[:, 1]\n",
    "X_test_nb['nb_proba'] = nb_proba_test[:, 1]"
   ]
  },
  {
   "cell_type": "code",
   "execution_count": 12,
   "id": "d18e4eab-0f67-4653-988e-90c3a691a51d",
   "metadata": {},
   "outputs": [],
   "source": [
    "from sklearn.model_selection import cross_validate, RandomizedSearchCV, GridSearchCV"
   ]
  },
  {
   "cell_type": "code",
   "execution_count": 11,
   "id": "294e033d-ecbf-4b63-9a12-f75b7baeef32",
   "metadata": {
    "jupyter": {
     "source_hidden": true
    },
    "tags": []
   },
   "outputs": [
    {
     "data": {
      "text/plain": [
       "0.7999981920740526"
      ]
     },
     "execution_count": 11,
     "metadata": {},
     "output_type": "execute_result"
    }
   ],
   "source": [
    "new_train_ind = int(X_test.shape[0]/3)\n",
    "X_train_nb = pd.concat((X_train_nb, X_test_nb[0:new_train_ind])).reset_index(drop=True)\n",
    "X_test_nb = X_test_nb[new_train_ind:].reset_index(drop=True)\n",
    "\n",
    "y_train = pd.concat((y_train, y_test[0:new_train_ind])).reset_index(drop=True)\n",
    "y_test = y_test[new_train_ind:].reset_index(drop=True)\n",
    "\n",
    "X_train_nb.shape[0]/(X_train_nb.shape[0]+X_test_nb.shape[0])"
   ]
  },
  {
   "cell_type": "code",
   "execution_count": 14,
   "id": "c5b5d0e8-addb-4a86-9f24-2c47aeb5d958",
   "metadata": {
    "tags": []
   },
   "outputs": [
    {
     "name": "stdout",
     "output_type": "stream",
     "text": [
      "[LightGBM] [Warning] lambda_l1 is set=0, reg_alpha=0.0 will be ignored. Current value: lambda_l1=0\n",
      "[LightGBM] [Warning] lambda_l2 is set=0, reg_lambda=0.0 will be ignored. Current value: lambda_l2=0\n",
      "[LightGBM] [Warning] feature_fraction is set=0.2, colsample_bytree=1.0 will be ignored. Current value: feature_fraction=0.2\n",
      "[LightGBM] [Warning] bagging_fraction is set=0.75, subsample=1.0 will be ignored. Current value: bagging_fraction=0.75\n"
     ]
    },
    {
     "data": {
      "text/plain": [
       "0.8252806026365348"
      ]
     },
     "execution_count": 14,
     "metadata": {},
     "output_type": "execute_result"
    }
   ],
   "source": [
    "test_params = {'max_depth':55, 'num_leaves':400, 'max_bin':500, 'min_child_samples':100,'bagging_fraction':0.75, 'feature_fraction':0.2, 'lambda_l1':0, 'lambda_l2':0}\n",
    "lgbmm = lgb.LGBMClassifier(random_state=rseed, verbose=-1, is_unbalance=True, **test_params)\n",
    "lgbmm.fit(X_train_nb, y_train, \n",
    "      )\n",
    "y = lgbmm.predict(X_test_nb)\n",
    "(y==y_test).sum() / y.shape[0]\n",
    "\n",
    "#0.82445197740113"
   ]
  },
  {
   "cell_type": "code",
   "execution_count": 95,
   "id": "3144dbb4-30e8-4bad-8102-2515be72f0eb",
   "metadata": {},
   "outputs": [],
   "source": [
    "regularization_search_params = {\n",
    "    'max_depth':[55],\n",
    "    'num_leaves': [400], \n",
    "    'max_bin': [500], \n",
    "    #'min_child_samples': [100], \n",
    "    #'min_child_weight': [1e-5, 1e-3, 1e-2, 1e-1, 1, 10],\n",
    "    'bagging_fraction': [0.75], \n",
    "    'feature_fraction': [0.2],\n",
    "    #'lambda_l1': [0, 0.1, 1, 5, 10],\n",
    "    'lambda_l2': [0, 0.1, 1, 5, 10],\n",
    "    #'lambda_l2': [0, 0.1, 1, 5, 10]\n",
    "    'lambda_l1': [0.1]\n",
    "}"
   ]
  },
  {
   "cell_type": "code",
   "execution_count": 89,
   "id": "7db1c1fe-5023-4054-9639-fff72be9e995",
   "metadata": {},
   "outputs": [],
   "source": [
    "from sklearn.model_selection import StratifiedKFold, PredefinedSplit\n",
    "kf = StratifiedKFold(n_splits=5, shuffle=True, random_state=229)"
   ]
  },
  {
   "cell_type": "code",
   "execution_count": 90,
   "id": "227a6e90-b4a5-4597-a989-b3eda60d066f",
   "metadata": {},
   "outputs": [],
   "source": [
    "pf = PredefinedSplit(id_train['cv_group'])"
   ]
  },
  {
   "cell_type": "code",
   "execution_count": 96,
   "id": "60b9e856-6680-43f6-ac4b-d3d9dc193463",
   "metadata": {},
   "outputs": [],
   "source": [
    "lgbmm = lgb.LGBMClassifier(random_state=rseed, verbose=-1, is_unbalance=True)\n",
    "gs_reg = GridSearchCV(\n",
    "    estimator=lgbmm, \n",
    "    param_grid=regularization_search_params, \n",
    "    #n_iter=150,\n",
    "    scoring='accuracy',\n",
    "    refit=True,\n",
    "    cv=pf,\n",
    "    #random_state=rseed,\n",
    "    n_jobs=4\n",
    ")"
   ]
  },
  {
   "cell_type": "code",
   "execution_count": 97,
   "id": "a48321e6-43c9-4120-8ead-fe6225d8d7e8",
   "metadata": {
    "collapsed": true,
    "jupyter": {
     "outputs_hidden": true
    },
    "tags": []
   },
   "outputs": [
    {
     "name": "stdout",
     "output_type": "stream",
     "text": [
      "[1]\tvalid's binary_logloss: 0.640472\n",
      "Training until validation scores don't improve for 20 rounds\n",
      "[2]\tvalid's binary_logloss: 0.606943\n",
      "[3]\tvalid's binary_logloss: 0.592741\n",
      "[4]\tvalid's binary_logloss: 0.561414\n",
      "[5]\tvalid's binary_logloss: 0.548627\n",
      "[6]\tvalid's binary_logloss: 0.526328\n",
      "[7]\tvalid's binary_logloss: 0.509492\n",
      "[8]\tvalid's binary_logloss: 0.497208\n",
      "[9]\tvalid's binary_logloss: 0.484777\n",
      "[10]\tvalid's binary_logloss: 0.469275\n",
      "[11]\tvalid's binary_logloss: 0.461794\n",
      "[12]\tvalid's binary_logloss: 0.451129\n",
      "[13]\tvalid's binary_logloss: 0.441176\n",
      "[14]\tvalid's binary_logloss: 0.4354\n",
      "[15]\tvalid's binary_logloss: 0.430486\n",
      "[16]\tvalid's binary_logloss: 0.425093\n",
      "[17]\tvalid's binary_logloss: 0.419089\n",
      "[18]\tvalid's binary_logloss: 0.414781\n",
      "[19]\tvalid's binary_logloss: 0.409231\n",
      "[20]\tvalid's binary_logloss: 0.403005\n",
      "[21]\tvalid's binary_logloss: 0.39839\n",
      "[22]\tvalid's binary_logloss: 0.394957\n",
      "[23]\tvalid's binary_logloss: 0.392558\n",
      "[24]\tvalid's binary_logloss: 0.390008\n",
      "[25]\tvalid's binary_logloss: 0.388863\n",
      "[26]\tvalid's binary_logloss: 0.386917\n",
      "[27]\tvalid's binary_logloss: 0.384121\n",
      "[28]\tvalid's binary_logloss: 0.381425\n",
      "[29]\tvalid's binary_logloss: 0.380531\n",
      "[30]\tvalid's binary_logloss: 0.377109\n",
      "[31]\tvalid's binary_logloss: 0.376376\n",
      "[32]\tvalid's binary_logloss: 0.375794\n",
      "[33]\tvalid's binary_logloss: 0.37356\n",
      "[34]\tvalid's binary_logloss: 0.372794\n",
      "[35]\tvalid's binary_logloss: 0.372297\n",
      "[36]\tvalid's binary_logloss: 0.371604\n",
      "[37]\tvalid's binary_logloss: 0.370845\n",
      "[38]\tvalid's binary_logloss: 0.370571\n",
      "[39]\tvalid's binary_logloss: 0.369698\n",
      "[40]\tvalid's binary_logloss: 0.368509\n",
      "[41]\tvalid's binary_logloss: 0.367823\n",
      "[42]\tvalid's binary_logloss: 0.366181\n",
      "[43]\tvalid's binary_logloss: 0.365514\n",
      "[44]\tvalid's binary_logloss: 0.364577\n",
      "[45]\tvalid's binary_logloss: 0.363153\n",
      "[46]\tvalid's binary_logloss: 0.362713\n",
      "[47]\tvalid's binary_logloss: 0.362259\n",
      "[48]\tvalid's binary_logloss: 0.361536\n",
      "[49]\tvalid's binary_logloss: 0.360899\n",
      "[50]\tvalid's binary_logloss: 0.360441\n",
      "[51]\tvalid's binary_logloss: 0.360088\n",
      "[52]\tvalid's binary_logloss: 0.359475\n",
      "[53]\tvalid's binary_logloss: 0.358369\n",
      "[54]\tvalid's binary_logloss: 0.357866\n",
      "[55]\tvalid's binary_logloss: 0.357531\n",
      "[56]\tvalid's binary_logloss: 0.35662\n",
      "[57]\tvalid's binary_logloss: 0.356287\n",
      "[58]\tvalid's binary_logloss: 0.355295\n",
      "[59]\tvalid's binary_logloss: 0.354354\n",
      "[60]\tvalid's binary_logloss: 0.354161\n",
      "[61]\tvalid's binary_logloss: 0.353677\n",
      "[62]\tvalid's binary_logloss: 0.353478\n",
      "[63]\tvalid's binary_logloss: 0.35326\n",
      "[64]\tvalid's binary_logloss: 0.352998\n",
      "[65]\tvalid's binary_logloss: 0.352775\n",
      "[66]\tvalid's binary_logloss: 0.352709\n",
      "[67]\tvalid's binary_logloss: 0.352426\n",
      "[68]\tvalid's binary_logloss: 0.352264\n",
      "[69]\tvalid's binary_logloss: 0.351374\n",
      "[70]\tvalid's binary_logloss: 0.351423\n",
      "[71]\tvalid's binary_logloss: 0.351242\n",
      "[72]\tvalid's binary_logloss: 0.351117\n",
      "[73]\tvalid's binary_logloss: 0.350585\n",
      "[74]\tvalid's binary_logloss: 0.350484\n",
      "[75]\tvalid's binary_logloss: 0.350367\n",
      "[76]\tvalid's binary_logloss: 0.350213\n",
      "[77]\tvalid's binary_logloss: 0.349957\n",
      "[78]\tvalid's binary_logloss: 0.349677\n",
      "[79]\tvalid's binary_logloss: 0.349824\n",
      "[80]\tvalid's binary_logloss: 0.349558\n",
      "[81]\tvalid's binary_logloss: 0.349655\n",
      "[82]\tvalid's binary_logloss: 0.349527\n",
      "[83]\tvalid's binary_logloss: 0.349505\n",
      "[84]\tvalid's binary_logloss: 0.349814\n",
      "[85]\tvalid's binary_logloss: 0.34961\n",
      "[86]\tvalid's binary_logloss: 0.349994\n",
      "[87]\tvalid's binary_logloss: 0.349649\n",
      "[88]\tvalid's binary_logloss: 0.35003\n",
      "[89]\tvalid's binary_logloss: 0.34989\n",
      "[90]\tvalid's binary_logloss: 0.350298\n",
      "[91]\tvalid's binary_logloss: 0.349994\n",
      "[92]\tvalid's binary_logloss: 0.349888\n",
      "[93]\tvalid's binary_logloss: 0.349707\n",
      "[94]\tvalid's binary_logloss: 0.349622\n",
      "[95]\tvalid's binary_logloss: 0.34948\n",
      "[96]\tvalid's binary_logloss: 0.349384\n",
      "[97]\tvalid's binary_logloss: 0.349321\n",
      "[98]\tvalid's binary_logloss: 0.349217\n",
      "[99]\tvalid's binary_logloss: 0.34901\n",
      "[100]\tvalid's binary_logloss: 0.348919\n",
      "Did not meet early stopping. Best iteration is:\n",
      "[100]\tvalid's binary_logloss: 0.348919\n"
     ]
    },
    {
     "data": {
      "text/plain": [
       "GridSearchCV(cv=PredefinedSplit(test_fold=array([1, 1, ..., 0, 2])),\n",
       "             estimator=LGBMClassifier(is_unbalance=True, random_state=229,\n",
       "                                      verbose=-1),\n",
       "             n_jobs=4,\n",
       "             param_grid={'bagging_fraction': [0.75], 'feature_fraction': [0.2],\n",
       "                         'lambda_l1': [0.1], 'lambda_l2': [0, 0.1, 1, 5, 10],\n",
       "                         'max_bin': [500], 'max_depth': [55],\n",
       "                         'num_leaves': [400]},\n",
       "             scoring='accuracy')"
      ]
     },
     "execution_count": 97,
     "metadata": {},
     "output_type": "execute_result"
    }
   ],
   "source": [
    "gs_reg.fit(X_train_nb, y_train, \n",
    "       early_stopping_rounds=20, \n",
    "        eval_metric = 'binary', \n",
    "        eval_set = [(X_test_nb, y_test)],\n",
    "        eval_names =['valid']\n",
    "      )"
   ]
  },
  {
   "cell_type": "code",
   "execution_count": 99,
   "id": "58ae712d-720e-43ef-9a01-c424493de800",
   "metadata": {},
   "outputs": [
    {
     "data": {
      "text/plain": [
       "{'bagging_fraction': 0.75,\n",
       " 'feature_fraction': 0.2,\n",
       " 'lambda_l1': 0.1,\n",
       " 'lambda_l2': 5,\n",
       " 'max_bin': 500,\n",
       " 'max_depth': 55,\n",
       " 'num_leaves': 400}"
      ]
     },
     "execution_count": 99,
     "metadata": {},
     "output_type": "execute_result"
    }
   ],
   "source": [
    "gs_reg.best_params_"
   ]
  },
  {
   "cell_type": "code",
   "execution_count": null,
   "id": "04795d45-d036-4e07-a75b-ddcef9147d1a",
   "metadata": {},
   "outputs": [],
   "source": []
  },
  {
   "cell_type": "code",
   "execution_count": null,
   "id": "cc00da11-8779-48c9-94d0-73e66d30c9d6",
   "metadata": {},
   "outputs": [],
   "source": []
  },
  {
   "cell_type": "code",
   "execution_count": 21,
   "id": "36d7da2f-6b14-4b6c-8294-8042ba1a99d2",
   "metadata": {},
   "outputs": [
    {
     "name": "stdout",
     "output_type": "stream",
     "text": [
      "[0 0 0 0 0 0.1 0.1 0.1 0.1 0.1 1 1 1 1 1 5 5 5 5 5 10 10 10 10 10]\n",
      "[0 0.1 1 5 10 0 0.1 1 5 10 0 0.1 1 5 10 0 0.1 1 5 10 0 0.1 1 5 10]\n"
     ]
    }
   ],
   "source": [
    "print(gs_reg.cv_results_['param_lambda_l1'])\n",
    "print(gs_reg.cv_results_['param_lambda_l2'])"
   ]
  },
  {
   "cell_type": "code",
   "execution_count": 22,
   "id": "358da1ec-b928-44bf-9772-12c925fc7e38",
   "metadata": {},
   "outputs": [
    {
     "data": {
      "text/plain": [
       "array([0.84534952, 0.8448674 , 0.84645118, 0.84590712, 0.84624065,\n",
       "       0.84565021, 0.84427415, 0.84565363, 0.84586664, 0.84636301,\n",
       "       0.84524419, 0.84531909, 0.84538138, 0.84603407, 0.84642413,\n",
       "       0.84720158, 0.84771106, 0.84753185, 0.84670719, 0.84691385,\n",
       "       0.84736118, 0.84706488, 0.84729943, 0.84656622, 0.84682365])"
      ]
     },
     "execution_count": 22,
     "metadata": {},
     "output_type": "execute_result"
    }
   ],
   "source": [
    "gs_reg.cv_results_['mean_test_score']"
   ]
  },
  {
   "cell_type": "code",
   "execution_count": 23,
   "id": "b14b2ae4-339d-431a-872e-9f9ac7cf2d5c",
   "metadata": {},
   "outputs": [
    {
     "data": {
      "text/plain": [
       "{'bagging_fraction': 0.75,\n",
       " 'feature_fraction': 0.2,\n",
       " 'lambda_l1': 5,\n",
       " 'lambda_l2': 0.1,\n",
       " 'max_bin': 500,\n",
       " 'max_depth': 55,\n",
       " 'num_leaves': 400}"
      ]
     },
     "execution_count": 23,
     "metadata": {},
     "output_type": "execute_result"
    }
   ],
   "source": [
    "gs_reg.best_params_"
   ]
  },
  {
   "cell_type": "code",
   "execution_count": 43,
   "id": "fc69cc9c-4217-4a7a-8fc5-48cc12605a9c",
   "metadata": {},
   "outputs": [],
   "source": [
    "y = gs_reg2.predict(X_test_nb)"
   ]
  },
  {
   "cell_type": "code",
   "execution_count": 27,
   "id": "5e41e907-2206-4506-8f70-ee159c0bd86c",
   "metadata": {},
   "outputs": [
    {
     "name": "stdout",
     "output_type": "stream",
     "text": [
      "[LightGBM] [Warning] lambda_l1 is set=5, reg_alpha=0.0 will be ignored. Current value: lambda_l1=5\n",
      "[LightGBM] [Warning] lambda_l2 is set=0.1, reg_lambda=0.0 will be ignored. Current value: lambda_l2=0.1\n",
      "[LightGBM] [Warning] feature_fraction is set=0.2, colsample_bytree=1.0 will be ignored. Current value: feature_fraction=0.2\n",
      "[LightGBM] [Warning] bagging_fraction is set=0.75, subsample=1.0 will be ignored. Current value: bagging_fraction=0.75\n"
     ]
    },
    {
     "data": {
      "text/plain": [
       "0.8247984934086628"
      ]
     },
     "execution_count": 27,
     "metadata": {},
     "output_type": "execute_result"
    }
   ],
   "source": [
    "params = {'bagging_fraction': 0.75,\n",
    " 'feature_fraction': 0.2,\n",
    " 'lambda_l1': 5,\n",
    " 'lambda_l2': 0.1,\n",
    " 'max_bin': 500,\n",
    " 'max_depth': 55,\n",
    " 'num_leaves': 400}\n",
    "#params['lambda_l1']=1\n",
    "#params['lambda_l2']=5\n",
    "lgbreg = lgb.LGBMClassifier(random_state=rseed, verbose=-1, is_unbalance=True, **params)\n",
    "lgbreg.fit(X_train_nb, y_train)\n",
    "y = lgbreg.predict(X_test_nb)\n",
    "(y==y_test).sum() / y.shape[0]"
   ]
  },
  {
   "cell_type": "code",
   "execution_count": 65,
   "id": "a66829a7-e933-40cc-8981-7e7cd90484e1",
   "metadata": {},
   "outputs": [],
   "source": [
    "depth_search_params = {\n",
    "    'max_depth':[40, 50],\n",
    "    'num_leaves': [400], \n",
    "    'max_bin': [500], \n",
    "    #'min_child_samples': [100], \n",
    "    #'min_child_weight': [1e-5, 1e-3, 1e-2, 1e-1, 1, 10],\n",
    "    'bagging_fraction': [0.75], \n",
    "    'feature_fraction': [0.2],\n",
    "    'lambda_l1': [0],\n",
    "    'lambda_l2': [0]\n",
    "}"
   ]
  },
  {
   "cell_type": "code",
   "execution_count": 66,
   "id": "cd6d09f5-d3e7-4eb2-b638-93be42f66647",
   "metadata": {
    "collapsed": true,
    "jupyter": {
     "outputs_hidden": true
    },
    "tags": []
   },
   "outputs": [
    {
     "name": "stdout",
     "output_type": "stream",
     "text": [
      "[LightGBM] [Warning] lambda_l1 is set=0, reg_alpha=0.0 will be ignored. Current value: lambda_l1=0\n",
      "[LightGBM] [Warning] lambda_l2 is set=0, reg_lambda=0.0 will be ignored. Current value: lambda_l2=0\n",
      "[LightGBM] [Warning] feature_fraction is set=0.2, colsample_bytree=1.0 will be ignored. Current value: feature_fraction=0.2\n",
      "[LightGBM] [Warning] bagging_fraction is set=0.75, subsample=1.0 will be ignored. Current value: bagging_fraction=0.75\n",
      "[1]\tvalid's binary_logloss: 0.640123\n",
      "Training until validation scores don't improve for 20 rounds\n",
      "[2]\tvalid's binary_logloss: 0.605552\n",
      "[3]\tvalid's binary_logloss: 0.590593\n",
      "[4]\tvalid's binary_logloss: 0.558403\n",
      "[5]\tvalid's binary_logloss: 0.545029\n",
      "[6]\tvalid's binary_logloss: 0.522283\n",
      "[7]\tvalid's binary_logloss: 0.50552\n",
      "[8]\tvalid's binary_logloss: 0.493065\n",
      "[9]\tvalid's binary_logloss: 0.480634\n",
      "[10]\tvalid's binary_logloss: 0.464774\n",
      "[11]\tvalid's binary_logloss: 0.457072\n",
      "[12]\tvalid's binary_logloss: 0.446372\n",
      "[13]\tvalid's binary_logloss: 0.436461\n",
      "[14]\tvalid's binary_logloss: 0.430648\n",
      "[15]\tvalid's binary_logloss: 0.425896\n",
      "[16]\tvalid's binary_logloss: 0.420165\n",
      "[17]\tvalid's binary_logloss: 0.414109\n",
      "[18]\tvalid's binary_logloss: 0.409835\n",
      "[19]\tvalid's binary_logloss: 0.404774\n",
      "[20]\tvalid's binary_logloss: 0.39851\n",
      "[21]\tvalid's binary_logloss: 0.393833\n",
      "[22]\tvalid's binary_logloss: 0.390494\n",
      "[23]\tvalid's binary_logloss: 0.388254\n",
      "[24]\tvalid's binary_logloss: 0.385665\n",
      "[25]\tvalid's binary_logloss: 0.384427\n",
      "[26]\tvalid's binary_logloss: 0.38258\n",
      "[27]\tvalid's binary_logloss: 0.379907\n",
      "[28]\tvalid's binary_logloss: 0.377364\n",
      "[29]\tvalid's binary_logloss: 0.376378\n",
      "[30]\tvalid's binary_logloss: 0.372917\n",
      "[31]\tvalid's binary_logloss: 0.372297\n",
      "[32]\tvalid's binary_logloss: 0.371785\n",
      "[33]\tvalid's binary_logloss: 0.36957\n",
      "[34]\tvalid's binary_logloss: 0.368775\n",
      "[35]\tvalid's binary_logloss: 0.368306\n",
      "[36]\tvalid's binary_logloss: 0.367615\n",
      "[37]\tvalid's binary_logloss: 0.36687\n",
      "[38]\tvalid's binary_logloss: 0.366632\n",
      "[39]\tvalid's binary_logloss: 0.365837\n",
      "[40]\tvalid's binary_logloss: 0.364679\n",
      "[41]\tvalid's binary_logloss: 0.363981\n",
      "[42]\tvalid's binary_logloss: 0.362495\n",
      "[43]\tvalid's binary_logloss: 0.361919\n",
      "[44]\tvalid's binary_logloss: 0.360839\n",
      "[45]\tvalid's binary_logloss: 0.359577\n",
      "[46]\tvalid's binary_logloss: 0.359189\n",
      "[47]\tvalid's binary_logloss: 0.358762\n",
      "[48]\tvalid's binary_logloss: 0.358044\n",
      "[49]\tvalid's binary_logloss: 0.357378\n",
      "[50]\tvalid's binary_logloss: 0.35699\n",
      "[51]\tvalid's binary_logloss: 0.356641\n",
      "[52]\tvalid's binary_logloss: 0.356132\n",
      "[53]\tvalid's binary_logloss: 0.35511\n",
      "[54]\tvalid's binary_logloss: 0.354631\n",
      "[55]\tvalid's binary_logloss: 0.354438\n",
      "[56]\tvalid's binary_logloss: 0.35355\n",
      "[57]\tvalid's binary_logloss: 0.353289\n",
      "[58]\tvalid's binary_logloss: 0.352504\n",
      "[59]\tvalid's binary_logloss: 0.351704\n",
      "[60]\tvalid's binary_logloss: 0.351623\n",
      "[61]\tvalid's binary_logloss: 0.351272\n",
      "[62]\tvalid's binary_logloss: 0.351115\n",
      "[63]\tvalid's binary_logloss: 0.350953\n",
      "[64]\tvalid's binary_logloss: 0.350697\n",
      "[65]\tvalid's binary_logloss: 0.350494\n",
      "[66]\tvalid's binary_logloss: 0.350441\n",
      "[67]\tvalid's binary_logloss: 0.350219\n",
      "[68]\tvalid's binary_logloss: 0.350104\n",
      "[69]\tvalid's binary_logloss: 0.349331\n",
      "[70]\tvalid's binary_logloss: 0.349371\n",
      "[71]\tvalid's binary_logloss: 0.349178\n",
      "[72]\tvalid's binary_logloss: 0.349066\n",
      "[73]\tvalid's binary_logloss: 0.348705\n",
      "[74]\tvalid's binary_logloss: 0.348627\n",
      "[75]\tvalid's binary_logloss: 0.348568\n",
      "[76]\tvalid's binary_logloss: 0.348477\n",
      "[77]\tvalid's binary_logloss: 0.348242\n",
      "[78]\tvalid's binary_logloss: 0.348024\n",
      "[79]\tvalid's binary_logloss: 0.348166\n",
      "[80]\tvalid's binary_logloss: 0.347852\n",
      "[81]\tvalid's binary_logloss: 0.348057\n",
      "[82]\tvalid's binary_logloss: 0.347936\n",
      "[83]\tvalid's binary_logloss: 0.347895\n",
      "[84]\tvalid's binary_logloss: 0.348226\n",
      "[85]\tvalid's binary_logloss: 0.348097\n",
      "[86]\tvalid's binary_logloss: 0.348494\n",
      "[87]\tvalid's binary_logloss: 0.348219\n",
      "[88]\tvalid's binary_logloss: 0.348702\n",
      "[89]\tvalid's binary_logloss: 0.34861\n",
      "[90]\tvalid's binary_logloss: 0.349079\n",
      "[91]\tvalid's binary_logloss: 0.348834\n",
      "[92]\tvalid's binary_logloss: 0.34871\n",
      "[93]\tvalid's binary_logloss: 0.348644\n",
      "[94]\tvalid's binary_logloss: 0.348603\n",
      "[95]\tvalid's binary_logloss: 0.348509\n",
      "[96]\tvalid's binary_logloss: 0.348501\n",
      "[97]\tvalid's binary_logloss: 0.348526\n",
      "[98]\tvalid's binary_logloss: 0.348425\n",
      "[99]\tvalid's binary_logloss: 0.348237\n",
      "[100]\tvalid's binary_logloss: 0.348176\n",
      "Early stopping, best iteration is:\n",
      "[80]\tvalid's binary_logloss: 0.347852\n"
     ]
    },
    {
     "data": {
      "text/plain": [
       "GridSearchCV(cv=PredefinedSplit(test_fold=array([1, 1, ..., 0, 2])),\n",
       "             estimator=LGBMClassifier(is_unbalance=True, n_estimators=400,\n",
       "                                      random_state=229, verbose=-1),\n",
       "             n_jobs=4,\n",
       "             param_grid={'bagging_fraction': [0.75], 'feature_fraction': [0.2],\n",
       "                         'lambda_l1': [0], 'lambda_l2': [0], 'max_bin': [500],\n",
       "                         'max_depth': [40, 50], 'num_leaves': [400]},\n",
       "             scoring='accuracy')"
      ]
     },
     "execution_count": 66,
     "metadata": {},
     "output_type": "execute_result"
    }
   ],
   "source": [
    "lgbmm = lgb.LGBMClassifier(random_state=rseed, verbose=-1, is_unbalance=True, n_estimators=400)\n",
    "gs_depth = GridSearchCV(\n",
    "    estimator=lgbmm, \n",
    "    param_grid=depth_search_params, \n",
    "    #n_iter=150,\n",
    "    scoring='accuracy',\n",
    "    refit=True,\n",
    "    cv=pf,\n",
    "    #random_state=rseed,\n",
    "    n_jobs=4\n",
    ")\n",
    "gs_depth.fit(X_train_nb, y_train, \n",
    "       early_stopping_rounds=20, \n",
    "        eval_metric = 'binary', \n",
    "        eval_set = [(X_test_nb, y_test)],\n",
    "        eval_names =['valid']\n",
    "      )"
   ]
  },
  {
   "cell_type": "code",
   "execution_count": 67,
   "id": "d2643e3c-1d1f-4a2d-b53b-976c1fb18a8a",
   "metadata": {},
   "outputs": [
    {
     "data": {
      "text/plain": [
       "{'mean_fit_time': array([19.58335953, 15.04165611]),\n",
       " 'std_fit_time': array([1.44817008, 1.90409341]),\n",
       " 'mean_score_time': array([1.69492316, 1.41002607]),\n",
       " 'std_score_time': array([0.02808168, 0.35130109]),\n",
       " 'param_bagging_fraction': masked_array(data=[0.75, 0.75],\n",
       "              mask=[False, False],\n",
       "        fill_value='?',\n",
       "             dtype=object),\n",
       " 'param_feature_fraction': masked_array(data=[0.2, 0.2],\n",
       "              mask=[False, False],\n",
       "        fill_value='?',\n",
       "             dtype=object),\n",
       " 'param_lambda_l1': masked_array(data=[0, 0],\n",
       "              mask=[False, False],\n",
       "        fill_value='?',\n",
       "             dtype=object),\n",
       " 'param_lambda_l2': masked_array(data=[0, 0],\n",
       "              mask=[False, False],\n",
       "        fill_value='?',\n",
       "             dtype=object),\n",
       " 'param_max_bin': masked_array(data=[500, 500],\n",
       "              mask=[False, False],\n",
       "        fill_value='?',\n",
       "             dtype=object),\n",
       " 'param_max_depth': masked_array(data=[40, 50],\n",
       "              mask=[False, False],\n",
       "        fill_value='?',\n",
       "             dtype=object),\n",
       " 'param_num_leaves': masked_array(data=[400, 400],\n",
       "              mask=[False, False],\n",
       "        fill_value='?',\n",
       "             dtype=object),\n",
       " 'params': [{'bagging_fraction': 0.75,\n",
       "   'feature_fraction': 0.2,\n",
       "   'lambda_l1': 0,\n",
       "   'lambda_l2': 0,\n",
       "   'max_bin': 500,\n",
       "   'max_depth': 40,\n",
       "   'num_leaves': 400},\n",
       "  {'bagging_fraction': 0.75,\n",
       "   'feature_fraction': 0.2,\n",
       "   'lambda_l1': 0,\n",
       "   'lambda_l2': 0,\n",
       "   'max_bin': 500,\n",
       "   'max_depth': 50,\n",
       "   'num_leaves': 400}],\n",
       " 'split0_test_score': array([0.84751188, 0.84841724]),\n",
       " 'split1_test_score': array([0.84642996, 0.84688268]),\n",
       " 'split2_test_score': array([0.85142546, 0.85097649]),\n",
       " 'split3_test_score': array([0.84768082, 0.8470941 ]),\n",
       " 'split4_test_score': array([0.85160462, 0.85330552]),\n",
       " 'mean_test_score': array([0.84893055, 0.84933521]),\n",
       " 'std_test_score': array([0.00215419, 0.00246322]),\n",
       " 'rank_test_score': array([2, 1], dtype=int32)}"
      ]
     },
     "execution_count": 67,
     "metadata": {},
     "output_type": "execute_result"
    }
   ],
   "source": [
    "gs_depth.cv_results_"
   ]
  },
  {
   "cell_type": "code",
   "execution_count": 54,
   "id": "1c768f59-2627-4288-adc2-045dd355dce4",
   "metadata": {},
   "outputs": [
    {
     "data": {
      "text/plain": [
       "{'bagging_fraction': 0.75,\n",
       " 'feature_fraction': 0.2,\n",
       " 'lambda_l1': 0,\n",
       " 'lambda_l2': 0,\n",
       " 'max_bin': 500,\n",
       " 'max_depth': 55,\n",
       " 'num_leaves': 400}"
      ]
     },
     "execution_count": 54,
     "metadata": {},
     "output_type": "execute_result"
    }
   ],
   "source": [
    "gs_depth.best_params_"
   ]
  },
  {
   "cell_type": "code",
   "execution_count": 70,
   "id": "04fb13dc-8406-4458-85ab-7e1c6713bad2",
   "metadata": {},
   "outputs": [
    {
     "name": "stdout",
     "output_type": "stream",
     "text": [
      "[LightGBM] [Warning] lambda_l1 is set=0, reg_alpha=0.0 will be ignored. Current value: lambda_l1=0\n",
      "[LightGBM] [Warning] lambda_l2 is set=0, reg_lambda=0.0 will be ignored. Current value: lambda_l2=0\n",
      "[LightGBM] [Warning] feature_fraction is set=0.2, colsample_bytree=1.0 will be ignored. Current value: feature_fraction=0.2\n",
      "[LightGBM] [Warning] bagging_fraction is set=0.75, subsample=1.0 will be ignored. Current value: bagging_fraction=0.75\n"
     ]
    },
    {
     "data": {
      "text/plain": [
       "0.8253860640301318"
      ]
     },
     "execution_count": 70,
     "metadata": {},
     "output_type": "execute_result"
    }
   ],
   "source": [
    "params = {'bagging_fraction': 0.75,\n",
    " 'feature_fraction': 0.2,\n",
    " 'lambda_l1': 0,\n",
    " 'lambda_l2': 0,\n",
    " 'max_bin': 500,\n",
    " 'max_depth': 50,\n",
    " 'num_leaves': 400, \n",
    "}\n",
    "#params['lambda_l1']=1\n",
    "#params['lambda_l2']=5\n",
    "lgbreg = lgb.LGBMClassifier(random_state=rseed, verbose=-1, is_unbalance=True, **params)\n",
    "lgbreg.fit(X_train_nb, y_train)\n",
    "y = lgbreg.predict(X_test_nb)\n",
    "(y==y_test).sum() / y.shape[0]"
   ]
  },
  {
   "cell_type": "code",
   "execution_count": 56,
   "id": "9856bc9c-5d11-446b-8810-ff70cde720fa",
   "metadata": {
    "collapsed": true,
    "jupyter": {
     "outputs_hidden": true
    },
    "tags": []
   },
   "outputs": [
    {
     "data": {
      "text/plain": [
       "{'mean_fit_time': array([16.83742962, 19.4952405 , 18.51328931, 22.59267583, 17.82500992]),\n",
       " 'std_fit_time': array([1.28775139, 1.18882518, 1.33656777, 2.32664702, 3.67568606]),\n",
       " 'mean_score_time': array([0.88002625, 1.83581195, 1.82478051, 2.14267049, 1.6295557 ]),\n",
       " 'std_score_time': array([0.06737529, 0.13532623, 0.2197882 , 0.97251992, 0.49279326]),\n",
       " 'param_bagging_fraction': masked_array(data=[0.75, 0.75, 0.75, 0.75, 0.75],\n",
       "              mask=[False, False, False, False, False],\n",
       "        fill_value='?',\n",
       "             dtype=object),\n",
       " 'param_feature_fraction': masked_array(data=[0.2, 0.2, 0.2, 0.2, 0.2],\n",
       "              mask=[False, False, False, False, False],\n",
       "        fill_value='?',\n",
       "             dtype=object),\n",
       " 'param_lambda_l1': masked_array(data=[0, 0, 0, 0, 0],\n",
       "              mask=[False, False, False, False, False],\n",
       "        fill_value='?',\n",
       "             dtype=object),\n",
       " 'param_lambda_l2': masked_array(data=[0, 0, 0, 0, 0],\n",
       "              mask=[False, False, False, False, False],\n",
       "        fill_value='?',\n",
       "             dtype=object),\n",
       " 'param_max_bin': masked_array(data=[500, 500, 500, 500, 500],\n",
       "              mask=[False, False, False, False, False],\n",
       "        fill_value='?',\n",
       "             dtype=object),\n",
       " 'param_max_depth': masked_array(data=[5, 35, 55, 75, 125],\n",
       "              mask=[False, False, False, False, False],\n",
       "        fill_value='?',\n",
       "             dtype=object),\n",
       " 'param_num_leaves': masked_array(data=[400, 400, 400, 400, 400],\n",
       "              mask=[False, False, False, False, False],\n",
       "        fill_value='?',\n",
       "             dtype=object),\n",
       " 'params': [{'bagging_fraction': 0.75,\n",
       "   'feature_fraction': 0.2,\n",
       "   'lambda_l1': 0,\n",
       "   'lambda_l2': 0,\n",
       "   'max_bin': 500,\n",
       "   'max_depth': 5,\n",
       "   'num_leaves': 400},\n",
       "  {'bagging_fraction': 0.75,\n",
       "   'feature_fraction': 0.2,\n",
       "   'lambda_l1': 0,\n",
       "   'lambda_l2': 0,\n",
       "   'max_bin': 500,\n",
       "   'max_depth': 35,\n",
       "   'num_leaves': 400},\n",
       "  {'bagging_fraction': 0.75,\n",
       "   'feature_fraction': 0.2,\n",
       "   'lambda_l1': 0,\n",
       "   'lambda_l2': 0,\n",
       "   'max_bin': 500,\n",
       "   'max_depth': 55,\n",
       "   'num_leaves': 400},\n",
       "  {'bagging_fraction': 0.75,\n",
       "   'feature_fraction': 0.2,\n",
       "   'lambda_l1': 0,\n",
       "   'lambda_l2': 0,\n",
       "   'max_bin': 500,\n",
       "   'max_depth': 75,\n",
       "   'num_leaves': 400},\n",
       "  {'bagging_fraction': 0.75,\n",
       "   'feature_fraction': 0.2,\n",
       "   'lambda_l1': 0,\n",
       "   'lambda_l2': 0,\n",
       "   'max_bin': 500,\n",
       "   'max_depth': 125,\n",
       "   'num_leaves': 400}],\n",
       " 'split0_test_score': array([0.84311443, 0.84602451, 0.84841724, 0.84841724, 0.84841724]),\n",
       " 'split1_test_score': array([0.84374596, 0.84584789, 0.84678567, 0.84617126, 0.84617126]),\n",
       " 'split2_test_score': array([0.84802617, 0.85014271, 0.85097649, 0.85097649, 0.85097649]),\n",
       " 'split3_test_score': array([0.8464096 , 0.84839793, 0.8470941 , 0.8470941 , 0.8470941 ]),\n",
       " 'split4_test_score': array([0.84499358, 0.8529525 , 0.85221438, 0.85221438, 0.85221438]),\n",
       " 'mean_test_score': array([0.84525795, 0.84867311, 0.84909758, 0.84897469, 0.84897469]),\n",
       " 'std_test_score': array([0.0017855 , 0.00266629, 0.00214786, 0.00228951, 0.00228951]),\n",
       " 'rank_test_score': array([5, 4, 1, 2, 2], dtype=int32)}"
      ]
     },
     "execution_count": 56,
     "metadata": {},
     "output_type": "execute_result"
    }
   ],
   "source": [
    "gs_depth.cv_results_"
   ]
  },
  {
   "cell_type": "code",
   "execution_count": null,
   "id": "0cc391e7-9830-4387-b566-0c498839009b",
   "metadata": {},
   "outputs": [],
   "source": [
    "test_res = [0.8136045197740113, 0.8259585687382297, 0.8254312617702448, 0.8255969868173259, 0.8255969868173259]"
   ]
  },
  {
   "cell_type": "code",
   "execution_count": 71,
   "id": "01b0df55-8a71-4749-b96a-410a7461cc3a",
   "metadata": {},
   "outputs": [],
   "source": [
    "gs_depth_res = pd.DataFrame({\n",
    "    'depth':[5, 35, 40, 50, 55, 75, 125],\n",
    "    #'split0_test_score': np.array([0.84311443, 0.84602451, 0.84841724, 0.84841724, 0.84841724]),\n",
    "    # 'split1_test_score': np.array([0.84374596, 0.84584789, 0.84678567, 0.84617126, 0.84617126]),\n",
    "    # 'split2_test_score': np.array([0.84802617, 0.85014271, 0.85097649, 0.85097649, 0.85097649]),\n",
    "    # 'split3_test_score': np.array([0.8464096 , 0.84839793, 0.8470941 , 0.8470941 , 0.8470941 ]),\n",
    "    # 'split4_test_score': np.array([0.84499358, 0.8529525 , 0.85221438, 0.85221438, 0.85221438]),\n",
    "     'mean_test_cv_score': np.array([0.84525795, 0.84867311,0.84893055, 0.84933521, 0.84909758, 0.84897469, 0.84897469]),\n",
    "    'actual_test_score': np.array([0.8136045197740113, 0.8259585687382297,0.8263653483992467,0.8253860640301318, 0.8254312617702448, 0.8255969868173259, 0.8255969868173259])\n",
    "})"
   ]
  },
  {
   "cell_type": "code",
   "execution_count": 76,
   "id": "967a47c6-73f7-4c52-a47c-2b2eecf58ebf",
   "metadata": {},
   "outputs": [],
   "source": [
    "import seaborn as sns\n",
    "import matplotlib.pyplot as plt"
   ]
  },
  {
   "cell_type": "code",
   "execution_count": 87,
   "id": "30d9eb4c-af58-4dce-aed1-fc91d02df1a6",
   "metadata": {},
   "outputs": [
    {
     "data": {
      "text/plain": [
       "[Text(0, 0.5, 'Accuracy score'), Text(0.5, 0, 'Max depth parameter')]"
      ]
     },
     "execution_count": 87,
     "metadata": {},
     "output_type": "execute_result"
    },
    {
     "data": {
      "image/png": "[encoded data removed]",
      "text/plain": [
       "<Figure size 432x288 with 1 Axes>"
      ]
     },
     "metadata": {
      "needs_background": "light"
     },
     "output_type": "display_data"
    }
   ],
   "source": [
    "sns.lineplot(x=gs_depth_res['depth'], y=gs_depth_res['mean_test_cv_score'], label=\"CV train performance\")\n",
    "ax= sns.lineplot(x=gs_depth_res['depth'], y=gs_depth_res['actual_test_score'], label=\"test performance\")\n",
    "ax.set(xlabel=\"Max depth parameter\", ylabel=\"Accuracy score\")"
   ]
  },
  {
   "cell_type": "code",
   "execution_count": null,
   "id": "d8de95cb-e1fa-4d64-b691-db14c3321ca4",
   "metadata": {},
   "outputs": [],
   "source": []
  },
  {
   "cell_type": "code",
   "execution_count": null,
   "id": "5fa3a003-f80c-4960-a471-c386e782e298",
   "metadata": {},
   "outputs": [],
   "source": []
  },
  {
   "cell_type": "code",
   "execution_count": null,
   "id": "3afb7cfa-d3ed-4148-a16a-83e6161a2c16",
   "metadata": {},
   "outputs": [],
   "source": []
  },
  {
   "cell_type": "code",
   "execution_count": null,
   "id": "d9535f75-bba6-4b31-8b43-cbfe4381fce9",
   "metadata": {},
   "outputs": [],
   "source": []
  },
  {
   "cell_type": "code",
   "execution_count": null,
   "id": "3b475949-aee7-485f-87ca-72b7595501bd",
   "metadata": {},
   "outputs": [],
   "source": [
    "print(\"Train shape:\", X_train.shape)\n",
    "print(\"Test shape:\",  X_test.shape)"
   ]
  },
  {
   "cell_type": "code",
   "execution_count": null,
   "id": "fe2069f2-e00c-46ca-96a6-c26e4020d89a",
   "metadata": {
    "tags": []
   },
   "outputs": [],
   "source": [
    "X_train.head()"
   ]
  },
  {
   "cell_type": "code",
   "execution_count": null,
   "id": "9f3bff18-8698-4ed3-b3cb-7a503d3510ea",
   "metadata": {},
   "outputs": [],
   "source": [
    "model_params = {\n",
    "    'rseed':229\n",
    "}"
   ]
  },
  {
   "cell_type": "code",
   "execution_count": 9,
   "id": "d43bf71b-e6f4-453a-8089-7af3e5ca170e",
   "metadata": {},
   "outputs": [
    {
     "name": "stdout",
     "output_type": "stream",
     "text": [
      "accuracy 0.7451897001472145\n",
      "              precision    recall  f1-score   support\n",
      "\n",
      "           0       0.71      0.63      0.66     15514\n",
      "           1       0.77      0.83      0.80     23205\n",
      "\n",
      "    accuracy                           0.75     38719\n",
      "   macro avg       0.74      0.73      0.73     38719\n",
      "weighted avg       0.74      0.75      0.74     38719\n",
      "\n",
      "[[ 9699  5815]\n",
      " [ 4051 19154]]\n"
     ]
    }
   ],
   "source": [
    "# withou any parameters\n",
    "clf = lgb.LGBMClassifier(random_state=model_params['rseed'])\n",
    "clf.fit(X_train, y_train)\n",
    "y_pred = clf.predict(X_test)\n",
    "print('accuracy %s' % accuracy_score(y_pred, y_test))\n",
    "print(classification_report(y_test, y_pred))\n",
    "print(confusion_matrix(y_test, y_pred))"
   ]
  },
  {
   "cell_type": "code",
   "execution_count": 10,
   "id": "216e1a9f-d516-4337-896d-2d36aa9fbcf0",
   "metadata": {},
   "outputs": [
    {
     "name": "stdout",
     "output_type": "stream",
     "text": [
      "[LightGBM] [Warning] feature_fraction is set=0.75, colsample_bytree=1.0 will be ignored. Current value: feature_fraction=0.75\n",
      "[LightGBM] [Warning] lambda_l2 is set=0.5, reg_lambda=0.0 will be ignored. Current value: lambda_l2=0.5\n",
      "[LightGBM] [Warning] min_data_in_leaf is set=50, min_child_samples=20 will be ignored. Current value: min_data_in_leaf=50\n",
      "[LightGBM] [Warning] lambda_l1 is set=0.75, reg_alpha=0.0 will be ignored. Current value: lambda_l1=0.75\n",
      "accuracy 0.7487280146698003\n",
      "              precision    recall  f1-score   support\n",
      "\n",
      "           0       0.71      0.63      0.67     15514\n",
      "           1       0.77      0.83      0.80     23205\n",
      "\n",
      "    accuracy                           0.75     38719\n",
      "   macro avg       0.74      0.73      0.73     38719\n",
      "weighted avg       0.75      0.75      0.75     38719\n",
      "\n",
      "[[ 9845  5669]\n",
      " [ 4060 19145]]\n"
     ]
    }
   ],
   "source": [
    "# with some params, haven't tuned yet though really\n",
    "clf = lgb.LGBMClassifier(\n",
    "    num_leaves = 100, \n",
    "    min_data_in_leaf = 50, \n",
    "    max_depth = 15, \n",
    "    feature_fraction = 0.75, \n",
    "    max_bin=200, \n",
    "    #learning_rate=0.03,\n",
    "    lambda_l1=0.75, \n",
    "    lambda_l2=0.5,\n",
    "    random_state=model_params['rseed']\n",
    ")\n",
    "clf.fit(X_train, y_train)\n",
    "y_pred = clf.predict(X_test)\n",
    "print('accuracy %s' % accuracy_score(y_pred, y_test))\n",
    "print(classification_report(y_test, y_pred))\n",
    "print(confusion_matrix(y_test, y_pred))"
   ]
  },
  {
   "cell_type": "code",
   "execution_count": 11,
   "id": "5b4b917a-f83b-4a18-8493-ca64c07fb603",
   "metadata": {},
   "outputs": [],
   "source": [
    "# add naive bayes preds \n",
    "nb_proba_train = np.load(\"data/res/multi_nb_preds_train.npy\")\n",
    "nb_proba_test = np.load(\"data/res/multi_nb_preds_test.npy\")\n",
    "X_train_nb = X_train.copy()\n",
    "X_test_nb = X_test.copy()\n",
    "X_train_nb['nb_proba'] = nb_proba_train[:, 1]\n",
    "X_test_nb['nb_proba'] = nb_proba_test[:, 1]"
   ]
  },
  {
   "cell_type": "code",
   "execution_count": 12,
   "id": "2d103bf9-9bb4-411c-8820-1f1ee75f068a",
   "metadata": {},
   "outputs": [
    {
     "name": "stdout",
     "output_type": "stream",
     "text": [
      "[LightGBM] [Warning] feature_fraction is set=0.75, colsample_bytree=1.0 will be ignored. Current value: feature_fraction=0.75\n",
      "[LightGBM] [Warning] lambda_l2 is set=0.5, reg_lambda=0.0 will be ignored. Current value: lambda_l2=0.5\n",
      "[LightGBM] [Warning] min_data_in_leaf is set=50, min_child_samples=20 will be ignored. Current value: min_data_in_leaf=50\n",
      "[LightGBM] [Warning] lambda_l1 is set=0.75, reg_alpha=0.0 will be ignored. Current value: lambda_l1=0.75\n",
      "accuracy 0.7618998424546088\n",
      "              precision    recall  f1-score   support\n",
      "\n",
      "           0       0.73      0.65      0.69     15514\n",
      "           1       0.78      0.84      0.81     23205\n",
      "\n",
      "    accuracy                           0.76     38719\n",
      "   macro avg       0.75      0.74      0.75     38719\n",
      "weighted avg       0.76      0.76      0.76     38719\n",
      "\n",
      "[[10122  5392]\n",
      " [ 3827 19378]]\n"
     ]
    }
   ],
   "source": [
    "clf = lgb.LGBMClassifier(\n",
    "    num_leaves = 100, \n",
    "    min_data_in_leaf = 50, \n",
    "    max_depth = 15, \n",
    "    feature_fraction = 0.75, \n",
    "    max_bin=200, \n",
    "    #learning_rate=0.03,\n",
    "    lambda_l1=0.75, \n",
    "    lambda_l2=0.5,\n",
    "    random_state=model_params['rseed']\n",
    ")\n",
    "clf.fit(X_train_nb, y_train)\n",
    "y_pred = clf.predict(X_test_nb)\n",
    "print('accuracy %s' % accuracy_score(y_pred, y_test))\n",
    "print(classification_report(y_test, y_pred))\n",
    "print(confusion_matrix(y_test, y_pred))"
   ]
  },
  {
   "cell_type": "code",
   "execution_count": 12,
   "id": "1e62dd55-f920-41c6-b7fd-5c4ad083a4ef",
   "metadata": {},
   "outputs": [],
   "source": [
    "w2v_train = np.load(\"data/res/w2v_Xtrain_avg.npy\")\n",
    "w2v_test = np.load(\"data/res/w2v_Xtest_avg.npy\")\n",
    "X_train_nb_w2v = pd.concat((X_train_nb, pd.DataFrame(w2v_train)), axis=1)\n",
    "X_test_nb_w2v = pd.concat((X_test_nb, pd.DataFrame(w2v_test)), axis=1)"
   ]
  },
  {
   "cell_type": "code",
   "execution_count": 16,
   "id": "2028bee0-4128-42d3-bbd6-4e42d9c46cd7",
   "metadata": {},
   "outputs": [
    {
     "name": "stdout",
     "output_type": "stream",
     "text": [
      "[LightGBM] [Warning] lambda_l1 is set=0.75, reg_alpha=0.0 will be ignored. Current value: lambda_l1=0.75\n",
      "[LightGBM] [Warning] lambda_l2 is set=0.5, reg_lambda=0.0 will be ignored. Current value: lambda_l2=0.5\n",
      "[LightGBM] [Warning] feature_fraction is set=0.75, colsample_bytree=1.0 will be ignored. Current value: feature_fraction=0.75\n",
      "[LightGBM] [Warning] min_data_in_leaf is set=50, min_child_samples=20 will be ignored. Current value: min_data_in_leaf=50\n",
      "accuracy 0.7623905576073762\n",
      "              precision    recall  f1-score   support\n",
      "\n",
      "           0       0.70      0.70      0.70     15514\n",
      "           1       0.80      0.80      0.80     23205\n",
      "\n",
      "    accuracy                           0.76     38719\n",
      "   macro avg       0.75      0.75      0.75     38719\n",
      "weighted avg       0.76      0.76      0.76     38719\n",
      "\n",
      "[[10880  4634]\n",
      " [ 4566 18639]]\n"
     ]
    }
   ],
   "source": [
    "clf = lgb.LGBMClassifier(\n",
    "    num_leaves = 200, \n",
    "    min_data_in_leaf = 50, \n",
    "    max_depth = 25, \n",
    "    feature_fraction = 0.75, \n",
    "    max_bin=400, \n",
    "    #learning_rate=0.03,\n",
    "    lambda_l1=0.75, \n",
    "    lambda_l2=0.5,\n",
    "    is_unbalance=True,\n",
    "    random_state=model_params['rseed']\n",
    ")\n",
    "clf.fit(X_train_nb_w2v, y_train)\n",
    "y_pred = clf.predict(X_test_nb_w2v)\n",
    "print('accuracy %s' % accuracy_score(y_pred, y_test))\n",
    "print(classification_report(y_test, y_pred))\n",
    "print(confusion_matrix(y_test, y_pred))"
   ]
  },
  {
   "cell_type": "code",
   "execution_count": 14,
   "id": "c90e6efe-791b-4f5e-8b74-6e1fcc702ee2",
   "metadata": {},
   "outputs": [],
   "source": [
    "from sklearn.model_selection import GridSearchCV"
   ]
  },
  {
   "cell_type": "code",
   "execution_count": 18,
   "id": "80c202d4-c698-48ce-b90c-20bf57cf1973",
   "metadata": {
    "collapsed": true,
    "jupyter": {
     "outputs_hidden": true
    },
    "tags": []
   },
   "outputs": [
    {
     "data": {
      "text/plain": [
       "<AxesSubplot:title={'center':'Feature importance'}, xlabel='Feature importance', ylabel='Features'>"
      ]
     },
     "execution_count": 18,
     "metadata": {},
     "output_type": "execute_result"
    },
    {
     "data": {
      "image/png": "[encoded data removed]",
      "text/plain": [
       "<Figure size 720x1440 with 1 Axes>"
      ]
     },
     "metadata": {
      "needs_background": "light"
     },
     "output_type": "display_data"
    }
   ],
   "source": [
    "lgb.plot_importance(clf, max_num_features=50, figsize=(10,20))"
   ]
  },
  {
   "cell_type": "code",
   "execution_count": 15,
   "id": "73f0f5ac-2a71-4a81-91da-1ee3ca832ea6",
   "metadata": {
    "tags": []
   },
   "outputs": [
    {
     "name": "stdout",
     "output_type": "stream",
     "text": [
      "Fitting 5 folds for each of 24 candidates, totalling 120 fits\n",
      "[LightGBM] [Warning] num_threads is set=2, n_jobs=-1 will be ignored. Current value: num_threads=2\n",
      "[LightGBM] [Warning] min_data_in_leaf is set=50, min_child_samples=20 will be ignored. Current value: min_data_in_leaf=50\n",
      "[LightGBM] [Warning] feature_fraction is set=1, colsample_bytree=1.0 will be ignored. Current value: feature_fraction=1\n",
      "[LightGBM] [Warning] bagging_fraction is set=0.5, subsample=1.0 will be ignored. Current value: bagging_fraction=0.5\n"
     ]
    },
    {
     "data": {
      "text/plain": [
       "GridSearchCV(cv=5,\n",
       "             estimator=LGBMClassifier(is_unbalance=True, num_threads=2,\n",
       "                                      random_state=229),\n",
       "             n_jobs=4,\n",
       "             param_grid={'bagging_fraction': [0.5, 1],\n",
       "                         'feature_fraction': [0.5, 0.75, 1],\n",
       "                         'max_depth': [15, 35], 'min_data_in_leaf': [50],\n",
       "                         'num_leaves': [200, 400]},\n",
       "             verbose=3)"
      ]
     },
     "execution_count": 15,
     "metadata": {},
     "output_type": "execute_result"
    }
   ],
   "source": [
    "param_grid = {\n",
    "    'num_leaves': [200, 400], \n",
    "    'max_depth': [15, 35], \n",
    "    'feature_fraction':[0.5, 0.75, 1], \n",
    "    'bagging_fraction':[0.5, 1],\n",
    "    #'max_bin':[200, 400], \n",
    "    #'lambda_l1':[0.25,  0.75],\n",
    "    #'lambda_l2':[0.25,  0.75],\n",
    "    'min_data_in_leaf':[50]\n",
    "}\n",
    "# run grid search over parameters using 5 fold CV verbose on \n",
    "grid_lgbm = GridSearchCV(lgb.LGBMClassifier(random_state=model_params['rseed'], is_unbalance=True, num_threads=2), param_grid, cv=5, verbose=3, n_jobs=4)\n",
    "grid_lgbm.fit(X_train_nb_w2v, y_train)"
   ]
  },
  {
   "cell_type": "code",
   "execution_count": 18,
   "id": "ec423c35-3251-4aba-a24d-43b76f69058a",
   "metadata": {},
   "outputs": [
    {
     "name": "stdout",
     "output_type": "stream",
     "text": [
      "accuracy 0.7611508561688061\n",
      "              precision    recall  f1-score   support\n",
      "\n",
      "           0       0.71      0.68      0.70     15514\n",
      "           1       0.79      0.81      0.80     23205\n",
      "\n",
      "    accuracy                           0.76     38719\n",
      "   macro avg       0.75      0.75      0.75     38719\n",
      "weighted avg       0.76      0.76      0.76     38719\n",
      "\n",
      "[[10592  4922]\n",
      " [ 4326 18879]]\n"
     ]
    }
   ],
   "source": [
    "y_pred = grid_lgbm.predict(X_test_nb_w2v)\n",
    "print('accuracy %s' % accuracy_score(y_pred, y_test))\n",
    "print(classification_report(y_test, y_pred))\n",
    "print(confusion_matrix(y_test, y_pred))"
   ]
  },
  {
   "cell_type": "code",
   "execution_count": 17,
   "id": "03b6d7ca-d6c1-4f85-acb5-42f7bd224849",
   "metadata": {},
   "outputs": [
    {
     "name": "stdout",
     "output_type": "stream",
     "text": [
      "{'bagging_fraction': 0.5, 'feature_fraction': 1, 'max_depth': 35, 'min_data_in_leaf': 50, 'num_leaves': 400}\n",
      "0.8421147889119689\n"
     ]
    }
   ],
   "source": [
    "# best from first\n",
    "print(grid_lgbm.best_params_)\n",
    "print(grid_lgbm.best_score_)"
   ]
  },
  {
   "cell_type": "code",
   "execution_count": 21,
   "id": "0aeb7afa-a1a0-48aa-92cd-119360743451",
   "metadata": {},
   "outputs": [
    {
     "name": "stdout",
     "output_type": "stream",
     "text": [
      "Fitting 5 folds for each of 18 candidates, totalling 90 fits\n",
      "[LightGBM] [Warning] Unknown parameter: labmda_l1\n",
      "[LightGBM] [Warning] Unknown parameter: labmda_l2\n",
      "[LightGBM] [Warning] num_threads is set=2, n_jobs=-1 will be ignored. Current value: num_threads=2\n",
      "[LightGBM] [Warning] lambda_l1 is set=0.5, reg_alpha=0.0 will be ignored. Current value: lambda_l1=0.5\n",
      "[LightGBM] [Warning] min_data_in_leaf is set=50, min_child_samples=20 will be ignored. Current value: min_data_in_leaf=50\n",
      "[LightGBM] [Warning] lambda_l2 is set=0.5, reg_lambda=0.0 will be ignored. Current value: lambda_l2=0.5\n",
      "[LightGBM] [Warning] feature_fraction is set=1, colsample_bytree=1.0 will be ignored. Current value: feature_fraction=1\n",
      "[LightGBM] [Warning] bagging_fraction is set=0.5, subsample=1.0 will be ignored. Current value: bagging_fraction=0.5\n"
     ]
    },
    {
     "data": {
      "text/plain": [
       "GridSearchCV(cv=5,\n",
       "             estimator=LGBMClassifier(bagging_fraction=0.5, feature_fraction=1,\n",
       "                                      is_unbalance=True,\n",
       "                                      labmda_l1=[0.25, 0.5, 0.75],\n",
       "                                      labmda_l2=[0.25, 0.5, 0.75],\n",
       "                                      max_bin=[200, 300, 400], max_depth=35,\n",
       "                                      min_data_in_leaf=50, num_leaves=400,\n",
       "                                      num_threads=2, random_state=229),\n",
       "             n_jobs=4,\n",
       "             param_grid={'lambda_l1': [0.25, 0.5, 0.75],\n",
       "                         'lambda_l2': [0.25, 0.5, 0.75],\n",
       "                         'max_bin': [200, 400]},\n",
       "             verbose=3)"
      ]
     },
     "execution_count": 21,
     "metadata": {},
     "output_type": "execute_result"
    }
   ],
   "source": [
    "best_params = grid_lgbm.best_params_\n",
    "new_param_grid={\n",
    "    'max_bin':[200, 400],\n",
    "    'lambda_l1':[0.25, 0.5, 0.75],\n",
    "    'lambda_l2':[0.25, 0.5, 0.75]\n",
    "}\n",
    " # run grid search over parameters using 5 fold CV verbose on \n",
    "new_grid_lgbm = GridSearchCV(lgb.LGBMClassifier(random_state=model_params['rseed'], is_unbalance=True, num_threads=2, **best_params), new_param_grid, cv=5, verbose=3, n_jobs=4)\n",
    "new_grid_lgbm.fit(X_train_nb_w2v, y_train)"
   ]
  },
  {
   "cell_type": "code",
   "execution_count": 38,
   "id": "a59466e1-7c7c-470e-bb12-15563d381d41",
   "metadata": {},
   "outputs": [
    {
     "name": "stdout",
     "output_type": "stream",
     "text": [
      "accuracy 0.7602210800898783\n",
      "              precision    recall  f1-score   support\n",
      "\n",
      "           0       0.71      0.68      0.70     15514\n",
      "           1       0.79      0.81      0.80     23205\n",
      "\n",
      "    accuracy                           0.76     38719\n",
      "   macro avg       0.75      0.75      0.75     38719\n",
      "weighted avg       0.76      0.76      0.76     38719\n",
      "\n",
      "[[10589  4925]\n",
      " [ 4359 18846]]\n"
     ]
    }
   ],
   "source": [
    "y_pred = new_grid_lgbm.predict(X_test_nb_w2v)\n",
    "print('accuracy %s' % accuracy_score(y_pred, y_test))\n",
    "print(classification_report(y_test, y_pred))\n",
    "print(confusion_matrix(y_test, y_pred))"
   ]
  },
  {
   "cell_type": "code",
   "execution_count": 22,
   "id": "6bf297a0-5428-469b-a30d-789c8d1a0c41",
   "metadata": {},
   "outputs": [
    {
     "name": "stdout",
     "output_type": "stream",
     "text": [
      "{'lambda_l1': 0.5, 'lambda_l2': 0.5, 'max_bin': 400}\n",
      "0.8431134511526812\n"
     ]
    }
   ],
   "source": [
    "# best from first\n",
    "print(new_grid_lgbm.best_params_)\n",
    "print(new_grid_lgbm.best_score_)"
   ]
  },
  {
   "cell_type": "code",
   "execution_count": 34,
   "id": "17076c30-8a0c-4d31-a51d-8e3294c04e2f",
   "metadata": {},
   "outputs": [],
   "source": [
    "best_params ={**grid_lgbm.best_params_, **new_grid_lgbm.best_params_}"
   ]
  },
  {
   "cell_type": "code",
   "execution_count": 43,
   "id": "8ade182b-a056-4cbf-86b7-f23a0aa0cd99",
   "metadata": {},
   "outputs": [
    {
     "name": "stdout",
     "output_type": "stream",
     "text": [
      "[LightGBM] [Warning] lambda_l1 is set=0.5, reg_alpha=0.0 will be ignored. Current value: lambda_l1=0.5\n",
      "[LightGBM] [Warning] lambda_l2 is set=0.5, reg_lambda=0.0 will be ignored. Current value: lambda_l2=0.5\n",
      "[LightGBM] [Warning] feature_fraction is set=1, colsample_bytree=1.0 will be ignored. Current value: feature_fraction=1\n",
      "[LightGBM] [Warning] bagging_fraction is set=0.5, subsample=1.0 will be ignored. Current value: bagging_fraction=0.5\n",
      "[LightGBM] [Warning] min_data_in_leaf is set=50, min_child_samples=20 will be ignored. Current value: min_data_in_leaf=50\n",
      "accuracy 0.7616932255481805\n",
      "              precision    recall  f1-score   support\n",
      "\n",
      "           0       0.71      0.68      0.70     15514\n",
      "           1       0.79      0.82      0.80     23205\n",
      "\n",
      "    accuracy                           0.76     38719\n",
      "   macro avg       0.75      0.75      0.75     38719\n",
      "weighted avg       0.76      0.76      0.76     38719\n",
      "\n",
      "[[10527  4987]\n",
      " [ 4240 18965]]\n"
     ]
    }
   ],
   "source": [
    "deeper_params = best_params.copy()\n",
    "deeper_params['num_leaves'] = 600\n",
    "deeper_params['max_depth'] = 45\n",
    "#deeper_params['max_bin'] = 500\n",
    "clf = lgb.LGBMClassifier(\n",
    "    random_state=model_params['rseed'], \n",
    "    is_unbalance=True, \n",
    "    **deeper_params\n",
    ")\n",
    "clf.fit(X_train_nb_w2v, y_train)\n",
    "y_pred = clf.predict(X_test_nb_w2v)\n",
    "print('accuracy %s' % accuracy_score(y_pred, y_test))\n",
    "print(classification_report(y_test, y_pred))\n",
    "print(confusion_matrix(y_test, y_pred))"
   ]
  },
  {
   "cell_type": "code",
   "execution_count": 49,
   "id": "4a1efd40-9b9d-4fc5-83ed-cb6a71987ddf",
   "metadata": {},
   "outputs": [],
   "source": [
    "from sklearn.linear_model import LinearRegression \n",
    "lm = LinearRegression()\n",
    "lm.fit(X_train_nb_w2v, y_train)\n",
    "lm_pred = lm.predict(X_train_nb_w2v)\n",
    "lm_pred_test = lm.predict(X_test_nb_w2v)"
   ]
  },
  {
   "cell_type": "code",
   "execution_count": 50,
   "id": "f8f31dad-1e60-4475-b27c-888d478b41f3",
   "metadata": {},
   "outputs": [
    {
     "name": "stdout",
     "output_type": "stream",
     "text": [
      "[LightGBM] [Warning] lambda_l1 is set=0.5, reg_alpha=0.0 will be ignored. Current value: lambda_l1=0.5\n",
      "[LightGBM] [Warning] lambda_l2 is set=0.5, reg_lambda=0.0 will be ignored. Current value: lambda_l2=0.5\n",
      "[LightGBM] [Warning] feature_fraction is set=1, colsample_bytree=1.0 will be ignored. Current value: feature_fraction=1\n",
      "[LightGBM] [Warning] bagging_fraction is set=0.5, subsample=1.0 will be ignored. Current value: bagging_fraction=0.5\n",
      "[LightGBM] [Warning] min_data_in_leaf is set=50, min_child_samples=20 will be ignored. Current value: min_data_in_leaf=50\n",
      "accuracy 0.7601694258632713\n",
      "              precision    recall  f1-score   support\n",
      "\n",
      "           0       0.71      0.68      0.69     15514\n",
      "           1       0.79      0.81      0.80     23205\n",
      "\n",
      "    accuracy                           0.76     38719\n",
      "   macro avg       0.75      0.75      0.75     38719\n",
      "weighted avg       0.76      0.76      0.76     38719\n",
      "\n",
      "[[10544  4970]\n",
      " [ 4316 18889]]\n"
     ]
    }
   ],
   "source": [
    "X_train_nb_w2v_ols = X_train_nb_w2v.copy()\n",
    "X_test_nb_w2v_ols = X_test_nb_w2v.copy()\n",
    "X_train_nb_w2v_ols['ols_pred'] = lm_pred\n",
    "X_test_nb_w2v_ols['ols_pred'] = lm_pred_test\n",
    "deeper_params = best_params.copy()\n",
    "#deeper_params['num_leaves'] = 600\n",
    "deeper_params['max_depth'] = 45\n",
    "deeper_params['max_bin'] = 500\n",
    "clf = lgb.LGBMClassifier(\n",
    "    random_state=model_params['rseed'], \n",
    "    is_unbalance=True, \n",
    "    **deeper_params\n",
    ")\n",
    "clf.fit(X_train_nb_w2v_ols, y_train)\n",
    "y_pred = clf.predict(X_test_nb_w2v_ols)\n",
    "print('accuracy %s' % accuracy_score(y_pred, y_test))\n",
    "print(classification_report(y_test, y_pred))\n",
    "print(confusion_matrix(y_test, y_pred))"
   ]
  },
  {
   "cell_type": "code",
   "execution_count": 44,
   "id": "9037321f-a3f3-4a66-b582-38ba22d0c46e",
   "metadata": {},
   "outputs": [
    {
     "name": "stdout",
     "output_type": "stream",
     "text": [
      "[LightGBM] [Warning] lambda_l1 is set=0.5, reg_alpha=0.0 will be ignored. Current value: lambda_l1=0.5\n",
      "[LightGBM] [Warning] lambda_l2 is set=0.5, reg_lambda=0.0 will be ignored. Current value: lambda_l2=0.5\n",
      "[LightGBM] [Warning] feature_fraction is set=1, colsample_bytree=1.0 will be ignored. Current value: feature_fraction=1\n",
      "[LightGBM] [Warning] bagging_fraction is set=0.5, subsample=1.0 will be ignored. Current value: bagging_fraction=0.5\n",
      "[LightGBM] [Warning] min_data_in_leaf is set=50, min_child_samples=20 will be ignored. Current value: min_data_in_leaf=50\n",
      "accuracy 0.7614866086417521\n",
      "              precision    recall  f1-score   support\n",
      "\n",
      "           0       0.71      0.69      0.70     15514\n",
      "           1       0.79      0.81      0.80     23205\n",
      "\n",
      "    accuracy                           0.76     38719\n",
      "   macro avg       0.75      0.75      0.75     38719\n",
      "weighted avg       0.76      0.76      0.76     38719\n",
      "\n",
      "[[10658  4856]\n",
      " [ 4379 18826]]\n"
     ]
    }
   ],
   "source": [
    "deeper_params = best_params.copy()\n",
    "#deeper_params['num_leaves'] = 600\n",
    "deeper_params['max_depth'] = 45\n",
    "deeper_params['max_bin'] = 500\n",
    "clf = lgb.LGBMClassifier(\n",
    "    random_state=model_params['rseed'], \n",
    "    is_unbalance=True, \n",
    "    **deeper_params\n",
    ")\n",
    "clf.fit(X_train_nb_w2v, y_train)\n",
    "y_pred = clf.predict(X_test_nb_w2v)\n",
    "print('accuracy %s' % accuracy_score(y_pred, y_test))\n",
    "print(classification_report(y_test, y_pred))\n",
    "print(confusion_matrix(y_test, y_pred))"
   ]
  },
  {
   "cell_type": "code",
   "execution_count": 13,
   "id": "13843bc2-d7ae-49b3-83d0-ac1a2adf1d70",
   "metadata": {},
   "outputs": [
    {
     "name": "stdout",
     "output_type": "stream",
     "text": [
      "[LightGBM] [Warning] lambda_l1 is set=0, reg_alpha=0.0 will be ignored. Current value: lambda_l1=0\n",
      "[LightGBM] [Warning] lambda_l2 is set=0, reg_lambda=0.0 will be ignored. Current value: lambda_l2=0\n",
      "[LightGBM] [Warning] feature_fraction is set=0.2, colsample_bytree=1.0 will be ignored. Current value: feature_fraction=0.2\n",
      "[LightGBM] [Warning] bagging_fraction is set=0.5, subsample=1.0 will be ignored. Current value: bagging_fraction=0.5\n",
      "accuracy 0.7673235362483535\n",
      "              precision    recall  f1-score   support\n",
      "\n",
      "           0       0.72      0.70      0.71     15514\n",
      "           1       0.80      0.81      0.81     23205\n",
      "\n",
      "    accuracy                           0.77     38719\n",
      "   macro avg       0.76      0.76      0.76     38719\n",
      "weighted avg       0.77      0.77      0.77     38719\n",
      "\n",
      "[[10813  4701]\n",
      " [ 4308 18897]]\n"
     ]
    }
   ],
   "source": [
    "clf = lgb.LGBMClassifier(\n",
    "    random_state=model_params['rseed'], \n",
    "    is_unbalance=True, \n",
    "    bagging_fraction=0.5, \n",
    "    feature_fraction=0.2, \n",
    "    max_depth = 55, \n",
    "    max_bin = 500, \n",
    "    num_leaves = 400, \n",
    "    lambda_l1 = 0,\n",
    "    lambda_l2 = 0\n",
    ")\n",
    "clf.fit(X_train_nb_w2v, y_train)\n",
    "y_pred = clf.predict(X_test_nb_w2v)\n",
    "print('accuracy %s' % accuracy_score(y_pred, y_test))\n",
    "print(classification_report(y_test, y_pred))\n",
    "print(confusion_matrix(y_test, y_pred))"
   ]
  },
  {
   "cell_type": "code",
   "execution_count": 14,
   "id": "890ba733-1c23-40b3-ac8c-c645b4ad4146",
   "metadata": {},
   "outputs": [],
   "source": [
    "from pdpbox import pdp, get_dataset, info_plots\n",
    "from matplotlib import pyplot as plt"
   ]
  },
  {
   "cell_type": "code",
   "execution_count": 16,
   "id": "2c4ef9ca-f74f-454e-b437-d7226daf5662",
   "metadata": {},
   "outputs": [
    {
     "data": {
      "text/plain": [
       "Index([                 'blurb_len',                   'name_len',\n",
       "                         'usd_goal',                   'deadline',\n",
       "                      'launched_at',      'currency_outcome_mean',\n",
       "             'country_outcome_mean',        'cat_id_outcome_mean',\n",
       "       'cat_parent_id_outcome_mean',        'loc_id_outcome_mean',\n",
       "       ...\n",
       "                                290,                          291,\n",
       "                                292,                          293,\n",
       "                                294,                          295,\n",
       "                                296,                          297,\n",
       "                                298,                          299],\n",
       "      dtype='object', length=318)"
      ]
     },
     "execution_count": 16,
     "metadata": {},
     "output_type": "execute_result"
    }
   ],
   "source": [
    "X_train_nb_w2v.columns"
   ]
  },
  {
   "cell_type": "code",
   "execution_count": 15,
   "id": "c3832e48-5844-4d64-b733-0df88c613fcd",
   "metadata": {
    "collapsed": true,
    "jupyter": {
     "outputs_hidden": true
    },
    "tags": []
   },
   "outputs": [
    {
     "data": {
      "text/plain": [
       "(<Figure size 1080x684 with 2 Axes>,\n",
       " {'title_ax': <matplotlib.axes._subplots.AxesSubplot at 0x7f8768693820>,\n",
       "  'pdp_ax': <matplotlib.axes._subplots.AxesSubplot at 0x7f8768666ee0>})"
      ]
     },
     "execution_count": 15,
     "metadata": {},
     "output_type": "execute_result"
    },
    {
     "data": {
      "image/png": "[encoded data removed]",
      "text/plain": [
       "<Figure size 1080x684 with 2 Axes>"
      ]
     },
     "metadata": {
      "needs_background": "light"
     },
     "output_type": "display_data"
    }
   ],
   "source": [
    "# Create the data that we will plot\n",
    "pdp_goals = pdp.pdp_isolate(model=clf, dataset=X_train_nb_w2v, model_features=X_train_nb_w2v.columns, feature='nb_proba')\n",
    "\n",
    "# plot it\n",
    "pdp.pdp_plot(pdp_goals, 'nb_proba')"
   ]
  },
  {
   "cell_type": "code",
   "execution_count": 17,
   "id": "a8ffd6c0-3d60-47d2-9eab-54559d2685a6",
   "metadata": {
    "collapsed": true,
    "jupyter": {
     "outputs_hidden": true
    },
    "tags": []
   },
   "outputs": [
    {
     "data": {
      "text/plain": [
       "(<Figure size 1080x684 with 2 Axes>,\n",
       " {'title_ax': <matplotlib.axes._subplots.AxesSubplot at 0x7f872636f6d0>,\n",
       "  'pdp_ax': <matplotlib.axes._subplots.AxesSubplot at 0x7f8726103cd0>})"
      ]
     },
     "execution_count": 17,
     "metadata": {},
     "output_type": "execute_result"
    },
    {
     "data": {
      "image/png": "[encoded data removed]",
      "text/plain": [
       "<Figure size 1080x684 with 2 Axes>"
      ]
     },
     "metadata": {
      "needs_background": "light"
     },
     "output_type": "display_data"
    }
   ],
   "source": [
    "pdp_goals = pdp.pdp_isolate(model=clf, dataset=X_train_nb_w2v, model_features=X_train_nb_w2v.columns, feature='cat_parent_id_outcome_mean')\n",
    "\n",
    "# plot it\n",
    "pdp.pdp_plot(pdp_goals, 'cat_parent_id_outcome_mean')"
   ]
  },
  {
   "cell_type": "code",
   "execution_count": 18,
   "id": "01744574-af08-4598-bfa6-8671dd638fd9",
   "metadata": {},
   "outputs": [
    {
     "data": {
      "text/plain": [
       "(<Figure size 540x684 with 3 Axes>,\n",
       " {'title_ax': <matplotlib.axes._subplots.AxesSubplot at 0x7f872635b760>,\n",
       "  'pdp_inter_ax': <matplotlib.axes._subplots.AxesSubplot at 0x7f8705fb6160>})"
      ]
     },
     "execution_count": 18,
     "metadata": {},
     "output_type": "execute_result"
    },
    {
     "data": {
      "image/png": "[encoded data removed]",
      "text/plain": [
       "<Figure size 540x684 with 3 Axes>"
      ]
     },
     "metadata": {
      "needs_background": "light"
     },
     "output_type": "display_data"
    }
   ],
   "source": [
    "features_to_plot = ['nb_proba', 'cat_parent_id_outcome_mean']\n",
    "inter1  =  pdp.pdp_interact(model=clf, dataset=X_train_nb_w2v, model_features=X_train_nb_w2v.columns, features=features_to_plot)\n",
    "\n",
    "pdp.pdp_interact_plot(pdp_interact_out=inter1, feature_names=features_to_plot, plot_type='contour')"
   ]
  },
  {
   "cell_type": "code",
   "execution_count": null,
   "id": "de1a62b8-019c-491d-8ecc-0303fcf9ac7e",
   "metadata": {},
   "outputs": [],
   "source": []
  }
 ],
 "metadata": {
  "kernelspec": {
   "display_name": "Python 3",
   "language": "python",
   "name": "python3"
  },
  "language_info": {
   "codemirror_mode": {
    "name": "ipython",
    "version": 3
   },
   "file_extension": ".py",
   "mimetype": "text/x-python",
   "name": "python",
   "nbconvert_exporter": "python",
   "pygments_lexer": "ipython3",
   "version": "3.8.8"
  }
 },
 "nbformat": 4,
 "nbformat_minor": 5
}
