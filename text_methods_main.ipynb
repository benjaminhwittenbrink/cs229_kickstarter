{
 "cells": [
  {
   "cell_type": "code",
   "execution_count": 1,
   "id": "3e40a259-e5f1-4b79-ad6d-0283f4c1376f",
   "metadata": {},
   "outputs": [
    {
     "name": "stderr",
     "output_type": "stream",
     "text": [
      "/Users/benji/anaconda3/envs/play/lib/python3.8/site-packages/gensim/similarities/__init__.py:15: UserWarning: The gensim.similarities.levenshtein submodule is disabled, because the optional Levenshtein package <https://pypi.org/project/python-Levenshtein/> is unavailable. Install Levenhstein (e.g. `pip install python-Levenshtein`) to suppress this warning.\n",
      "  warnings.warn(msg)\n"
     ]
    }
   ],
   "source": [
    "import pandas as pd \n",
    "import numpy as np \n",
    "\n",
    "import pickle\n",
    "import logging\n",
    "import nltk \n",
    "from nltk.corpus import stopwords\n",
    "\n",
    "import re\n",
    "import gensim "
   ]
  },
  {
   "cell_type": "code",
   "execution_count": 2,
   "id": "72882c46-1f67-4c1d-a890-7ecacc9c3d31",
   "metadata": {},
   "outputs": [],
   "source": [
    "from sklearn.model_selection import train_test_split \n",
    "from sklearn.feature_extraction.text import CountVectorizer, TfidfVectorizer\n",
    "from sklearn.metrics import accuracy_score, confusion_matrix, classification_report"
   ]
  },
  {
   "cell_type": "code",
   "execution_count": 3,
   "id": "9aabf58f-1c9f-4b97-b865-da3876dc62e0",
   "metadata": {},
   "outputs": [],
   "source": [
    "from sklearn.naive_bayes import MultinomialNB\n",
    "from sklearn.pipeline import Pipeline\n",
    "from sklearn.feature_extraction.text import CountVectorizer, TfidfVectorizer\n",
    "from sklearn.feature_extraction.text import TfidfTransformer"
   ]
  },
  {
   "cell_type": "code",
   "execution_count": 4,
   "id": "05ff6f1d-0dc9-4a90-b2aa-d83347f01889",
   "metadata": {},
   "outputs": [],
   "source": [
    "from sklearn.linear_model import SGDClassifier, LogisticRegression "
   ]
  },
  {
   "cell_type": "code",
   "execution_count": 5,
   "id": "5d0286b3-f6aa-411e-94c0-256f2fcef310",
   "metadata": {},
   "outputs": [],
   "source": [
    "df = pd.read_parquet(\"data/all_processed_df.parquet.gzip\")"
   ]
  },
  {
   "cell_type": "code",
   "execution_count": 6,
   "id": "c5efcf9c-37be-4611-a361-297df2a9c500",
   "metadata": {},
   "outputs": [],
   "source": [
    "RE_replace_space = re.compile('[/(){}\\[\\]\\|@,;]')\n",
    "RE_symbols_to_drop = re.compile('[^0-9a-z #+_]')\n",
    "STOPWORDS = set(stopwords.words('english'))\n",
    "\n",
    "def clean_text(txt):\n",
    "    if txt is None: return ''\n",
    "    txt = txt.lower()\n",
    "    txt = RE_replace_space.sub(' ', txt)\n",
    "    txt = RE_symbols_to_drop.sub('', txt)\n",
    "    txt = ' '.join(word for word in txt.split() if word not in STOPWORDS)\n",
    "    return txt \n",
    "\n",
    "df['blurb_cln'] = df['blurb'].apply(clean_text)"
   ]
  },
  {
   "cell_type": "code",
   "execution_count": 7,
   "id": "b3e0f7a2-d4a8-486d-992f-7f2a0269955d",
   "metadata": {},
   "outputs": [],
   "source": [
    "rseed = 229\n",
    "X = df['blurb_cln']\n",
    "y = np.where(df['state']=='successful', 1, 0)\n",
    "X_train, X_test, y_train, y_test = train_test_split(X, y, test_size=0.3, random_state=rseed)"
   ]
  },
  {
   "cell_type": "code",
   "execution_count": 8,
   "id": "012b60ff-ef5c-423c-86fb-332cf23275cc",
   "metadata": {},
   "outputs": [
    {
     "name": "stdout",
     "output_type": "stream",
     "text": [
      "accuracy 0.6990960451977402\n",
      "              precision    recall  f1-score   support\n",
      "\n",
      "           0       0.71      0.41      0.52     17594\n",
      "           1       0.69      0.89      0.78     26656\n",
      "\n",
      "    accuracy                           0.70     44250\n",
      "   macro avg       0.70      0.65      0.65     44250\n",
      "weighted avg       0.70      0.70      0.68     44250\n",
      "\n"
     ]
    }
   ],
   "source": [
    "nb = Pipeline([\n",
    "    ('vect', CountVectorizer(ngram_range=(1,1))), \n",
    "    ('tfidf', TfidfTransformer()), \n",
    "    ('clf', MultinomialNB())\n",
    "])\n",
    "nb.fit(X_train, y_train)\n",
    "\n",
    "\n",
    "y_pred = nb.predict(X_test)\n",
    "print('accuracy %s' % accuracy_score(y_pred, y_test))\n",
    "print(classification_report(y_test, y_pred))\n",
    "# ngrams: --> acc:\n",
    "# (1,1)   --> 0.7\n",
    "# (1,2)   --> 0.68\n",
    "# (2,2)   --> 0.68 \n",
    "# (1,3)   --> 0.67\n",
    "\n",
    "# UNIGRAMS BEST PREDICTOR "
   ]
  },
  {
   "cell_type": "code",
   "execution_count": 9,
   "id": "454a09f6-5cc8-45b7-b48d-148201f5373d",
   "metadata": {
    "tags": []
   },
   "outputs": [
    {
     "name": "stdout",
     "output_type": "stream",
     "text": [
      "accuracy 0.7194124293785311\n",
      "              precision    recall  f1-score   support\n",
      "\n",
      "           0       0.69      0.53      0.60     17594\n",
      "           1       0.73      0.84      0.78     26656\n",
      "\n",
      "    accuracy                           0.72     44250\n",
      "   macro avg       0.71      0.69      0.69     44250\n",
      "weighted avg       0.72      0.72      0.71     44250\n",
      "\n"
     ]
    }
   ],
   "source": [
    "# W/O TF-IDF transformation  \n",
    "nb = Pipeline([\n",
    "    ('vect', CountVectorizer(ngram_range=(1,2))), \n",
    "    #('tfidf', TfidfTransformer()), \n",
    "    ('clf', MultinomialNB())\n",
    "])\n",
    "nb.fit(X_train, y_train)\n",
    "\n",
    "\n",
    "y_pred = nb.predict(X_test)\n",
    "print('accuracy %s' % accuracy_score(y_pred, y_test))\n",
    "print(classification_report(y_test, y_pred))\n",
    "# ngrams: --> acc:\n",
    "# (1,1)   --> 0.71\n",
    "# (1,2)   --> 0.72\n",
    "# (2,2)   --> 0.69\n",
    "# (1,3)   --> 0.72\n",
    "\n",
    "# UNIGRAMS BEST PREDICTOR "
   ]
  },
  {
   "cell_type": "code",
   "execution_count": 17,
   "id": "80acf875-39cc-4877-9174-528216b57ed8",
   "metadata": {},
   "outputs": [],
   "source": [
    "np.save(\"data/res/multi_nb_preds_train_opt.npy\", nb.predict_proba(X_train))\n",
    "np.save(\"data/res/multi_nb_preds_test_opt.npy\", nb.predict_proba(X_test))"
   ]
  },
  {
   "cell_type": "code",
   "execution_count": 21,
   "id": "2dd7f478-daaf-435e-beda-d3013f51fa63",
   "metadata": {},
   "outputs": [
    {
     "name": "stdout",
     "output_type": "stream",
     "text": [
      "accuracy 0.6498681732580037\n",
      "              precision    recall  f1-score   support\n",
      "\n",
      "           0       0.54      0.77      0.64     26428\n",
      "           1       0.79      0.57      0.66     39947\n",
      "\n",
      "    accuracy                           0.65     66375\n",
      "   macro avg       0.67      0.67      0.65     66375\n",
      "weighted avg       0.69      0.65      0.65     66375\n",
      "\n"
     ]
    }
   ],
   "source": [
    "sgd = Pipeline([\n",
    "    ('vect', CountVectorizer()),\n",
    "    ('tfidf', TfidfTransformer()), \n",
    "    ('clf', SGDClassifier(penalty='l2', alpha=1e-3, random_state=rseed, class_weight='balanced'))\n",
    "])\n",
    "sgd.fit(X_train, y_train)\n",
    "\n",
    "y_pred = sgd.predict(X_test)\n",
    "print('accuracy %s' % accuracy_score(y_pred, y_test))\n",
    "print(classification_report(y_test, y_pred))"
   ]
  },
  {
   "cell_type": "code",
   "execution_count": 25,
   "id": "2ea0cd98-32e5-4543-9b1a-27747a429eb6",
   "metadata": {
    "collapsed": true,
    "jupyter": {
     "outputs_hidden": true
    },
    "tags": []
   },
   "outputs": [
    {
     "name": "stderr",
     "output_type": "stream",
     "text": [
      "/Users/benji/anaconda3/envs/play/lib/python3.8/site-packages/sklearn/linear_model/_logistic.py:763: ConvergenceWarning: lbfgs failed to converge (status=1):\n",
      "STOP: TOTAL NO. of ITERATIONS REACHED LIMIT.\n",
      "\n",
      "Increase the number of iterations (max_iter) or scale the data as shown in:\n",
      "    https://scikit-learn.org/stable/modules/preprocessing.html\n",
      "Please also refer to the documentation for alternative solver options:\n",
      "    https://scikit-learn.org/stable/modules/linear_model.html#logistic-regression\n",
      "  n_iter_i = _check_optimize_result(\n"
     ]
    },
    {
     "ename": "ValueError",
     "evalue": "This LogisticRegression estimator requires y to be passed, but the target y is None.",
     "output_type": "error",
     "traceback": [
      "\u001b[0;31m---------------------------------------------------------------------------\u001b[0m",
      "\u001b[0;31mValueError\u001b[0m                                Traceback (most recent call last)",
      "\u001b[0;32m<ipython-input-25-d19c41c72e2e>\u001b[0m in \u001b[0;36m<module>\u001b[0;34m\u001b[0m\n\u001b[1;32m      7\u001b[0m \u001b[0;34m\u001b[0m\u001b[0m\n\u001b[1;32m      8\u001b[0m \u001b[0mlogreg\u001b[0m\u001b[0;34m.\u001b[0m\u001b[0mfit\u001b[0m\u001b[0;34m(\u001b[0m\u001b[0mX_train\u001b[0m\u001b[0;34m,\u001b[0m \u001b[0my_train\u001b[0m\u001b[0;34m)\u001b[0m\u001b[0;34m\u001b[0m\u001b[0;34m\u001b[0m\u001b[0m\n\u001b[0;32m----> 9\u001b[0;31m \u001b[0my_pred\u001b[0m \u001b[0;34m=\u001b[0m \u001b[0mlogreg\u001b[0m\u001b[0;34m.\u001b[0m\u001b[0mfit\u001b[0m\u001b[0;34m(\u001b[0m\u001b[0mX_test\u001b[0m\u001b[0;34m)\u001b[0m\u001b[0;34m\u001b[0m\u001b[0;34m\u001b[0m\u001b[0m\n\u001b[0m\u001b[1;32m     10\u001b[0m \u001b[0mprint\u001b[0m\u001b[0;34m(\u001b[0m\u001b[0;34m'accuracy %s'\u001b[0m \u001b[0;34m%\u001b[0m \u001b[0maccuracy_score\u001b[0m\u001b[0;34m(\u001b[0m\u001b[0my_pred\u001b[0m\u001b[0;34m,\u001b[0m \u001b[0my_test\u001b[0m\u001b[0;34m)\u001b[0m\u001b[0;34m)\u001b[0m\u001b[0;34m\u001b[0m\u001b[0;34m\u001b[0m\u001b[0m\n\u001b[1;32m     11\u001b[0m \u001b[0mprint\u001b[0m\u001b[0;34m(\u001b[0m\u001b[0mclassification_report\u001b[0m\u001b[0;34m(\u001b[0m\u001b[0my_test\u001b[0m\u001b[0;34m,\u001b[0m \u001b[0my_pred\u001b[0m\u001b[0;34m)\u001b[0m\u001b[0;34m)\u001b[0m\u001b[0;34m\u001b[0m\u001b[0;34m\u001b[0m\u001b[0m\n",
      "\u001b[0;32m~/anaconda3/envs/play/lib/python3.8/site-packages/sklearn/pipeline.py\u001b[0m in \u001b[0;36mfit\u001b[0;34m(self, X, y, **fit_params)\u001b[0m\n\u001b[1;32m    344\u001b[0m             \u001b[0;32mif\u001b[0m \u001b[0mself\u001b[0m\u001b[0;34m.\u001b[0m\u001b[0m_final_estimator\u001b[0m \u001b[0;34m!=\u001b[0m \u001b[0;34m'passthrough'\u001b[0m\u001b[0;34m:\u001b[0m\u001b[0;34m\u001b[0m\u001b[0;34m\u001b[0m\u001b[0m\n\u001b[1;32m    345\u001b[0m                 \u001b[0mfit_params_last_step\u001b[0m \u001b[0;34m=\u001b[0m \u001b[0mfit_params_steps\u001b[0m\u001b[0;34m[\u001b[0m\u001b[0mself\u001b[0m\u001b[0;34m.\u001b[0m\u001b[0msteps\u001b[0m\u001b[0;34m[\u001b[0m\u001b[0;34m-\u001b[0m\u001b[0;36m1\u001b[0m\u001b[0;34m]\u001b[0m\u001b[0;34m[\u001b[0m\u001b[0;36m0\u001b[0m\u001b[0;34m]\u001b[0m\u001b[0;34m]\u001b[0m\u001b[0;34m\u001b[0m\u001b[0;34m\u001b[0m\u001b[0m\n\u001b[0;32m--> 346\u001b[0;31m                 \u001b[0mself\u001b[0m\u001b[0;34m.\u001b[0m\u001b[0m_final_estimator\u001b[0m\u001b[0;34m.\u001b[0m\u001b[0mfit\u001b[0m\u001b[0;34m(\u001b[0m\u001b[0mXt\u001b[0m\u001b[0;34m,\u001b[0m \u001b[0my\u001b[0m\u001b[0;34m,\u001b[0m \u001b[0;34m**\u001b[0m\u001b[0mfit_params_last_step\u001b[0m\u001b[0;34m)\u001b[0m\u001b[0;34m\u001b[0m\u001b[0;34m\u001b[0m\u001b[0m\n\u001b[0m\u001b[1;32m    347\u001b[0m \u001b[0;34m\u001b[0m\u001b[0m\n\u001b[1;32m    348\u001b[0m         \u001b[0;32mreturn\u001b[0m \u001b[0mself\u001b[0m\u001b[0;34m\u001b[0m\u001b[0;34m\u001b[0m\u001b[0m\n",
      "\u001b[0;32m~/anaconda3/envs/play/lib/python3.8/site-packages/sklearn/linear_model/_logistic.py\u001b[0m in \u001b[0;36mfit\u001b[0;34m(self, X, y, sample_weight)\u001b[0m\n\u001b[1;32m   1342\u001b[0m             \u001b[0m_dtype\u001b[0m \u001b[0;34m=\u001b[0m \u001b[0;34m[\u001b[0m\u001b[0mnp\u001b[0m\u001b[0;34m.\u001b[0m\u001b[0mfloat64\u001b[0m\u001b[0;34m,\u001b[0m \u001b[0mnp\u001b[0m\u001b[0;34m.\u001b[0m\u001b[0mfloat32\u001b[0m\u001b[0;34m]\u001b[0m\u001b[0;34m\u001b[0m\u001b[0;34m\u001b[0m\u001b[0m\n\u001b[1;32m   1343\u001b[0m \u001b[0;34m\u001b[0m\u001b[0m\n\u001b[0;32m-> 1344\u001b[0;31m         X, y = self._validate_data(X, y, accept_sparse='csr', dtype=_dtype,\n\u001b[0m\u001b[1;32m   1345\u001b[0m                                    \u001b[0morder\u001b[0m\u001b[0;34m=\u001b[0m\u001b[0;34m\"C\"\u001b[0m\u001b[0;34m,\u001b[0m\u001b[0;34m\u001b[0m\u001b[0;34m\u001b[0m\u001b[0m\n\u001b[1;32m   1346\u001b[0m                                    accept_large_sparse=solver != 'liblinear')\n",
      "\u001b[0;32m~/anaconda3/envs/play/lib/python3.8/site-packages/sklearn/base.py\u001b[0m in \u001b[0;36m_validate_data\u001b[0;34m(self, X, y, reset, validate_separately, **check_params)\u001b[0m\n\u001b[1;32m    412\u001b[0m         \u001b[0;32mif\u001b[0m \u001b[0my\u001b[0m \u001b[0;32mis\u001b[0m \u001b[0;32mNone\u001b[0m\u001b[0;34m:\u001b[0m\u001b[0;34m\u001b[0m\u001b[0;34m\u001b[0m\u001b[0m\n\u001b[1;32m    413\u001b[0m             \u001b[0;32mif\u001b[0m \u001b[0mself\u001b[0m\u001b[0;34m.\u001b[0m\u001b[0m_get_tags\u001b[0m\u001b[0;34m(\u001b[0m\u001b[0;34m)\u001b[0m\u001b[0;34m[\u001b[0m\u001b[0;34m'requires_y'\u001b[0m\u001b[0;34m]\u001b[0m\u001b[0;34m:\u001b[0m\u001b[0;34m\u001b[0m\u001b[0;34m\u001b[0m\u001b[0m\n\u001b[0;32m--> 414\u001b[0;31m                 raise ValueError(\n\u001b[0m\u001b[1;32m    415\u001b[0m                     \u001b[0;34mf\"This {self.__class__.__name__} estimator \"\u001b[0m\u001b[0;34m\u001b[0m\u001b[0;34m\u001b[0m\u001b[0m\n\u001b[1;32m    416\u001b[0m                     \u001b[0;34mf\"requires y to be passed, but the target y is None.\"\u001b[0m\u001b[0;34m\u001b[0m\u001b[0;34m\u001b[0m\u001b[0m\n",
      "\u001b[0;31mValueError\u001b[0m: This LogisticRegression estimator requires y to be passed, but the target y is None."
     ]
    }
   ],
   "source": [
    "logreg = Pipeline([\n",
    "    ('vect', CountVectorizer()),\n",
    "    ('tfidf', TfidfTransformer()), \n",
    "    ('clf', LogisticRegression(n_jobs=1, C=1e5, max_iter=2000))\n",
    "    \n",
    "])\n",
    "\n",
    "logreg.fit(X_train, y_train)\n",
    "y_pred = logreg.fit(X_test)\n",
    "print('accuracy %s' % accuracy_score(y_pred, y_test))\n",
    "print(classification_report(y_test, y_pred))"
   ]
  },
  {
   "cell_type": "code",
   "execution_count": 10,
   "id": "28c1b998-5412-4853-b277-53cb61ea9d31",
   "metadata": {
    "tags": []
   },
   "outputs": [],
   "source": [
    "from gensim.models import Word2Vec\n",
    "\n",
    "wv = gensim.models.KeyedVectors.load_word2vec_format(\"/Users/benji/Downloads/GoogleNews-vectors-negative300.bin\", binary=True)"
   ]
  },
  {
   "cell_type": "code",
   "execution_count": 8,
   "id": "1175e590-2730-4276-ad37-de5431276b1d",
   "metadata": {},
   "outputs": [
    {
     "data": {
      "text/plain": [
       "array([[ 0.06731994, -0.05344657,  0.01899059, ..., -0.09324721,\n",
       "        -0.00733469, -0.00514565],\n",
       "       [ 0.05295623,  0.06545979,  0.06619529, ..., -0.03585578,\n",
       "         0.01089464, -0.04707221],\n",
       "       [-0.00851202, -0.03422449,  0.03228392, ...,  0.05151315,\n",
       "        -0.02522733,  0.01746507],\n",
       "       ...,\n",
       "       [-0.0200327 , -0.09257349, -0.01978385, ..., -0.01667318,\n",
       "        -0.01368694,  0.04753101],\n",
       "       [ 0.02795097, -0.02753379,  0.03087122, ..., -0.00756136,\n",
       "         0.02304912,  0.01626997],\n",
       "       [ 0.03380508, -0.03380508, -0.00294652, ...,  0.05957004,\n",
       "         0.05408813,  0.00973038]], dtype=float32)"
      ]
     },
     "execution_count": 8,
     "metadata": {},
     "output_type": "execute_result"
    }
   ],
   "source": [
    "wv.get_normed_vectors()"
   ]
  },
  {
   "cell_type": "code",
   "execution_count": 11,
   "id": "702cd7c8-dd4f-4bcd-8eff-2bda8b586f3b",
   "metadata": {
    "tags": []
   },
   "outputs": [],
   "source": [
    "def word_averaging(wv, words):\n",
    "    all_words, mean = set(), []\n",
    "    \n",
    "    for wrd in words: \n",
    "        if isinstance(wrd, np.ndarray):\n",
    "            mean.append(wrd)\n",
    "        elif wrd in wv.key_to_index:\n",
    "            mean.append(wv.get_vector(wrd, norm=True))\n",
    "            all_words.add(wv.key_to_index[wrd])\n",
    "    \n",
    "    if not mean: \n",
    "        logging.warning(\"cannot compute similarity with no input %s\", words)\n",
    "        return np.zeros(wv.vector_size, )\n",
    "    mean = gensim.matutils.unitvec(np.array(mean).mean(axis=0)).astype(np.float32)\n",
    "    return mean\n",
    "\n",
    "def word_averaging_list(wv, text_list):\n",
    "    return np.vstack( [word_averaging(wv, post) for post in text_list ])"
   ]
  },
  {
   "cell_type": "code",
   "execution_count": 16,
   "id": "0e872671-b013-4757-ab74-d10f47f5b83a",
   "metadata": {},
   "outputs": [],
   "source": [
    "def w2v_tokenize_text(text):\n",
    "    tokens = []\n",
    "    for sent in nltk.sent_tokenize(text, language='english'):\n",
    "        for word in nltk.word_tokenize(sent, language='english'):\n",
    "            if len(word) < 2:\n",
    "                continue\n",
    "            tokens.append(word)\n",
    "    return tokens\n",
    "\n",
    "X_train, X_test, y_train, y_test = train_test_split(df, y, test_size=0.3, random_state=rseed)\n",
    "#X_train, X_lnom, y_train, y_lnom = train_test_split(df, y, test_size=0.3, random_state=rseed)\n",
    "#X_train, X_test, y_train, y_test = train_test_split(X_train, y_train, test_size=0.25, random_state=rseed)"
   ]
  },
  {
   "cell_type": "code",
   "execution_count": 17,
   "id": "94176e28-5cb5-4d82-b3ca-5e7ab1e310fe",
   "metadata": {
    "tags": []
   },
   "outputs": [],
   "source": [
    "train_tokenized = X_train.apply( lambda r: w2v_tokenize_text(r['blurb_cln']), axis=1).values\n",
    "test_tokenized = X_test.apply( lambda r: w2v_tokenize_text(r['blurb_cln']), axis=1).values"
   ]
  },
  {
   "cell_type": "code",
   "execution_count": 18,
   "id": "853610d1-0467-449b-8d7e-bfda05a5c800",
   "metadata": {
    "collapsed": true,
    "jupyter": {
     "outputs_hidden": true
    },
    "tags": []
   },
   "outputs": [
    {
     "name": "stderr",
     "output_type": "stream",
     "text": [
      "WARNING:root:cannot compute similarity with no input []\n",
      "WARNING:root:cannot compute similarity with no input []\n",
      "WARNING:root:cannot compute similarity with no input ['unlockthepower']\n",
      "WARNING:root:cannot compute similarity with no input ['ttitanium', 'aaluminum', 'ssteel']\n",
      "WARNING:root:cannot compute similarity with no input []\n",
      "WARNING:root:cannot compute similarity with no input ['himnario', 'melodas', 'eternas']\n",
      "WARNING:root:cannot compute similarity with no input []\n",
      "WARNING:root:cannot compute similarity with no input ['helltones']\n",
      "WARNING:root:cannot compute similarity with no input ['cancelled']\n",
      "WARNING:root:cannot compute similarity with no input ['wwwartistswomencom']\n",
      "WARNING:root:cannot compute similarity with no input []\n",
      "WARNING:root:cannot compute similarity with no input ['zenmoon']\n",
      "WARNING:root:cannot compute similarity with no input ['hjlp', 'alastor', 'kickstarta', 'klassikerserien']\n",
      "WARNING:root:cannot compute similarity with no input ['frdmdasjlarcondemnedsoulsmoviefilmindieprojectpropagandacentralen']\n",
      "WARNING:root:cannot compute similarity with no input []\n",
      "WARNING:root:cannot compute similarity with no input ['lortsverige', '20', '2019']\n",
      "WARNING:root:cannot compute similarity with no input ['rawrendesigns']\n",
      "WARNING:root:cannot compute similarity with no input []\n",
      "WARNING:root:cannot compute similarity with no input ['renegadedrumbandcampcom']\n",
      "WARNING:root:cannot compute similarity with no input []\n",
      "WARNING:root:cannot compute similarity with no input ['wwwesmartmbelde']\n",
      "WARNING:root:cannot compute similarity with no input ['internationalhorsemanshiporg']\n",
      "WARNING:root:cannot compute similarity with no input ['tracxcrollrr']\n",
      "WARNING:root:cannot compute similarity with no input ['160050500']\n",
      "WARNING:root:cannot compute similarity with no input []\n",
      "WARNING:root:cannot compute similarity with no input []\n",
      "WARNING:root:cannot compute similarity with no input []\n",
      "WARNING:root:cannot compute similarity with no input ['nenass']\n",
      "WARNING:root:cannot compute similarity with no input ['sismo', '78']\n",
      "WARNING:root:cannot compute similarity with no input ['3raddisko', 'motrhelp']\n",
      "WARNING:root:cannot compute similarity with no input ['cortometraje', 'tesis', 'universitaria']\n",
      "WARNING:root:cannot compute similarity with no input []\n",
      "WARNING:root:cannot compute similarity with no input ['needtogetavantospreadourhappymusictotheworld']\n",
      "WARNING:root:cannot compute similarity with no input ['muspelheim']\n",
      "WARNING:root:cannot compute similarity with no input ['gakusei']\n",
      "WARNING:root:cannot compute similarity with no input ['cortometraje']\n",
      "WARNING:root:cannot compute similarity with no input ['lbum']\n",
      "WARNING:root:cannot compute similarity with no input ['200', 'seiten', 'freiheit']\n",
      "WARNING:root:cannot compute similarity with no input []\n",
      "WARNING:root:cannot compute similarity with no input []\n",
      "WARNING:root:cannot compute similarity with no input []\n",
      "WARNING:root:cannot compute similarity with no input ['activitytrackerdesignedforsoccerunlikemanyothers', 'myskillsplayerletsyoukeeptrackofassists', 'recoveriesandgoals']\n",
      "WARNING:root:cannot compute similarity with no input []\n",
      "WARNING:root:cannot compute similarity with no input ['intrep']\n",
      "WARNING:root:cannot compute similarity with no input []\n",
      "WARNING:root:cannot compute similarity with no input []\n",
      "WARNING:root:cannot compute similarity with no input ['myjournal']\n",
      "WARNING:root:cannot compute similarity with no input ['lenvotement']\n",
      "WARNING:root:cannot compute similarity with no input ['ellimcpins']\n",
      "WARNING:root:cannot compute similarity with no input ['foodtruck']\n",
      "WARNING:root:cannot compute similarity with no input ['havingfunftw']\n",
      "WARNING:root:cannot compute similarity with no input ['shgn003']\n",
      "WARNING:root:cannot compute similarity with no input ['jabones', 'naturales']\n",
      "WARNING:root:cannot compute similarity with no input []\n",
      "WARNING:root:cannot compute similarity with no input ['avslutad']\n",
      "WARNING:root:cannot compute similarity with no input []\n",
      "WARNING:root:cannot compute similarity with no input ['10']\n",
      "WARNING:root:cannot compute similarity with no input ['campaignsimple', 'workmanshipunparalleled']\n",
      "WARNING:root:cannot compute similarity with no input ['scrts', 'vrywhr']\n",
      "WARNING:root:cannot compute similarity with no input []\n",
      "WARNING:root:cannot compute similarity with no input []\n",
      "WARNING:root:cannot compute similarity with no input ['cantando', 'historias']\n",
      "WARNING:root:cannot compute similarity with no input ['wwwsblanchardcom']\n",
      "WARNING:root:cannot compute similarity with no input ['kysto']\n",
      "WARNING:root:cannot compute similarity with no input ['cervecera', 'sostenible']\n",
      "WARNING:root:cannot compute similarity with no input ['regalos', 'originales', 'personalizados']\n",
      "WARNING:root:cannot compute similarity with no input ['furbeast_forest']\n",
      "WARNING:root:cannot compute similarity with no input ['lunars', 'praxians', 'trollkin']\n",
      "WARNING:root:cannot compute similarity with no input []\n",
      "WARNING:root:cannot compute similarity with no input []\n",
      "WARNING:root:cannot compute similarity with no input ['cortometraje']\n",
      "WARNING:root:cannot compute similarity with no input ['zenitminiatures']\n",
      "WARNING:root:cannot compute similarity with no input []\n",
      "WARNING:root:cannot compute similarity with no input []\n",
      "WARNING:root:cannot compute similarity with no input ['webtoon', 'tripsarn', 'kormarn']\n",
      "WARNING:root:cannot compute similarity with no input []\n",
      "WARNING:root:cannot compute similarity with no input ['magabookzine']\n",
      "WARNING:root:cannot compute similarity with no input []\n",
      "WARNING:root:cannot compute similarity with no input ['souvlakiparty', 'neamakri', 'wholovessouvlaki']\n",
      "WARNING:root:cannot compute similarity with no input ['getpaul2devon']\n",
      "WARNING:root:cannot compute similarity with no input ['risiko']\n",
      "WARNING:root:cannot compute similarity with no input []\n",
      "WARNING:root:cannot compute similarity with no input ['wwwesmartmoebelde']\n",
      "WARNING:root:cannot compute similarity with no input ['fantasyroman']\n",
      "WARNING:root:cannot compute similarity with no input []\n",
      "WARNING:root:cannot compute similarity with no input ['hermitwriter']\n",
      "WARNING:root:cannot compute similarity with no input ['bogomila']\n",
      "WARNING:root:cannot compute similarity with no input ['201612cocosorimv']\n",
      "WARNING:root:cannot compute similarity with no input ['cyberzerker']\n",
      "WARNING:root:cannot compute similarity with no input ['krumphkrumphkrumph']\n",
      "WARNING:root:cannot compute similarity with no input ['objetos', 'personalizados']\n",
      "WARNING:root:cannot compute similarity with no input ['derpy', 'googlyeyed', 'eeveelutions']\n",
      "WARNING:root:cannot compute similarity with no input ['soundcloudcom', 'benjimontanareverbnationcom', 'benjimontanafacebookcom', 'benjimontana11717benjimontanacom']\n",
      "WARNING:root:cannot compute similarity with no input []\n",
      "WARNING:root:cannot compute similarity with no input ['batmanoutlaw']\n",
      "WARNING:root:cannot compute similarity with no input ['guudlook', 'guudwear', 'guud']\n",
      "WARNING:root:cannot compute similarity with no input ['waitless']\n",
      "WARNING:root:cannot compute similarity with no input ['womeninrecoveryblingbling']\n",
      "WARNING:root:cannot compute similarity with no input []\n",
      "WARNING:root:cannot compute similarity with no input []\n",
      "WARNING:root:cannot compute similarity with no input ['superdupersweetsandtreats']\n",
      "WARNING:root:cannot compute similarity with no input ['anaugmentedrealityclockandlifelikemetal', 'modelcelebratingthe50thanniversaryofthenasaapollo11moonlanding']\n",
      "WARNING:root:cannot compute similarity with no input ['foldylock', 'clipster']\n",
      "WARNING:root:cannot compute similarity with no input ['hardworkers']\n",
      "WARNING:root:cannot compute similarity with no input ['revomate10rrled']\n",
      "WARNING:root:cannot compute similarity with no input ['dicebound']\n",
      "WARNING:root:cannot compute similarity with no input ['shortfilm']\n",
      "WARNING:root:cannot compute similarity with no input ['45marathonsin45days']\n",
      "WARNING:root:cannot compute similarity with no input ['cortometraje']\n",
      "WARNING:root:cannot compute similarity with no input ['usclocknet']\n",
      "WARNING:root:cannot compute similarity with no input ['jessadorables']\n",
      "WARNING:root:cannot compute similarity with no input ['sagospelet', 'ventyrs', 'fjrde', 'reviderade', 'utgva']\n",
      "WARNING:root:cannot compute similarity with no input ['vodo']\n",
      "WARNING:root:cannot compute similarity with no input ['afropop']\n",
      "WARNING:root:cannot compute similarity with no input ['communaut', 'virtuelle', 'didentits', 'vrifies']\n",
      "WARNING:root:cannot compute similarity with no input ['20']\n",
      "WARNING:root:cannot compute similarity with no input ['wtfeatit']\n",
      "WARNING:root:cannot compute similarity with no input ['cortometraje']\n",
      "WARNING:root:cannot compute similarity with no input ['201952']\n",
      "WARNING:root:cannot compute similarity with no input ['muecas', 'oaxaqueas']\n",
      "WARNING:root:cannot compute similarity with no input ['birdits', 'planeits', 'handyhngr']\n",
      "WARNING:root:cannot compute similarity with no input ['nutalkie']\n",
      "WARNING:root:cannot compute similarity with no input ['cortometraje', 'estudiantil']\n",
      "WARNING:root:cannot compute similarity with no input ['1969', '1990']\n",
      "WARNING:root:cannot compute similarity with no input []\n",
      "WARNING:root:cannot compute similarity with no input ['liveorganized']\n",
      "WARNING:root:cannot compute similarity with no input ['20194ukaudiobulbvinylqrates200']\n",
      "WARNING:root:cannot compute similarity with no input ['daemoniumfilm', '2021', '1hr28m']\n",
      "WARNING:root:cannot compute similarity with no input ['40x50mm']\n",
      "WARNING:root:cannot compute similarity with no input ['ambachtelijk', 'gebrouwen', 'craftbier']\n",
      "WARNING:root:cannot compute similarity with no input ['umbrasang']\n",
      "WARNING:root:cannot compute similarity with no input ['ugentlig', 'kanaliseret', 'kalender', '2021']\n",
      "WARNING:root:cannot compute similarity with no input []\n",
      "WARNING:root:cannot compute similarity with no input ['dreamprayers']\n",
      "WARNING:root:cannot compute similarity with no input []\n",
      "WARNING:root:cannot compute similarity with no input ['jouw', 'ondeugendste', 'bordspel']\n",
      "WARNING:root:cannot compute similarity with no input ['covid19', '2020']\n",
      "WARNING:root:cannot compute similarity with no input []\n",
      "WARNING:root:cannot compute similarity with no input ['lescrayonsdecacahuete', 'pop_sawyer']\n",
      "WARNING:root:cannot compute similarity with no input ['everybodyneedslove']\n",
      "WARNING:root:cannot compute similarity with no input ['makingofanewcd']\n",
      "WARNING:root:cannot compute similarity with no input ['tetraloga', 'macabra']\n",
      "WARNING:root:cannot compute similarity with no input ['coffeeshopchurch']\n",
      "WARNING:root:cannot compute similarity with no input ['diabolical2020sucked']\n",
      "WARNING:root:cannot compute similarity with no input ['booksgameified']\n",
      "WARNING:root:cannot compute similarity with no input []\n",
      "WARNING:root:cannot compute similarity with no input ['srie', 'thtrale']\n",
      "WARNING:root:cannot compute similarity with no input ['furbulous']\n",
      "WARNING:root:cannot compute similarity with no input ['murale', 'extrieure']\n",
      "WARNING:root:cannot compute similarity with no input ['2japan']\n",
      "WARNING:root:cannot compute similarity with no input ['thanksthis', 'reallyrefreshing']\n",
      "WARNING:root:cannot compute similarity with no input ['360rr']\n",
      "WARNING:root:cannot compute similarity with no input ['queerpuertoricanchachaheelsperformance', 'asstravaganza']\n",
      "WARNING:root:cannot compute similarity with no input ['pacabamba']\n",
      "WARNING:root:cannot compute similarity with no input []\n",
      "WARNING:root:cannot compute similarity with no input ['dlfkdjdpfjvpodkv']\n",
      "WARNING:root:cannot compute similarity with no input []\n",
      "WARNING:root:cannot compute similarity with no input []\n",
      "WARNING:root:cannot compute similarity with no input ['intrappolati', 'nelloscurit']\n",
      "WARNING:root:cannot compute similarity with no input ['supergirlscout', 'easterbunnybrownies']\n",
      "WARNING:root:cannot compute similarity with no input ['takingaphotothattakesubacktoanewtimeandera']\n",
      "WARNING:root:cannot compute similarity with no input ['fidgetspinner', '2021']\n",
      "WARNING:root:cannot compute similarity with no input ['anticoronamultitool']\n",
      "WARNING:root:cannot compute similarity with no input ['psychothriller']\n",
      "WARNING:root:cannot compute similarity with no input ['anticanonical', 'pentolan', 'chrestomathy']\n",
      "WARNING:root:cannot compute similarity with no input ['eternitygravestonescom']\n",
      "WARNING:root:cannot compute similarity with no input ['bmworship']\n",
      "WARNING:root:cannot compute similarity with no input []\n",
      "WARNING:root:cannot compute similarity with no input ['hello322']\n",
      "WARNING:root:cannot compute similarity with no input ['maud', 'hixson']\n",
      "WARNING:root:cannot compute similarity with no input ['autoinspeccin', 'arteterapia']\n",
      "WARNING:root:cannot compute similarity with no input []\n",
      "WARNING:root:cannot compute similarity with no input ['supportweirdmusic']\n",
      "WARNING:root:cannot compute similarity with no input []\n",
      "WARNING:root:cannot compute similarity with no input []\n",
      "WARNING:root:cannot compute similarity with no input []\n",
      "WARNING:root:cannot compute similarity with no input ['cortometraje', 'estudiantil']\n",
      "WARNING:root:cannot compute similarity with no input ['illustrierte', 'spielkarten']\n",
      "WARNING:root:cannot compute similarity with no input []\n",
      "WARNING:root:cannot compute similarity with no input ['scultura', 'modellismo']\n",
      "WARNING:root:cannot compute similarity with no input ['neroerosso']\n",
      "WARNING:root:cannot compute similarity with no input ['brubag']\n",
      "WARNING:root:cannot compute similarity with no input ['gj2up']\n",
      "WARNING:root:cannot compute similarity with no input ['gacomics']\n",
      "WARNING:root:cannot compute similarity with no input ['chemtrailsprotest', 'norrkping']\n",
      "WARNING:root:cannot compute similarity with no input []\n",
      "WARNING:root:cannot compute similarity with no input []\n",
      "WARNING:root:cannot compute similarity with no input ['19831985']\n",
      "WARNING:root:cannot compute similarity with no input ['neonoir', 'suspensethriller']\n",
      "WARNING:root:cannot compute similarity with no input ['blacklivesmatter']\n",
      "WARNING:root:cannot compute similarity with no input []\n",
      "WARNING:root:cannot compute similarity with no input []\n",
      "WARNING:root:cannot compute similarity with no input []\n",
      "WARNING:root:cannot compute similarity with no input ['wagonnets', 'personnalisables']\n",
      "WARNING:root:cannot compute similarity with no input ['youngtalentedmotivated']\n",
      "WARNING:root:cannot compute similarity with no input []\n",
      "WARNING:root:cannot compute similarity with no input ['cardcaptor', 'sakuraaaa']\n",
      "WARNING:root:cannot compute similarity with no input []\n",
      "WARNING:root:cannot compute similarity with no input ['mmmmmmmm']\n",
      "WARNING:root:cannot compute similarity with no input ['cortometraje']\n",
      "WARNING:root:cannot compute similarity with no input ['modellbahn', 'universalsignalsteuergert']\n",
      "WARNING:root:cannot compute similarity with no input ['mrkumasi']\n",
      "WARNING:root:cannot compute similarity with no input ['courtmtrage', 'tudiant']\n",
      "WARNING:root:cannot compute similarity with no input ['85', 'sofubi']\n",
      "WARNING:root:cannot compute similarity with no input ['gemstonerspiritualrraw', 'crystalsrhandmade', 'productsrveganrsoaprincense', 'rsmudging', 'sticksrsagersoy', 'candlesrenlightenment']\n",
      "WARNING:root:cannot compute similarity with no input ['weltenverbinder', 'showtechnik', 'installationstechnik']\n",
      "WARNING:root:cannot compute similarity with no input []\n",
      "WARNING:root:cannot compute similarity with no input ['bellezza', 'pericolo', 'sudovest']\n",
      "WARNING:root:cannot compute similarity with no input ['buscapalabras', 'whichmeanssearchforwordsinspanish', 'isacollectionofspanishandenglishwordsearchpuzzles']\n",
      "WARNING:root:cannot compute similarity with no input ['evoo']\n",
      "WARNING:root:cannot compute similarity with no input []\n",
      "WARNING:root:cannot compute similarity with no input ['wwwshangrilashowcom']\n",
      "WARNING:root:cannot compute similarity with no input ['cancelled']\n",
      "WARNING:root:cannot compute similarity with no input []\n",
      "WARNING:root:cannot compute similarity with no input ['rrr7224']\n",
      "WARNING:root:cannot compute similarity with no input ['recognizeksru']\n",
      "WARNING:root:cannot compute similarity with no input ['imptwitch']\n",
      "WARNING:root:cannot compute similarity with no input []\n",
      "WARNING:root:cannot compute similarity with no input ['squeeeeeee']\n",
      "WARNING:root:cannot compute similarity with no input []\n",
      "WARNING:root:cannot compute similarity with no input ['wwwwildflowerdeliverycocom', 'wildflowerdeliveryco']\n",
      "WARNING:root:cannot compute similarity with no input []\n",
      "WARNING:root:cannot compute similarity with no input []\n",
      "WARNING:root:cannot compute similarity with no input ['actnow', 'listenthesong']\n",
      "WARNING:root:cannot compute similarity with no input ['1111111111111111111111111111111111111111111111111111111111111111111111111111111111111111111111111111']\n",
      "WARNING:root:cannot compute similarity with no input ['fler', 'historier', 'frn', 'restaurangvrlden']\n"
     ]
    }
   ],
   "source": [
    "X_train_word_average = word_averaging_list(wv, train_tokenized)\n",
    "X_test_word_average = word_averaging_list(wv, test_tokenized)"
   ]
  },
  {
   "cell_type": "code",
   "execution_count": 34,
   "id": "71d478dd-6b5b-4b31-91b0-5040f7037e24",
   "metadata": {
    "collapsed": true,
    "jupyter": {
     "outputs_hidden": true
    },
    "tags": []
   },
   "outputs": [
    {
     "data": {
      "text/plain": [
       "array([[-0.04454321, -0.05306488, -0.04265701, ...,  0.00134691,\n",
       "         0.03013412, -0.01988591],\n",
       "       [ 0.05001489, -0.00681169,  0.00947347, ..., -0.01200528,\n",
       "        -0.01470918, -0.01058321],\n",
       "       [ 0.05706745, -0.01788912, -0.03405837, ..., -0.02279961,\n",
       "         0.03940886,  0.00274279],\n",
       "       [ 0.0198833 ,  0.03409994,  0.00031001, ...,  0.03845909,\n",
       "         0.02085519,  0.04676888],\n",
       "       [ 0.03569921,  0.03855181,  0.0583232 , ..., -0.03728773,\n",
       "         0.03405387,  0.02881503]])"
      ]
     },
     "execution_count": 34,
     "metadata": {},
     "output_type": "execute_result"
    }
   ],
   "source": [
    "X_train_word_average[0:5, :]"
   ]
  },
  {
   "cell_type": "code",
   "execution_count": 19,
   "id": "ec50ff3b-232f-4641-87b8-2c0b02513e73",
   "metadata": {},
   "outputs": [
    {
     "name": "stdout",
     "output_type": "stream",
     "text": [
      "accuracy 0.6898531073446328\n",
      "              precision    recall  f1-score   support\n",
      "\n",
      "           0       0.64      0.50      0.56     26428\n",
      "           1       0.71      0.81      0.76     39947\n",
      "\n",
      "    accuracy                           0.69     66375\n",
      "   macro avg       0.68      0.66      0.66     66375\n",
      "weighted avg       0.68      0.69      0.68     66375\n",
      "\n"
     ]
    }
   ],
   "source": [
    "logreg = LogisticRegression(n_jobs=1, C=1e5)\n",
    "logreg = logreg.fit(X_train_word_average, y_train)\n",
    "y_pred = logreg.predict(X_test_word_average)\n",
    "print('accuracy %s' % accuracy_score(y_pred, y_test))\n",
    "print(classification_report(y_test, y_pred))"
   ]
  },
  {
   "cell_type": "code",
   "execution_count": 38,
   "id": "1ad5500a-b737-4e37-821a-7663041fb8a1",
   "metadata": {},
   "outputs": [],
   "source": [
    "np.save(\"data/res/w2v_Xtrain_avg.npy\", X_train_word_average)\n",
    "np.save(\"data/res/w2v_Xtest_avg.npy\", X_test_word_average)"
   ]
  },
  {
   "cell_type": "code",
   "execution_count": 20,
   "id": "cf0ed935-6a52-4042-90aa-2f5f9fe06176",
   "metadata": {},
   "outputs": [],
   "source": [
    "np.save(\"data/res/w2v_Xtrain_avg_big.npy\", X_train_word_average)\n",
    "np.save(\"data/res/w2v_Xtest_avg_big.npy\", X_test_word_average)"
   ]
  },
  {
   "cell_type": "code",
   "execution_count": null,
   "id": "84efe150-fa5f-4d37-bb63-eed322558abc",
   "metadata": {},
   "outputs": [],
   "source": []
  }
 ],
 "metadata": {
  "kernelspec": {
   "display_name": "Python 3",
   "language": "python",
   "name": "python3"
  },
  "language_info": {
   "codemirror_mode": {
    "name": "ipython",
    "version": 3
   },
   "file_extension": ".py",
   "mimetype": "text/x-python",
   "name": "python",
   "nbconvert_exporter": "python",
   "pygments_lexer": "ipython3",
   "version": "3.8.8"
  }
 },
 "nbformat": 4,
 "nbformat_minor": 5
}
