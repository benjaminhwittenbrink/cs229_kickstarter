{
 "cells": [
  {
   "cell_type": "code",
   "execution_count": 1,
   "id": "8f4968e2-dec4-4283-84ab-579980e0aadd",
   "metadata": {},
   "outputs": [],
   "source": [
    "import pandas as pd \n",
    "import numpy as np \n",
    "import seaborn as sns\n",
    "import matplotlib.pyplot as plt"
   ]
  },
  {
   "cell_type": "code",
   "execution_count": 2,
   "id": "b82169f5-1899-4a5b-be07-d66a13c98e2a",
   "metadata": {},
   "outputs": [],
   "source": [
    "from sklearn import tree\n",
    "from sklearn import metrics\n",
    "from sklearn.model_selection import train_test_split, GridSearchCV\n",
    "import sklearn.linear_model as lm \n",
    "import sklearn.ensemble as em \n",
    "from sklearn.svm import SVC"
   ]
  },
  {
   "cell_type": "code",
   "execution_count": 3,
   "id": "7860c7c1-1d76-4ad3-bf54-bd98ccd13a53",
   "metadata": {},
   "outputs": [],
   "source": [
    "import data_clean_for_model"
   ]
  },
  {
   "cell_type": "code",
   "execution_count": 4,
   "id": "6a65ab95-f02b-4048-b56a-ba012f650675",
   "metadata": {},
   "outputs": [],
   "source": [
    "import lightgbm as lgb\n",
    "\n",
    "from sklearn.metrics import accuracy_score, confusion_matrix, classification_report\n",
    "from scipy.stats import randint as sp_randint\n",
    "from scipy.stats import uniform as sp_uniform\n",
    "from sklearn.model_selection import RandomizedSearchCV, GridSearchCV"
   ]
  },
  {
   "cell_type": "code",
   "execution_count": 5,
   "id": "e1c63318-f23c-44c1-9cbd-ece68c62321a",
   "metadata": {},
   "outputs": [],
   "source": [
    "pd.set_option('display.max_rows', 10)\n",
    "pd.set_option('display.max_columns', 50)\n",
    "np.set_printoptions(suppress=True)\n",
    "rseed = 229"
   ]
  },
  {
   "cell_type": "code",
   "execution_count": 6,
   "id": "ed636001-4d71-4d42-af04-42f9f3358a53",
   "metadata": {},
   "outputs": [],
   "source": [
    "# download data \n",
    "# if you don't have these csvs, run the preprocessing notebook. \n",
    "# Ill turn this this into a py file later, but for now should be fine \n",
    "dfs = pd.read_parquet(\"data/all_processed_df.parquet.gzip\")"
   ]
  },
  {
   "cell_type": "code",
   "execution_count": 7,
   "id": "8169eba7-81a9-448c-9794-b427980fe58a",
   "metadata": {},
   "outputs": [],
   "source": [
    "k = 5\n",
    "np.random.seed(rseed)\n",
    "# add outcome var + unique id \n",
    "dfs['outcome'] = np.where(dfs['state']==\"successful\", 1, 0)\n",
    "dfs['un_id'] = np.arange(0, dfs.shape[0], 1)\n",
    "dfs['name_len'] = dfs['name'].str.len()\n",
    "dfs['cv_group'] = np.random.choice(np.arange(0, k), size=dfs.shape[0])"
   ]
  },
  {
   "cell_type": "code",
   "execution_count": 8,
   "id": "ed78615b-f4ba-4e94-9907-8947be59811d",
   "metadata": {},
   "outputs": [],
   "source": [
    "dfs['binned_usd_goal'] = pd.qcut(np.log(dfs['usd_goal']+1), 20)"
   ]
  },
  {
   "cell_type": "code",
   "execution_count": 9,
   "id": "c64f5bf9-7b46-4db1-ad58-44be509b7e73",
   "metadata": {},
   "outputs": [],
   "source": [
    "model_params = {\n",
    "    'cv': True, \n",
    "    #'lnom_frac':0.3, \n",
    "    'test_frac':0.3, \n",
    "    'lnom_usdgoal':True,\n",
    "    'dummies':True,\n",
    "    'rseed': 229,\n",
    "}"
   ]
  },
  {
   "cell_type": "code",
   "execution_count": 10,
   "id": "1934f76d-2ad8-4124-a826-7e58cb1e76d8",
   "metadata": {},
   "outputs": [],
   "source": [
    "X_train, X_test, y_train, y_test = data_clean_for_model.data_clean_for_model(dfs, \"outcome\", model_params, cv=model_params['cv'])"
   ]
  },
  {
   "cell_type": "code",
   "execution_count": 12,
   "id": "f5e38d6b-45d4-47b0-ac67-a358d9d41f93",
   "metadata": {},
   "outputs": [],
   "source": [
    "# add naive bayes preds \n",
    "nb_proba_train = np.load(\"data/res/multi_nb_preds_train_big.npy\")\n",
    "nb_proba_test = np.load(\"data/res/multi_nb_preds_test_big.npy\")\n",
    "#nb_proba_train2 = np.load(\"data/res/multi_nb_preds_train_opt.npy\")\n",
    "#nb_proba_test2 = np.load(\"data/res/multi_nb_preds_test_opt.npy\")\n",
    "X_train_nb = X_train.copy()\n",
    "X_test_nb = X_test.copy()\n",
    "# NB \n",
    "X_train_nb['nb_proba'] = nb_proba_train[:, 1]\n",
    "X_test_nb['nb_proba'] = nb_proba_test[:, 1]\n",
    "#X_train_nb['nb_proba2'] = nb_proba_train2[:, 1]\n",
    "#X_test_nb['nb_proba2'] = nb_proba_test2[:, 1]\n",
    "\n",
    "# W2V\n",
    "w2v_train = np.load(\"data/res/w2v_Xtrain_avg_big.npy\")\n",
    "w2v_test = np.load(\"data/res/w2v_Xtest_avg_big.npy\")\n",
    "X_train_nb_w2v = pd.concat((X_train_nb, pd.DataFrame(w2v_train)), axis=1)\n",
    "X_test_nb_w2v = pd.concat((X_test_nb, pd.DataFrame(w2v_test)), axis=1)\n",
    "\n",
    "# LDA \n",
    "lda_df = pd.read_csv(\"data/res/lda_df.csv\").drop(columns=['Unnamed: 0'])\n",
    "lda_df_test = pd.read_csv(\"data/res/lda_df_test.csv\").drop(columns=['Unnamed: 0'])\n",
    "X_train_nb_lda = pd.concat((X_train_nb, lda_df), axis=1)\n",
    "X_test_nb_lda = pd.concat((X_test_nb, lda_df_test), axis=1)\n",
    "X_train_nb_w2v_lda = pd.concat((X_train_nb_w2v, lda_df), axis=1)\n",
    "X_test_nb_w2v_lda = pd.concat((X_test_nb_w2v, lda_df_test), axis=1)"
   ]
  },
  {
   "cell_type": "code",
   "execution_count": 109,
   "id": "0b3bdeff-97c4-4307-9d5d-434b0445b81c",
   "metadata": {},
   "outputs": [],
   "source": [
    "export_to_sauren = False\n",
    "if export_to_sauren: \n",
    "\n",
    "    import pickle \n",
    "\n",
    "    pkl_dict = {\n",
    "        'naive_bayes_train':nb_proba_train[:, 1], \n",
    "        'naive_bayes_test':nb_proba_test[:, 1], \n",
    "        'lda_train':lda_df, \n",
    "        'lda_test':lda_df_test\n",
    "    }\n",
    "    assert (pkl_dict['lda_train'].shape[0] == X_train.shape[0]) and (pkl_dict['lda_test'].shape[0] == X_test.shape[0])\n",
    "    assert (pkl_dict['naive_bayes_train'].shape[0] == X_train.shape[0]) and (pkl_dict['naive_bayes_test'].shape[0] == X_test.shape[0])\n",
    "\n",
    "    f = open('data/pkl_dict.pkl', 'wb')\n",
    "    pickle.dump(pkl_dict, f)\n",
    "    f.close()"
   ]
  },
  {
   "cell_type": "code",
   "execution_count": 136,
   "id": "a66544c6-7653-4d89-923d-f0068b17d77c",
   "metadata": {},
   "outputs": [],
   "source": [
    "if export_to_sauren: \n",
    "    import pickle \n",
    "    pkl_dict = {\n",
    "        'X_train':X_train_nb_lda, \n",
    "        'y_train':y_train, \n",
    "        'X_test':X_test_nb_lda, \n",
    "        'y_test':y_test\n",
    "    }\n",
    "    f = open('data/features.pkl', 'wb')\n",
    "    pickle.dump(pkl_dict, f)\n",
    "    f.close()"
   ]
  },
  {
   "cell_type": "code",
   "execution_count": 13,
   "id": "efb3beba-973f-408e-ab2e-e9a50bc4361e",
   "metadata": {},
   "outputs": [],
   "source": [
    "assert X_test.shape[0] == X_test_nb.shape[0] == X_test_nb_lda.shape[0] == X_test_nb_w2v.shape[0]== X_test_nb_w2v_lda.shape[0]\n",
    "assert X_test.shape[0] + X_train.shape[0] == dfs.shape[0]"
   ]
  },
  {
   "cell_type": "code",
   "execution_count": 13,
   "id": "80ccc9cc-55c4-4c87-afad-6fc20bb039fb",
   "metadata": {
    "tags": []
   },
   "outputs": [],
   "source": [
    "X_eval, X_test, y_eval, y_test = train_test_split(X_test, y_test, test_size=0.67, random_state=rseed)\n",
    "filler = np.zeros(X_test_nb.shape)\n",
    "X_eval_nb, X_test_nb, _, _ = train_test_split(X_test_nb, filler, test_size=0.67, random_state=rseed)\n",
    "X_eval_nb_lda, X_test_nb_lda, _, _ = train_test_split(X_test_nb_lda, filler, test_size=0.67, random_state=rseed)\n",
    "X_eval_nb_w2v, X_test_nb_w2v, _, _ = train_test_split(X_test_nb_w2v, filler, test_size=0.67, random_state=rseed)\n",
    "X_eval_nb_w2v_lda, X_test_nb_w2v_lda, _, _ = train_test_split(X_test_nb_w2v_lda, filler, test_size=0.67, random_state=rseed)\n",
    "assert X_test.shape[0] == X_test_nb.shape[0] == X_test_nb_lda.shape[0] == X_test_nb_w2v.shape[0]== X_test_nb_w2v_lda.shape[0]"
   ]
  },
  {
   "cell_type": "code",
   "execution_count": null,
   "id": "58316d1a-788f-4bbe-b133-14ee485a22d6",
   "metadata": {},
   "outputs": [],
   "source": [
    "X_train = X_train.drop(columns=['binned_usd_goal_outcome_mean'])\n",
    "X_test = X_test.drop(columns=['binned_usd_goal_outcome_mean'])"
   ]
  },
  {
   "cell_type": "code",
   "execution_count": 13,
   "id": "fa354edb-58b8-4963-8af1-24926e85d7f5",
   "metadata": {},
   "outputs": [],
   "source": [
    "# specify some model performance funcs \n",
    "def rmse(y, yhat):\n",
    "    print(\"RMSE:\", np.round(np.sqrt( np.mean( (y - yhat)**2 ) ), 3))\n",
    "    \n",
    "def acc(y, yhat):\n",
    "    yhat_rounded = np.round(yhat)\n",
    "    print(\"Accuracy:\", np.round(np.mean(yhat_rounded == y), 3))"
   ]
  },
  {
   "cell_type": "code",
   "execution_count": 16,
   "id": "34b151bd-86b5-4a31-8283-d4e92aea7f7c",
   "metadata": {},
   "outputs": [
    {
     "name": "stdout",
     "output_type": "stream",
     "text": [
      "RMSE: 0.564\n",
      "Accuracy: 0.681\n"
     ]
    }
   ],
   "source": [
    "## 1. Naive approach:\n",
    "# Idea: what if we just guess the outcome of previous projects within this category\n",
    "naive = np.array(np.round(X_test['cat_id_outcome_mean']).reset_index(drop=True))\n",
    "rmse(y_test, naive)\n",
    "acc(y_test, naive)"
   ]
  },
  {
   "cell_type": "code",
   "execution_count": 11,
   "id": "7a11f9d6-d72c-4e15-b5b0-cba71aa65688",
   "metadata": {},
   "outputs": [],
   "source": [
    "N0_train = (y_train==0).sum()\n",
    "N1_train = (y_train==1).sum()\n",
    "N0_test = (y_test==0).sum()\n",
    "N1_test = (y_test==1).sum()\n",
    "train_weights = np.where(y_train==1, 0.5/N1_train, 0.5/N0_train)\n",
    "test_weights = np.where(y_test==1, 0.5/N1_test, 0.5/N0_test)"
   ]
  },
  {
   "cell_type": "code",
   "execution_count": 137,
   "id": "5e143b7f-6aaf-4599-a22a-c7d687e3105d",
   "metadata": {},
   "outputs": [
    {
     "name": "stdout",
     "output_type": "stream",
     "text": [
      "RMSE: 0.375\n",
      "Accuracy: 0.797\n"
     ]
    }
   ],
   "source": [
    "## 1.5 OLS: \n",
    "ols = lm.LinearRegression(normalize=False)\n",
    "ols.fit(X_train_nb_lda.drop(columns=['dummy_cat_id_1','dummy_cat_parent_id_1.0']), y_train, sample_weight=train_weights)\n",
    "y_test_hat = ols.predict(X_test_nb_lda.drop(columns=['dummy_cat_id_1','dummy_cat_parent_id_1.0']))\n",
    "rmse(y_test, y_test_hat)\n",
    "acc(y_test, y_test_hat)"
   ]
  },
  {
   "cell_type": "code",
   "execution_count": 14,
   "id": "a4bf8588-8d98-420a-8170-3c08cfbc9eb6",
   "metadata": {
    "collapsed": true,
    "jupyter": {
     "outputs_hidden": true
    },
    "tags": []
   },
   "outputs": [
    {
     "name": "stdout",
     "output_type": "stream",
     "text": [
      "0.05\n",
      "RMSE: 0.443\n",
      "Accuracy: 0.712\n",
      "0.25\n",
      "RMSE: 0.45\n",
      "Accuracy: 0.705\n",
      "0.5\n",
      "RMSE: 0.451\n",
      "Accuracy: 0.705\n",
      "0.75\n",
      "RMSE: 0.452\n",
      "Accuracy: 0.703\n",
      "0.95\n",
      "RMSE: 0.452\n",
      "Accuracy: 0.703\n"
     ]
    }
   ],
   "source": [
    "## 2. Lasso\n",
    "# Since our feature space isn't that large and also not very rich (at least in a linear sense), don't expect great results here  \n",
    "for a in [0.05, 0.25, 0.5, 0.75, 0.95]:\n",
    "    print(a)\n",
    "    clf_lasso = lm.Lasso(alpha=a, normalize=False, random_state=rseed)\n",
    "    clf_lasso.fit(X_train, y_train, sample_weight=train_weights)\n",
    "    y_test_hat = clf_lasso.predict(X_test)\n",
    "    rmse(y_test, y_test_hat)\n",
    "    acc(y_test, y_test_hat)"
   ]
  },
  {
   "cell_type": "code",
   "execution_count": 135,
   "id": "699d0e0f-f798-4af8-9d29-d9e64a085d4b",
   "metadata": {},
   "outputs": [
    {
     "name": "stdout",
     "output_type": "stream",
     "text": [
      "RMSE: 0.431\n",
      "Accuracy: 0.727\n"
     ]
    },
    {
     "name": "stderr",
     "output_type": "stream",
     "text": [
      "/Users/benji/anaconda3/envs/play/lib/python3.8/site-packages/sklearn/linear_model/_ridge.py:147: LinAlgWarning: Ill-conditioned matrix (rcond=2.28424e-17): result may not be accurate.\n",
      "  return linalg.solve(A, Xy, sym_pos=True,\n"
     ]
    }
   ],
   "source": [
    "## 3. Ridge\n",
    "# Similar expectations to lasso, though at least it won't kick out features from our model, so should do a bit better  \n",
    "\n",
    "# training procedure for a cross-validated ridge, but don't think this is necessary right now \n",
    "#clf_ridgecv = lm.RidgeCV(alphas=np.arange(0.1, 1, 0.02), cv=10).fit(X_train_lnom, y_train)\n",
    "#print(clf_ridgecv.alpha_)\n",
    "#y_test_hat = clf_ridgecv.predict(X_test_lnom)\n",
    "#rmse(y_test, y_test_hat)\n",
    "#acc(y_test, y_test_hat)\n",
    "# train ridge \n",
    "clf_ridge = lm.Ridge(alpha=0.95, normalize=False, random_state=rseed)\n",
    "clf_ridge.fit(X_train_nb_lda, y_train, sample_weight=train_weights)\n",
    "y_test_hat = clf_ridge.predict(X_test_nb_lda)\n",
    "rmse(y_test, y_test_hat)\n",
    "acc(y_test, y_test_hat)"
   ]
  },
  {
   "cell_type": "code",
   "execution_count": 140,
   "id": "7969e07d-6f25-4f25-bb1d-354b827f09ce",
   "metadata": {},
   "outputs": [
    {
     "name": "stdout",
     "output_type": "stream",
     "text": [
      "RMSE: 0.604\n",
      "Accuracy: 0.636\n"
     ]
    }
   ],
   "source": [
    "## 4. Logistic Reg  \n",
    "# Similar expectations to lasso + ridge \n",
    "# To avoid regularization set C to be very large and/or penalty to none \n",
    "glf = lm.LogisticRegression(C=100000, random_state=rseed, penalty='l2', class_weight='balanced')\n",
    "glf.fit(X_train_nb_lda, y_train)\n",
    "y_test_hat = glf.predict(X_test_nb_lda)\n",
    "rmse(y_test, y_test_hat)\n",
    "acc(y_test, y_test_hat)"
   ]
  },
  {
   "cell_type": "code",
   "execution_count": null,
   "id": "6912bf48-9d31-4d62-8f47-40f8a08d8b2f",
   "metadata": {},
   "outputs": [],
   "source": [
    "svm = SVC(kernel='rbf', class_weight='balanced', random_state=rseed)\n",
    "svm.fit(X_train_nb_lda, y_train)\n",
    "y_test_hat = svm.predict(X_test_nb_lda)\n",
    "rmse(y_test, y_test_hat)\n",
    "acc(y_test, y_test_hat)"
   ]
  },
  {
   "cell_type": "code",
   "execution_count": 21,
   "id": "f6cf114b-bb31-421e-af5b-080723bc217c",
   "metadata": {},
   "outputs": [
    {
     "name": "stdout",
     "output_type": "stream",
     "text": [
      "0    33483\n",
      "1    32892\n",
      "dtype: int64\n",
      "RMSE: 0.448\n",
      "Accuracy: 0.799\n"
     ]
    }
   ],
   "source": [
    "## 6. Random Forest (cont. )\n",
    "# selected optimal params from cell above\n",
    "best_params = {'bootstrap': False, 'max_depth': 65, 'max_features': 'auto', 'min_samples_leaf': 10, 'min_samples_split': 2, 'n_estimators': 30}\n",
    "# run RF \n",
    "rf = em.RandomForestClassifier(random_state=rseed, class_weight='balanced', **best_params)\n",
    "rf.fit(X_train, y_train)\n",
    "y_test_hat = rf.predict(X_test)\n",
    "y_test_hat_proba = rf.predict_proba(X_test)\n",
    "print(pd.Series(y_test_hat).value_counts())\n",
    "rmse(y_test, y_test_hat)\n",
    "acc(y_test, y_test_hat)"
   ]
  },
  {
   "cell_type": "code",
   "execution_count": 23,
   "id": "000bc66d-3f06-45fb-b075-707b39dd7ae3",
   "metadata": {},
   "outputs": [
    {
     "name": "stdout",
     "output_type": "stream",
     "text": [
      "[LightGBM] [Warning] lambda_l1 is set=0, reg_alpha=0.0 will be ignored. Current value: lambda_l1=0\n",
      "[LightGBM] [Warning] lambda_l2 is set=0, reg_lambda=0.0 will be ignored. Current value: lambda_l2=0\n",
      "[LightGBM] [Warning] feature_fraction is set=1, colsample_bytree=1.0 will be ignored. Current value: feature_fraction=1\n",
      "[LightGBM] [Warning] bagging_fraction is set=0.5, subsample=1.0 will be ignored. Current value: bagging_fraction=0.5\n",
      "accuracy 0.8134689265536723\n",
      "              precision    recall  f1-score   support\n",
      "\n",
      "           0       0.72      0.87      0.79     26428\n",
      "           1       0.90      0.78      0.83     39947\n",
      "\n",
      "    accuracy                           0.81     66375\n",
      "   macro avg       0.81      0.82      0.81     66375\n",
      "weighted avg       0.83      0.81      0.82     66375\n",
      "\n",
      "[[22881  3547]\n",
      " [ 8834 31113]]\n"
     ]
    }
   ],
   "source": [
    "clf = lgb.LGBMClassifier(\n",
    "    random_state=rseed, \n",
    "    is_unbalance=True, \n",
    "    bagging_fraction=0.5, \n",
    "    feature_fraction=1, \n",
    "    max_depth = 55, \n",
    "    max_bin = 500, \n",
    "    num_leaves = 400, \n",
    "    lambda_l1 = 0,\n",
    "    lambda_l2 = 0\n",
    ")\n",
    "clf.fit(X_train, y_train)\n",
    "y_pred = clf.predict(X_test)\n",
    "print('accuracy %s' % accuracy_score(y_pred, y_test))\n",
    "print(classification_report(y_test, y_pred))\n",
    "print(confusion_matrix(y_test, y_pred))"
   ]
  },
  {
   "cell_type": "code",
   "execution_count": 24,
   "id": "580b19c5-d070-46c1-aa66-bf9b6276c102",
   "metadata": {},
   "outputs": [
    {
     "name": "stdout",
     "output_type": "stream",
     "text": [
      "[LightGBM] [Warning] lambda_l1 is set=0, reg_alpha=0.0 will be ignored. Current value: lambda_l1=0\n",
      "[LightGBM] [Warning] lambda_l2 is set=0, reg_lambda=0.0 will be ignored. Current value: lambda_l2=0\n",
      "[LightGBM] [Warning] feature_fraction is set=0.8, colsample_bytree=1.0 will be ignored. Current value: feature_fraction=0.8\n",
      "[LightGBM] [Warning] bagging_fraction is set=0.75, subsample=1.0 will be ignored. Current value: bagging_fraction=0.75\n",
      "Training until validation scores don't improve for 20 rounds\n",
      "Early stopping, best iteration is:\n",
      "[73]\tvalid's auc: 0.912233\tvalid's binary_logloss: 0.362896\n",
      "accuracy 0.8198416981471488\n",
      "              precision    recall  f1-score   support\n",
      "\n",
      "           0       0.75      0.82      0.78     17754\n",
      "           1       0.87      0.82      0.85     26718\n",
      "\n",
      "    accuracy                           0.82     44472\n",
      "   macro avg       0.81      0.82      0.81     44472\n",
      "weighted avg       0.82      0.82      0.82     44472\n",
      "\n",
      "[[14484  3270]\n",
      " [ 4742 21976]]\n"
     ]
    }
   ],
   "source": [
    "# acc: 0.8220263653483992\n",
    "clf = lgb.LGBMClassifier(\n",
    "    random_state=rseed, \n",
    "    is_unbalance=True, \n",
    "    bagging_fraction=0.75, \n",
    "    feature_fraction=0.8, \n",
    "    max_depth = 55, \n",
    "    max_bin = 500, \n",
    "    num_leaves = 400, \n",
    "    lambda_l1 = 0,\n",
    "    lambda_l2 = 0\n",
    ")\n",
    "clf.fit(X_train_nb, y_train)\n",
    "y_pred = clf.predict(X_test_nb)\n",
    "print('accuracy %s' % accuracy_score(y_pred, y_test))\n",
    "print(classification_report(y_test, y_pred))\n",
    "print(confusion_matrix(y_test, y_pred))"
   ]
  },
  {
   "cell_type": "code",
   "execution_count": 25,
   "id": "0ae0a2df-8897-4680-a85e-02cbe863ebc5",
   "metadata": {
    "collapsed": true,
    "jupyter": {
     "outputs_hidden": true
    },
    "tags": []
   },
   "outputs": [
    {
     "data": {
      "text/plain": [
       "<matplotlib.axes._subplots.AxesSubplot at 0x7fb9f7ab3af0>"
      ]
     },
     "execution_count": 25,
     "metadata": {},
     "output_type": "execute_result"
    },
    {
     "data": {
      "image/png": "[encoded data removed]",
      "text/plain": [
       "<Figure size 576x864 with 1 Axes>"
      ]
     },
     "metadata": {
      "needs_background": "light"
     },
     "output_type": "display_data"
    }
   ],
   "source": [
    "lgb.plot_importance(clf, max_num_features=40, figsize=(8, 12))"
   ]
  },
  {
   "cell_type": "code",
   "execution_count": 26,
   "id": "05343d15-91c2-46a8-bafe-e53ad796ac2d",
   "metadata": {},
   "outputs": [
    {
     "name": "stdout",
     "output_type": "stream",
     "text": [
      "[LightGBM] [Warning] lambda_l1 is set=0, reg_alpha=0.0 will be ignored. Current value: lambda_l1=0\n",
      "[LightGBM] [Warning] lambda_l2 is set=0, reg_lambda=0.0 will be ignored. Current value: lambda_l2=0\n",
      "[LightGBM] [Warning] feature_fraction is set=0.8, colsample_bytree=1.0 will be ignored. Current value: feature_fraction=0.8\n",
      "[LightGBM] [Warning] bagging_fraction is set=0.75, subsample=1.0 will be ignored. Current value: bagging_fraction=0.75\n",
      "accuracy 0.8225838041431262\n",
      "              precision    recall  f1-score   support\n",
      "\n",
      "           0       0.76      0.82      0.79     26428\n",
      "           1       0.87      0.83      0.85     39947\n",
      "\n",
      "    accuracy                           0.82     66375\n",
      "   macro avg       0.81      0.82      0.82     66375\n",
      "weighted avg       0.83      0.82      0.82     66375\n",
      "\n",
      "[[21571  4857]\n",
      " [ 6919 33028]]\n"
     ]
    }
   ],
   "source": [
    "# BEST SO FAR \n",
    "drop_cols=[\n",
    "    'country_outcome_mean', 'loc_id_usd_goal_mean', 'loc_type_usd_goal_mean', 'loc_type_outcome_mean'\n",
    "]\n",
    "clf = lgb.LGBMClassifier(\n",
    "    random_state=rseed, \n",
    "    is_unbalance=True, \n",
    "    bagging_fraction=0.75, \n",
    "    feature_fraction=0.8, \n",
    "    max_depth = 55, \n",
    "    max_bin = 500, \n",
    "    num_leaves = 400, \n",
    "    lambda_l1 = 0,\n",
    "    lambda_l2 = 0\n",
    ")\n",
    "clf.fit(X_train_nb.drop(columns=drop_cols), y_train)\n",
    "y_pred = clf.predict(X_test_nb.drop(columns=drop_cols))\n",
    "print('accuracy %s' % accuracy_score(y_pred, y_test))\n",
    "print(classification_report(y_test, y_pred))\n",
    "print(confusion_matrix(y_test, y_pred))"
   ]
  },
  {
   "cell_type": "code",
   "execution_count": 27,
   "id": "94bdacde-2a12-4ec4-9d65-b7ed0f4a241c",
   "metadata": {
    "tags": []
   },
   "outputs": [
    {
     "name": "stdout",
     "output_type": "stream",
     "text": [
      "[LightGBM] [Warning] lambda_l1 is set=0, reg_alpha=0.0 will be ignored. Current value: lambda_l1=0\n",
      "[LightGBM] [Warning] lambda_l2 is set=0, reg_lambda=0.0 will be ignored. Current value: lambda_l2=0\n",
      "[LightGBM] [Warning] feature_fraction is set=0.8, colsample_bytree=1.0 will be ignored. Current value: feature_fraction=0.8\n",
      "[LightGBM] [Warning] bagging_fraction is set=0.75, subsample=1.0 will be ignored. Current value: bagging_fraction=0.75\n",
      "accuracy 0.8150508474576271\n",
      "              precision    recall  f1-score   support\n",
      "\n",
      "           0       0.76      0.79      0.77     26428\n",
      "           1       0.85      0.83      0.84     39947\n",
      "\n",
      "    accuracy                           0.82     66375\n",
      "   macro avg       0.81      0.81      0.81     66375\n",
      "weighted avg       0.82      0.82      0.82     66375\n",
      "\n",
      "[[20773  5655]\n",
      " [ 6621 33326]]\n"
     ]
    }
   ],
   "source": [
    "clf = lgb.LGBMClassifier(\n",
    "    random_state=rseed, \n",
    "    is_unbalance=True, \n",
    "    bagging_fraction=0.75, \n",
    "    feature_fraction=0.8, \n",
    "    max_depth = 55, \n",
    "    max_bin = 500, \n",
    "    num_leaves = 400, \n",
    "    lambda_l1 = 0,\n",
    "    lambda_l2 = 0\n",
    ")\n",
    "clf.fit(X_train_nb_w2v, y_train)\n",
    "y_pred = clf.predict(X_test_nb_w2v)\n",
    "print('accuracy %s' % accuracy_score(y_pred, y_test))\n",
    "print(classification_report(y_test, y_pred))\n",
    "print(confusion_matrix(y_test, y_pred))"
   ]
  },
  {
   "cell_type": "code",
   "execution_count": 47,
   "id": "fc23b629-0c26-4bf9-be8b-2ebbfa49d01f",
   "metadata": {},
   "outputs": [],
   "source": [
    "from sklearn.preprocessing import StandardScaler"
   ]
  },
  {
   "cell_type": "code",
   "execution_count": 48,
   "id": "854c8912-327d-4204-8b51-301fbfec9b0a",
   "metadata": {},
   "outputs": [],
   "source": [
    "scaler = StandardScaler()"
   ]
  },
  {
   "cell_type": "code",
   "execution_count": 59,
   "id": "8f081bcc-f524-46f3-92f6-bfc4d95b371d",
   "metadata": {},
   "outputs": [],
   "source": [
    "X_train_nb_lda_scale = X_train_nb_lda.copy()\n",
    "X_test_nb_lda_scale = X_test_nb_lda.copy()\n",
    "scale_cols = ['deadline', 'launched_at', 'time_diff']\n",
    "X_train_nb_lda_scale[scale_cols] = scaler.fit_transform(X_train_nb_lda[scale_cols])\n",
    "X_test_nb_lda_scale[scale_cols] = scaler.fit_transform(X_test_nb_lda[scale_cols])\n",
    "def df_to_log(df):\n",
    "    return df.assign(\n",
    "        usd_goal = lambda x:np.log(x['usd_goal']+1), \n",
    "        blurb_len = lambda x:np.log(x['blurb_len']+1), \n",
    "        name_len = lambda x:np.log(x['name_len']+1), \n",
    "    )\n",
    "X_train_nb_lda_scale = df_to_log(X_train_nb_lda_scale)\n",
    "X_test_nb_lda_scale = df_to_log(X_test_nb_lda_scale)"
   ]
  },
  {
   "cell_type": "code",
   "execution_count": 45,
   "id": "2fbe12f3-054c-45d1-9957-b7a64585bf92",
   "metadata": {},
   "outputs": [
    {
     "data": {
      "text/html": [
       "<div>\n",
       "<style scoped>\n",
       "    .dataframe tbody tr th:only-of-type {\n",
       "        vertical-align: middle;\n",
       "    }\n",
       "\n",
       "    .dataframe tbody tr th {\n",
       "        vertical-align: top;\n",
       "    }\n",
       "\n",
       "    .dataframe thead th {\n",
       "        text-align: right;\n",
       "    }\n",
       "</style>\n",
       "<table border=\"1\" class=\"dataframe\">\n",
       "  <thead>\n",
       "    <tr style=\"text-align: right;\">\n",
       "      <th></th>\n",
       "      <th>blurb_len</th>\n",
       "      <th>name_len</th>\n",
       "      <th>usd_goal</th>\n",
       "      <th>deadline</th>\n",
       "      <th>launched_at</th>\n",
       "      <th>time_diff</th>\n",
       "      <th>currency_outcome_mean</th>\n",
       "      <th>country_outcome_mean</th>\n",
       "      <th>cat_id_outcome_mean</th>\n",
       "      <th>cat_parent_id_outcome_mean</th>\n",
       "      <th>loc_id_outcome_mean</th>\n",
       "      <th>loc_type_outcome_mean</th>\n",
       "      <th>binned_usd_goal_outcome_mean</th>\n",
       "      <th>currency_usd_goal_mean</th>\n",
       "      <th>country_usd_goal_mean</th>\n",
       "      <th>cat_id_usd_goal_mean</th>\n",
       "      <th>cat_parent_id_usd_goal_mean</th>\n",
       "      <th>loc_id_usd_goal_mean</th>\n",
       "      <th>loc_type_usd_goal_mean</th>\n",
       "      <th>cat_id_outcome_std</th>\n",
       "      <th>cat_parent_id_outcome_std</th>\n",
       "      <th>cat_id_usd_goal_std</th>\n",
       "      <th>cat_parent_id_usd_goal_std</th>\n",
       "      <th>dummy_cat_id_1</th>\n",
       "      <th>dummy_cat_id_3</th>\n",
       "      <th>...</th>\n",
       "      <th>cat_id_usd_goal_mean_sub</th>\n",
       "      <th>cat_parent_id_usd_goal_mean_sub</th>\n",
       "      <th>loc_id_usd_goal_mean_sub</th>\n",
       "      <th>loc_type_usd_goal_mean_sub</th>\n",
       "      <th>nb_proba</th>\n",
       "      <th>lda_df_topic0</th>\n",
       "      <th>lda_df_topic1</th>\n",
       "      <th>lda_df_topic2</th>\n",
       "      <th>lda_df_topic3</th>\n",
       "      <th>lda_df_topic4</th>\n",
       "      <th>lda_df_topic5</th>\n",
       "      <th>lda_df_topic6</th>\n",
       "      <th>lda_df_topic7</th>\n",
       "      <th>lda_df_topic8</th>\n",
       "      <th>lda_df_topic9</th>\n",
       "      <th>lda_df_topic10</th>\n",
       "      <th>lda_df_topic11</th>\n",
       "      <th>lda_df_topic12</th>\n",
       "      <th>lda_df_topic13</th>\n",
       "      <th>lda_df_topic14</th>\n",
       "      <th>lda_df_topic15</th>\n",
       "      <th>lda_df_topic16</th>\n",
       "      <th>lda_df_topic17</th>\n",
       "      <th>lda_df_topic18</th>\n",
       "      <th>lda_df_topic19</th>\n",
       "    </tr>\n",
       "  </thead>\n",
       "  <tbody>\n",
       "    <tr>\n",
       "      <th>0</th>\n",
       "      <td>90.0</td>\n",
       "      <td>8</td>\n",
       "      <td>99.742415</td>\n",
       "      <td>1500543720</td>\n",
       "      <td>1499726298</td>\n",
       "      <td>817422</td>\n",
       "      <td>0.644013</td>\n",
       "      <td>0.644013</td>\n",
       "      <td>1.000000</td>\n",
       "      <td>0.819209</td>\n",
       "      <td>0.599246</td>\n",
       "      <td>0.599514</td>\n",
       "      <td>0.776390</td>\n",
       "      <td>17707.055245</td>\n",
       "      <td>17707.055245</td>\n",
       "      <td>2887.774616</td>\n",
       "      <td>6083.873036</td>\n",
       "      <td>33943.732000</td>\n",
       "      <td>35187.682101</td>\n",
       "      <td>0.000000</td>\n",
       "      <td>0.384881</td>\n",
       "      <td>3948.587329</td>\n",
       "      <td>1.197831e+04</td>\n",
       "      <td>0</td>\n",
       "      <td>0</td>\n",
       "      <td>...</td>\n",
       "      <td>3.356021</td>\n",
       "      <td>4.100994</td>\n",
       "      <td>5.819922</td>\n",
       "      <td>5.855913</td>\n",
       "      <td>0.922235</td>\n",
       "      <td>0.007146</td>\n",
       "      <td>0.007146</td>\n",
       "      <td>0.007146</td>\n",
       "      <td>0.435541</td>\n",
       "      <td>0.007146</td>\n",
       "      <td>0.007146</td>\n",
       "      <td>0.007146</td>\n",
       "      <td>0.007146</td>\n",
       "      <td>0.007146</td>\n",
       "      <td>0.150042</td>\n",
       "      <td>0.007146</td>\n",
       "      <td>0.150033</td>\n",
       "      <td>0.007146</td>\n",
       "      <td>0.150054</td>\n",
       "      <td>0.007146</td>\n",
       "      <td>0.007146</td>\n",
       "      <td>0.007146</td>\n",
       "      <td>0.007146</td>\n",
       "      <td>0.007146</td>\n",
       "      <td>0.007146</td>\n",
       "    </tr>\n",
       "    <tr>\n",
       "      <th>1</th>\n",
       "      <td>90.0</td>\n",
       "      <td>37</td>\n",
       "      <td>3000.000000</td>\n",
       "      <td>1505057220</td>\n",
       "      <td>1503684209</td>\n",
       "      <td>1373011</td>\n",
       "      <td>0.609611</td>\n",
       "      <td>0.609611</td>\n",
       "      <td>0.599246</td>\n",
       "      <td>0.276027</td>\n",
       "      <td>0.599246</td>\n",
       "      <td>0.599514</td>\n",
       "      <td>0.663334</td>\n",
       "      <td>34526.292603</td>\n",
       "      <td>34526.292603</td>\n",
       "      <td>33943.732000</td>\n",
       "      <td>59425.459002</td>\n",
       "      <td>33943.732000</td>\n",
       "      <td>35187.682101</td>\n",
       "      <td>0.599246</td>\n",
       "      <td>0.447056</td>\n",
       "      <td>33943.732000</td>\n",
       "      <td>1.284018e+06</td>\n",
       "      <td>0</td>\n",
       "      <td>0</td>\n",
       "      <td>...</td>\n",
       "      <td>2.425788</td>\n",
       "      <td>2.985794</td>\n",
       "      <td>2.425788</td>\n",
       "      <td>2.461779</td>\n",
       "      <td>0.383927</td>\n",
       "      <td>0.005558</td>\n",
       "      <td>0.005558</td>\n",
       "      <td>0.005558</td>\n",
       "      <td>0.005558</td>\n",
       "      <td>0.005558</td>\n",
       "      <td>0.005558</td>\n",
       "      <td>0.005558</td>\n",
       "      <td>0.005558</td>\n",
       "      <td>0.005558</td>\n",
       "      <td>0.005558</td>\n",
       "      <td>0.005558</td>\n",
       "      <td>0.005558</td>\n",
       "      <td>0.132440</td>\n",
       "      <td>0.005558</td>\n",
       "      <td>0.005558</td>\n",
       "      <td>0.005558</td>\n",
       "      <td>0.656494</td>\n",
       "      <td>0.005558</td>\n",
       "      <td>0.005558</td>\n",
       "      <td>0.116583</td>\n",
       "    </tr>\n",
       "    <tr>\n",
       "      <th>2</th>\n",
       "      <td>125.0</td>\n",
       "      <td>60</td>\n",
       "      <td>2080.388739</td>\n",
       "      <td>1576958599</td>\n",
       "      <td>1575144199</td>\n",
       "      <td>1814400</td>\n",
       "      <td>0.644757</td>\n",
       "      <td>0.644757</td>\n",
       "      <td>1.000000</td>\n",
       "      <td>0.741845</td>\n",
       "      <td>0.599246</td>\n",
       "      <td>0.597463</td>\n",
       "      <td>0.651979</td>\n",
       "      <td>18984.553596</td>\n",
       "      <td>18984.553596</td>\n",
       "      <td>8875.708121</td>\n",
       "      <td>30046.683875</td>\n",
       "      <td>33943.732000</td>\n",
       "      <td>35150.604486</td>\n",
       "      <td>0.000000</td>\n",
       "      <td>0.437640</td>\n",
       "      <td>25441.463556</td>\n",
       "      <td>9.803122e+05</td>\n",
       "      <td>0</td>\n",
       "      <td>0</td>\n",
       "      <td>...</td>\n",
       "      <td>1.450395</td>\n",
       "      <td>2.669750</td>\n",
       "      <td>2.791698</td>\n",
       "      <td>2.826635</td>\n",
       "      <td>0.911862</td>\n",
       "      <td>0.005001</td>\n",
       "      <td>0.005001</td>\n",
       "      <td>0.005001</td>\n",
       "      <td>0.005001</td>\n",
       "      <td>0.005001</td>\n",
       "      <td>0.005001</td>\n",
       "      <td>0.005001</td>\n",
       "      <td>0.005001</td>\n",
       "      <td>0.005001</td>\n",
       "      <td>0.005001</td>\n",
       "      <td>0.005001</td>\n",
       "      <td>0.005001</td>\n",
       "      <td>0.005001</td>\n",
       "      <td>0.005001</td>\n",
       "      <td>0.005001</td>\n",
       "      <td>0.005001</td>\n",
       "      <td>0.005001</td>\n",
       "      <td>0.205020</td>\n",
       "      <td>0.704968</td>\n",
       "      <td>0.005001</td>\n",
       "    </tr>\n",
       "    <tr>\n",
       "      <th>3</th>\n",
       "      <td>133.0</td>\n",
       "      <td>59</td>\n",
       "      <td>19000.000000</td>\n",
       "      <td>1522569564</td>\n",
       "      <td>1519549164</td>\n",
       "      <td>3020400</td>\n",
       "      <td>0.609898</td>\n",
       "      <td>0.609898</td>\n",
       "      <td>0.315436</td>\n",
       "      <td>0.272579</td>\n",
       "      <td>0.599246</td>\n",
       "      <td>0.599118</td>\n",
       "      <td>0.489512</td>\n",
       "      <td>32287.610271</td>\n",
       "      <td>32287.610271</td>\n",
       "      <td>40293.297993</td>\n",
       "      <td>52180.316849</td>\n",
       "      <td>33943.732000</td>\n",
       "      <td>32389.680283</td>\n",
       "      <td>0.464831</td>\n",
       "      <td>0.445312</td>\n",
       "      <td>281055.034269</td>\n",
       "      <td>1.229953e+06</td>\n",
       "      <td>0</td>\n",
       "      <td>0</td>\n",
       "      <td>...</td>\n",
       "      <td>0.751718</td>\n",
       "      <td>1.010233</td>\n",
       "      <td>0.580242</td>\n",
       "      <td>0.533379</td>\n",
       "      <td>0.545735</td>\n",
       "      <td>0.003848</td>\n",
       "      <td>0.003848</td>\n",
       "      <td>0.462753</td>\n",
       "      <td>0.080795</td>\n",
       "      <td>0.003848</td>\n",
       "      <td>0.003848</td>\n",
       "      <td>0.003848</td>\n",
       "      <td>0.003848</td>\n",
       "      <td>0.003848</td>\n",
       "      <td>0.003848</td>\n",
       "      <td>0.235659</td>\n",
       "      <td>0.082392</td>\n",
       "      <td>0.003848</td>\n",
       "      <td>0.003848</td>\n",
       "      <td>0.003848</td>\n",
       "      <td>0.003848</td>\n",
       "      <td>0.003848</td>\n",
       "      <td>0.003848</td>\n",
       "      <td>0.003848</td>\n",
       "      <td>0.080687</td>\n",
       "    </tr>\n",
       "    <tr>\n",
       "      <th>4</th>\n",
       "      <td>135.0</td>\n",
       "      <td>50</td>\n",
       "      <td>12000.000000</td>\n",
       "      <td>1426881600</td>\n",
       "      <td>1424900240</td>\n",
       "      <td>1981360</td>\n",
       "      <td>0.609611</td>\n",
       "      <td>0.609611</td>\n",
       "      <td>0.599246</td>\n",
       "      <td>0.341223</td>\n",
       "      <td>0.751023</td>\n",
       "      <td>0.599514</td>\n",
       "      <td>0.576349</td>\n",
       "      <td>34526.292603</td>\n",
       "      <td>34526.292603</td>\n",
       "      <td>33943.732000</td>\n",
       "      <td>77477.275862</td>\n",
       "      <td>13757.951335</td>\n",
       "      <td>35187.682101</td>\n",
       "      <td>0.599246</td>\n",
       "      <td>0.474139</td>\n",
       "      <td>33943.732000</td>\n",
       "      <td>1.287538e+06</td>\n",
       "      <td>0</td>\n",
       "      <td>0</td>\n",
       "      <td>...</td>\n",
       "      <td>1.039744</td>\n",
       "      <td>1.865008</td>\n",
       "      <td>0.136700</td>\n",
       "      <td>1.075735</td>\n",
       "      <td>0.740705</td>\n",
       "      <td>0.004168</td>\n",
       "      <td>0.004168</td>\n",
       "      <td>0.004168</td>\n",
       "      <td>0.004168</td>\n",
       "      <td>0.089062</td>\n",
       "      <td>0.286073</td>\n",
       "      <td>0.087501</td>\n",
       "      <td>0.004168</td>\n",
       "      <td>0.004168</td>\n",
       "      <td>0.004168</td>\n",
       "      <td>0.004168</td>\n",
       "      <td>0.004168</td>\n",
       "      <td>0.170849</td>\n",
       "      <td>0.004168</td>\n",
       "      <td>0.303994</td>\n",
       "      <td>0.004168</td>\n",
       "      <td>0.004168</td>\n",
       "      <td>0.004168</td>\n",
       "      <td>0.004168</td>\n",
       "      <td>0.004168</td>\n",
       "    </tr>\n",
       "  </tbody>\n",
       "</table>\n",
       "<p>5 rows × 236 columns</p>\n",
       "</div>"
      ],
      "text/plain": [
       "   blurb_len  name_len      usd_goal    deadline  launched_at  time_diff  \\\n",
       "0       90.0         8     99.742415  1500543720   1499726298     817422   \n",
       "1       90.0        37   3000.000000  1505057220   1503684209    1373011   \n",
       "2      125.0        60   2080.388739  1576958599   1575144199    1814400   \n",
       "3      133.0        59  19000.000000  1522569564   1519549164    3020400   \n",
       "4      135.0        50  12000.000000  1426881600   1424900240    1981360   \n",
       "\n",
       "   currency_outcome_mean  country_outcome_mean  cat_id_outcome_mean  \\\n",
       "0               0.644013              0.644013             1.000000   \n",
       "1               0.609611              0.609611             0.599246   \n",
       "2               0.644757              0.644757             1.000000   \n",
       "3               0.609898              0.609898             0.315436   \n",
       "4               0.609611              0.609611             0.599246   \n",
       "\n",
       "   cat_parent_id_outcome_mean  loc_id_outcome_mean  loc_type_outcome_mean  \\\n",
       "0                    0.819209             0.599246               0.599514   \n",
       "1                    0.276027             0.599246               0.599514   \n",
       "2                    0.741845             0.599246               0.597463   \n",
       "3                    0.272579             0.599246               0.599118   \n",
       "4                    0.341223             0.751023               0.599514   \n",
       "\n",
       "   binned_usd_goal_outcome_mean  currency_usd_goal_mean  \\\n",
       "0                      0.776390            17707.055245   \n",
       "1                      0.663334            34526.292603   \n",
       "2                      0.651979            18984.553596   \n",
       "3                      0.489512            32287.610271   \n",
       "4                      0.576349            34526.292603   \n",
       "\n",
       "   country_usd_goal_mean  cat_id_usd_goal_mean  cat_parent_id_usd_goal_mean  \\\n",
       "0           17707.055245           2887.774616                  6083.873036   \n",
       "1           34526.292603          33943.732000                 59425.459002   \n",
       "2           18984.553596           8875.708121                 30046.683875   \n",
       "3           32287.610271          40293.297993                 52180.316849   \n",
       "4           34526.292603          33943.732000                 77477.275862   \n",
       "\n",
       "   loc_id_usd_goal_mean  loc_type_usd_goal_mean  cat_id_outcome_std  \\\n",
       "0          33943.732000            35187.682101            0.000000   \n",
       "1          33943.732000            35187.682101            0.599246   \n",
       "2          33943.732000            35150.604486            0.000000   \n",
       "3          33943.732000            32389.680283            0.464831   \n",
       "4          13757.951335            35187.682101            0.599246   \n",
       "\n",
       "   cat_parent_id_outcome_std  cat_id_usd_goal_std  cat_parent_id_usd_goal_std  \\\n",
       "0                   0.384881          3948.587329                1.197831e+04   \n",
       "1                   0.447056         33943.732000                1.284018e+06   \n",
       "2                   0.437640         25441.463556                9.803122e+05   \n",
       "3                   0.445312        281055.034269                1.229953e+06   \n",
       "4                   0.474139         33943.732000                1.287538e+06   \n",
       "\n",
       "   dummy_cat_id_1  dummy_cat_id_3  ...  cat_id_usd_goal_mean_sub  \\\n",
       "0               0               0  ...                  3.356021   \n",
       "1               0               0  ...                  2.425788   \n",
       "2               0               0  ...                  1.450395   \n",
       "3               0               0  ...                  0.751718   \n",
       "4               0               0  ...                  1.039744   \n",
       "\n",
       "   cat_parent_id_usd_goal_mean_sub  loc_id_usd_goal_mean_sub  \\\n",
       "0                         4.100994                  5.819922   \n",
       "1                         2.985794                  2.425788   \n",
       "2                         2.669750                  2.791698   \n",
       "3                         1.010233                  0.580242   \n",
       "4                         1.865008                  0.136700   \n",
       "\n",
       "   loc_type_usd_goal_mean_sub  nb_proba  lda_df_topic0  lda_df_topic1  \\\n",
       "0                    5.855913  0.922235       0.007146       0.007146   \n",
       "1                    2.461779  0.383927       0.005558       0.005558   \n",
       "2                    2.826635  0.911862       0.005001       0.005001   \n",
       "3                    0.533379  0.545735       0.003848       0.003848   \n",
       "4                    1.075735  0.740705       0.004168       0.004168   \n",
       "\n",
       "   lda_df_topic2  lda_df_topic3  lda_df_topic4  lda_df_topic5  lda_df_topic6  \\\n",
       "0       0.007146       0.435541       0.007146       0.007146       0.007146   \n",
       "1       0.005558       0.005558       0.005558       0.005558       0.005558   \n",
       "2       0.005001       0.005001       0.005001       0.005001       0.005001   \n",
       "3       0.462753       0.080795       0.003848       0.003848       0.003848   \n",
       "4       0.004168       0.004168       0.089062       0.286073       0.087501   \n",
       "\n",
       "   lda_df_topic7  lda_df_topic8  lda_df_topic9  lda_df_topic10  \\\n",
       "0       0.007146       0.007146       0.150042        0.007146   \n",
       "1       0.005558       0.005558       0.005558        0.005558   \n",
       "2       0.005001       0.005001       0.005001        0.005001   \n",
       "3       0.003848       0.003848       0.003848        0.235659   \n",
       "4       0.004168       0.004168       0.004168        0.004168   \n",
       "\n",
       "   lda_df_topic11  lda_df_topic12  lda_df_topic13  lda_df_topic14  \\\n",
       "0        0.150033        0.007146        0.150054        0.007146   \n",
       "1        0.005558        0.132440        0.005558        0.005558   \n",
       "2        0.005001        0.005001        0.005001        0.005001   \n",
       "3        0.082392        0.003848        0.003848        0.003848   \n",
       "4        0.004168        0.170849        0.004168        0.303994   \n",
       "\n",
       "   lda_df_topic15  lda_df_topic16  lda_df_topic17  lda_df_topic18  \\\n",
       "0        0.007146        0.007146        0.007146        0.007146   \n",
       "1        0.005558        0.656494        0.005558        0.005558   \n",
       "2        0.005001        0.005001        0.205020        0.704968   \n",
       "3        0.003848        0.003848        0.003848        0.003848   \n",
       "4        0.004168        0.004168        0.004168        0.004168   \n",
       "\n",
       "   lda_df_topic19  \n",
       "0        0.007146  \n",
       "1        0.116583  \n",
       "2        0.005001  \n",
       "3        0.080687  \n",
       "4        0.004168  \n",
       "\n",
       "[5 rows x 236 columns]"
      ]
     },
     "execution_count": 45,
     "metadata": {},
     "output_type": "execute_result"
    }
   ],
   "source": [
    "X_train_nb_lda.head()"
   ]
  },
  {
   "cell_type": "code",
   "execution_count": 60,
   "id": "8b88f146-957f-40a7-bfcd-3bf3543f847e",
   "metadata": {},
   "outputs": [
    {
     "name": "stdout",
     "output_type": "stream",
     "text": [
      "[LightGBM] [Warning] lambda_l1 is set=0, reg_alpha=0.0 will be ignored. Current value: lambda_l1=0\n",
      "[LightGBM] [Warning] lambda_l2 is set=0, reg_lambda=0.0 will be ignored. Current value: lambda_l2=0\n",
      "[LightGBM] [Warning] feature_fraction is set=0.2, colsample_bytree=1.0 will be ignored. Current value: feature_fraction=0.2\n",
      "[LightGBM] [Warning] bagging_fraction is set=0.75, subsample=1.0 will be ignored. Current value: bagging_fraction=0.75\n",
      "accuracy 0.823954802259887\n",
      "              precision    recall  f1-score   support\n",
      "\n",
      "           0       0.76      0.82      0.79     26428\n",
      "           1       0.88      0.82      0.85     39947\n",
      "\n",
      "    accuracy                           0.82     66375\n",
      "   macro avg       0.82      0.82      0.82     66375\n",
      "weighted avg       0.83      0.82      0.83     66375\n",
      "\n",
      "[[21757  4671]\n",
      " [ 7014 32933]]\n"
     ]
    }
   ],
   "source": [
    "clf = lgb.LGBMClassifier(\n",
    "    random_state=rseed, \n",
    "    is_unbalance=True, \n",
    "    bagging_fraction=0.75, \n",
    "    feature_fraction=0.2, \n",
    "    max_depth = 55, \n",
    "    max_bin = 500, \n",
    "    num_leaves = 400, \n",
    "    lambda_l1 = 0,\n",
    "    lambda_l2 = 0\n",
    ")\n",
    "clf.fit(X_train_nb_lda_scale.drop(columns='binned_usd_goal_outcome_mean'), y_train)\n",
    "y_pred = clf.predict(X_test_nb_lda_scale.drop(columns='binned_usd_goal_outcome_mean'))\n",
    "print('accuracy %s' % accuracy_score(y_pred, y_test))\n",
    "print(classification_report(y_test, y_pred))\n",
    "print(confusion_matrix(y_test, y_pred))"
   ]
  },
  {
   "cell_type": "code",
   "execution_count": 98,
   "id": "c9d2d385-1373-4ccc-968d-051db52c7fe4",
   "metadata": {},
   "outputs": [
    {
     "name": "stdout",
     "output_type": "stream",
     "text": [
      "[LightGBM] [Warning] lambda_l1 is set=0, reg_alpha=0.0 will be ignored. Current value: lambda_l1=0\n",
      "[LightGBM] [Warning] lambda_l2 is set=0, reg_lambda=0.0 will be ignored. Current value: lambda_l2=0\n",
      "[LightGBM] [Warning] feature_fraction is set=0.2, colsample_bytree=1.0 will be ignored. Current value: feature_fraction=0.2\n",
      "[LightGBM] [Warning] bagging_fraction is set=0.75, subsample=1.0 will be ignored. Current value: bagging_fraction=0.75\n",
      "accuracy 0.824225988700565\n",
      "              precision    recall  f1-score   support\n",
      "\n",
      "           0       0.75      0.83      0.79     26428\n",
      "           1       0.88      0.82      0.85     39947\n",
      "\n",
      "    accuracy                           0.82     66375\n",
      "   macro avg       0.82      0.83      0.82     66375\n",
      "weighted avg       0.83      0.82      0.83     66375\n",
      "\n",
      "[[21965  4463]\n",
      " [ 7204 32743]]\n"
     ]
    }
   ],
   "source": [
    "# 0.824225988700565\n",
    "clf = lgb.LGBMClassifier(\n",
    "    random_state=rseed, \n",
    "    is_unbalance=True, \n",
    "    bagging_fraction=0.75, \n",
    "    feature_fraction=0.2, \n",
    "    max_depth = 55, \n",
    "    max_bin = 500, \n",
    "    num_leaves = 400, \n",
    "    lambda_l1 = 0,\n",
    "    lambda_l2 = 0, \n",
    "    importance_type='gain'\n",
    ")\n",
    "clf.fit(X_train_nb_lda.drop(columns='binned_usd_goal_outcome_mean'), y_train)\n",
    "y_pred = clf.predict(X_test_nb_lda.drop(columns='binned_usd_goal_outcome_mean'))\n",
    "print('accuracy %s' % accuracy_score(y_pred, y_test))\n",
    "print(classification_report(y_test, y_pred))\n",
    "print(confusion_matrix(y_test, y_pred))"
   ]
  },
  {
   "cell_type": "code",
   "execution_count": 44,
   "id": "b7c0bba4-819e-4e41-8132-a01fca927474",
   "metadata": {
    "collapsed": true,
    "jupyter": {
     "outputs_hidden": true
    },
    "tags": []
   },
   "outputs": [
    {
     "name": "stdout",
     "output_type": "stream",
     "text": [
      "[LightGBM] [Warning] lambda_l1 is set=0, reg_alpha=0.0 will be ignored. Current value: lambda_l1=0\n",
      "[LightGBM] [Warning] lambda_l2 is set=0, reg_lambda=0.0 will be ignored. Current value: lambda_l2=0\n",
      "[LightGBM] [Warning] feature_fraction is set=0.2, colsample_bytree=1.0 will be ignored. Current value: feature_fraction=0.2\n",
      "[LightGBM] [Warning] bagging_fraction is set=0.75, subsample=1.0 will be ignored. Current value: bagging_fraction=0.75\n",
      "accuracy 0.824225988700565\n",
      "              precision    recall  f1-score   support\n",
      "\n",
      "           0       0.75      0.83      0.79     26428\n",
      "           1       0.88      0.82      0.85     39947\n",
      "\n",
      "    accuracy                           0.82     66375\n",
      "   macro avg       0.82      0.83      0.82     66375\n",
      "weighted avg       0.83      0.82      0.83     66375\n",
      "\n",
      "[[21965  4463]\n",
      " [ 7204 32743]]\n"
     ]
    }
   ],
   "source": [
    "# acc -> 0.824225988700565\n",
    "clf = lgb.LGBMClassifier(\n",
    "    random_state=rseed, \n",
    "    is_unbalance=True, \n",
    "    bagging_fraction=0.75, \n",
    "    feature_fraction=0.2, \n",
    "    max_depth = 55, \n",
    "    max_bin = 500, \n",
    "    num_leaves = 400, \n",
    "    lambda_l1 = 0,\n",
    "    lambda_l2 = 0\n",
    ")\n",
    "clf.fit(X_train_nb_lda, y_train)\n",
    "y_pred = clf.predict(X_test_nb_lda)\n",
    "print('accuracy %s' % accuracy_score(y_pred, y_test))\n",
    "print(classification_report(y_test, y_pred))\n",
    "print(confusion_matrix(y_test, y_pred))"
   ]
  },
  {
   "cell_type": "code",
   "execution_count": 104,
   "id": "99579662-7f68-4cd1-83e1-fbe645591c3a",
   "metadata": {},
   "outputs": [
    {
     "data": {
      "text/plain": [
       "array(['dummy_cat_id_290', 'dummy_cat_id_300', 'dummy_cat_id_317',\n",
       "       'dummy_cat_id_386', 'dummy_cat_id_1', 'dummy_cat_id_352',\n",
       "       'dummy_cat_id_355', 'dummy_cat_id_354',\n",
       "       'binned_usd_goal_outcome_mean'], dtype=object)"
      ]
     },
     "execution_count": 104,
     "metadata": {},
     "output_type": "execute_result"
    }
   ],
   "source": [
    "impt_df = pd.DataFrame(data={\n",
    "    'var':X_train_nb_lda.drop(columns='binned_usd_goal_outcome_mean').columns, \n",
    "    'impt':clf.feature_importances_\n",
    "}).sort_values('impt')\n",
    "least_important_vars = impt_df.query(\"impt < 1\")['var']\n",
    "least_important_vars_all = np.concatenate((least_important_vars, ['binned_usd_goal_outcome_mean']))\n",
    "least_important_vars_all"
   ]
  },
  {
   "cell_type": "code",
   "execution_count": 100,
   "id": "9aa848a5-bb4c-417a-81a1-93e22d477377",
   "metadata": {},
   "outputs": [
    {
     "name": "stdout",
     "output_type": "stream",
     "text": [
      "[LightGBM] [Warning] lambda_l1 is set=0, reg_alpha=0.0 will be ignored. Current value: lambda_l1=0\n",
      "[LightGBM] [Warning] lambda_l2 is set=0, reg_lambda=0.0 will be ignored. Current value: lambda_l2=0\n",
      "[LightGBM] [Warning] feature_fraction is set=0.2, colsample_bytree=1.0 will be ignored. Current value: feature_fraction=0.2\n",
      "[LightGBM] [Warning] bagging_fraction is set=0.75, subsample=1.0 will be ignored. Current value: bagging_fraction=0.75\n",
      "accuracy 0.824316384180791\n",
      "              precision    recall  f1-score   support\n",
      "\n",
      "           0       0.75      0.84      0.79     26428\n",
      "           1       0.88      0.82      0.85     39947\n",
      "\n",
      "    accuracy                           0.82     66375\n",
      "   macro avg       0.82      0.83      0.82     66375\n",
      "weighted avg       0.83      0.82      0.83     66375\n",
      "\n",
      "[[22100  4328]\n",
      " [ 7333 32614]]\n"
     ]
    }
   ],
   "source": [
    "# acc -> 0.824316384180791\n",
    "lf = lgb.LGBMClassifier(\n",
    "    random_state=rseed, \n",
    "    is_unbalance=True, \n",
    "    bagging_fraction=0.75, \n",
    "    feature_fraction=0.2, \n",
    "    max_depth = 55, \n",
    "    max_bin = 500, \n",
    "    num_leaves = 400, \n",
    "    lambda_l1 = 0,\n",
    "    lambda_l2 = 0, \n",
    "    importance_type='gain'\n",
    ")\n",
    "lf.fit(X_train_nb_lda.drop(columns=least_important_vars_all), y_train)\n",
    "y_pred = lf.predict(X_test_nb_lda.drop(columns=least_important_vars_all))\n",
    "print('accuracy %s' % accuracy_score(y_pred, y_test))\n",
    "print(classification_report(y_test, y_pred))\n",
    "print(confusion_matrix(y_test, y_pred))"
   ]
  },
  {
   "cell_type": "code",
   "execution_count": 105,
   "id": "46fcb9cd-40a9-434a-8cf3-4faf437045b5",
   "metadata": {
    "tags": []
   },
   "outputs": [
    {
     "name": "stdout",
     "output_type": "stream",
     "text": [
      "141    dummy_cat_id_321\n",
      "28      dummy_cat_id_12\n",
      "160    dummy_cat_id_340\n",
      "91     dummy_cat_id_268\n",
      "Name: var, dtype: object\n"
     ]
    }
   ],
   "source": [
    "impt_df = pd.DataFrame(data={\n",
    "    'var':X_train_nb_lda.drop(columns=least_important_vars_all).columns, \n",
    "    'impt':lf.feature_importances_\n",
    "}).sort_values('impt')\n",
    "least_important_vars2 = impt_df.query(\"impt < 1\")['var']\n",
    "print(least_important_vars2)\n",
    "least_important_vars_all = np.concatenate((least_important_vars_all, least_important_vars2))"
   ]
  },
  {
   "cell_type": "code",
   "execution_count": 106,
   "id": "36d2a6c6-7072-4b0b-a543-fba415455229",
   "metadata": {},
   "outputs": [
    {
     "name": "stdout",
     "output_type": "stream",
     "text": [
      "[LightGBM] [Warning] lambda_l1 is set=0, reg_alpha=0.0 will be ignored. Current value: lambda_l1=0\n",
      "[LightGBM] [Warning] lambda_l2 is set=0, reg_lambda=0.0 will be ignored. Current value: lambda_l2=0\n",
      "[LightGBM] [Warning] feature_fraction is set=0.2, colsample_bytree=1.0 will be ignored. Current value: feature_fraction=0.2\n",
      "[LightGBM] [Warning] bagging_fraction is set=0.75, subsample=1.0 will be ignored. Current value: bagging_fraction=0.75\n",
      "accuracy 0.8244067796610169\n",
      "              precision    recall  f1-score   support\n",
      "\n",
      "           0       0.75      0.84      0.79     26428\n",
      "           1       0.88      0.82      0.85     39947\n",
      "\n",
      "    accuracy                           0.82     66375\n",
      "   macro avg       0.82      0.83      0.82     66375\n",
      "weighted avg       0.83      0.82      0.83     66375\n",
      "\n",
      "[[22085  4343]\n",
      " [ 7312 32635]]\n"
     ]
    }
   ],
   "source": [
    "################# MAIN MODEL \n",
    "# acc -> 0.8244067796610169\n",
    "lf2 = lgb.LGBMClassifier(\n",
    "    random_state=rseed, \n",
    "    is_unbalance=True, \n",
    "    bagging_fraction=0.75, \n",
    "    feature_fraction=0.2, \n",
    "    max_depth = 55, \n",
    "    max_bin = 500, \n",
    "    num_leaves = 400, \n",
    "    lambda_l1 = 0,\n",
    "    lambda_l2 = 0, \n",
    "    importance_type='gain'\n",
    ")\n",
    "lf2.fit(X_train_nb_lda.drop(columns=least_important_vars_all), y_train)\n",
    "y_pred = lf2.predict(X_test_nb_lda.drop(columns=least_important_vars_all))\n",
    "print('accuracy %s' % accuracy_score(y_pred, y_test))\n",
    "print(classification_report(y_test, y_pred))\n",
    "print(confusion_matrix(y_test, y_pred))"
   ]
  },
  {
   "cell_type": "code",
   "execution_count": 123,
   "id": "5e33e6a9-8f11-4e46-9936-9529ddaad67f",
   "metadata": {},
   "outputs": [],
   "source": [
    "def optimal_lgbm(random_seed):\n",
    "    lf2 = lgb.LGBMClassifier(\n",
    "        random_state=random_seed, \n",
    "        is_unbalance=True, \n",
    "        bagging_fraction=0.75, \n",
    "        feature_fraction=0.2, \n",
    "        max_depth = 55, \n",
    "        max_bin = 500, \n",
    "        num_leaves = 400, \n",
    "        lambda_l1 = 0,\n",
    "        lambda_l2 = 0, \n",
    "        importance_type='gain', \n",
    "        verbose=-1\n",
    "    )\n",
    "    lf2.fit(X_train_nb_lda.drop(columns=least_important_vars_all), y_train)\n",
    "    y_pred = lf2.predict(X_test_nb_lda.drop(columns=least_important_vars_all))\n",
    "    return accuracy_score(y_pred, y_test)"
   ]
  },
  {
   "cell_type": "code",
   "execution_count": 124,
   "id": "3d9c09b3-d602-49e6-ba2d-9cf60a0a3c26",
   "metadata": {},
   "outputs": [
    {
     "name": "stdout",
     "output_type": "stream",
     "text": [
      "[LightGBM] [Warning] lambda_l1 is set=0, reg_alpha=0.0 will be ignored. Current value: lambda_l1=0\n",
      "[LightGBM] [Warning] lambda_l2 is set=0, reg_lambda=0.0 will be ignored. Current value: lambda_l2=0\n",
      "[LightGBM] [Warning] feature_fraction is set=0.2, colsample_bytree=1.0 will be ignored. Current value: feature_fraction=0.2\n",
      "[LightGBM] [Warning] bagging_fraction is set=0.75, subsample=1.0 will be ignored. Current value: bagging_fraction=0.75\n",
      "[LightGBM] [Warning] lambda_l1 is set=0, reg_alpha=0.0 will be ignored. Current value: lambda_l1=0\n",
      "[LightGBM] [Warning] lambda_l2 is set=0, reg_lambda=0.0 will be ignored. Current value: lambda_l2=0\n",
      "[LightGBM] [Warning] feature_fraction is set=0.2, colsample_bytree=1.0 will be ignored. Current value: feature_fraction=0.2\n",
      "[LightGBM] [Warning] bagging_fraction is set=0.75, subsample=1.0 will be ignored. Current value: bagging_fraction=0.75\n",
      "[LightGBM] [Warning] lambda_l1 is set=0, reg_alpha=0.0 will be ignored. Current value: lambda_l1=0\n",
      "[LightGBM] [Warning] lambda_l2 is set=0, reg_lambda=0.0 will be ignored. Current value: lambda_l2=0\n",
      "[LightGBM] [Warning] feature_fraction is set=0.2, colsample_bytree=1.0 will be ignored. Current value: feature_fraction=0.2\n",
      "[LightGBM] [Warning] bagging_fraction is set=0.75, subsample=1.0 will be ignored. Current value: bagging_fraction=0.75\n",
      "[LightGBM] [Warning] lambda_l1 is set=0, reg_alpha=0.0 will be ignored. Current value: lambda_l1=0\n",
      "[LightGBM] [Warning] lambda_l2 is set=0, reg_lambda=0.0 will be ignored. Current value: lambda_l2=0\n",
      "[LightGBM] [Warning] feature_fraction is set=0.2, colsample_bytree=1.0 will be ignored. Current value: feature_fraction=0.2\n",
      "[LightGBM] [Warning] bagging_fraction is set=0.75, subsample=1.0 will be ignored. Current value: bagging_fraction=0.75\n",
      "[LightGBM] [Warning] lambda_l1 is set=0, reg_alpha=0.0 will be ignored. Current value: lambda_l1=0\n",
      "[LightGBM] [Warning] lambda_l2 is set=0, reg_lambda=0.0 will be ignored. Current value: lambda_l2=0\n",
      "[LightGBM] [Warning] feature_fraction is set=0.2, colsample_bytree=1.0 will be ignored. Current value: feature_fraction=0.2\n",
      "[LightGBM] [Warning] bagging_fraction is set=0.75, subsample=1.0 will be ignored. Current value: bagging_fraction=0.75\n",
      "[LightGBM] [Warning] lambda_l1 is set=0, reg_alpha=0.0 will be ignored. Current value: lambda_l1=0\n",
      "[LightGBM] [Warning] lambda_l2 is set=0, reg_lambda=0.0 will be ignored. Current value: lambda_l2=0\n",
      "[LightGBM] [Warning] feature_fraction is set=0.2, colsample_bytree=1.0 will be ignored. Current value: feature_fraction=0.2\n",
      "[LightGBM] [Warning] bagging_fraction is set=0.75, subsample=1.0 will be ignored. Current value: bagging_fraction=0.75\n",
      "[LightGBM] [Warning] lambda_l1 is set=0, reg_alpha=0.0 will be ignored. Current value: lambda_l1=0\n",
      "[LightGBM] [Warning] lambda_l2 is set=0, reg_lambda=0.0 will be ignored. Current value: lambda_l2=0\n",
      "[LightGBM] [Warning] feature_fraction is set=0.2, colsample_bytree=1.0 will be ignored. Current value: feature_fraction=0.2\n",
      "[LightGBM] [Warning] bagging_fraction is set=0.75, subsample=1.0 will be ignored. Current value: bagging_fraction=0.75\n",
      "[LightGBM] [Warning] lambda_l1 is set=0, reg_alpha=0.0 will be ignored. Current value: lambda_l1=0\n",
      "[LightGBM] [Warning] lambda_l2 is set=0, reg_lambda=0.0 will be ignored. Current value: lambda_l2=0\n",
      "[LightGBM] [Warning] feature_fraction is set=0.2, colsample_bytree=1.0 will be ignored. Current value: feature_fraction=0.2\n",
      "[LightGBM] [Warning] bagging_fraction is set=0.75, subsample=1.0 will be ignored. Current value: bagging_fraction=0.75\n",
      "[0.824497175141243, 0.8241205273069679, 0.8232919020715631, 0.8230207156308851, 0.8228248587570621, 0.8234274952919021, 0.8223126177024482, 0.824572504708098, 0.8230056497175141]\n",
      "0.8234526051475205\n"
     ]
    }
   ],
   "source": [
    "acc = []\n",
    "for r in np.arange(1, 10, 1):\n",
    "    acc.append( optimal_lgbm( rseed + r ) )\n",
    "print(acc)\n",
    "print(np.mean(acc))"
   ]
  },
  {
   "cell_type": "code",
   "execution_count": 107,
   "id": "d77f8803-7a7e-4bdb-a793-d21d6b1a1d3c",
   "metadata": {},
   "outputs": [
    {
     "name": "stdout",
     "output_type": "stream",
     "text": [
      "Series([], Name: var, dtype: object)\n"
     ]
    }
   ],
   "source": [
    "impt_df = pd.DataFrame(data={\n",
    "    'var':X_train_nb_lda.drop(columns=least_important_vars_all).columns, \n",
    "    'impt':lf2.feature_importances_\n",
    "}).sort_values('impt')\n",
    "least_important_vars2 = impt_df.query(\"impt < 1\")['var']\n",
    "print(least_important_vars2)\n",
    "#least_important_vars_all = np.concatenate((least_important_vars_all, least_important_vars2))"
   ]
  },
  {
   "cell_type": "code",
   "execution_count": 119,
   "id": "b065b412-2aca-4e58-a908-f4f5154b2360",
   "metadata": {},
   "outputs": [
    {
     "data": {
      "text/plain": [
       "<matplotlib.axes._subplots.AxesSubplot at 0x7fd10f57e100>"
      ]
     },
     "execution_count": 119,
     "metadata": {},
     "output_type": "execute_result"
    },
    {
     "data": {
      "image/png": "[encoded data removed]",
      "text/plain": [
       "<Figure size 576x720 with 1 Axes>"
      ]
     },
     "metadata": {
      "needs_background": "light"
     },
     "output_type": "display_data"
    }
   ],
   "source": [
    "tmp = impt_df.sort_values('impt', ascending=False).head(30)\n",
    "plt.subplots(1,1, figsize=(8, 10))\n",
    "sns.barplot(y=tmp['var'], x=tmp['impt'])"
   ]
  },
  {
   "cell_type": "code",
   "execution_count": null,
   "id": "97d0fe46-8c47-4a94-990e-65254ad59edd",
   "metadata": {},
   "outputs": [],
   "source": []
  },
  {
   "cell_type": "code",
   "execution_count": 52,
   "id": "e162448c-a63e-4774-9b4a-3388f2f32eb5",
   "metadata": {},
   "outputs": [
    {
     "name": "stdout",
     "output_type": "stream",
     "text": [
      "[LightGBM] [Warning] lambda_l1 is set=0, reg_alpha=0.0 will be ignored. Current value: lambda_l1=0\n",
      "[LightGBM] [Warning] lambda_l2 is set=0, reg_lambda=0.0 will be ignored. Current value: lambda_l2=0\n",
      "[LightGBM] [Warning] feature_fraction is set=0.2, colsample_bytree=1.0 will be ignored. Current value: feature_fraction=0.2\n",
      "[LightGBM] [Warning] bagging_fraction is set=0.75, subsample=1.0 will be ignored. Current value: bagging_fraction=0.75\n",
      "accuracy 0.824316384180791\n",
      "              precision    recall  f1-score   support\n",
      "\n",
      "           0       0.75      0.84      0.79     26428\n",
      "           1       0.88      0.82      0.85     39947\n",
      "\n",
      "    accuracy                           0.82     66375\n",
      "   macro avg       0.82      0.83      0.82     66375\n",
      "weighted avg       0.83      0.82      0.83     66375\n",
      "\n",
      "[[22100  4328]\n",
      " [ 7333 32614]]\n"
     ]
    }
   ],
   "source": [
    "# acc -> 0.824316384180791\n",
    "lf = lgb.LGBMClassifier(\n",
    "    random_state=rseed, \n",
    "    is_unbalance=True, \n",
    "    bagging_fraction=0.75, \n",
    "    feature_fraction=0.2, \n",
    "    max_depth = 55, \n",
    "    max_bin = 500, \n",
    "    num_leaves = 400, \n",
    "    lambda_l1 = 0,\n",
    "    lambda_l2 = 0\n",
    ")\n",
    "lf.fit(X_train_nb_lda.drop(columns=least_important_vars), y_train)\n",
    "y_pred = lf.predict(X_test_nb_lda.drop(columns=least_important_vars))\n",
    "print('accuracy %s' % accuracy_score(y_pred, y_test))\n",
    "print(classification_report(y_test, y_pred))\n",
    "print(confusion_matrix(y_test, y_pred))"
   ]
  },
  {
   "cell_type": "code",
   "execution_count": 21,
   "id": "fd1cd150-5b52-4199-adde-7ea81cb70967",
   "metadata": {},
   "outputs": [],
   "source": [
    "grid_search_params = {\n",
    "    'max_depth':[65],\n",
    "    'num_leaves': [400, 500, 600], \n",
    "    'max_bin': [400, 500, 600], \n",
    "    #'min_child_samples': sp_randint(150, 300), \n",
    "    #'min_child_weight': [1e-5, 1e-3, 1e-2, 1e-1, 1, 10],\n",
    "    'bagging_fraction': [0.7, 0.8, 1], \n",
    "    'feature_fraction': [0.5, 0.7, 1],\n",
    "    'lambda_l1': [0, 1e-1, 1, 2, 5, 10, 50],\n",
    "    'lambda_l2': [0, 1e-1, 1, 5, 10, 20, 50]\n",
    "}"
   ]
  },
  {
   "cell_type": "code",
   "execution_count": 28,
   "id": "edf21d49-99ae-462a-9a98-0321d16b58c9",
   "metadata": {},
   "outputs": [],
   "source": [
    "lgbmm = lgb.LGBMClassifier(random_state=rseed, verbose=-1, n_jobs=4, is_unbalance=True, n_estimators=1000)\n",
    "gs = RandomizedSearchCV(\n",
    "    estimator=lgbmm, \n",
    "    param_distributions=grid_search_params, \n",
    "    n_iter=100,\n",
    "    scoring='accuracy',\n",
    "    refit=True,\n",
    "    cv=2,\n",
    "    random_state=rseed+5,\n",
    "    verbose=2,\n",
    "    n_jobs=4,\n",
    ")"
   ]
  },
  {
   "cell_type": "code",
   "execution_count": 37,
   "id": "270d8af8-85e9-4db2-b720-0e055c586bea",
   "metadata": {
    "collapsed": true,
    "jupyter": {
     "outputs_hidden": true
    },
    "tags": []
   },
   "outputs": [
    {
     "name": "stdout",
     "output_type": "stream",
     "text": [
      "Fitting 2 folds for each of 100 candidates, totalling 200 fits\n",
      "[LightGBM] [Warning] lambda_l1 is set=1, reg_alpha=0.0 will be ignored. Current value: lambda_l1=1\n",
      "[LightGBM] [Warning] lambda_l2 is set=10, reg_lambda=0.0 will be ignored. Current value: lambda_l2=10\n",
      "[LightGBM] [Warning] feature_fraction is set=0.539280958876815, colsample_bytree=1.0 will be ignored. Current value: feature_fraction=0.539280958876815\n",
      "[LightGBM] [Warning] bagging_fraction is set=0.8192641499726137, subsample=1.0 will be ignored. Current value: bagging_fraction=0.8192641499726137\n"
     ]
    },
    {
     "data": {
      "text/plain": [
       "RandomizedSearchCV(cv=2,\n",
       "                   estimator=LGBMClassifier(is_unbalance=True, n_jobs=4,\n",
       "                                            random_state=229, verbose=-1),\n",
       "                   n_iter=100, n_jobs=4,\n",
       "                   param_distributions={'bagging_fraction': <scipy.stats._distn_infrastructure.rv_frozen object at 0x7fe4b0ab45b0>,\n",
       "                                        'feature_fraction': <scipy.stats._distn_infrastructure.rv_frozen object at 0x7fe4b0ab4f40>,\n",
       "                                        'lambda_l1': [0, 0.1, 1, 2, 5, 10, 50,\n",
       "                                                      100],\n",
       "                                        'lambda_l2': [0, 0.1, 1, 5, 10, 20, 50,\n",
       "                                                      100],\n",
       "                                        'max_bin': [500],\n",
       "                                        'max_depth': [55, 60, 65, 70, 75, 80,\n",
       "                                                      85, 90],\n",
       "                                        'num_leaves': [400]},\n",
       "                   random_state=229, scoring='accuracy', verbose=2)"
      ]
     },
     "execution_count": 37,
     "metadata": {},
     "output_type": "execute_result"
    }
   ],
   "source": [
    "gs.fit(X_train, y_train)"
   ]
  },
  {
   "cell_type": "code",
   "execution_count": 38,
   "id": "52cb7fa3-5913-4db5-a10a-a9a999511b3b",
   "metadata": {},
   "outputs": [
    {
     "name": "stdout",
     "output_type": "stream",
     "text": [
      "Best score reached: 0.8118329190752414 with params: {'bagging_fraction': 0.8192641499726137, 'feature_fraction': 0.539280958876815, 'lambda_l1': 1, 'lambda_l2': 10, 'max_bin': 500, 'max_depth': 65, 'num_leaves': 400} \n"
     ]
    }
   ],
   "source": [
    "print('Best score reached: {} with params: {} '.format(gs.best_score_, gs.best_params_))\n",
    "ypred = gs.predict(X_test)\n",
    "print('accuracy %s' % accuracy_score(ypred, y_test))\n",
    "print(classification_report(y_test, ypred))"
   ]
  },
  {
   "cell_type": "code",
   "execution_count": 41,
   "id": "5185f5ad-799c-4b3a-9945-df2d3dc2fc5b",
   "metadata": {
    "collapsed": true,
    "jupyter": {
     "outputs_hidden": true
    },
    "tags": []
   },
   "outputs": [
    {
     "name": "stdout",
     "output_type": "stream",
     "text": [
      "Fitting 2 folds for each of 100 candidates, totalling 200 fits\n",
      "[LightGBM] [Warning] lambda_l1 is set=0, reg_alpha=0.0 will be ignored. Current value: lambda_l1=0\n",
      "[LightGBM] [Warning] lambda_l2 is set=10, reg_lambda=0.0 will be ignored. Current value: lambda_l2=10\n",
      "[LightGBM] [Warning] feature_fraction is set=0.7552439982264174, colsample_bytree=1.0 will be ignored. Current value: feature_fraction=0.7552439982264174\n",
      "[LightGBM] [Warning] bagging_fraction is set=0.2980783318095253, subsample=1.0 will be ignored. Current value: bagging_fraction=0.2980783318095253\n"
     ]
    },
    {
     "data": {
      "text/plain": [
       "RandomizedSearchCV(cv=2,\n",
       "                   estimator=LGBMClassifier(is_unbalance=True, n_jobs=4,\n",
       "                                            random_state=229, verbose=-1),\n",
       "                   n_iter=100, n_jobs=4,\n",
       "                   param_distributions={'bagging_fraction': <scipy.stats._distn_infrastructure.rv_frozen object at 0x7fe4b0ab45b0>,\n",
       "                                        'feature_fraction': <scipy.stats._distn_infrastructure.rv_frozen object at 0x7fe4b0ab4f40>,\n",
       "                                        'lambda_l1': [0, 0.1, 1, 2, 5, 10, 50,\n",
       "                                                      100],\n",
       "                                        'lambda_l2': [0, 0.1, 1, 5, 10, 20, 50,\n",
       "                                                      100],\n",
       "                                        'max_bin': [500],\n",
       "                                        'max_depth': [55, 60, 65, 70, 75, 80,\n",
       "                                                      85, 90],\n",
       "                                        'num_leaves': [400]},\n",
       "                   random_state=229, scoring='accuracy', verbose=2)"
      ]
     },
     "execution_count": 41,
     "metadata": {},
     "output_type": "execute_result"
    }
   ],
   "source": [
    "gs.fit(X_train_nb_lda, y_train)"
   ]
  },
  {
   "cell_type": "code",
   "execution_count": 29,
   "id": "c4b86fb5-5562-4265-a880-5c3e27ed04f0",
   "metadata": {
    "collapsed": true,
    "jupyter": {
     "outputs_hidden": true
    },
    "tags": []
   },
   "outputs": [
    {
     "name": "stdout",
     "output_type": "stream",
     "text": [
      "Fitting 2 folds for each of 100 candidates, totalling 200 fits\n",
      "[LightGBM] [Warning] lambda_l1 is set=0, reg_alpha=0.0 will be ignored. Current value: lambda_l1=0\n",
      "[LightGBM] [Warning] lambda_l2 is set=50, reg_lambda=0.0 will be ignored. Current value: lambda_l2=50\n",
      "[LightGBM] [Warning] feature_fraction is set=0.7, colsample_bytree=1.0 will be ignored. Current value: feature_fraction=0.7\n",
      "[LightGBM] [Warning] bagging_fraction is set=0.8, subsample=1.0 will be ignored. Current value: bagging_fraction=0.8\n",
      "[1]\tvalid's binary_logloss: 0.630992\n",
      "Training until validation scores don't improve for 100 rounds\n",
      "[2]\tvalid's binary_logloss: 0.596204\n",
      "[3]\tvalid's binary_logloss: 0.567249\n",
      "[4]\tvalid's binary_logloss: 0.543078\n",
      "[5]\tvalid's binary_logloss: 0.522296\n",
      "[6]\tvalid's binary_logloss: 0.504311\n",
      "[7]\tvalid's binary_logloss: 0.489119\n",
      "[8]\tvalid's binary_logloss: 0.476977\n",
      "[9]\tvalid's binary_logloss: 0.465599\n",
      "[10]\tvalid's binary_logloss: 0.455187\n",
      "[11]\tvalid's binary_logloss: 0.446414\n",
      "[12]\tvalid's binary_logloss: 0.43935\n",
      "[13]\tvalid's binary_logloss: 0.431658\n",
      "[14]\tvalid's binary_logloss: 0.424455\n",
      "[15]\tvalid's binary_logloss: 0.419245\n",
      "[16]\tvalid's binary_logloss: 0.414686\n",
      "[17]\tvalid's binary_logloss: 0.410646\n",
      "[18]\tvalid's binary_logloss: 0.407562\n",
      "[19]\tvalid's binary_logloss: 0.403035\n",
      "[20]\tvalid's binary_logloss: 0.400741\n",
      "[21]\tvalid's binary_logloss: 0.396593\n",
      "[22]\tvalid's binary_logloss: 0.39477\n",
      "[23]\tvalid's binary_logloss: 0.391564\n",
      "[24]\tvalid's binary_logloss: 0.390284\n",
      "[25]\tvalid's binary_logloss: 0.389528\n",
      "[26]\tvalid's binary_logloss: 0.387615\n",
      "[27]\tvalid's binary_logloss: 0.386437\n",
      "[28]\tvalid's binary_logloss: 0.385489\n",
      "[29]\tvalid's binary_logloss: 0.383748\n",
      "[30]\tvalid's binary_logloss: 0.38323\n",
      "[31]\tvalid's binary_logloss: 0.381515\n",
      "[32]\tvalid's binary_logloss: 0.381365\n",
      "[33]\tvalid's binary_logloss: 0.380173\n",
      "[34]\tvalid's binary_logloss: 0.379079\n",
      "[35]\tvalid's binary_logloss: 0.378944\n",
      "[36]\tvalid's binary_logloss: 0.377453\n",
      "[37]\tvalid's binary_logloss: 0.377278\n",
      "[38]\tvalid's binary_logloss: 0.377112\n",
      "[39]\tvalid's binary_logloss: 0.376967\n",
      "[40]\tvalid's binary_logloss: 0.376372\n",
      "[41]\tvalid's binary_logloss: 0.376104\n",
      "[42]\tvalid's binary_logloss: 0.375941\n",
      "[43]\tvalid's binary_logloss: 0.375222\n",
      "[44]\tvalid's binary_logloss: 0.375083\n",
      "[45]\tvalid's binary_logloss: 0.37457\n",
      "[46]\tvalid's binary_logloss: 0.374378\n",
      "[47]\tvalid's binary_logloss: 0.374443\n",
      "[48]\tvalid's binary_logloss: 0.374378\n",
      "[49]\tvalid's binary_logloss: 0.374166\n",
      "[50]\tvalid's binary_logloss: 0.374266\n",
      "[51]\tvalid's binary_logloss: 0.373894\n",
      "[52]\tvalid's binary_logloss: 0.373698\n",
      "[53]\tvalid's binary_logloss: 0.373306\n",
      "[54]\tvalid's binary_logloss: 0.373309\n",
      "[55]\tvalid's binary_logloss: 0.373361\n",
      "[56]\tvalid's binary_logloss: 0.372825\n",
      "[57]\tvalid's binary_logloss: 0.372669\n",
      "[58]\tvalid's binary_logloss: 0.37205\n",
      "[59]\tvalid's binary_logloss: 0.372163\n",
      "[60]\tvalid's binary_logloss: 0.371996\n",
      "[61]\tvalid's binary_logloss: 0.371907\n",
      "[62]\tvalid's binary_logloss: 0.371279\n",
      "[63]\tvalid's binary_logloss: 0.370687\n",
      "[64]\tvalid's binary_logloss: 0.370829\n",
      "[65]\tvalid's binary_logloss: 0.369771\n",
      "[66]\tvalid's binary_logloss: 0.369522\n",
      "[67]\tvalid's binary_logloss: 0.369113\n",
      "[68]\tvalid's binary_logloss: 0.368881\n",
      "[69]\tvalid's binary_logloss: 0.368828\n",
      "[70]\tvalid's binary_logloss: 0.368932\n",
      "[71]\tvalid's binary_logloss: 0.368775\n",
      "[72]\tvalid's binary_logloss: 0.368405\n",
      "[73]\tvalid's binary_logloss: 0.367738\n",
      "[74]\tvalid's binary_logloss: 0.367979\n",
      "[75]\tvalid's binary_logloss: 0.367883\n",
      "[76]\tvalid's binary_logloss: 0.367667\n",
      "[77]\tvalid's binary_logloss: 0.367788\n",
      "[78]\tvalid's binary_logloss: 0.367544\n",
      "[79]\tvalid's binary_logloss: 0.36759\n",
      "[80]\tvalid's binary_logloss: 0.36752\n",
      "[81]\tvalid's binary_logloss: 0.367359\n",
      "[82]\tvalid's binary_logloss: 0.367228\n",
      "[83]\tvalid's binary_logloss: 0.36686\n",
      "[84]\tvalid's binary_logloss: 0.366572\n",
      "[85]\tvalid's binary_logloss: 0.366315\n",
      "[86]\tvalid's binary_logloss: 0.36593\n",
      "[87]\tvalid's binary_logloss: 0.365837\n",
      "[88]\tvalid's binary_logloss: 0.365549\n",
      "[89]\tvalid's binary_logloss: 0.36561\n",
      "[90]\tvalid's binary_logloss: 0.36565\n",
      "[91]\tvalid's binary_logloss: 0.365556\n",
      "[92]\tvalid's binary_logloss: 0.365606\n",
      "[93]\tvalid's binary_logloss: 0.365711\n",
      "[94]\tvalid's binary_logloss: 0.365561\n",
      "[95]\tvalid's binary_logloss: 0.3656\n",
      "[96]\tvalid's binary_logloss: 0.365598\n",
      "[97]\tvalid's binary_logloss: 0.365535\n",
      "[98]\tvalid's binary_logloss: 0.36544\n",
      "[99]\tvalid's binary_logloss: 0.365262\n",
      "[100]\tvalid's binary_logloss: 0.365393\n",
      "[101]\tvalid's binary_logloss: 0.365084\n",
      "[102]\tvalid's binary_logloss: 0.365149\n",
      "[103]\tvalid's binary_logloss: 0.365196\n",
      "[104]\tvalid's binary_logloss: 0.3651\n",
      "[105]\tvalid's binary_logloss: 0.365208\n",
      "[106]\tvalid's binary_logloss: 0.365287\n",
      "[107]\tvalid's binary_logloss: 0.365067\n",
      "[108]\tvalid's binary_logloss: 0.365178\n",
      "[109]\tvalid's binary_logloss: 0.365319\n",
      "[110]\tvalid's binary_logloss: 0.365389\n",
      "[111]\tvalid's binary_logloss: 0.365314\n",
      "[112]\tvalid's binary_logloss: 0.365375\n",
      "[113]\tvalid's binary_logloss: 0.365249\n",
      "[114]\tvalid's binary_logloss: 0.365152\n",
      "[115]\tvalid's binary_logloss: 0.365192\n",
      "[116]\tvalid's binary_logloss: 0.36518\n",
      "[117]\tvalid's binary_logloss: 0.365085\n",
      "[118]\tvalid's binary_logloss: 0.3652\n",
      "[119]\tvalid's binary_logloss: 0.36531\n",
      "[120]\tvalid's binary_logloss: 0.365421\n",
      "[121]\tvalid's binary_logloss: 0.365509\n",
      "[122]\tvalid's binary_logloss: 0.365502\n",
      "[123]\tvalid's binary_logloss: 0.365337\n",
      "[124]\tvalid's binary_logloss: 0.36522\n",
      "[125]\tvalid's binary_logloss: 0.36518\n",
      "[126]\tvalid's binary_logloss: 0.365292\n",
      "[127]\tvalid's binary_logloss: 0.36525\n",
      "[128]\tvalid's binary_logloss: 0.365365\n",
      "[129]\tvalid's binary_logloss: 0.365419\n",
      "[130]\tvalid's binary_logloss: 0.365526\n",
      "[131]\tvalid's binary_logloss: 0.365419\n",
      "[132]\tvalid's binary_logloss: 0.365345\n",
      "[133]\tvalid's binary_logloss: 0.365452\n",
      "[134]\tvalid's binary_logloss: 0.365567\n",
      "[135]\tvalid's binary_logloss: 0.365692\n",
      "[136]\tvalid's binary_logloss: 0.365538\n",
      "[137]\tvalid's binary_logloss: 0.365592\n",
      "[138]\tvalid's binary_logloss: 0.365694\n",
      "[139]\tvalid's binary_logloss: 0.365669\n",
      "[140]\tvalid's binary_logloss: 0.365728\n",
      "[141]\tvalid's binary_logloss: 0.365837\n",
      "[142]\tvalid's binary_logloss: 0.365775\n",
      "[143]\tvalid's binary_logloss: 0.365809\n",
      "[144]\tvalid's binary_logloss: 0.365875\n",
      "[145]\tvalid's binary_logloss: 0.365899\n",
      "[146]\tvalid's binary_logloss: 0.366051\n",
      "[147]\tvalid's binary_logloss: 0.366082\n",
      "[148]\tvalid's binary_logloss: 0.366049\n",
      "[149]\tvalid's binary_logloss: 0.366165\n",
      "[150]\tvalid's binary_logloss: 0.366306\n",
      "[151]\tvalid's binary_logloss: 0.366421\n",
      "[152]\tvalid's binary_logloss: 0.3665\n",
      "[153]\tvalid's binary_logloss: 0.366547\n",
      "[154]\tvalid's binary_logloss: 0.366619\n",
      "[155]\tvalid's binary_logloss: 0.366731\n",
      "[156]\tvalid's binary_logloss: 0.366663\n",
      "[157]\tvalid's binary_logloss: 0.366775\n",
      "[158]\tvalid's binary_logloss: 0.366785\n",
      "[159]\tvalid's binary_logloss: 0.366879\n",
      "[160]\tvalid's binary_logloss: 0.366863\n",
      "[161]\tvalid's binary_logloss: 0.366858\n",
      "[162]\tvalid's binary_logloss: 0.366848\n",
      "[163]\tvalid's binary_logloss: 0.3669\n",
      "[164]\tvalid's binary_logloss: 0.366961\n",
      "[165]\tvalid's binary_logloss: 0.367146\n",
      "[166]\tvalid's binary_logloss: 0.367325\n",
      "[167]\tvalid's binary_logloss: 0.367433\n",
      "[168]\tvalid's binary_logloss: 0.367571\n",
      "[169]\tvalid's binary_logloss: 0.367673\n",
      "[170]\tvalid's binary_logloss: 0.367673\n",
      "[171]\tvalid's binary_logloss: 0.367628\n",
      "[172]\tvalid's binary_logloss: 0.367599\n",
      "[173]\tvalid's binary_logloss: 0.367771\n",
      "[174]\tvalid's binary_logloss: 0.367774\n",
      "[175]\tvalid's binary_logloss: 0.367753\n",
      "[176]\tvalid's binary_logloss: 0.367759\n",
      "[177]\tvalid's binary_logloss: 0.367933\n",
      "[178]\tvalid's binary_logloss: 0.367974\n",
      "[179]\tvalid's binary_logloss: 0.367933\n",
      "[180]\tvalid's binary_logloss: 0.367974\n",
      "[181]\tvalid's binary_logloss: 0.368137\n",
      "[182]\tvalid's binary_logloss: 0.368275\n",
      "[183]\tvalid's binary_logloss: 0.36844\n",
      "[184]\tvalid's binary_logloss: 0.368393\n",
      "[185]\tvalid's binary_logloss: 0.368395\n",
      "[186]\tvalid's binary_logloss: 0.368523\n",
      "[187]\tvalid's binary_logloss: 0.368567\n",
      "[188]\tvalid's binary_logloss: 0.368674\n",
      "[189]\tvalid's binary_logloss: 0.368754\n",
      "[190]\tvalid's binary_logloss: 0.368835\n",
      "[191]\tvalid's binary_logloss: 0.368907\n",
      "[192]\tvalid's binary_logloss: 0.368947\n",
      "[193]\tvalid's binary_logloss: 0.369084\n",
      "[194]\tvalid's binary_logloss: 0.369165\n",
      "[195]\tvalid's binary_logloss: 0.36934\n",
      "[196]\tvalid's binary_logloss: 0.369465\n",
      "[197]\tvalid's binary_logloss: 0.369567\n",
      "[198]\tvalid's binary_logloss: 0.369591\n",
      "[199]\tvalid's binary_logloss: 0.369682\n",
      "[200]\tvalid's binary_logloss: 0.369708\n",
      "[201]\tvalid's binary_logloss: 0.369717\n",
      "[202]\tvalid's binary_logloss: 0.369895\n",
      "[203]\tvalid's binary_logloss: 0.370014\n",
      "[204]\tvalid's binary_logloss: 0.369998\n",
      "[205]\tvalid's binary_logloss: 0.370122\n",
      "[206]\tvalid's binary_logloss: 0.370099\n",
      "[207]\tvalid's binary_logloss: 0.370227\n",
      "Early stopping, best iteration is:\n",
      "[107]\tvalid's binary_logloss: 0.365067\n"
     ]
    },
    {
     "data": {
      "text/plain": [
       "RandomizedSearchCV(cv=2,\n",
       "                   estimator=LGBMClassifier(is_unbalance=True,\n",
       "                                            n_estimators=1000, n_jobs=4,\n",
       "                                            random_state=229, verbose=-1),\n",
       "                   n_iter=100, n_jobs=4,\n",
       "                   param_distributions={'bagging_fraction': [0.7, 0.8, 1],\n",
       "                                        'feature_fraction': [0.5, 0.7, 1],\n",
       "                                        'lambda_l1': [0, 0.1, 1, 2, 5, 10, 50],\n",
       "                                        'lambda_l2': [0, 0.1, 1, 5, 10, 20, 50],\n",
       "                                        'max_bin': [400, 500, 600],\n",
       "                                        'max_depth': [65],\n",
       "                                        'num_leaves': [400, 500, 600]},\n",
       "                   random_state=234, scoring='accuracy', verbose=2)"
      ]
     },
     "execution_count": 29,
     "metadata": {},
     "output_type": "execute_result"
    }
   ],
   "source": [
    "gs.fit(\n",
    "    X_train_nb_lda, y_train,\n",
    "    early_stopping_rounds=100, \n",
    "    eval_metric = 'binary', \n",
    "    eval_set = [(X_test_nb_lda, y_test)],\n",
    "    eval_names =['valid']\n",
    ")"
   ]
  },
  {
   "cell_type": "code",
   "execution_count": 30,
   "id": "d505adbf-2faa-48fa-b310-86b1d5e8bf2f",
   "metadata": {},
   "outputs": [
    {
     "data": {
      "text/plain": [
       "LGBMClassifier(bagging_fraction=0.8, feature_fraction=0.7, is_unbalance=True,\n",
       "               lambda_l1=0, lambda_l2=50, max_bin=400, max_depth=65,\n",
       "               n_estimators=1000, n_jobs=4, num_leaves=400, random_state=229,\n",
       "               verbose=-1)"
      ]
     },
     "execution_count": 30,
     "metadata": {},
     "output_type": "execute_result"
    }
   ],
   "source": [
    "gs.best_estimator_"
   ]
  },
  {
   "cell_type": "code",
   "execution_count": 20,
   "id": "c04b4b25-22a6-492c-9112-f410adf9427c",
   "metadata": {
    "tags": []
   },
   "outputs": [
    {
     "data": {
      "text/plain": [
       "LGBMClassifier(bagging_fraction=0.673226899113038,\n",
       "               feature_fraction=0.8853537231098203, is_unbalance=True,\n",
       "               lambda_l1=0, lambda_l2=50, max_bin=600, max_depth=65, n_jobs=4,\n",
       "               num_leaves=400, random_state=229, verbose=-1)"
      ]
     },
     "execution_count": 20,
     "metadata": {},
     "output_type": "execute_result"
    }
   ],
   "source": [
    "gs.best_estimator_"
   ]
  },
  {
   "cell_type": "code",
   "execution_count": 31,
   "id": "205797e4-5ce7-4440-a301-7ac667e4d3d9",
   "metadata": {},
   "outputs": [
    {
     "name": "stdout",
     "output_type": "stream",
     "text": [
      "Best score reached: 0.8571345614075507 with params: {'num_leaves': 400, 'max_depth': 65, 'max_bin': 400, 'lambda_l2': 50, 'lambda_l1': 0, 'feature_fraction': 0.7, 'bagging_fraction': 0.8} \n",
      "accuracy 0.8209566854990584\n",
      "              precision    recall  f1-score   support\n",
      "\n",
      "           0       0.75      0.82      0.78     26428\n",
      "           1       0.87      0.82      0.85     39947\n",
      "\n",
      "    accuracy                           0.82     66375\n",
      "   macro avg       0.81      0.82      0.82     66375\n",
      "weighted avg       0.82      0.82      0.82     66375\n",
      "\n"
     ]
    }
   ],
   "source": [
    "print('Best score reached: {} with params: {} '.format(gs.best_score_, gs.best_params_))\n",
    "ypred = gs.predict(X_test_nb_lda)\n",
    "print('accuracy %s' % accuracy_score(ypred, y_test))\n",
    "print(classification_report(y_test, ypred))"
   ]
  },
  {
   "cell_type": "code",
   "execution_count": 42,
   "id": "65fdcbc7-cb68-4cfe-9983-09e0ff2620fe",
   "metadata": {
    "collapsed": true,
    "jupyter": {
     "outputs_hidden": true
    },
    "tags": []
   },
   "outputs": [
    {
     "name": "stdout",
     "output_type": "stream",
     "text": [
      "Best score reached: 0.8571991284403393 with params: {'bagging_fraction': 0.2980783318095253, 'feature_fraction': 0.7552439982264174, 'lambda_l1': 0, 'lambda_l2': 10, 'max_bin': 500, 'max_depth': 90, 'num_leaves': 400} \n",
      "accuracy 0.8201280602636535\n",
      "              precision    recall  f1-score   support\n",
      "\n",
      "           0       0.75      0.81      0.78     26428\n",
      "           1       0.87      0.83      0.85     39947\n",
      "\n",
      "    accuracy                           0.82     66375\n",
      "   macro avg       0.81      0.82      0.81     66375\n",
      "weighted avg       0.82      0.82      0.82     66375\n",
      "\n"
     ]
    }
   ],
   "source": [
    "print('Best score reached: {} with params: {} '.format(gs.best_score_, gs.best_params_))\n",
    "ypred = gs.predict(X_test_nb_lda)\n",
    "print('accuracy %s' % accuracy_score(ypred, y_test))\n",
    "print(classification_report(y_test, ypred))"
   ]
  },
  {
   "cell_type": "code",
   "execution_count": 39,
   "id": "aaff8e60-c815-4dde-b4ff-8122524b9e95",
   "metadata": {
    "collapsed": true,
    "jupyter": {
     "outputs_hidden": true
    },
    "tags": []
   },
   "outputs": [
    {
     "name": "stdout",
     "output_type": "stream",
     "text": [
      "[1]\tvalid's binary_logloss: 0.631915\n",
      "Training until validation scores don't improve for 100 rounds\n",
      "[2]\tvalid's binary_logloss: 0.596952\n",
      "[3]\tvalid's binary_logloss: 0.567522\n",
      "[4]\tvalid's binary_logloss: 0.543395\n",
      "[5]\tvalid's binary_logloss: 0.52231\n",
      "[6]\tvalid's binary_logloss: 0.50427\n",
      "[7]\tvalid's binary_logloss: 0.489254\n",
      "[8]\tvalid's binary_logloss: 0.4763\n",
      "[9]\tvalid's binary_logloss: 0.46525\n",
      "[10]\tvalid's binary_logloss: 0.456024\n",
      "[11]\tvalid's binary_logloss: 0.447662\n",
      "[12]\tvalid's binary_logloss: 0.441281\n",
      "[13]\tvalid's binary_logloss: 0.433638\n",
      "[14]\tvalid's binary_logloss: 0.428275\n",
      "[15]\tvalid's binary_logloss: 0.421588\n",
      "[16]\tvalid's binary_logloss: 0.417424\n",
      "[17]\tvalid's binary_logloss: 0.414274\n",
      "[18]\tvalid's binary_logloss: 0.411134\n",
      "[19]\tvalid's binary_logloss: 0.408254\n",
      "[20]\tvalid's binary_logloss: 0.405576\n",
      "[21]\tvalid's binary_logloss: 0.401178\n",
      "[22]\tvalid's binary_logloss: 0.397168\n",
      "[23]\tvalid's binary_logloss: 0.393416\n",
      "[24]\tvalid's binary_logloss: 0.390302\n",
      "[25]\tvalid's binary_logloss: 0.389131\n",
      "[26]\tvalid's binary_logloss: 0.387986\n",
      "[27]\tvalid's binary_logloss: 0.387445\n",
      "[28]\tvalid's binary_logloss: 0.386374\n",
      "[29]\tvalid's binary_logloss: 0.385539\n",
      "[30]\tvalid's binary_logloss: 0.384006\n",
      "[31]\tvalid's binary_logloss: 0.383184\n",
      "[32]\tvalid's binary_logloss: 0.38271\n",
      "[33]\tvalid's binary_logloss: 0.38074\n",
      "[34]\tvalid's binary_logloss: 0.379314\n",
      "[35]\tvalid's binary_logloss: 0.378914\n",
      "[36]\tvalid's binary_logloss: 0.378616\n",
      "[37]\tvalid's binary_logloss: 0.377766\n",
      "[38]\tvalid's binary_logloss: 0.377635\n",
      "[39]\tvalid's binary_logloss: 0.377305\n",
      "[40]\tvalid's binary_logloss: 0.376105\n",
      "[41]\tvalid's binary_logloss: 0.375394\n",
      "[42]\tvalid's binary_logloss: 0.375353\n",
      "[43]\tvalid's binary_logloss: 0.37529\n",
      "[44]\tvalid's binary_logloss: 0.375053\n",
      "[45]\tvalid's binary_logloss: 0.375015\n",
      "[46]\tvalid's binary_logloss: 0.374933\n",
      "[47]\tvalid's binary_logloss: 0.375047\n",
      "[48]\tvalid's binary_logloss: 0.375055\n",
      "[49]\tvalid's binary_logloss: 0.374811\n",
      "[50]\tvalid's binary_logloss: 0.374616\n",
      "[51]\tvalid's binary_logloss: 0.374651\n",
      "[52]\tvalid's binary_logloss: 0.374609\n",
      "[53]\tvalid's binary_logloss: 0.3738\n",
      "[54]\tvalid's binary_logloss: 0.373287\n",
      "[55]\tvalid's binary_logloss: 0.372909\n",
      "[56]\tvalid's binary_logloss: 0.372122\n",
      "[57]\tvalid's binary_logloss: 0.371467\n",
      "[58]\tvalid's binary_logloss: 0.371228\n",
      "[59]\tvalid's binary_logloss: 0.371281\n",
      "[60]\tvalid's binary_logloss: 0.370919\n",
      "[61]\tvalid's binary_logloss: 0.370256\n",
      "[62]\tvalid's binary_logloss: 0.370408\n",
      "[63]\tvalid's binary_logloss: 0.370124\n",
      "[64]\tvalid's binary_logloss: 0.369911\n",
      "[65]\tvalid's binary_logloss: 0.369947\n",
      "[66]\tvalid's binary_logloss: 0.369452\n",
      "[67]\tvalid's binary_logloss: 0.369463\n",
      "[68]\tvalid's binary_logloss: 0.369275\n",
      "[69]\tvalid's binary_logloss: 0.369009\n",
      "[70]\tvalid's binary_logloss: 0.368783\n",
      "[71]\tvalid's binary_logloss: 0.368742\n",
      "[72]\tvalid's binary_logloss: 0.368739\n",
      "[73]\tvalid's binary_logloss: 0.368543\n",
      "[74]\tvalid's binary_logloss: 0.368564\n",
      "[75]\tvalid's binary_logloss: 0.368581\n",
      "[76]\tvalid's binary_logloss: 0.368454\n",
      "[77]\tvalid's binary_logloss: 0.36819\n",
      "[78]\tvalid's binary_logloss: 0.367828\n",
      "[79]\tvalid's binary_logloss: 0.36754\n",
      "[80]\tvalid's binary_logloss: 0.36755\n",
      "[81]\tvalid's binary_logloss: 0.367455\n",
      "[82]\tvalid's binary_logloss: 0.367105\n",
      "[83]\tvalid's binary_logloss: 0.367009\n",
      "[84]\tvalid's binary_logloss: 0.366929\n",
      "[85]\tvalid's binary_logloss: 0.366799\n",
      "[86]\tvalid's binary_logloss: 0.366529\n",
      "[87]\tvalid's binary_logloss: 0.366382\n",
      "[88]\tvalid's binary_logloss: 0.366299\n",
      "[89]\tvalid's binary_logloss: 0.366236\n",
      "[90]\tvalid's binary_logloss: 0.366156\n",
      "[91]\tvalid's binary_logloss: 0.366048\n",
      "[92]\tvalid's binary_logloss: 0.365853\n",
      "[93]\tvalid's binary_logloss: 0.365702\n",
      "[94]\tvalid's binary_logloss: 0.365658\n",
      "[95]\tvalid's binary_logloss: 0.365608\n",
      "[96]\tvalid's binary_logloss: 0.365393\n",
      "[97]\tvalid's binary_logloss: 0.365265\n",
      "[98]\tvalid's binary_logloss: 0.365366\n",
      "[99]\tvalid's binary_logloss: 0.365251\n",
      "[100]\tvalid's binary_logloss: 0.365278\n",
      "[101]\tvalid's binary_logloss: 0.365207\n",
      "[102]\tvalid's binary_logloss: 0.365053\n",
      "[103]\tvalid's binary_logloss: 0.364958\n",
      "[104]\tvalid's binary_logloss: 0.36504\n",
      "[105]\tvalid's binary_logloss: 0.364911\n",
      "[106]\tvalid's binary_logloss: 0.364969\n",
      "[107]\tvalid's binary_logloss: 0.364931\n",
      "[108]\tvalid's binary_logloss: 0.365084\n",
      "[109]\tvalid's binary_logloss: 0.365139\n",
      "[110]\tvalid's binary_logloss: 0.365064\n",
      "[111]\tvalid's binary_logloss: 0.364914\n",
      "[112]\tvalid's binary_logloss: 0.364981\n",
      "[113]\tvalid's binary_logloss: 0.36493\n",
      "[114]\tvalid's binary_logloss: 0.365015\n",
      "[115]\tvalid's binary_logloss: 0.365022\n",
      "[116]\tvalid's binary_logloss: 0.365121\n",
      "[117]\tvalid's binary_logloss: 0.365011\n",
      "[118]\tvalid's binary_logloss: 0.365079\n",
      "[119]\tvalid's binary_logloss: 0.365031\n",
      "[120]\tvalid's binary_logloss: 0.365052\n",
      "[121]\tvalid's binary_logloss: 0.365212\n",
      "[122]\tvalid's binary_logloss: 0.365221\n",
      "[123]\tvalid's binary_logloss: 0.365412\n",
      "[124]\tvalid's binary_logloss: 0.365532\n",
      "[125]\tvalid's binary_logloss: 0.365679\n",
      "[126]\tvalid's binary_logloss: 0.365746\n",
      "[127]\tvalid's binary_logloss: 0.365738\n",
      "[128]\tvalid's binary_logloss: 0.36585\n",
      "[129]\tvalid's binary_logloss: 0.365898\n",
      "[130]\tvalid's binary_logloss: 0.36583\n",
      "[131]\tvalid's binary_logloss: 0.365771\n",
      "[132]\tvalid's binary_logloss: 0.365838\n",
      "[133]\tvalid's binary_logloss: 0.36592\n",
      "[134]\tvalid's binary_logloss: 0.365933\n",
      "[135]\tvalid's binary_logloss: 0.365912\n",
      "[136]\tvalid's binary_logloss: 0.36588\n",
      "[137]\tvalid's binary_logloss: 0.36587\n",
      "[138]\tvalid's binary_logloss: 0.365956\n",
      "[139]\tvalid's binary_logloss: 0.366055\n",
      "[140]\tvalid's binary_logloss: 0.366049\n",
      "[141]\tvalid's binary_logloss: 0.365995\n",
      "[142]\tvalid's binary_logloss: 0.366034\n",
      "[143]\tvalid's binary_logloss: 0.36596\n",
      "[144]\tvalid's binary_logloss: 0.366077\n",
      "[145]\tvalid's binary_logloss: 0.366138\n",
      "[146]\tvalid's binary_logloss: 0.366206\n",
      "[147]\tvalid's binary_logloss: 0.366282\n",
      "[148]\tvalid's binary_logloss: 0.366366\n",
      "[149]\tvalid's binary_logloss: 0.3664\n",
      "[150]\tvalid's binary_logloss: 0.366468\n",
      "[151]\tvalid's binary_logloss: 0.366522\n",
      "[152]\tvalid's binary_logloss: 0.366463\n",
      "[153]\tvalid's binary_logloss: 0.366474\n",
      "[154]\tvalid's binary_logloss: 0.366617\n",
      "[155]\tvalid's binary_logloss: 0.366488\n",
      "[156]\tvalid's binary_logloss: 0.3665\n",
      "[157]\tvalid's binary_logloss: 0.366649\n",
      "[158]\tvalid's binary_logloss: 0.366719\n",
      "[159]\tvalid's binary_logloss: 0.366632\n",
      "[160]\tvalid's binary_logloss: 0.366596\n",
      "[161]\tvalid's binary_logloss: 0.36648\n",
      "[162]\tvalid's binary_logloss: 0.366486\n",
      "[163]\tvalid's binary_logloss: 0.366483\n",
      "[164]\tvalid's binary_logloss: 0.366591\n",
      "[165]\tvalid's binary_logloss: 0.366723\n",
      "[166]\tvalid's binary_logloss: 0.366866\n",
      "[167]\tvalid's binary_logloss: 0.366993\n",
      "[168]\tvalid's binary_logloss: 0.367044\n",
      "[169]\tvalid's binary_logloss: 0.367128\n",
      "[170]\tvalid's binary_logloss: 0.367246\n",
      "[171]\tvalid's binary_logloss: 0.367236\n",
      "[172]\tvalid's binary_logloss: 0.367293\n",
      "[173]\tvalid's binary_logloss: 0.367378\n",
      "[174]\tvalid's binary_logloss: 0.367492\n",
      "[175]\tvalid's binary_logloss: 0.367457\n",
      "[176]\tvalid's binary_logloss: 0.367631\n",
      "[177]\tvalid's binary_logloss: 0.367728\n",
      "[178]\tvalid's binary_logloss: 0.367766\n",
      "[179]\tvalid's binary_logloss: 0.367835\n",
      "[180]\tvalid's binary_logloss: 0.367862\n",
      "[181]\tvalid's binary_logloss: 0.367857\n",
      "[182]\tvalid's binary_logloss: 0.367936\n",
      "[183]\tvalid's binary_logloss: 0.368068\n",
      "[184]\tvalid's binary_logloss: 0.368131\n",
      "[185]\tvalid's binary_logloss: 0.368293\n",
      "[186]\tvalid's binary_logloss: 0.368413\n",
      "[187]\tvalid's binary_logloss: 0.368528\n",
      "[188]\tvalid's binary_logloss: 0.368404\n",
      "[189]\tvalid's binary_logloss: 0.368512\n",
      "[190]\tvalid's binary_logloss: 0.368608\n",
      "[191]\tvalid's binary_logloss: 0.368667\n",
      "[192]\tvalid's binary_logloss: 0.368751\n",
      "[193]\tvalid's binary_logloss: 0.368651\n",
      "[194]\tvalid's binary_logloss: 0.368735\n",
      "[195]\tvalid's binary_logloss: 0.368884\n",
      "[196]\tvalid's binary_logloss: 0.369029\n",
      "[197]\tvalid's binary_logloss: 0.369148\n",
      "[198]\tvalid's binary_logloss: 0.369205\n",
      "[199]\tvalid's binary_logloss: 0.369197\n",
      "[200]\tvalid's binary_logloss: 0.36928\n",
      "[201]\tvalid's binary_logloss: 0.369417\n",
      "[202]\tvalid's binary_logloss: 0.369553\n",
      "[203]\tvalid's binary_logloss: 0.369523\n",
      "[204]\tvalid's binary_logloss: 0.369667\n",
      "[205]\tvalid's binary_logloss: 0.369666\n",
      "Early stopping, best iteration is:\n",
      "[105]\tvalid's binary_logloss: 0.364911\n",
      "              precision    recall  f1-score   support\n",
      "\n",
      "           0       0.75      0.82      0.78     26428\n",
      "           1       0.87      0.82      0.85     39947\n",
      "\n",
      "    accuracy                           0.82     66375\n",
      "   macro avg       0.81      0.82      0.82     66375\n",
      "weighted avg       0.82      0.82      0.82     66375\n",
      "\n"
     ]
    }
   ],
   "source": [
    "tmp = gs.best_estimator_\n",
    "tmp.fit(X_train_nb_lda.drop(columns='binned_usd_goal_outcome_mean'), y_train, \n",
    "           early_stopping_rounds=100, \n",
    "    eval_metric = 'binary', \n",
    "    eval_set = [(X_test_nb_lda.drop(columns='binned_usd_goal_outcome_mean'), y_test)],\n",
    "    eval_names =['valid']\n",
    "       )\n",
    "yhat = tmp.predict(X_test_nb_lda.drop(columns='binned_usd_goal_outcome_mean'))\n",
    "print(classification_report(y_test, yhat))"
   ]
  },
  {
   "cell_type": "code",
   "execution_count": 41,
   "id": "e3820bad-e867-45df-8eee-6aed38db6e5f",
   "metadata": {},
   "outputs": [
    {
     "name": "stdout",
     "output_type": "stream",
     "text": [
      "accuracy 0.8207909604519774\n"
     ]
    }
   ],
   "source": [
    "print('accuracy %s' % accuracy_score(yhat, y_test))"
   ]
  },
  {
   "cell_type": "code",
   "execution_count": null,
   "id": "2e385641-4f5e-4ab2-949f-f8a7b6194932",
   "metadata": {},
   "outputs": [],
   "source": []
  },
  {
   "cell_type": "code",
   "execution_count": null,
   "id": "2b74acd9-125b-4517-8ca3-a813c58ea41f",
   "metadata": {},
   "outputs": [],
   "source": []
  }
 ],
 "metadata": {
  "kernelspec": {
   "display_name": "Python 3",
   "language": "python",
   "name": "python3"
  },
  "language_info": {
   "codemirror_mode": {
    "name": "ipython",
    "version": 3
   },
   "file_extension": ".py",
   "mimetype": "text/x-python",
   "name": "python",
   "nbconvert_exporter": "python",
   "pygments_lexer": "ipython3",
   "version": "3.8.8"
  }
 },
 "nbformat": 4,
 "nbformat_minor": 5
}
