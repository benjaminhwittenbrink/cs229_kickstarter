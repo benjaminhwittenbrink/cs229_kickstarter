{
 "cells": [
  {
   "cell_type": "code",
   "execution_count": 1,
   "id": "b1d4403c-66e0-40c6-87e4-a94740643882",
   "metadata": {},
   "outputs": [],
   "source": [
    "import pandas as pd \n",
    "import numpy as np "
   ]
  },
  {
   "cell_type": "code",
   "execution_count": 2,
   "id": "642e3d06-55a9-4173-a4db-70d505ead62f",
   "metadata": {},
   "outputs": [],
   "source": [
    "import lightgbm as lgb\n",
    "from sklearn.metrics import accuracy_score, confusion_matrix, classification_report"
   ]
  },
  {
   "cell_type": "code",
   "execution_count": 3,
   "id": "02e8c328-08c4-4387-be96-59063147e974",
   "metadata": {},
   "outputs": [],
   "source": [
    "from data_clean_for_model import data_clean_for_model"
   ]
  },
  {
   "cell_type": "code",
   "execution_count": 4,
   "id": "bea3d4d2-6002-43fa-a732-4b40ad03ed3d",
   "metadata": {},
   "outputs": [],
   "source": [
    "pd.set_option('display.max_rows', 10)\n",
    "pd.set_option('display.max_columns', 50)\n",
    "np.set_printoptions(suppress=True)"
   ]
  },
  {
   "cell_type": "code",
   "execution_count": 5,
   "id": "30c678f7-3cc4-4dd4-867c-5535ab3d1555",
   "metadata": {},
   "outputs": [],
   "source": [
    "df = pd.read_parquet(\"data/all_processed_df.parquet.gzip\")"
   ]
  },
  {
   "cell_type": "code",
   "execution_count": 6,
   "id": "9f1d98ea-9d28-4cff-860b-110f60a568c1",
   "metadata": {},
   "outputs": [],
   "source": [
    "# add outcome var + unique id \n",
    "df['outcome'] = np.where(df['state']==\"successful\", 1, 0)\n",
    "df['un_id'] = np.arange(0, df.shape[0], 1)\n",
    "df['name_len'] = df['name'].str.len()"
   ]
  },
  {
   "cell_type": "code",
   "execution_count": 7,
   "id": "4d39ca61-0b1c-409d-9dce-d98e820fbf64",
   "metadata": {},
   "outputs": [],
   "source": [
    "clean_params = {\n",
    "    'lnom_frac':0.3, \n",
    "    'test_frac':0.25, \n",
    "    'lnom_usdgoal':True,\n",
    "    'rseed': 229,\n",
    "}\n",
    "X_train, X_test, y_train, y_test = data_clean_for_model(df, \"outcome\", clean_params)"
   ]
  },
  {
   "cell_type": "code",
   "execution_count": 17,
   "id": "3b475949-aee7-485f-87ca-72b7595501bd",
   "metadata": {},
   "outputs": [
    {
     "name": "stdout",
     "output_type": "stream",
     "text": [
      "Train shape: (116154, 17)\n",
      "Test shape: (38719, 17)\n"
     ]
    }
   ],
   "source": [
    "print(\"Train shape:\", X_train.shape)\n",
    "print(\"Test shape:\",  X_test.shape)"
   ]
  },
  {
   "cell_type": "code",
   "execution_count": 8,
   "id": "fe2069f2-e00c-46ca-96a6-c26e4020d89a",
   "metadata": {},
   "outputs": [
    {
     "data": {
      "text/html": [
       "<div>\n",
       "<style scoped>\n",
       "    .dataframe tbody tr th:only-of-type {\n",
       "        vertical-align: middle;\n",
       "    }\n",
       "\n",
       "    .dataframe tbody tr th {\n",
       "        vertical-align: top;\n",
       "    }\n",
       "\n",
       "    .dataframe thead th {\n",
       "        text-align: right;\n",
       "    }\n",
       "</style>\n",
       "<table border=\"1\" class=\"dataframe\">\n",
       "  <thead>\n",
       "    <tr style=\"text-align: right;\">\n",
       "      <th></th>\n",
       "      <th>blurb_len</th>\n",
       "      <th>name_len</th>\n",
       "      <th>usd_goal</th>\n",
       "      <th>deadline</th>\n",
       "      <th>launched_at</th>\n",
       "      <th>currency_outcome_mean</th>\n",
       "      <th>country_outcome_mean</th>\n",
       "      <th>cat_id_outcome_mean</th>\n",
       "      <th>cat_parent_id_outcome_mean</th>\n",
       "      <th>loc_id_outcome_mean</th>\n",
       "      <th>loc_type_outcome_mean</th>\n",
       "      <th>currency_usd_goal_mean</th>\n",
       "      <th>country_usd_goal_mean</th>\n",
       "      <th>cat_id_usd_goal_mean</th>\n",
       "      <th>cat_parent_id_usd_goal_mean</th>\n",
       "      <th>loc_id_usd_goal_mean</th>\n",
       "      <th>loc_type_usd_goal_mean</th>\n",
       "    </tr>\n",
       "  </thead>\n",
       "  <tbody>\n",
       "    <tr>\n",
       "      <th>0</th>\n",
       "      <td>132.0</td>\n",
       "      <td>11</td>\n",
       "      <td>74000.00000</td>\n",
       "      <td>1429048654</td>\n",
       "      <td>1427752693</td>\n",
       "      <td>0.610658</td>\n",
       "      <td>0.610658</td>\n",
       "      <td>0.601838</td>\n",
       "      <td>0.285426</td>\n",
       "      <td>0.601838</td>\n",
       "      <td>0.601891</td>\n",
       "      <td>-0.578951</td>\n",
       "      <td>-0.578951</td>\n",
       "      <td>-0.542368</td>\n",
       "      <td>-0.783097</td>\n",
       "      <td>-0.542368</td>\n",
       "      <td>-0.636200</td>\n",
       "    </tr>\n",
       "    <tr>\n",
       "      <th>1</th>\n",
       "      <td>124.0</td>\n",
       "      <td>37</td>\n",
       "      <td>374.00000</td>\n",
       "      <td>1604507962</td>\n",
       "      <td>1601912362</td>\n",
       "      <td>0.610658</td>\n",
       "      <td>0.610658</td>\n",
       "      <td>0.922182</td>\n",
       "      <td>0.613145</td>\n",
       "      <td>0.601838</td>\n",
       "      <td>0.601891</td>\n",
       "      <td>4.705957</td>\n",
       "      <td>4.705957</td>\n",
       "      <td>2.290331</td>\n",
       "      <td>3.839845</td>\n",
       "      <td>4.742540</td>\n",
       "      <td>4.648708</td>\n",
       "    </tr>\n",
       "    <tr>\n",
       "      <th>2</th>\n",
       "      <td>133.0</td>\n",
       "      <td>30</td>\n",
       "      <td>30000.00000</td>\n",
       "      <td>1428172967</td>\n",
       "      <td>1424288567</td>\n",
       "      <td>0.610658</td>\n",
       "      <td>0.610658</td>\n",
       "      <td>0.601838</td>\n",
       "      <td>0.668641</td>\n",
       "      <td>0.601838</td>\n",
       "      <td>0.601891</td>\n",
       "      <td>0.323897</td>\n",
       "      <td>0.323897</td>\n",
       "      <td>0.360480</td>\n",
       "      <td>-1.065535</td>\n",
       "      <td>0.360480</td>\n",
       "      <td>0.266648</td>\n",
       "    </tr>\n",
       "    <tr>\n",
       "      <th>3</th>\n",
       "      <td>119.0</td>\n",
       "      <td>37</td>\n",
       "      <td>3992.62165</td>\n",
       "      <td>1536531606</td>\n",
       "      <td>1533939606</td>\n",
       "      <td>0.595527</td>\n",
       "      <td>0.595527</td>\n",
       "      <td>0.601838</td>\n",
       "      <td>0.713855</td>\n",
       "      <td>0.601838</td>\n",
       "      <td>0.601891</td>\n",
       "      <td>1.720210</td>\n",
       "      <td>1.720210</td>\n",
       "      <td>2.377012</td>\n",
       "      <td>0.942013</td>\n",
       "      <td>2.377012</td>\n",
       "      <td>2.283180</td>\n",
       "    </tr>\n",
       "    <tr>\n",
       "      <th>4</th>\n",
       "      <td>125.0</td>\n",
       "      <td>25</td>\n",
       "      <td>10000.00000</td>\n",
       "      <td>1612398240</td>\n",
       "      <td>1607926242</td>\n",
       "      <td>0.610658</td>\n",
       "      <td>0.610658</td>\n",
       "      <td>0.601838</td>\n",
       "      <td>0.601838</td>\n",
       "      <td>0.601838</td>\n",
       "      <td>0.601891</td>\n",
       "      <td>1.422443</td>\n",
       "      <td>1.422443</td>\n",
       "      <td>1.459026</td>\n",
       "      <td>1.459026</td>\n",
       "      <td>1.459026</td>\n",
       "      <td>1.365193</td>\n",
       "    </tr>\n",
       "  </tbody>\n",
       "</table>\n",
       "</div>"
      ],
      "text/plain": [
       "   blurb_len  name_len     usd_goal    deadline  launched_at  \\\n",
       "0      132.0        11  74000.00000  1429048654   1427752693   \n",
       "1      124.0        37    374.00000  1604507962   1601912362   \n",
       "2      133.0        30  30000.00000  1428172967   1424288567   \n",
       "3      119.0        37   3992.62165  1536531606   1533939606   \n",
       "4      125.0        25  10000.00000  1612398240   1607926242   \n",
       "\n",
       "   currency_outcome_mean  country_outcome_mean  cat_id_outcome_mean  \\\n",
       "0               0.610658              0.610658             0.601838   \n",
       "1               0.610658              0.610658             0.922182   \n",
       "2               0.610658              0.610658             0.601838   \n",
       "3               0.595527              0.595527             0.601838   \n",
       "4               0.610658              0.610658             0.601838   \n",
       "\n",
       "   cat_parent_id_outcome_mean  loc_id_outcome_mean  loc_type_outcome_mean  \\\n",
       "0                    0.285426             0.601838               0.601891   \n",
       "1                    0.613145             0.601838               0.601891   \n",
       "2                    0.668641             0.601838               0.601891   \n",
       "3                    0.713855             0.601838               0.601891   \n",
       "4                    0.601838             0.601838               0.601891   \n",
       "\n",
       "   currency_usd_goal_mean  country_usd_goal_mean  cat_id_usd_goal_mean  \\\n",
       "0               -0.578951              -0.578951             -0.542368   \n",
       "1                4.705957               4.705957              2.290331   \n",
       "2                0.323897               0.323897              0.360480   \n",
       "3                1.720210               1.720210              2.377012   \n",
       "4                1.422443               1.422443              1.459026   \n",
       "\n",
       "   cat_parent_id_usd_goal_mean  loc_id_usd_goal_mean  loc_type_usd_goal_mean  \n",
       "0                    -0.783097             -0.542368               -0.636200  \n",
       "1                     3.839845              4.742540                4.648708  \n",
       "2                    -1.065535              0.360480                0.266648  \n",
       "3                     0.942013              2.377012                2.283180  \n",
       "4                     1.459026              1.459026                1.365193  "
      ]
     },
     "execution_count": 8,
     "metadata": {},
     "output_type": "execute_result"
    }
   ],
   "source": [
    "X_train.head()"
   ]
  },
  {
   "cell_type": "code",
   "execution_count": 15,
   "id": "9f3bff18-8698-4ed3-b3cb-7a503d3510ea",
   "metadata": {},
   "outputs": [],
   "source": [
    "model_params = {\n",
    "    'rseed':229\n",
    "}"
   ]
  },
  {
   "cell_type": "code",
   "execution_count": 9,
   "id": "d43bf71b-e6f4-453a-8089-7af3e5ca170e",
   "metadata": {},
   "outputs": [
    {
     "name": "stdout",
     "output_type": "stream",
     "text": [
      "accuracy 0.7451897001472145\n",
      "              precision    recall  f1-score   support\n",
      "\n",
      "           0       0.71      0.63      0.66     15514\n",
      "           1       0.77      0.83      0.80     23205\n",
      "\n",
      "    accuracy                           0.75     38719\n",
      "   macro avg       0.74      0.73      0.73     38719\n",
      "weighted avg       0.74      0.75      0.74     38719\n",
      "\n",
      "[[ 9699  5815]\n",
      " [ 4051 19154]]\n"
     ]
    }
   ],
   "source": [
    "# withou any parameters\n",
    "clf = lgb.LGBMClassifier(random_state=model_params['rseed'])\n",
    "clf.fit(X_train, y_train)\n",
    "y_pred = clf.predict(X_test)\n",
    "print('accuracy %s' % accuracy_score(y_pred, y_test))\n",
    "print(classification_report(y_test, y_pred))\n",
    "print(confusion_matrix(y_test, y_pred))"
   ]
  },
  {
   "cell_type": "code",
   "execution_count": 10,
   "id": "216e1a9f-d516-4337-896d-2d36aa9fbcf0",
   "metadata": {},
   "outputs": [
    {
     "name": "stdout",
     "output_type": "stream",
     "text": [
      "[LightGBM] [Warning] feature_fraction is set=0.75, colsample_bytree=1.0 will be ignored. Current value: feature_fraction=0.75\n",
      "[LightGBM] [Warning] lambda_l2 is set=0.5, reg_lambda=0.0 will be ignored. Current value: lambda_l2=0.5\n",
      "[LightGBM] [Warning] min_data_in_leaf is set=50, min_child_samples=20 will be ignored. Current value: min_data_in_leaf=50\n",
      "[LightGBM] [Warning] lambda_l1 is set=0.75, reg_alpha=0.0 will be ignored. Current value: lambda_l1=0.75\n",
      "accuracy 0.7487280146698003\n",
      "              precision    recall  f1-score   support\n",
      "\n",
      "           0       0.71      0.63      0.67     15514\n",
      "           1       0.77      0.83      0.80     23205\n",
      "\n",
      "    accuracy                           0.75     38719\n",
      "   macro avg       0.74      0.73      0.73     38719\n",
      "weighted avg       0.75      0.75      0.75     38719\n",
      "\n",
      "[[ 9845  5669]\n",
      " [ 4060 19145]]\n"
     ]
    }
   ],
   "source": [
    "# with some params, haven't tuned yet though really\n",
    "clf = lgb.LGBMClassifier(\n",
    "    num_leaves = 100, \n",
    "    min_data_in_leaf = 50, \n",
    "    max_depth = 15, \n",
    "    feature_fraction = 0.75, \n",
    "    max_bin=200, \n",
    "    #learning_rate=0.03,\n",
    "    lambda_l1=0.75, \n",
    "    lambda_l2=0.5,\n",
    "    random_state=model_params['rseed']\n",
    ")\n",
    "clf.fit(X_train, y_train)\n",
    "y_pred = clf.predict(X_test)\n",
    "print('accuracy %s' % accuracy_score(y_pred, y_test))\n",
    "print(classification_report(y_test, y_pred))\n",
    "print(confusion_matrix(y_test, y_pred))"
   ]
  },
  {
   "cell_type": "code",
   "execution_count": 11,
   "id": "5b4b917a-f83b-4a18-8493-ca64c07fb603",
   "metadata": {},
   "outputs": [],
   "source": [
    "# add naive bayes preds \n",
    "nb_proba_train = np.load(\"data/res/multi_nb_preds_train.npy\")\n",
    "nb_proba_test = np.load(\"data/res/multi_nb_preds_test.npy\")\n",
    "X_train_nb = X_train.copy()\n",
    "X_test_nb = X_test.copy()\n",
    "X_train_nb['nb_proba'] = nb_proba_train[:, 1]\n",
    "X_test_nb['nb_proba'] = nb_proba_test[:, 1]"
   ]
  },
  {
   "cell_type": "code",
   "execution_count": 12,
   "id": "2d103bf9-9bb4-411c-8820-1f1ee75f068a",
   "metadata": {},
   "outputs": [
    {
     "name": "stdout",
     "output_type": "stream",
     "text": [
      "[LightGBM] [Warning] feature_fraction is set=0.75, colsample_bytree=1.0 will be ignored. Current value: feature_fraction=0.75\n",
      "[LightGBM] [Warning] lambda_l2 is set=0.5, reg_lambda=0.0 will be ignored. Current value: lambda_l2=0.5\n",
      "[LightGBM] [Warning] min_data_in_leaf is set=50, min_child_samples=20 will be ignored. Current value: min_data_in_leaf=50\n",
      "[LightGBM] [Warning] lambda_l1 is set=0.75, reg_alpha=0.0 will be ignored. Current value: lambda_l1=0.75\n",
      "accuracy 0.7618998424546088\n",
      "              precision    recall  f1-score   support\n",
      "\n",
      "           0       0.73      0.65      0.69     15514\n",
      "           1       0.78      0.84      0.81     23205\n",
      "\n",
      "    accuracy                           0.76     38719\n",
      "   macro avg       0.75      0.74      0.75     38719\n",
      "weighted avg       0.76      0.76      0.76     38719\n",
      "\n",
      "[[10122  5392]\n",
      " [ 3827 19378]]\n"
     ]
    }
   ],
   "source": [
    "clf = lgb.LGBMClassifier(\n",
    "    num_leaves = 100, \n",
    "    min_data_in_leaf = 50, \n",
    "    max_depth = 15, \n",
    "    feature_fraction = 0.75, \n",
    "    max_bin=200, \n",
    "    #learning_rate=0.03,\n",
    "    lambda_l1=0.75, \n",
    "    lambda_l2=0.5,\n",
    "    random_state=model_params['rseed']\n",
    ")\n",
    "clf.fit(X_train_nb, y_train)\n",
    "y_pred = clf.predict(X_test_nb)\n",
    "print('accuracy %s' % accuracy_score(y_pred, y_test))\n",
    "print(classification_report(y_test, y_pred))\n",
    "print(confusion_matrix(y_test, y_pred))"
   ]
  },
  {
   "cell_type": "code",
   "execution_count": 13,
   "id": "1e62dd55-f920-41c6-b7fd-5c4ad083a4ef",
   "metadata": {},
   "outputs": [],
   "source": [
    "w2v_train = np.load(\"data/res/w2v_Xtrain_avg.npy\")\n",
    "w2v_test = np.load(\"data/res/w2v_Xtest_avg.npy\")\n",
    "X_train_nb_w2v = pd.concat((X_train_nb, pd.DataFrame(w2v_train)), axis=1)\n",
    "X_test_nb_w2v = pd.concat((X_test_nb, pd.DataFrame(w2v_test)), axis=1)"
   ]
  },
  {
   "cell_type": "code",
   "execution_count": 16,
   "id": "2028bee0-4128-42d3-bbd6-4e42d9c46cd7",
   "metadata": {},
   "outputs": [
    {
     "name": "stdout",
     "output_type": "stream",
     "text": [
      "[LightGBM] [Warning] lambda_l1 is set=0.75, reg_alpha=0.0 will be ignored. Current value: lambda_l1=0.75\n",
      "[LightGBM] [Warning] lambda_l2 is set=0.5, reg_lambda=0.0 will be ignored. Current value: lambda_l2=0.5\n",
      "[LightGBM] [Warning] feature_fraction is set=0.75, colsample_bytree=1.0 will be ignored. Current value: feature_fraction=0.75\n",
      "[LightGBM] [Warning] min_data_in_leaf is set=50, min_child_samples=20 will be ignored. Current value: min_data_in_leaf=50\n",
      "accuracy 0.7623905576073762\n",
      "              precision    recall  f1-score   support\n",
      "\n",
      "           0       0.70      0.70      0.70     15514\n",
      "           1       0.80      0.80      0.80     23205\n",
      "\n",
      "    accuracy                           0.76     38719\n",
      "   macro avg       0.75      0.75      0.75     38719\n",
      "weighted avg       0.76      0.76      0.76     38719\n",
      "\n",
      "[[10880  4634]\n",
      " [ 4566 18639]]\n"
     ]
    }
   ],
   "source": [
    "clf = lgb.LGBMClassifier(\n",
    "    num_leaves = 200, \n",
    "    min_data_in_leaf = 50, \n",
    "    max_depth = 25, \n",
    "    feature_fraction = 0.75, \n",
    "    max_bin=400, \n",
    "    #learning_rate=0.03,\n",
    "    lambda_l1=0.75, \n",
    "    lambda_l2=0.5,\n",
    "    is_unbalance=True,\n",
    "    random_state=model_params['rseed']\n",
    ")\n",
    "clf.fit(X_train_nb_w2v, y_train)\n",
    "y_pred = clf.predict(X_test_nb_w2v)\n",
    "print('accuracy %s' % accuracy_score(y_pred, y_test))\n",
    "print(classification_report(y_test, y_pred))\n",
    "print(confusion_matrix(y_test, y_pred))"
   ]
  },
  {
   "cell_type": "code",
   "execution_count": 18,
   "id": "80c202d4-c698-48ce-b90c-20bf57cf1973",
   "metadata": {},
   "outputs": [
    {
     "data": {
      "text/plain": [
       "<AxesSubplot:title={'center':'Feature importance'}, xlabel='Feature importance', ylabel='Features'>"
      ]
     },
     "execution_count": 18,
     "metadata": {},
     "output_type": "execute_result"
    },
    {
     "data": {
      "image/png": "[encoded data removed]",
      "text/plain": [
       "<Figure size 720x1440 with 1 Axes>"
      ]
     },
     "metadata": {
      "needs_background": "light"
     },
     "output_type": "display_data"
    }
   ],
   "source": [
    "lgb.plot_importance(clf, max_num_features=50, figsize=(10,20))"
   ]
  },
  {
   "cell_type": "code",
   "execution_count": null,
   "id": "73f0f5ac-2a71-4a81-91da-1ee3ca832ea6",
   "metadata": {},
   "outputs": [],
   "source": []
  }
 ],
 "metadata": {
  "kernelspec": {
   "display_name": "Python 3",
   "language": "python",
   "name": "python3"
  },
  "language_info": {
   "codemirror_mode": {
    "name": "ipython",
    "version": 3
   },
   "file_extension": ".py",
   "mimetype": "text/x-python",
   "name": "python",
   "nbconvert_exporter": "python",
   "pygments_lexer": "ipython3",
   "version": "3.8.8"
  }
 },
 "nbformat": 4,
 "nbformat_minor": 5
}
