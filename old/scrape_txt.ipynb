{
 "cells": [
  {
   "cell_type": "code",
   "execution_count": 1,
   "id": "1838a370",
   "metadata": {},
   "outputs": [],
   "source": [
    "import requests \n",
    "import json \n",
    "from bs4 import BeautifulSoup\n",
    "from selenium import webdriver"
   ]
  },
  {
   "cell_type": "code",
   "execution_count": 2,
   "id": "5a2fe4b9",
   "metadata": {},
   "outputs": [],
   "source": [
    "import pandas as pd \n",
    "import numpy as np \n",
    "pd.set_option('display.max_rows', 10)\n",
    "pd.set_option('display.max_columns', 50)"
   ]
  },
  {
   "cell_type": "code",
   "execution_count": 3,
   "id": "61e9d969",
   "metadata": {},
   "outputs": [],
   "source": [
    "# Insert paths here\n",
    "#data_path = \"C:/Users/Joel/Downloads/Kickstarter_2021-04-15T03_20_08_451Z/Kickstarter.csv\"\n",
    "#driver_path = \"C:/Users/Joel/Downloads/chromedriver_win32/chromedriver.exe\"\n",
    "data_path = \"data/all_processed_df.csv\"\n",
    "driver_path = \"/Users/benji/Downloads/chromedriver\"\n",
    "driver = webdriver.Chrome(driver_path)\n",
    "#df = pd.read_csv(\"data/2021_04/Kickstarter.csv\")\n",
    "df = pd.read_parquet(\"data/all_processed_df.parquet.gzip\")"
   ]
  },
  {
   "cell_type": "code",
   "execution_count": 4,
   "id": "aa0ea5f6-d9e6-4fd6-80eb-2350385720b5",
   "metadata": {},
   "outputs": [
    {
     "data": {
      "text/plain": [
       "Index(['state', 'usd_goal', 'available_time', 'blurb_len', 'launched_at',\n",
       "       'deadline', 'blurb', 'name', 'currency', 'country', 'is_starred',\n",
       "       'is_starrable', 'spotlight', 'staff_pick', 'photo', 'urls', 'cat_id',\n",
       "       'cat_position', 'cat_parent_id', 'cat_color', 'loc_id', 'loc_type',\n",
       "       'loc_state'],\n",
       "      dtype='object')"
      ]
     },
     "execution_count": 4,
     "metadata": {},
     "output_type": "execute_result"
    }
   ],
   "source": [
    "df.columns"
   ]
  },
  {
   "cell_type": "code",
   "execution_count": 5,
   "id": "6ab04772",
   "metadata": {},
   "outputs": [],
   "source": [
    "def proj_url(df, index):\n",
    "    tmp = df.iloc[index]\n",
    "    # is stored as a json type \n",
    "    url = json.loads(tmp['urls'])['web']['project']\n",
    "    return url "
   ]
  },
  {
   "cell_type": "code",
   "execution_count": 6,
   "id": "68d4b7f8",
   "metadata": {},
   "outputs": [],
   "source": [
    "def load_text_url(url):\n",
    "    req = requests.get(url)\n",
    "    html = req.content\n",
    "    soup = BeautifulSoup(html, features=\"html.parser\")\n",
    "    # kill all script and style elements\n",
    "    return soup \n",
    "    for script in soup([\"script\", \"style\"]):\n",
    "        script.extract()    # rip it out\n",
    "    # get text\n",
    "    text = soup.get_text()\n",
    "    return soup.find_all(text=True)"
   ]
  },
  {
   "cell_type": "code",
   "execution_count": 15,
   "id": "0e308eb9",
   "metadata": {},
   "outputs": [],
   "source": [
    "def extract_proj_descrip(url):\n",
    "    # i think descriptions are pulled up w/ some java script bs so we need to load in driver\n",
    "    driver.get(url)\n",
    "    html = driver.page_source\n",
    "    # load html \n",
    "    soup = BeautifulSoup(html, \"lxml\")\n",
    "    proj = soup.find(\"section\", {\"class\": \"project-content\"})\n",
    "    if proj is not None: projtxt = proj.find_all(text=True)\n",
    "    else: projtxt = None\n",
    "    return proj, projtxt"
   ]
  },
  {
   "cell_type": "code",
   "execution_count": 8,
   "id": "43a8afde",
   "metadata": {},
   "outputs": [],
   "source": [
    "def shorten_list(wrds):\n",
    "    # words signal end of project description \n",
    "    beg = 'Story'\n",
    "    # Set endings\n",
    "    end1 = 'Check out the FAQ'\n",
    "    end2 = 'Report this project to Kickstarter'\n",
    "    end3 = 'Select this reward'\n",
    "    end4 = 'Learn about accountability on Kickstarter'\n",
    "    endings = [end1, end2, end3, end4]\n",
    "    \n",
    "    beg_ind = 0\n",
    "    end_ind = len(wrds)\n",
    "    \n",
    "    for i in range(len(wrds)):\n",
    "        if beg_ind == 0 and beg in wrds[i]:\n",
    "            beg_ind = i\n",
    "        elif beg_ind != 0 and any(x in wrds[i] for x in endings):\n",
    "            end_ind = i\n",
    "            return wrds[beg_ind:end_ind]\n",
    "    \n",
    "    #print(\"no end\")\n",
    "    return wrds[beg_ind:end_ind]"
   ]
  },
  {
   "cell_type": "code",
   "execution_count": 9,
   "id": "41117a46",
   "metadata": {},
   "outputs": [],
   "source": [
    "def clean_list(wrds):\n",
    "    desc = []\n",
    "    problem_chars = ['\\n', '\\r', '\\xa0']\n",
    "    for w in wrds:\n",
    "        if any(x in w for x in problem_chars):\n",
    "            for pc in problem_chars:\n",
    "                w = w.replace(pc, '')\n",
    "        if w != \"\":\n",
    "            desc.append(w)\n",
    "    return desc\n",
    "        "
   ]
  },
  {
   "cell_type": "code",
   "execution_count": 10,
   "id": "a52fbded",
   "metadata": {},
   "outputs": [],
   "source": [
    "def compress_list(wrds):\n",
    "    desc = ''\n",
    "    for w in wrds:\n",
    "        desc = desc + w\n",
    "    return desc"
   ]
  },
  {
   "cell_type": "code",
   "execution_count": 17,
   "id": "5d7043dd-e8b2-4719-9b03-04a016df5af1",
   "metadata": {},
   "outputs": [],
   "source": [
    "def load_proj_descrip(i):\n",
    "    p, ptxt = extract_proj_descrip(proj_url(df, i))\n",
    "    if p is not None: \n",
    "        short_ptxt = shorten_list(ptxt)\n",
    "        clean_ptxt = clean_list(short_ptxt)\n",
    "    else: clean_ptxt = []\n",
    "    #proj_desc = compress_list(clean_ptxt)\n",
    "    return clean_ptxt"
   ]
  },
  {
   "cell_type": "code",
   "execution_count": 18,
   "id": "f0ad8094-4427-4605-ad22-4efd3cd9f2ef",
   "metadata": {},
   "outputs": [],
   "source": [
    "tmp = df.iloc[0:500]"
   ]
  },
  {
   "cell_type": "code",
   "execution_count": 13,
   "id": "c0cb3bbd-563b-4b94-960a-f3c4428de8fd",
   "metadata": {},
   "outputs": [],
   "source": [
    "import time"
   ]
  },
  {
   "cell_type": "code",
   "execution_count": 19,
   "id": "207ef4df-18ac-45c3-be12-f2684207bce2",
   "metadata": {
    "tags": []
   },
   "outputs": [
    {
     "name": "stdout",
     "output_type": "stream",
     "text": [
      "79.57753705978394 secs\n"
     ]
    }
   ],
   "source": [
    "start = time.time()\n",
    "res = tmp.apply(lambda row: load_proj_descrip(row.name), axis=1)\n",
    "print(time.time() - start, \"secs\")"
   ]
  },
  {
   "cell_type": "code",
   "execution_count": 21,
   "id": "ca4eab2e-1a33-4243-9225-3a8a55ddf59c",
   "metadata": {},
   "outputs": [
    {
     "data": {
      "text/plain": [
       "0      []\n",
       "1      []\n",
       "2      []\n",
       "3      []\n",
       "4      []\n",
       "       ..\n",
       "526    []\n",
       "527    []\n",
       "528    []\n",
       "529    []\n",
       "530    []\n",
       "Length: 500, dtype: object"
      ]
     },
     "execution_count": 21,
     "metadata": {},
     "output_type": "execute_result"
    }
   ],
   "source": [
    "res"
   ]
  },
  {
   "cell_type": "code",
   "execution_count": 22,
   "id": "511c8cae",
   "metadata": {},
   "outputs": [
    {
     "ename": "TypeError",
     "evalue": "object of type 'NoneType' has no len()",
     "output_type": "error",
     "traceback": [
      "\u001b[0;31m---------------------------------------------------------------------------\u001b[0m",
      "\u001b[0;31mTypeError\u001b[0m                                 Traceback (most recent call last)",
      "\u001b[0;32m<ipython-input-22-4894000d4573>\u001b[0m in \u001b[0;36m<module>\u001b[0;34m\u001b[0m\n\u001b[1;32m      1\u001b[0m \u001b[0mp\u001b[0m\u001b[0;34m,\u001b[0m \u001b[0mptxt\u001b[0m \u001b[0;34m=\u001b[0m \u001b[0mextract_proj_descrip\u001b[0m\u001b[0;34m(\u001b[0m\u001b[0mproj_url\u001b[0m\u001b[0;34m(\u001b[0m\u001b[0mdf\u001b[0m\u001b[0;34m,\u001b[0m \u001b[0;36m0\u001b[0m\u001b[0;34m)\u001b[0m\u001b[0;34m)\u001b[0m\u001b[0;34m\u001b[0m\u001b[0;34m\u001b[0m\u001b[0m\n\u001b[0;32m----> 2\u001b[0;31m \u001b[0mshort_ptxt\u001b[0m \u001b[0;34m=\u001b[0m \u001b[0mshorten_list\u001b[0m\u001b[0;34m(\u001b[0m\u001b[0mptxt\u001b[0m\u001b[0;34m)\u001b[0m\u001b[0;34m\u001b[0m\u001b[0;34m\u001b[0m\u001b[0m\n\u001b[0m\u001b[1;32m      3\u001b[0m \u001b[0mclean_ptxt\u001b[0m \u001b[0;34m=\u001b[0m \u001b[0mclean_list\u001b[0m\u001b[0;34m(\u001b[0m\u001b[0mshort_ptxt\u001b[0m\u001b[0;34m)\u001b[0m\u001b[0;34m\u001b[0m\u001b[0;34m\u001b[0m\u001b[0m\n\u001b[1;32m      4\u001b[0m \u001b[0mproj_desc\u001b[0m \u001b[0;34m=\u001b[0m \u001b[0mcompress_list\u001b[0m\u001b[0;34m(\u001b[0m\u001b[0mclean_ptxt\u001b[0m\u001b[0;34m)\u001b[0m\u001b[0;34m\u001b[0m\u001b[0;34m\u001b[0m\u001b[0m\n\u001b[1;32m      5\u001b[0m \u001b[0mprint\u001b[0m\u001b[0;34m(\u001b[0m\u001b[0mproj_desc\u001b[0m\u001b[0;34m)\u001b[0m\u001b[0;34m\u001b[0m\u001b[0;34m\u001b[0m\u001b[0m\n",
      "\u001b[0;32m<ipython-input-8-d6cf760399c7>\u001b[0m in \u001b[0;36mshorten_list\u001b[0;34m(wrds)\u001b[0m\n\u001b[1;32m     10\u001b[0m \u001b[0;34m\u001b[0m\u001b[0m\n\u001b[1;32m     11\u001b[0m     \u001b[0mbeg_ind\u001b[0m \u001b[0;34m=\u001b[0m \u001b[0;36m0\u001b[0m\u001b[0;34m\u001b[0m\u001b[0;34m\u001b[0m\u001b[0m\n\u001b[0;32m---> 12\u001b[0;31m     \u001b[0mend_ind\u001b[0m \u001b[0;34m=\u001b[0m \u001b[0mlen\u001b[0m\u001b[0;34m(\u001b[0m\u001b[0mwrds\u001b[0m\u001b[0;34m)\u001b[0m\u001b[0;34m\u001b[0m\u001b[0;34m\u001b[0m\u001b[0m\n\u001b[0m\u001b[1;32m     13\u001b[0m \u001b[0;34m\u001b[0m\u001b[0m\n\u001b[1;32m     14\u001b[0m     \u001b[0;32mfor\u001b[0m \u001b[0mi\u001b[0m \u001b[0;32min\u001b[0m \u001b[0mrange\u001b[0m\u001b[0;34m(\u001b[0m\u001b[0mlen\u001b[0m\u001b[0;34m(\u001b[0m\u001b[0mwrds\u001b[0m\u001b[0;34m)\u001b[0m\u001b[0;34m)\u001b[0m\u001b[0;34m:\u001b[0m\u001b[0;34m\u001b[0m\u001b[0;34m\u001b[0m\u001b[0m\n",
      "\u001b[0;31mTypeError\u001b[0m: object of type 'NoneType' has no len()"
     ]
    }
   ],
   "source": [
    "p, ptxt = extract_proj_descrip(proj_url(df, 0))\n",
    "short_ptxt = shorten_list(ptxt)\n",
    "clean_ptxt = clean_list(short_ptxt)\n",
    "proj_desc = compress_list(clean_ptxt)\n",
    "print(proj_desc)"
   ]
  },
  {
   "cell_type": "code",
   "execution_count": null,
   "id": "1500d8ea",
   "metadata": {
    "tags": []
   },
   "outputs": [],
   "source": [
    "for i in range(5):\n",
    "    print(i)\n",
    "    p, ptxt = extract_proj_descrip(proj_url(df, i))\n",
    "    short_ptxt = shorten_list(ptxt)\n",
    "    clean_ptxt = clean_list(short_ptxt)\n",
    "    compress_ptxt = compress_list(clean_ptxt)\n",
    "    print(compress_ptxt)"
   ]
  },
  {
   "cell_type": "code",
   "execution_count": null,
   "id": "4315394f",
   "metadata": {
    "tags": []
   },
   "outputs": [],
   "source": [
    "[w for w in ptxt if w != '\\n']"
   ]
  },
  {
   "cell_type": "code",
   "execution_count": null,
   "id": "09db0d53",
   "metadata": {},
   "outputs": [],
   "source": [
    "tst = [w for w in ptxt if w != '\\n']"
   ]
  },
  {
   "cell_type": "code",
   "execution_count": null,
   "id": "f99ba620",
   "metadata": {
    "scrolled": true,
    "tags": []
   },
   "outputs": [],
   "source": [
    "tst"
   ]
  },
  {
   "cell_type": "code",
   "execution_count": null,
   "id": "fa17759b",
   "metadata": {},
   "outputs": [],
   "source": [
    "shorten_list(ptxt)"
   ]
  },
  {
   "cell_type": "code",
   "execution_count": null,
   "id": "3b84d728",
   "metadata": {},
   "outputs": [],
   "source": []
  }
 ],
 "metadata": {
  "kernelspec": {
   "display_name": "Python 3",
   "language": "python",
   "name": "python3"
  },
  "language_info": {
   "codemirror_mode": {
    "name": "ipython",
    "version": 3
   },
   "file_extension": ".py",
   "mimetype": "text/x-python",
   "name": "python",
   "nbconvert_exporter": "python",
   "pygments_lexer": "ipython3",
   "version": "3.8.8"
  }
 },
 "nbformat": 4,
 "nbformat_minor": 5
}
