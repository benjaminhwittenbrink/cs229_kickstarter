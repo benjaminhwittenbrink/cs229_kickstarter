{
 "cells": [
  {
   "cell_type": "code",
   "execution_count": 1,
   "id": "937450ee-491f-4687-aa9b-5093bc2465e5",
   "metadata": {},
   "outputs": [],
   "source": [
    "import pandas as pd \n",
    "import numpy as np \n",
    "import seaborn as sns\n",
    "import matplotlib.pyplot as plt"
   ]
  },
  {
   "cell_type": "code",
   "execution_count": 2,
   "id": "326d7a87-1bb9-4460-98f4-71fd27b3b0ae",
   "metadata": {},
   "outputs": [],
   "source": [
    "from sklearn import tree\n",
    "from sklearn import metrics\n",
    "from sklearn.model_selection import train_test_split, GridSearchCV\n",
    "import sklearn.linear_model as lm \n",
    "import sklearn.ensemble as em \n",
    "from sklearn.svm import SVC"
   ]
  },
  {
   "cell_type": "code",
   "execution_count": 3,
   "id": "2fddbc8f-71bf-4fcc-a5ff-4cf9df2f9809",
   "metadata": {},
   "outputs": [],
   "source": [
    "import data_clean_for_model"
   ]
  },
  {
   "cell_type": "code",
   "execution_count": 4,
   "id": "677480c2-a143-4601-a558-0608c6f756ee",
   "metadata": {},
   "outputs": [],
   "source": [
    "pd.set_option('display.max_rows', 10)\n",
    "pd.set_option('display.max_columns', 50)\n",
    "np.set_printoptions(suppress=True)\n",
    "rseed = 229"
   ]
  },
  {
   "cell_type": "code",
   "execution_count": 5,
   "id": "e818024c-7b73-42eb-a7b3-81149e811f93",
   "metadata": {},
   "outputs": [],
   "source": [
    "# download data \n",
    "# if you don't have these csvs, run the preprocessing notebook. \n",
    "# Ill turn this this into a py file later, but for now should be fine \n",
    "dfs = pd.read_parquet(\"data/all_processed_df.parquet.gzip\")"
   ]
  },
  {
   "cell_type": "code",
   "execution_count": 6,
   "id": "f706f254-170f-47ac-8e6c-f990fde21c2a",
   "metadata": {},
   "outputs": [],
   "source": [
    "k = 5\n",
    "np.random.seed(rseed)\n",
    "# add outcome var + unique id \n",
    "dfs['outcome'] = np.where(dfs['state']==\"successful\", 1, 0)\n",
    "dfs['un_id'] = np.arange(0, dfs.shape[0], 1)\n",
    "dfs['name_len'] = dfs['name'].str.len()\n",
    "dfs['cv_group'] = np.random.choice(np.arange(0, k), size=dfs.shape[0])\n",
    "dfs['binned_usd_goal'] = pd.qcut(np.log(dfs['usd_goal']+1), 20)"
   ]
  },
  {
   "cell_type": "code",
   "execution_count": 7,
   "id": "fb744794-80d2-4fdd-aa81-ed196d656e08",
   "metadata": {},
   "outputs": [],
   "source": [
    "model_params = {\n",
    "    'cv': True, \n",
    "    #'lnom_frac':0.3, \n",
    "    'test_frac':0.3, \n",
    "    'lnom_usdgoal':True,\n",
    "    'dummies':True,\n",
    "    'rseed': 229,\n",
    "}\n",
    "X_train, X_test, y_train, y_test = data_clean_for_model.data_clean_for_model(dfs, \"outcome\", model_params, cv=model_params['cv'])"
   ]
  },
  {
   "cell_type": "code",
   "execution_count": 8,
   "id": "64574f7c-5713-4517-907f-518fd4a3e399",
   "metadata": {},
   "outputs": [],
   "source": [
    "del dfs"
   ]
  },
  {
   "cell_type": "code",
   "execution_count": 9,
   "id": "ffda63f3-afca-48a7-8652-a127cf12dfcc",
   "metadata": {},
   "outputs": [],
   "source": [
    "# specify some model performance funcs \n",
    "def rmse(y, yhat):\n",
    "    print(\"RMSE:\", np.round(np.sqrt( np.mean( (y - yhat)**2 ) ), 3))\n",
    "    \n",
    "def acc(y, yhat):\n",
    "    yhat_rounded = np.round(yhat)\n",
    "    print(\"Accuracy:\", np.round(np.mean(yhat_rounded == y), 3))\n",
    "    \n",
    "def tfpn(y, yhat):\n",
    "    tp = np.logical_and((y==1), (yhat==1)).sum()\n",
    "    fp = np.logical_and((y==0), (yhat==1)).sum()\n",
    "    fn = np.logical_and((y==1), (yhat==0)).sum()\n",
    "    tn = np.logical_and((y==0), (yhat==0)).sum()\n",
    "    \n",
    "    fpr = fp / (fp + tn)\n",
    "    fnr = fn / (fn + tp)\n",
    "    tpr = tp / (tp + fn)\n",
    "    tnr = tn / (tn + fp)\n",
    "    res = {\n",
    "        'False Positive Rate':np.round(fpr,3), \n",
    "        'False Negative Rate':np.round(fnr,3), \n",
    "        'True Positive Rate':np.round(tpr,3), \n",
    "        'True Negative Rate':np.round(tnr,3)\n",
    "    }\n",
    "    [print(k, \":\", v) for k, v in res.items()]"
   ]
  },
  {
   "cell_type": "markdown",
   "id": "cb9e0ee1-8309-4985-b296-eebfc411cff7",
   "metadata": {},
   "source": [
    "### Models"
   ]
  },
  {
   "cell_type": "code",
   "execution_count": 11,
   "id": "98d86f78-7fe7-4030-8b86-2fe7a3073426",
   "metadata": {},
   "outputs": [
    {
     "name": "stdout",
     "output_type": "stream",
     "text": [
      "RMSE: 0.564\n",
      "Accuracy: 0.681\n"
     ]
    }
   ],
   "source": [
    "## 1. Naive approach:\n",
    "# Idea: what if we just guess the outcome of previous projects within this category\n",
    "naive = np.array(np.round(X_test['cat_id_outcome_mean']).reset_index(drop=True))\n",
    "rmse(y_test, naive)\n",
    "acc(y_test, naive)"
   ]
  },
  {
   "cell_type": "code",
   "execution_count": 12,
   "id": "5c15bc5f-7e50-4071-9f99-20daa8302b90",
   "metadata": {},
   "outputs": [
    {
     "name": "stdout",
     "output_type": "stream",
     "text": [
      "RMSE: 0.375\n",
      "Accuracy: 0.784\n"
     ]
    }
   ],
   "source": [
    "## 1.5 OLS: \n",
    "ols = lm.LinearRegression(normalize=False)\n",
    "ols.fit(X_train, y_train)\n",
    "y_test_hat = ols.predict(X_test)\n",
    "rmse(y_test, y_test_hat)\n",
    "acc(y_test, y_test_hat)"
   ]
  },
  {
   "cell_type": "code",
   "execution_count": 15,
   "id": "0f4fc191-28d8-45cb-8493-52d7fe656d23",
   "metadata": {},
   "outputs": [
    {
     "data": {
      "text/html": [
       "<div>\n",
       "<style scoped>\n",
       "    .dataframe tbody tr th:only-of-type {\n",
       "        vertical-align: middle;\n",
       "    }\n",
       "\n",
       "    .dataframe tbody tr th {\n",
       "        vertical-align: top;\n",
       "    }\n",
       "\n",
       "    .dataframe thead th {\n",
       "        text-align: right;\n",
       "    }\n",
       "</style>\n",
       "<table border=\"1\" class=\"dataframe\">\n",
       "  <thead>\n",
       "    <tr style=\"text-align: right;\">\n",
       "      <th></th>\n",
       "      <th>var</th>\n",
       "      <th>coef</th>\n",
       "    </tr>\n",
       "  </thead>\n",
       "  <tbody>\n",
       "    <tr>\n",
       "      <th>4</th>\n",
       "      <td>launched_at</td>\n",
       "      <td>1592.036509</td>\n",
       "    </tr>\n",
       "    <tr>\n",
       "      <th>5</th>\n",
       "      <td>time_diff</td>\n",
       "      <td>1592.036509</td>\n",
       "    </tr>\n",
       "    <tr>\n",
       "      <th>19</th>\n",
       "      <td>cat_id_outcome_std</td>\n",
       "      <td>2.681563</td>\n",
       "    </tr>\n",
       "    <tr>\n",
       "      <th>39</th>\n",
       "      <td>dummy_cat_id_22</td>\n",
       "      <td>2.573538</td>\n",
       "    </tr>\n",
       "    <tr>\n",
       "      <th>23</th>\n",
       "      <td>dummy_cat_id_1</td>\n",
       "      <td>2.540559</td>\n",
       "    </tr>\n",
       "    <tr>\n",
       "      <th>...</th>\n",
       "      <td>...</td>\n",
       "      <td>...</td>\n",
       "    </tr>\n",
       "    <tr>\n",
       "      <th>52</th>\n",
       "      <td>dummy_cat_id_35</td>\n",
       "      <td>2.125644</td>\n",
       "    </tr>\n",
       "    <tr>\n",
       "      <th>51</th>\n",
       "      <td>dummy_cat_id_34</td>\n",
       "      <td>2.121735</td>\n",
       "    </tr>\n",
       "    <tr>\n",
       "      <th>87</th>\n",
       "      <td>dummy_cat_id_262</td>\n",
       "      <td>1.678768</td>\n",
       "    </tr>\n",
       "    <tr>\n",
       "      <th>48</th>\n",
       "      <td>dummy_cat_id_31</td>\n",
       "      <td>1.277099</td>\n",
       "    </tr>\n",
       "    <tr>\n",
       "      <th>10</th>\n",
       "      <td>loc_id_outcome_mean</td>\n",
       "      <td>0.907552</td>\n",
       "    </tr>\n",
       "  </tbody>\n",
       "</table>\n",
       "<p>20 rows × 2 columns</p>\n",
       "</div>"
      ],
      "text/plain": [
       "                    var         coef\n",
       "4           launched_at  1592.036509\n",
       "5             time_diff  1592.036509\n",
       "19   cat_id_outcome_std     2.681563\n",
       "39      dummy_cat_id_22     2.573538\n",
       "23       dummy_cat_id_1     2.540559\n",
       "..                  ...          ...\n",
       "52      dummy_cat_id_35     2.125644\n",
       "51      dummy_cat_id_34     2.121735\n",
       "87     dummy_cat_id_262     1.678768\n",
       "48      dummy_cat_id_31     1.277099\n",
       "10  loc_id_outcome_mean     0.907552\n",
       "\n",
       "[20 rows x 2 columns]"
      ]
     },
     "execution_count": 15,
     "metadata": {},
     "output_type": "execute_result"
    }
   ],
   "source": [
    "ols_coefs = pd.DataFrame(data={\n",
    "    'var':X_train.columns, \n",
    "    'coef':ols.coef_\n",
    "}).sort_values('coef', ascending=False)\n",
    "ols_coefs.head(20)"
   ]
  },
  {
   "cell_type": "code",
   "execution_count": 13,
   "id": "916ef534-481b-4516-837e-92260b9ef5a2",
   "metadata": {},
   "outputs": [
    {
     "data": {
      "text/plain": [
       "<matplotlib.axes._subplots.AxesSubplot at 0x7fc6cefb52b0>"
      ]
     },
     "execution_count": 13,
     "metadata": {},
     "output_type": "execute_result"
    },
    {
     "data": {
      "image/png": "[encoded data removed]",
      "text/plain": [
       "<Figure size 432x288 with 1 Axes>"
      ]
     },
     "metadata": {
      "needs_background": "light"
     },
     "output_type": "display_data"
    }
   ],
   "source": [
    "sns.histplot(x=y_test_hat, hue=y_test)"
   ]
  },
  {
   "cell_type": "code",
   "execution_count": 20,
   "id": "6283b86c-bb8a-4c1f-8130-f759394ce177",
   "metadata": {},
   "outputs": [
    {
     "data": {
      "text/plain": [
       "<matplotlib.axes._subplots.AxesSubplot at 0x7fc6b6e87850>"
      ]
     },
     "execution_count": 20,
     "metadata": {},
     "output_type": "execute_result"
    },
    {
     "data": {
      "image/png": "[encoded data removed]",
      "text/plain": [
       "<Figure size 432x288 with 1 Axes>"
      ]
     },
     "metadata": {
      "needs_background": "light"
     },
     "output_type": "display_data"
    }
   ],
   "source": [
    "sns.histplot(x=y_test_hat[:, 1], hue=y_test)"
   ]
  },
  {
   "cell_type": "code",
   "execution_count": null,
   "id": "ee34d980-ce1b-41dd-a9e8-aa23688d68ea",
   "metadata": {},
   "outputs": [],
   "source": [
    "sns.histplot(x=y_test_hat, hue=y_test)"
   ]
  },
  {
   "cell_type": "code",
   "execution_count": 21,
   "id": "df5e3646-f646-4dc9-a40c-afb727299f30",
   "metadata": {},
   "outputs": [
    {
     "name": "stdout",
     "output_type": "stream",
     "text": [
      "RMSE: 0.444\n",
      "Accuracy: 0.698\n"
     ]
    }
   ],
   "source": [
    "## 2. Lasso\n",
    "# Since our feature space isn't that large and also not very rich (at least in a linear sense), don't expect great results here  \n",
    "clf_lasso = lm.Lasso(alpha=3, normalize=False, random_state=rseed)\n",
    "clf_lasso.fit(X_train, y_train)\n",
    "y_test_hat = clf_lasso.predict(X_test)\n",
    "rmse(y_test, y_test_hat)\n",
    "acc(y_test, y_test_hat)"
   ]
  },
  {
   "cell_type": "code",
   "execution_count": 25,
   "id": "5d8b868e-66da-4e1c-af72-99b3c38b036c",
   "metadata": {},
   "outputs": [
    {
     "data": {
      "text/plain": [
       "(-0.25, 1.25)"
      ]
     },
     "execution_count": 25,
     "metadata": {},
     "output_type": "execute_result"
    },
    {
     "data": {
      "image/png": "[encoded data removed]",
      "text/plain": [
       "<Figure size 432x288 with 1 Axes>"
      ]
     },
     "metadata": {
      "needs_background": "light"
     },
     "output_type": "display_data"
    }
   ],
   "source": [
    "sns.histplot(x=y_test_hat, hue=y_test)\n",
    "plt.xlim(-0.25, 1.25)"
   ]
  },
  {
   "cell_type": "code",
   "execution_count": 22,
   "id": "48c4460f-4719-4d21-aba6-9b71b02dca59",
   "metadata": {
    "collapsed": true,
    "jupyter": {
     "outputs_hidden": true
    },
    "tags": []
   },
   "outputs": [
    {
     "data": {
      "text/html": [
       "<div>\n",
       "<style scoped>\n",
       "    .dataframe tbody tr th:only-of-type {\n",
       "        vertical-align: middle;\n",
       "    }\n",
       "\n",
       "    .dataframe tbody tr th {\n",
       "        vertical-align: top;\n",
       "    }\n",
       "\n",
       "    .dataframe thead th {\n",
       "        text-align: right;\n",
       "    }\n",
       "</style>\n",
       "<table border=\"1\" class=\"dataframe\">\n",
       "  <thead>\n",
       "    <tr style=\"text-align: right;\">\n",
       "      <th></th>\n",
       "      <th>var</th>\n",
       "      <th>coef</th>\n",
       "    </tr>\n",
       "  </thead>\n",
       "  <tbody>\n",
       "    <tr>\n",
       "      <th>16</th>\n",
       "      <td>cat_parent_id_usd_goal_mean</td>\n",
       "      <td>5.195886e-06</td>\n",
       "    </tr>\n",
       "    <tr>\n",
       "      <th>21</th>\n",
       "      <td>cat_id_usd_goal_std</td>\n",
       "      <td>3.565682e-07</td>\n",
       "    </tr>\n",
       "    <tr>\n",
       "      <th>3</th>\n",
       "      <td>deadline</td>\n",
       "      <td>1.904224e-10</td>\n",
       "    </tr>\n",
       "    <tr>\n",
       "      <th>4</th>\n",
       "      <td>launched_at</td>\n",
       "      <td>1.197058e-11</td>\n",
       "    </tr>\n",
       "    <tr>\n",
       "      <th>0</th>\n",
       "      <td>blurb_len</td>\n",
       "      <td>-0.000000e+00</td>\n",
       "    </tr>\n",
       "    <tr>\n",
       "      <th>...</th>\n",
       "      <td>...</td>\n",
       "      <td>...</td>\n",
       "    </tr>\n",
       "    <tr>\n",
       "      <th>148</th>\n",
       "      <td>dummy_cat_id_323</td>\n",
       "      <td>-0.000000e+00</td>\n",
       "    </tr>\n",
       "    <tr>\n",
       "      <th>149</th>\n",
       "      <td>dummy_cat_id_324</td>\n",
       "      <td>0.000000e+00</td>\n",
       "    </tr>\n",
       "    <tr>\n",
       "      <th>136</th>\n",
       "      <td>dummy_cat_id_311</td>\n",
       "      <td>-0.000000e+00</td>\n",
       "    </tr>\n",
       "    <tr>\n",
       "      <th>150</th>\n",
       "      <td>dummy_cat_id_325</td>\n",
       "      <td>0.000000e+00</td>\n",
       "    </tr>\n",
       "    <tr>\n",
       "      <th>151</th>\n",
       "      <td>dummy_cat_id_326</td>\n",
       "      <td>0.000000e+00</td>\n",
       "    </tr>\n",
       "  </tbody>\n",
       "</table>\n",
       "<p>20 rows × 2 columns</p>\n",
       "</div>"
      ],
      "text/plain": [
       "                             var          coef\n",
       "16   cat_parent_id_usd_goal_mean  5.195886e-06\n",
       "21           cat_id_usd_goal_std  3.565682e-07\n",
       "3                       deadline  1.904224e-10\n",
       "4                    launched_at  1.197058e-11\n",
       "0                      blurb_len -0.000000e+00\n",
       "..                           ...           ...\n",
       "148             dummy_cat_id_323 -0.000000e+00\n",
       "149             dummy_cat_id_324  0.000000e+00\n",
       "136             dummy_cat_id_311 -0.000000e+00\n",
       "150             dummy_cat_id_325  0.000000e+00\n",
       "151             dummy_cat_id_326  0.000000e+00\n",
       "\n",
       "[20 rows x 2 columns]"
      ]
     },
     "execution_count": 22,
     "metadata": {},
     "output_type": "execute_result"
    }
   ],
   "source": [
    "lasso_coefs = pd.DataFrame(data={\n",
    "    'var':X_train.columns, \n",
    "    'coef':clf_lasso.coef_\n",
    "}).sort_values('coef', ascending=False)\n",
    "lasso_coefs.head(20)"
   ]
  },
  {
   "cell_type": "code",
   "execution_count": 15,
   "id": "1e77ad7f-21bf-4b30-b9ef-cd100da80823",
   "metadata": {},
   "outputs": [
    {
     "name": "stdout",
     "output_type": "stream",
     "text": [
      "RMSE: 0.437\n",
      "Accuracy: 0.71\n"
     ]
    },
    {
     "name": "stderr",
     "output_type": "stream",
     "text": [
      "/Users/benji/anaconda3/envs/play/lib/python3.8/site-packages/sklearn/linear_model/_ridge.py:147: LinAlgWarning: Ill-conditioned matrix (rcond=1.23777e-21): result may not be accurate.\n",
      "  return linalg.solve(A, Xy, sym_pos=True,\n"
     ]
    }
   ],
   "source": [
    "## 3. Ridge\n",
    "# Similar expectations to lasso, though at least it won't kick out features from our model, so should do a bit better  \n",
    "\n",
    "# training procedure for a cross-validated ridge, but don't think this is necessary right now \n",
    "#clf_ridgecv = lm.RidgeCV(alphas=np.arange(0.1, 1, 0.02), cv=10).fit(X_train_lnom, y_train)\n",
    "#print(clf_ridgecv.alpha_)\n",
    "#y_test_hat = clf_ridgecv.predict(X_test_lnom)\n",
    "#rmse(y_test, y_test_hat)\n",
    "#acc(y_test, y_test_hat)\n",
    "# train ridge \n",
    "clf_ridge = lm.Ridge(alpha=0.95, normalize=False, random_state=rseed)\n",
    "clf_ridge.fit(X_train_lnom, y_train)\n",
    "y_test_hat = clf_ridge.predict(X_test_lnom)\n",
    "rmse(y_test, y_test_hat)\n",
    "acc(y_test, y_test_hat)"
   ]
  },
  {
   "cell_type": "code",
   "execution_count": 27,
   "id": "f10fbbe7-3376-4dcd-b738-b5142f03f95c",
   "metadata": {},
   "outputs": [
    {
     "name": "stderr",
     "output_type": "stream",
     "text": [
      "/Users/benji/anaconda3/envs/play/lib/python3.8/site-packages/sklearn/linear_model/_logistic.py:1322: UserWarning: Setting penalty='none' will ignore the C and l1_ratio parameters\n",
      "  warnings.warn(\n"
     ]
    },
    {
     "name": "stdout",
     "output_type": "stream",
     "text": [
      "RMSE: 0.604\n",
      "Accuracy: 0.636\n"
     ]
    }
   ],
   "source": [
    "## 4. Logistic Reg  \n",
    "# Similar expectations to lasso + ridge \n",
    "# To avoid regularization set C to be very large and/or penalty to none \n",
    "glf = lm.LogisticRegression(C=10000, random_state=rseed, penalty='none', class_weight='balanced')\n",
    "glf.fit(X_train, y_train)\n",
    "#print(\"Coefficients:\", glf.intercept_, np.round(glf.coef_, 3)) \n",
    "y_test_hat_proba = glf.predict_proba(X_test)\n",
    "y_test_hat = glf.predict(X_test)\n",
    "rmse(y_test, y_test_hat)\n",
    "acc(y_test, y_test_hat)"
   ]
  },
  {
   "cell_type": "code",
   "execution_count": null,
   "id": "260f71a2-959a-4548-b036-191e68e6b4ff",
   "metadata": {
    "tags": []
   },
   "outputs": [
    {
     "name": "stdout",
     "output_type": "stream",
     "text": [
      "[LibSVM]"
     ]
    }
   ],
   "source": [
    "#### ---> DON'T RUN THIS <--- ####\n",
    "# this seems very slow and honestly don't have great results\n",
    "# definitely should look into improving SVM as it has potential, but...\n",
    "\n",
    "## 5. SVM \n",
    "svm = SVC(C=0.1, random_state=rseed, verbose=True)\n",
    "svm.fit(X_train_lnom, y_train)\n",
    "y_test_hat = svm.predict(X_test_lnom)\n",
    "print(pd.Series(y_test_hat).value_counts())\n",
    "rmse(y_test, y_test_hat)\n",
    "acc(y_test, y_test_hat)"
   ]
  },
  {
   "cell_type": "code",
   "execution_count": 48,
   "id": "c63acd2a-fc08-452b-8a65-7c269fdbd113",
   "metadata": {
    "collapsed": true,
    "jupyter": {
     "outputs_hidden": true
    },
    "tags": []
   },
   "outputs": [
    {
     "name": "stdout",
     "output_type": "stream",
     "text": [
      "Fitting 5 folds for each of 81 candidates, totalling 405 fits\n",
      "[CV] END bootstrap=False, max_depth=10, max_features=auto, min_samples_leaf=1, min_samples_split=2, n_estimators=10; total time=   1.2s\n",
      "[CV] END bootstrap=False, max_depth=10, max_features=auto, min_samples_leaf=1, min_samples_split=2, n_estimators=10; total time=   1.2s\n",
      "[CV] END bootstrap=False, max_depth=10, max_features=auto, min_samples_leaf=1, min_samples_split=2, n_estimators=10; total time=   1.3s\n",
      "[CV] END bootstrap=False, max_depth=10, max_features=auto, min_samples_leaf=1, min_samples_split=2, n_estimators=10; total time=   1.3s\n",
      "[CV] END bootstrap=False, max_depth=10, max_features=auto, min_samples_leaf=1, min_samples_split=2, n_estimators=10; total time=   1.2s\n",
      "[CV] END bootstrap=False, max_depth=10, max_features=auto, min_samples_leaf=1, min_samples_split=2, n_estimators=20; total time=   2.2s\n",
      "[CV] END bootstrap=False, max_depth=10, max_features=auto, min_samples_leaf=1, min_samples_split=2, n_estimators=20; total time=   2.5s\n",
      "[CV] END bootstrap=False, max_depth=10, max_features=auto, min_samples_leaf=1, min_samples_split=2, n_estimators=20; total time=   2.2s\n",
      "[CV] END bootstrap=False, max_depth=10, max_features=auto, min_samples_leaf=1, min_samples_split=2, n_estimators=20; total time=   2.3s\n",
      "[CV] END bootstrap=False, max_depth=10, max_features=auto, min_samples_leaf=1, min_samples_split=2, n_estimators=20; total time=   2.2s\n",
      "[CV] END bootstrap=False, max_depth=10, max_features=auto, min_samples_leaf=1, min_samples_split=2, n_estimators=30; total time=   3.3s\n",
      "[CV] END bootstrap=False, max_depth=10, max_features=auto, min_samples_leaf=1, min_samples_split=2, n_estimators=30; total time=   3.4s\n",
      "[CV] END bootstrap=False, max_depth=10, max_features=auto, min_samples_leaf=1, min_samples_split=2, n_estimators=30; total time=   3.3s\n",
      "[CV] END bootstrap=False, max_depth=10, max_features=auto, min_samples_leaf=1, min_samples_split=2, n_estimators=30; total time=   3.3s\n",
      "[CV] END bootstrap=False, max_depth=10, max_features=auto, min_samples_leaf=1, min_samples_split=2, n_estimators=30; total time=   3.6s\n",
      "[CV] END bootstrap=False, max_depth=10, max_features=auto, min_samples_leaf=1, min_samples_split=5, n_estimators=10; total time=   1.2s\n",
      "[CV] END bootstrap=False, max_depth=10, max_features=auto, min_samples_leaf=1, min_samples_split=5, n_estimators=10; total time=   1.1s\n",
      "[CV] END bootstrap=False, max_depth=10, max_features=auto, min_samples_leaf=1, min_samples_split=5, n_estimators=10; total time=   1.1s\n",
      "[CV] END bootstrap=False, max_depth=10, max_features=auto, min_samples_leaf=1, min_samples_split=5, n_estimators=10; total time=   1.1s\n",
      "[CV] END bootstrap=False, max_depth=10, max_features=auto, min_samples_leaf=1, min_samples_split=5, n_estimators=10; total time=   1.1s\n",
      "[CV] END bootstrap=False, max_depth=10, max_features=auto, min_samples_leaf=1, min_samples_split=5, n_estimators=20; total time=   2.2s\n",
      "[CV] END bootstrap=False, max_depth=10, max_features=auto, min_samples_leaf=1, min_samples_split=5, n_estimators=20; total time=   2.2s\n",
      "[CV] END bootstrap=False, max_depth=10, max_features=auto, min_samples_leaf=1, min_samples_split=5, n_estimators=20; total time=   2.3s\n",
      "[CV] END bootstrap=False, max_depth=10, max_features=auto, min_samples_leaf=1, min_samples_split=5, n_estimators=20; total time=   2.2s\n",
      "[CV] END bootstrap=False, max_depth=10, max_features=auto, min_samples_leaf=1, min_samples_split=5, n_estimators=20; total time=   2.2s\n",
      "[CV] END bootstrap=False, max_depth=10, max_features=auto, min_samples_leaf=1, min_samples_split=5, n_estimators=30; total time=   3.3s\n",
      "[CV] END bootstrap=False, max_depth=10, max_features=auto, min_samples_leaf=1, min_samples_split=5, n_estimators=30; total time=   3.4s\n",
      "[CV] END bootstrap=False, max_depth=10, max_features=auto, min_samples_leaf=1, min_samples_split=5, n_estimators=30; total time=   3.3s\n",
      "[CV] END bootstrap=False, max_depth=10, max_features=auto, min_samples_leaf=1, min_samples_split=5, n_estimators=30; total time=   3.3s\n",
      "[CV] END bootstrap=False, max_depth=10, max_features=auto, min_samples_leaf=1, min_samples_split=5, n_estimators=30; total time=   3.5s\n",
      "[CV] END bootstrap=False, max_depth=10, max_features=auto, min_samples_leaf=1, min_samples_split=10, n_estimators=10; total time=   1.1s\n",
      "[CV] END bootstrap=False, max_depth=10, max_features=auto, min_samples_leaf=1, min_samples_split=10, n_estimators=10; total time=   1.1s\n",
      "[CV] END bootstrap=False, max_depth=10, max_features=auto, min_samples_leaf=1, min_samples_split=10, n_estimators=10; total time=   1.1s\n",
      "[CV] END bootstrap=False, max_depth=10, max_features=auto, min_samples_leaf=1, min_samples_split=10, n_estimators=10; total time=   1.1s\n",
      "[CV] END bootstrap=False, max_depth=10, max_features=auto, min_samples_leaf=1, min_samples_split=10, n_estimators=10; total time=   1.1s\n",
      "[CV] END bootstrap=False, max_depth=10, max_features=auto, min_samples_leaf=1, min_samples_split=10, n_estimators=20; total time=   2.4s\n",
      "[CV] END bootstrap=False, max_depth=10, max_features=auto, min_samples_leaf=1, min_samples_split=10, n_estimators=20; total time=   2.3s\n",
      "[CV] END bootstrap=False, max_depth=10, max_features=auto, min_samples_leaf=1, min_samples_split=10, n_estimators=20; total time=   2.2s\n",
      "[CV] END bootstrap=False, max_depth=10, max_features=auto, min_samples_leaf=1, min_samples_split=10, n_estimators=20; total time=   2.2s\n",
      "[CV] END bootstrap=False, max_depth=10, max_features=auto, min_samples_leaf=1, min_samples_split=10, n_estimators=20; total time=   2.2s\n",
      "[CV] END bootstrap=False, max_depth=10, max_features=auto, min_samples_leaf=1, min_samples_split=10, n_estimators=30; total time=   3.7s\n",
      "[CV] END bootstrap=False, max_depth=10, max_features=auto, min_samples_leaf=1, min_samples_split=10, n_estimators=30; total time=   3.2s\n",
      "[CV] END bootstrap=False, max_depth=10, max_features=auto, min_samples_leaf=1, min_samples_split=10, n_estimators=30; total time=   3.2s\n",
      "[CV] END bootstrap=False, max_depth=10, max_features=auto, min_samples_leaf=1, min_samples_split=10, n_estimators=30; total time=   3.3s\n",
      "[CV] END bootstrap=False, max_depth=10, max_features=auto, min_samples_leaf=1, min_samples_split=10, n_estimators=30; total time=   3.3s\n",
      "[CV] END bootstrap=False, max_depth=10, max_features=auto, min_samples_leaf=5, min_samples_split=2, n_estimators=10; total time=   1.1s\n",
      "[CV] END bootstrap=False, max_depth=10, max_features=auto, min_samples_leaf=5, min_samples_split=2, n_estimators=10; total time=   1.1s\n",
      "[CV] END bootstrap=False, max_depth=10, max_features=auto, min_samples_leaf=5, min_samples_split=2, n_estimators=10; total time=   1.1s\n",
      "[CV] END bootstrap=False, max_depth=10, max_features=auto, min_samples_leaf=5, min_samples_split=2, n_estimators=10; total time=   1.1s\n",
      "[CV] END bootstrap=False, max_depth=10, max_features=auto, min_samples_leaf=5, min_samples_split=2, n_estimators=10; total time=   1.1s\n",
      "[CV] END bootstrap=False, max_depth=10, max_features=auto, min_samples_leaf=5, min_samples_split=2, n_estimators=20; total time=   2.4s\n",
      "[CV] END bootstrap=False, max_depth=10, max_features=auto, min_samples_leaf=5, min_samples_split=2, n_estimators=20; total time=   2.1s\n",
      "[CV] END bootstrap=False, max_depth=10, max_features=auto, min_samples_leaf=5, min_samples_split=2, n_estimators=20; total time=   2.2s\n",
      "[CV] END bootstrap=False, max_depth=10, max_features=auto, min_samples_leaf=5, min_samples_split=2, n_estimators=20; total time=   2.2s\n",
      "[CV] END bootstrap=False, max_depth=10, max_features=auto, min_samples_leaf=5, min_samples_split=2, n_estimators=20; total time=   2.3s\n",
      "[CV] END bootstrap=False, max_depth=10, max_features=auto, min_samples_leaf=5, min_samples_split=2, n_estimators=30; total time=   3.3s\n",
      "[CV] END bootstrap=False, max_depth=10, max_features=auto, min_samples_leaf=5, min_samples_split=2, n_estimators=30; total time=   3.3s\n",
      "[CV] END bootstrap=False, max_depth=10, max_features=auto, min_samples_leaf=5, min_samples_split=2, n_estimators=30; total time=   3.3s\n",
      "[CV] END bootstrap=False, max_depth=10, max_features=auto, min_samples_leaf=5, min_samples_split=2, n_estimators=30; total time=   3.5s\n",
      "[CV] END bootstrap=False, max_depth=10, max_features=auto, min_samples_leaf=5, min_samples_split=2, n_estimators=30; total time=   3.5s\n",
      "[CV] END bootstrap=False, max_depth=10, max_features=auto, min_samples_leaf=5, min_samples_split=5, n_estimators=10; total time=   1.1s\n",
      "[CV] END bootstrap=False, max_depth=10, max_features=auto, min_samples_leaf=5, min_samples_split=5, n_estimators=10; total time=   1.1s\n",
      "[CV] END bootstrap=False, max_depth=10, max_features=auto, min_samples_leaf=5, min_samples_split=5, n_estimators=10; total time=   1.1s\n",
      "[CV] END bootstrap=False, max_depth=10, max_features=auto, min_samples_leaf=5, min_samples_split=5, n_estimators=10; total time=   1.1s\n",
      "[CV] END bootstrap=False, max_depth=10, max_features=auto, min_samples_leaf=5, min_samples_split=5, n_estimators=10; total time=   1.2s\n",
      "[CV] END bootstrap=False, max_depth=10, max_features=auto, min_samples_leaf=5, min_samples_split=5, n_estimators=20; total time=   2.2s\n",
      "[CV] END bootstrap=False, max_depth=10, max_features=auto, min_samples_leaf=5, min_samples_split=5, n_estimators=20; total time=   2.2s\n",
      "[CV] END bootstrap=False, max_depth=10, max_features=auto, min_samples_leaf=5, min_samples_split=5, n_estimators=20; total time=   2.2s\n",
      "[CV] END bootstrap=False, max_depth=10, max_features=auto, min_samples_leaf=5, min_samples_split=5, n_estimators=20; total time=   2.2s\n",
      "[CV] END bootstrap=False, max_depth=10, max_features=auto, min_samples_leaf=5, min_samples_split=5, n_estimators=20; total time=   2.5s\n",
      "[CV] END bootstrap=False, max_depth=10, max_features=auto, min_samples_leaf=5, min_samples_split=5, n_estimators=30; total time=   3.4s\n",
      "[CV] END bootstrap=False, max_depth=10, max_features=auto, min_samples_leaf=5, min_samples_split=5, n_estimators=30; total time=   3.2s\n",
      "[CV] END bootstrap=False, max_depth=10, max_features=auto, min_samples_leaf=5, min_samples_split=5, n_estimators=30; total time=   3.5s\n",
      "[CV] END bootstrap=False, max_depth=10, max_features=auto, min_samples_leaf=5, min_samples_split=5, n_estimators=30; total time=   3.3s\n",
      "[CV] END bootstrap=False, max_depth=10, max_features=auto, min_samples_leaf=5, min_samples_split=5, n_estimators=30; total time=   3.3s\n",
      "[CV] END bootstrap=False, max_depth=10, max_features=auto, min_samples_leaf=5, min_samples_split=10, n_estimators=10; total time=   1.1s\n",
      "[CV] END bootstrap=False, max_depth=10, max_features=auto, min_samples_leaf=5, min_samples_split=10, n_estimators=10; total time=   1.1s\n",
      "[CV] END bootstrap=False, max_depth=10, max_features=auto, min_samples_leaf=5, min_samples_split=10, n_estimators=10; total time=   1.1s\n",
      "[CV] END bootstrap=False, max_depth=10, max_features=auto, min_samples_leaf=5, min_samples_split=10, n_estimators=10; total time=   1.1s\n",
      "[CV] END bootstrap=False, max_depth=10, max_features=auto, min_samples_leaf=5, min_samples_split=10, n_estimators=10; total time=   1.1s\n",
      "[CV] END bootstrap=False, max_depth=10, max_features=auto, min_samples_leaf=5, min_samples_split=10, n_estimators=20; total time=   2.2s\n",
      "[CV] END bootstrap=False, max_depth=10, max_features=auto, min_samples_leaf=5, min_samples_split=10, n_estimators=20; total time=   2.2s\n",
      "[CV] END bootstrap=False, max_depth=10, max_features=auto, min_samples_leaf=5, min_samples_split=10, n_estimators=20; total time=   2.2s\n",
      "[CV] END bootstrap=False, max_depth=10, max_features=auto, min_samples_leaf=5, min_samples_split=10, n_estimators=20; total time=   2.4s\n",
      "[CV] END bootstrap=False, max_depth=10, max_features=auto, min_samples_leaf=5, min_samples_split=10, n_estimators=20; total time=   2.2s\n",
      "[CV] END bootstrap=False, max_depth=10, max_features=auto, min_samples_leaf=5, min_samples_split=10, n_estimators=30; total time=   3.2s\n",
      "[CV] END bootstrap=False, max_depth=10, max_features=auto, min_samples_leaf=5, min_samples_split=10, n_estimators=30; total time=   3.2s\n",
      "[CV] END bootstrap=False, max_depth=10, max_features=auto, min_samples_leaf=5, min_samples_split=10, n_estimators=30; total time=   3.5s\n",
      "[CV] END bootstrap=False, max_depth=10, max_features=auto, min_samples_leaf=5, min_samples_split=10, n_estimators=30; total time=   3.2s\n",
      "[CV] END bootstrap=False, max_depth=10, max_features=auto, min_samples_leaf=5, min_samples_split=10, n_estimators=30; total time=   3.2s\n",
      "[CV] END bootstrap=False, max_depth=10, max_features=auto, min_samples_leaf=10, min_samples_split=2, n_estimators=10; total time=   1.1s\n",
      "[CV] END bootstrap=False, max_depth=10, max_features=auto, min_samples_leaf=10, min_samples_split=2, n_estimators=10; total time=   1.3s\n",
      "[CV] END bootstrap=False, max_depth=10, max_features=auto, min_samples_leaf=10, min_samples_split=2, n_estimators=10; total time=   1.1s\n",
      "[CV] END bootstrap=False, max_depth=10, max_features=auto, min_samples_leaf=10, min_samples_split=2, n_estimators=10; total time=   1.1s\n",
      "[CV] END bootstrap=False, max_depth=10, max_features=auto, min_samples_leaf=10, min_samples_split=2, n_estimators=10; total time=   1.1s\n",
      "[CV] END bootstrap=False, max_depth=10, max_features=auto, min_samples_leaf=10, min_samples_split=2, n_estimators=20; total time=   2.2s\n",
      "[CV] END bootstrap=False, max_depth=10, max_features=auto, min_samples_leaf=10, min_samples_split=2, n_estimators=20; total time=   2.1s\n",
      "[CV] END bootstrap=False, max_depth=10, max_features=auto, min_samples_leaf=10, min_samples_split=2, n_estimators=20; total time=   2.2s\n",
      "[CV] END bootstrap=False, max_depth=10, max_features=auto, min_samples_leaf=10, min_samples_split=2, n_estimators=20; total time=   2.2s\n",
      "[CV] END bootstrap=False, max_depth=10, max_features=auto, min_samples_leaf=10, min_samples_split=2, n_estimators=20; total time=   2.2s\n",
      "[CV] END bootstrap=False, max_depth=10, max_features=auto, min_samples_leaf=10, min_samples_split=2, n_estimators=30; total time=   3.3s\n",
      "[CV] END bootstrap=False, max_depth=10, max_features=auto, min_samples_leaf=10, min_samples_split=2, n_estimators=30; total time=   3.4s\n",
      "[CV] END bootstrap=False, max_depth=10, max_features=auto, min_samples_leaf=10, min_samples_split=2, n_estimators=30; total time=   3.3s\n",
      "[CV] END bootstrap=False, max_depth=10, max_features=auto, min_samples_leaf=10, min_samples_split=2, n_estimators=30; total time=   3.2s\n",
      "[CV] END bootstrap=False, max_depth=10, max_features=auto, min_samples_leaf=10, min_samples_split=2, n_estimators=30; total time=   3.5s\n",
      "[CV] END bootstrap=False, max_depth=10, max_features=auto, min_samples_leaf=10, min_samples_split=5, n_estimators=10; total time=   1.1s\n",
      "[CV] END bootstrap=False, max_depth=10, max_features=auto, min_samples_leaf=10, min_samples_split=5, n_estimators=10; total time=   1.1s\n",
      "[CV] END bootstrap=False, max_depth=10, max_features=auto, min_samples_leaf=10, min_samples_split=5, n_estimators=10; total time=   1.1s\n",
      "[CV] END bootstrap=False, max_depth=10, max_features=auto, min_samples_leaf=10, min_samples_split=5, n_estimators=10; total time=   1.1s\n",
      "[CV] END bootstrap=False, max_depth=10, max_features=auto, min_samples_leaf=10, min_samples_split=5, n_estimators=10; total time=   1.1s\n",
      "[CV] END bootstrap=False, max_depth=10, max_features=auto, min_samples_leaf=10, min_samples_split=5, n_estimators=20; total time=   2.2s\n",
      "[CV] END bootstrap=False, max_depth=10, max_features=auto, min_samples_leaf=10, min_samples_split=5, n_estimators=20; total time=   2.3s\n",
      "[CV] END bootstrap=False, max_depth=10, max_features=auto, min_samples_leaf=10, min_samples_split=5, n_estimators=20; total time=   2.2s\n",
      "[CV] END bootstrap=False, max_depth=10, max_features=auto, min_samples_leaf=10, min_samples_split=5, n_estimators=20; total time=   2.2s\n",
      "[CV] END bootstrap=False, max_depth=10, max_features=auto, min_samples_leaf=10, min_samples_split=5, n_estimators=20; total time=   2.2s\n",
      "[CV] END bootstrap=False, max_depth=10, max_features=auto, min_samples_leaf=10, min_samples_split=5, n_estimators=30; total time=   3.2s\n",
      "[CV] END bootstrap=False, max_depth=10, max_features=auto, min_samples_leaf=10, min_samples_split=5, n_estimators=30; total time=   3.3s\n",
      "[CV] END bootstrap=False, max_depth=10, max_features=auto, min_samples_leaf=10, min_samples_split=5, n_estimators=30; total time=   3.2s\n",
      "[CV] END bootstrap=False, max_depth=10, max_features=auto, min_samples_leaf=10, min_samples_split=5, n_estimators=30; total time=   3.2s\n",
      "[CV] END bootstrap=False, max_depth=10, max_features=auto, min_samples_leaf=10, min_samples_split=5, n_estimators=30; total time=   3.4s\n",
      "[CV] END bootstrap=False, max_depth=10, max_features=auto, min_samples_leaf=10, min_samples_split=10, n_estimators=10; total time=   1.1s\n",
      "[CV] END bootstrap=False, max_depth=10, max_features=auto, min_samples_leaf=10, min_samples_split=10, n_estimators=10; total time=   1.1s\n",
      "[CV] END bootstrap=False, max_depth=10, max_features=auto, min_samples_leaf=10, min_samples_split=10, n_estimators=10; total time=   1.1s\n",
      "[CV] END bootstrap=False, max_depth=10, max_features=auto, min_samples_leaf=10, min_samples_split=10, n_estimators=10; total time=   1.2s\n",
      "[CV] END bootstrap=False, max_depth=10, max_features=auto, min_samples_leaf=10, min_samples_split=10, n_estimators=10; total time=   1.2s\n",
      "[CV] END bootstrap=False, max_depth=10, max_features=auto, min_samples_leaf=10, min_samples_split=10, n_estimators=20; total time=   2.4s\n",
      "[CV] END bootstrap=False, max_depth=10, max_features=auto, min_samples_leaf=10, min_samples_split=10, n_estimators=20; total time=   2.3s\n",
      "[CV] END bootstrap=False, max_depth=10, max_features=auto, min_samples_leaf=10, min_samples_split=10, n_estimators=20; total time=   2.1s\n",
      "[CV] END bootstrap=False, max_depth=10, max_features=auto, min_samples_leaf=10, min_samples_split=10, n_estimators=20; total time=   2.2s\n",
      "[CV] END bootstrap=False, max_depth=10, max_features=auto, min_samples_leaf=10, min_samples_split=10, n_estimators=20; total time=   2.2s\n",
      "[CV] END bootstrap=False, max_depth=10, max_features=auto, min_samples_leaf=10, min_samples_split=10, n_estimators=30; total time=   3.3s\n",
      "[CV] END bootstrap=False, max_depth=10, max_features=auto, min_samples_leaf=10, min_samples_split=10, n_estimators=30; total time=   3.2s\n",
      "[CV] END bootstrap=False, max_depth=10, max_features=auto, min_samples_leaf=10, min_samples_split=10, n_estimators=30; total time=   3.2s\n",
      "[CV] END bootstrap=False, max_depth=10, max_features=auto, min_samples_leaf=10, min_samples_split=10, n_estimators=30; total time=   3.5s\n",
      "[CV] END bootstrap=False, max_depth=10, max_features=auto, min_samples_leaf=10, min_samples_split=10, n_estimators=30; total time=   3.3s\n",
      "[CV] END bootstrap=False, max_depth=15, max_features=auto, min_samples_leaf=1, min_samples_split=2, n_estimators=10; total time=   1.6s\n",
      "[CV] END bootstrap=False, max_depth=15, max_features=auto, min_samples_leaf=1, min_samples_split=2, n_estimators=10; total time=   1.6s\n",
      "[CV] END bootstrap=False, max_depth=15, max_features=auto, min_samples_leaf=1, min_samples_split=2, n_estimators=10; total time=   1.6s\n",
      "[CV] END bootstrap=False, max_depth=15, max_features=auto, min_samples_leaf=1, min_samples_split=2, n_estimators=10; total time=   1.7s\n",
      "[CV] END bootstrap=False, max_depth=15, max_features=auto, min_samples_leaf=1, min_samples_split=2, n_estimators=10; total time=   1.6s\n",
      "[CV] END bootstrap=False, max_depth=15, max_features=auto, min_samples_leaf=1, min_samples_split=2, n_estimators=20; total time=   3.1s\n",
      "[CV] END bootstrap=False, max_depth=15, max_features=auto, min_samples_leaf=1, min_samples_split=2, n_estimators=20; total time=   3.1s\n",
      "[CV] END bootstrap=False, max_depth=15, max_features=auto, min_samples_leaf=1, min_samples_split=2, n_estimators=20; total time=   3.3s\n",
      "[CV] END bootstrap=False, max_depth=15, max_features=auto, min_samples_leaf=1, min_samples_split=2, n_estimators=20; total time=   3.1s\n",
      "[CV] END bootstrap=False, max_depth=15, max_features=auto, min_samples_leaf=1, min_samples_split=2, n_estimators=20; total time=   3.1s\n",
      "[CV] END bootstrap=False, max_depth=15, max_features=auto, min_samples_leaf=1, min_samples_split=2, n_estimators=30; total time=   4.7s\n",
      "[CV] END bootstrap=False, max_depth=15, max_features=auto, min_samples_leaf=1, min_samples_split=2, n_estimators=30; total time=   4.6s\n",
      "[CV] END bootstrap=False, max_depth=15, max_features=auto, min_samples_leaf=1, min_samples_split=2, n_estimators=30; total time=   5.1s\n",
      "[CV] END bootstrap=False, max_depth=15, max_features=auto, min_samples_leaf=1, min_samples_split=2, n_estimators=30; total time=   4.7s\n",
      "[CV] END bootstrap=False, max_depth=15, max_features=auto, min_samples_leaf=1, min_samples_split=2, n_estimators=30; total time=   4.7s\n",
      "[CV] END bootstrap=False, max_depth=15, max_features=auto, min_samples_leaf=1, min_samples_split=5, n_estimators=10; total time=   1.6s\n",
      "[CV] END bootstrap=False, max_depth=15, max_features=auto, min_samples_leaf=1, min_samples_split=5, n_estimators=10; total time=   1.5s\n",
      "[CV] END bootstrap=False, max_depth=15, max_features=auto, min_samples_leaf=1, min_samples_split=5, n_estimators=10; total time=   1.6s\n",
      "[CV] END bootstrap=False, max_depth=15, max_features=auto, min_samples_leaf=1, min_samples_split=5, n_estimators=10; total time=   1.5s\n",
      "[CV] END bootstrap=False, max_depth=15, max_features=auto, min_samples_leaf=1, min_samples_split=5, n_estimators=10; total time=   1.6s\n",
      "[CV] END bootstrap=False, max_depth=15, max_features=auto, min_samples_leaf=1, min_samples_split=5, n_estimators=20; total time=   3.1s\n",
      "[CV] END bootstrap=False, max_depth=15, max_features=auto, min_samples_leaf=1, min_samples_split=5, n_estimators=20; total time=   3.0s\n",
      "[CV] END bootstrap=False, max_depth=15, max_features=auto, min_samples_leaf=1, min_samples_split=5, n_estimators=20; total time=   3.1s\n",
      "[CV] END bootstrap=False, max_depth=15, max_features=auto, min_samples_leaf=1, min_samples_split=5, n_estimators=20; total time=   3.1s\n",
      "[CV] END bootstrap=False, max_depth=15, max_features=auto, min_samples_leaf=1, min_samples_split=5, n_estimators=20; total time=   3.1s\n",
      "[CV] END bootstrap=False, max_depth=15, max_features=auto, min_samples_leaf=1, min_samples_split=5, n_estimators=30; total time=   4.6s\n",
      "[CV] END bootstrap=False, max_depth=15, max_features=auto, min_samples_leaf=1, min_samples_split=5, n_estimators=30; total time=   4.6s\n",
      "[CV] END bootstrap=False, max_depth=15, max_features=auto, min_samples_leaf=1, min_samples_split=5, n_estimators=30; total time=   4.6s\n",
      "[CV] END bootstrap=False, max_depth=15, max_features=auto, min_samples_leaf=1, min_samples_split=5, n_estimators=30; total time=   4.6s\n",
      "[CV] END bootstrap=False, max_depth=15, max_features=auto, min_samples_leaf=1, min_samples_split=5, n_estimators=30; total time=   4.6s\n",
      "[CV] END bootstrap=False, max_depth=15, max_features=auto, min_samples_leaf=1, min_samples_split=10, n_estimators=10; total time=   1.7s\n",
      "[CV] END bootstrap=False, max_depth=15, max_features=auto, min_samples_leaf=1, min_samples_split=10, n_estimators=10; total time=   1.6s\n",
      "[CV] END bootstrap=False, max_depth=15, max_features=auto, min_samples_leaf=1, min_samples_split=10, n_estimators=10; total time=   1.7s\n",
      "[CV] END bootstrap=False, max_depth=15, max_features=auto, min_samples_leaf=1, min_samples_split=10, n_estimators=10; total time=   1.6s\n",
      "[CV] END bootstrap=False, max_depth=15, max_features=auto, min_samples_leaf=1, min_samples_split=10, n_estimators=10; total time=   1.6s\n",
      "[CV] END bootstrap=False, max_depth=15, max_features=auto, min_samples_leaf=1, min_samples_split=10, n_estimators=20; total time=   3.1s\n",
      "[CV] END bootstrap=False, max_depth=15, max_features=auto, min_samples_leaf=1, min_samples_split=10, n_estimators=20; total time=   3.2s\n",
      "[CV] END bootstrap=False, max_depth=15, max_features=auto, min_samples_leaf=1, min_samples_split=10, n_estimators=20; total time=   3.1s\n",
      "[CV] END bootstrap=False, max_depth=15, max_features=auto, min_samples_leaf=1, min_samples_split=10, n_estimators=20; total time=   3.1s\n",
      "[CV] END bootstrap=False, max_depth=15, max_features=auto, min_samples_leaf=1, min_samples_split=10, n_estimators=20; total time=   3.1s\n",
      "[CV] END bootstrap=False, max_depth=15, max_features=auto, min_samples_leaf=1, min_samples_split=10, n_estimators=30; total time=   5.0s\n",
      "[CV] END bootstrap=False, max_depth=15, max_features=auto, min_samples_leaf=1, min_samples_split=10, n_estimators=30; total time=   4.7s\n",
      "[CV] END bootstrap=False, max_depth=15, max_features=auto, min_samples_leaf=1, min_samples_split=10, n_estimators=30; total time=   4.6s\n",
      "[CV] END bootstrap=False, max_depth=15, max_features=auto, min_samples_leaf=1, min_samples_split=10, n_estimators=30; total time=   4.6s\n",
      "[CV] END bootstrap=False, max_depth=15, max_features=auto, min_samples_leaf=1, min_samples_split=10, n_estimators=30; total time=   4.6s\n",
      "[CV] END bootstrap=False, max_depth=15, max_features=auto, min_samples_leaf=5, min_samples_split=2, n_estimators=10; total time=   1.5s\n",
      "[CV] END bootstrap=False, max_depth=15, max_features=auto, min_samples_leaf=5, min_samples_split=2, n_estimators=10; total time=   1.5s\n",
      "[CV] END bootstrap=False, max_depth=15, max_features=auto, min_samples_leaf=5, min_samples_split=2, n_estimators=10; total time=   1.5s\n",
      "[CV] END bootstrap=False, max_depth=15, max_features=auto, min_samples_leaf=5, min_samples_split=2, n_estimators=10; total time=   1.5s\n",
      "[CV] END bootstrap=False, max_depth=15, max_features=auto, min_samples_leaf=5, min_samples_split=2, n_estimators=10; total time=   1.6s\n",
      "[CV] END bootstrap=False, max_depth=15, max_features=auto, min_samples_leaf=5, min_samples_split=2, n_estimators=20; total time=   3.0s\n",
      "[CV] END bootstrap=False, max_depth=15, max_features=auto, min_samples_leaf=5, min_samples_split=2, n_estimators=20; total time=   3.0s\n",
      "[CV] END bootstrap=False, max_depth=15, max_features=auto, min_samples_leaf=5, min_samples_split=2, n_estimators=20; total time=   3.0s\n",
      "[CV] END bootstrap=False, max_depth=15, max_features=auto, min_samples_leaf=5, min_samples_split=2, n_estimators=20; total time=   3.1s\n",
      "[CV] END bootstrap=False, max_depth=15, max_features=auto, min_samples_leaf=5, min_samples_split=2, n_estimators=20; total time=   3.0s\n",
      "[CV] END bootstrap=False, max_depth=15, max_features=auto, min_samples_leaf=5, min_samples_split=2, n_estimators=30; total time=   4.5s\n",
      "[CV] END bootstrap=False, max_depth=15, max_features=auto, min_samples_leaf=5, min_samples_split=2, n_estimators=30; total time=   4.5s\n",
      "[CV] END bootstrap=False, max_depth=15, max_features=auto, min_samples_leaf=5, min_samples_split=2, n_estimators=30; total time=   4.5s\n",
      "[CV] END bootstrap=False, max_depth=15, max_features=auto, min_samples_leaf=5, min_samples_split=2, n_estimators=30; total time=   4.5s\n",
      "[CV] END bootstrap=False, max_depth=15, max_features=auto, min_samples_leaf=5, min_samples_split=2, n_estimators=30; total time=   4.5s\n",
      "[CV] END bootstrap=False, max_depth=15, max_features=auto, min_samples_leaf=5, min_samples_split=5, n_estimators=10; total time=   1.5s\n",
      "[CV] END bootstrap=False, max_depth=15, max_features=auto, min_samples_leaf=5, min_samples_split=5, n_estimators=10; total time=   1.5s\n",
      "[CV] END bootstrap=False, max_depth=15, max_features=auto, min_samples_leaf=5, min_samples_split=5, n_estimators=10; total time=   1.5s\n",
      "[CV] END bootstrap=False, max_depth=15, max_features=auto, min_samples_leaf=5, min_samples_split=5, n_estimators=10; total time=   1.5s\n",
      "[CV] END bootstrap=False, max_depth=15, max_features=auto, min_samples_leaf=5, min_samples_split=5, n_estimators=10; total time=   1.5s\n",
      "[CV] END bootstrap=False, max_depth=15, max_features=auto, min_samples_leaf=5, min_samples_split=5, n_estimators=20; total time=   3.0s\n",
      "[CV] END bootstrap=False, max_depth=15, max_features=auto, min_samples_leaf=5, min_samples_split=5, n_estimators=20; total time=   3.0s\n",
      "[CV] END bootstrap=False, max_depth=15, max_features=auto, min_samples_leaf=5, min_samples_split=5, n_estimators=20; total time=   3.0s\n",
      "[CV] END bootstrap=False, max_depth=15, max_features=auto, min_samples_leaf=5, min_samples_split=5, n_estimators=20; total time=   3.0s\n",
      "[CV] END bootstrap=False, max_depth=15, max_features=auto, min_samples_leaf=5, min_samples_split=5, n_estimators=20; total time=   3.0s\n",
      "[CV] END bootstrap=False, max_depth=15, max_features=auto, min_samples_leaf=5, min_samples_split=5, n_estimators=30; total time=   4.8s\n",
      "[CV] END bootstrap=False, max_depth=15, max_features=auto, min_samples_leaf=5, min_samples_split=5, n_estimators=30; total time=   4.7s\n",
      "[CV] END bootstrap=False, max_depth=15, max_features=auto, min_samples_leaf=5, min_samples_split=5, n_estimators=30; total time=   4.5s\n",
      "[CV] END bootstrap=False, max_depth=15, max_features=auto, min_samples_leaf=5, min_samples_split=5, n_estimators=30; total time=   4.5s\n",
      "[CV] END bootstrap=False, max_depth=15, max_features=auto, min_samples_leaf=5, min_samples_split=5, n_estimators=30; total time=   4.9s\n",
      "[CV] END bootstrap=False, max_depth=15, max_features=auto, min_samples_leaf=5, min_samples_split=10, n_estimators=10; total time=   1.7s\n",
      "[CV] END bootstrap=False, max_depth=15, max_features=auto, min_samples_leaf=5, min_samples_split=10, n_estimators=10; total time=   1.8s\n",
      "[CV] END bootstrap=False, max_depth=15, max_features=auto, min_samples_leaf=5, min_samples_split=10, n_estimators=10; total time=   1.7s\n",
      "[CV] END bootstrap=False, max_depth=15, max_features=auto, min_samples_leaf=5, min_samples_split=10, n_estimators=10; total time=   1.7s\n",
      "[CV] END bootstrap=False, max_depth=15, max_features=auto, min_samples_leaf=5, min_samples_split=10, n_estimators=10; total time=   1.8s\n",
      "[CV] END bootstrap=False, max_depth=15, max_features=auto, min_samples_leaf=5, min_samples_split=10, n_estimators=20; total time=   3.1s\n",
      "[CV] END bootstrap=False, max_depth=15, max_features=auto, min_samples_leaf=5, min_samples_split=10, n_estimators=20; total time=   3.4s\n",
      "[CV] END bootstrap=False, max_depth=15, max_features=auto, min_samples_leaf=5, min_samples_split=10, n_estimators=20; total time=   4.5s\n",
      "[CV] END bootstrap=False, max_depth=15, max_features=auto, min_samples_leaf=5, min_samples_split=10, n_estimators=20; total time=   4.6s\n",
      "[CV] END bootstrap=False, max_depth=15, max_features=auto, min_samples_leaf=5, min_samples_split=10, n_estimators=20; total time=   4.0s\n",
      "[CV] END bootstrap=False, max_depth=15, max_features=auto, min_samples_leaf=5, min_samples_split=10, n_estimators=30; total time=   4.6s\n",
      "[CV] END bootstrap=False, max_depth=15, max_features=auto, min_samples_leaf=5, min_samples_split=10, n_estimators=30; total time=   4.5s\n",
      "[CV] END bootstrap=False, max_depth=15, max_features=auto, min_samples_leaf=5, min_samples_split=10, n_estimators=30; total time=   5.6s\n",
      "[CV] END bootstrap=False, max_depth=15, max_features=auto, min_samples_leaf=5, min_samples_split=10, n_estimators=30; total time=   5.2s\n",
      "[CV] END bootstrap=False, max_depth=15, max_features=auto, min_samples_leaf=5, min_samples_split=10, n_estimators=30; total time=   4.8s\n",
      "[CV] END bootstrap=False, max_depth=15, max_features=auto, min_samples_leaf=10, min_samples_split=2, n_estimators=10; total time=   1.5s\n",
      "[CV] END bootstrap=False, max_depth=15, max_features=auto, min_samples_leaf=10, min_samples_split=2, n_estimators=10; total time=   1.6s\n",
      "[CV] END bootstrap=False, max_depth=15, max_features=auto, min_samples_leaf=10, min_samples_split=2, n_estimators=10; total time=   1.5s\n",
      "[CV] END bootstrap=False, max_depth=15, max_features=auto, min_samples_leaf=10, min_samples_split=2, n_estimators=10; total time=   1.5s\n",
      "[CV] END bootstrap=False, max_depth=15, max_features=auto, min_samples_leaf=10, min_samples_split=2, n_estimators=10; total time=   2.0s\n",
      "[CV] END bootstrap=False, max_depth=15, max_features=auto, min_samples_leaf=10, min_samples_split=2, n_estimators=20; total time=   3.6s\n",
      "[CV] END bootstrap=False, max_depth=15, max_features=auto, min_samples_leaf=10, min_samples_split=2, n_estimators=20; total time=   3.0s\n",
      "[CV] END bootstrap=False, max_depth=15, max_features=auto, min_samples_leaf=10, min_samples_split=2, n_estimators=20; total time=   3.4s\n",
      "[CV] END bootstrap=False, max_depth=15, max_features=auto, min_samples_leaf=10, min_samples_split=2, n_estimators=20; total time=   3.0s\n",
      "[CV] END bootstrap=False, max_depth=15, max_features=auto, min_samples_leaf=10, min_samples_split=2, n_estimators=20; total time=   3.0s\n",
      "[CV] END bootstrap=False, max_depth=15, max_features=auto, min_samples_leaf=10, min_samples_split=2, n_estimators=30; total time=   4.6s\n",
      "[CV] END bootstrap=False, max_depth=15, max_features=auto, min_samples_leaf=10, min_samples_split=2, n_estimators=30; total time=   4.4s\n",
      "[CV] END bootstrap=False, max_depth=15, max_features=auto, min_samples_leaf=10, min_samples_split=2, n_estimators=30; total time=   4.5s\n",
      "[CV] END bootstrap=False, max_depth=15, max_features=auto, min_samples_leaf=10, min_samples_split=2, n_estimators=30; total time=   4.6s\n",
      "[CV] END bootstrap=False, max_depth=15, max_features=auto, min_samples_leaf=10, min_samples_split=2, n_estimators=30; total time=   4.6s\n",
      "[CV] END bootstrap=False, max_depth=15, max_features=auto, min_samples_leaf=10, min_samples_split=5, n_estimators=10; total time=   1.8s\n",
      "[CV] END bootstrap=False, max_depth=15, max_features=auto, min_samples_leaf=10, min_samples_split=5, n_estimators=10; total time=   1.9s\n",
      "[CV] END bootstrap=False, max_depth=15, max_features=auto, min_samples_leaf=10, min_samples_split=5, n_estimators=10; total time=   1.6s\n",
      "[CV] END bootstrap=False, max_depth=15, max_features=auto, min_samples_leaf=10, min_samples_split=5, n_estimators=10; total time=   1.7s\n",
      "[CV] END bootstrap=False, max_depth=15, max_features=auto, min_samples_leaf=10, min_samples_split=5, n_estimators=10; total time=   1.6s\n",
      "[CV] END bootstrap=False, max_depth=15, max_features=auto, min_samples_leaf=10, min_samples_split=5, n_estimators=20; total time=   3.4s\n",
      "[CV] END bootstrap=False, max_depth=15, max_features=auto, min_samples_leaf=10, min_samples_split=5, n_estimators=20; total time=   3.1s\n",
      "[CV] END bootstrap=False, max_depth=15, max_features=auto, min_samples_leaf=10, min_samples_split=5, n_estimators=20; total time=   3.1s\n",
      "[CV] END bootstrap=False, max_depth=15, max_features=auto, min_samples_leaf=10, min_samples_split=5, n_estimators=20; total time=   3.1s\n",
      "[CV] END bootstrap=False, max_depth=15, max_features=auto, min_samples_leaf=10, min_samples_split=5, n_estimators=20; total time=   3.0s\n",
      "[CV] END bootstrap=False, max_depth=15, max_features=auto, min_samples_leaf=10, min_samples_split=5, n_estimators=30; total time=   4.5s\n",
      "[CV] END bootstrap=False, max_depth=15, max_features=auto, min_samples_leaf=10, min_samples_split=5, n_estimators=30; total time=   4.8s\n",
      "[CV] END bootstrap=False, max_depth=15, max_features=auto, min_samples_leaf=10, min_samples_split=5, n_estimators=30; total time=   4.6s\n",
      "[CV] END bootstrap=False, max_depth=15, max_features=auto, min_samples_leaf=10, min_samples_split=5, n_estimators=30; total time=   4.8s\n",
      "[CV] END bootstrap=False, max_depth=15, max_features=auto, min_samples_leaf=10, min_samples_split=5, n_estimators=30; total time=   4.5s\n",
      "[CV] END bootstrap=False, max_depth=15, max_features=auto, min_samples_leaf=10, min_samples_split=10, n_estimators=10; total time=   1.5s\n",
      "[CV] END bootstrap=False, max_depth=15, max_features=auto, min_samples_leaf=10, min_samples_split=10, n_estimators=10; total time=   1.6s\n",
      "[CV] END bootstrap=False, max_depth=15, max_features=auto, min_samples_leaf=10, min_samples_split=10, n_estimators=10; total time=   1.5s\n",
      "[CV] END bootstrap=False, max_depth=15, max_features=auto, min_samples_leaf=10, min_samples_split=10, n_estimators=10; total time=   1.5s\n",
      "[CV] END bootstrap=False, max_depth=15, max_features=auto, min_samples_leaf=10, min_samples_split=10, n_estimators=10; total time=   1.5s\n",
      "[CV] END bootstrap=False, max_depth=15, max_features=auto, min_samples_leaf=10, min_samples_split=10, n_estimators=20; total time=   3.0s\n",
      "[CV] END bootstrap=False, max_depth=15, max_features=auto, min_samples_leaf=10, min_samples_split=10, n_estimators=20; total time=   3.0s\n",
      "[CV] END bootstrap=False, max_depth=15, max_features=auto, min_samples_leaf=10, min_samples_split=10, n_estimators=20; total time=   3.0s\n",
      "[CV] END bootstrap=False, max_depth=15, max_features=auto, min_samples_leaf=10, min_samples_split=10, n_estimators=20; total time=   3.0s\n",
      "[CV] END bootstrap=False, max_depth=15, max_features=auto, min_samples_leaf=10, min_samples_split=10, n_estimators=20; total time=   3.0s\n",
      "[CV] END bootstrap=False, max_depth=15, max_features=auto, min_samples_leaf=10, min_samples_split=10, n_estimators=30; total time=   4.5s\n",
      "[CV] END bootstrap=False, max_depth=15, max_features=auto, min_samples_leaf=10, min_samples_split=10, n_estimators=30; total time=   4.4s\n",
      "[CV] END bootstrap=False, max_depth=15, max_features=auto, min_samples_leaf=10, min_samples_split=10, n_estimators=30; total time=   4.6s\n",
      "[CV] END bootstrap=False, max_depth=15, max_features=auto, min_samples_leaf=10, min_samples_split=10, n_estimators=30; total time=   4.5s\n",
      "[CV] END bootstrap=False, max_depth=15, max_features=auto, min_samples_leaf=10, min_samples_split=10, n_estimators=30; total time=   4.7s\n",
      "[CV] END bootstrap=False, max_depth=25, max_features=auto, min_samples_leaf=1, min_samples_split=2, n_estimators=10; total time=   2.4s\n",
      "[CV] END bootstrap=False, max_depth=25, max_features=auto, min_samples_leaf=1, min_samples_split=2, n_estimators=10; total time=   2.4s\n",
      "[CV] END bootstrap=False, max_depth=25, max_features=auto, min_samples_leaf=1, min_samples_split=2, n_estimators=10; total time=   2.4s\n",
      "[CV] END bootstrap=False, max_depth=25, max_features=auto, min_samples_leaf=1, min_samples_split=2, n_estimators=10; total time=   2.6s\n",
      "[CV] END bootstrap=False, max_depth=25, max_features=auto, min_samples_leaf=1, min_samples_split=2, n_estimators=10; total time=   2.4s\n",
      "[CV] END bootstrap=False, max_depth=25, max_features=auto, min_samples_leaf=1, min_samples_split=2, n_estimators=20; total time=   4.9s\n",
      "[CV] END bootstrap=False, max_depth=25, max_features=auto, min_samples_leaf=1, min_samples_split=2, n_estimators=20; total time=   4.9s\n",
      "[CV] END bootstrap=False, max_depth=25, max_features=auto, min_samples_leaf=1, min_samples_split=2, n_estimators=20; total time=   4.8s\n",
      "[CV] END bootstrap=False, max_depth=25, max_features=auto, min_samples_leaf=1, min_samples_split=2, n_estimators=20; total time=   5.1s\n",
      "[CV] END bootstrap=False, max_depth=25, max_features=auto, min_samples_leaf=1, min_samples_split=2, n_estimators=20; total time=   4.9s\n",
      "[CV] END bootstrap=False, max_depth=25, max_features=auto, min_samples_leaf=1, min_samples_split=2, n_estimators=30; total time=   7.7s\n",
      "[CV] END bootstrap=False, max_depth=25, max_features=auto, min_samples_leaf=1, min_samples_split=2, n_estimators=30; total time=   7.2s\n",
      "[CV] END bootstrap=False, max_depth=25, max_features=auto, min_samples_leaf=1, min_samples_split=2, n_estimators=30; total time=   7.2s\n",
      "[CV] END bootstrap=False, max_depth=25, max_features=auto, min_samples_leaf=1, min_samples_split=2, n_estimators=30; total time=   7.2s\n",
      "[CV] END bootstrap=False, max_depth=25, max_features=auto, min_samples_leaf=1, min_samples_split=2, n_estimators=30; total time=   7.1s\n",
      "[CV] END bootstrap=False, max_depth=25, max_features=auto, min_samples_leaf=1, min_samples_split=5, n_estimators=10; total time=   2.1s\n",
      "[CV] END bootstrap=False, max_depth=25, max_features=auto, min_samples_leaf=1, min_samples_split=5, n_estimators=10; total time=   2.1s\n",
      "[CV] END bootstrap=False, max_depth=25, max_features=auto, min_samples_leaf=1, min_samples_split=5, n_estimators=10; total time=   2.1s\n",
      "[CV] END bootstrap=False, max_depth=25, max_features=auto, min_samples_leaf=1, min_samples_split=5, n_estimators=10; total time=   2.2s\n",
      "[CV] END bootstrap=False, max_depth=25, max_features=auto, min_samples_leaf=1, min_samples_split=5, n_estimators=10; total time=   2.2s\n",
      "[CV] END bootstrap=False, max_depth=25, max_features=auto, min_samples_leaf=1, min_samples_split=5, n_estimators=20; total time=   4.3s\n",
      "[CV] END bootstrap=False, max_depth=25, max_features=auto, min_samples_leaf=1, min_samples_split=5, n_estimators=20; total time=   4.3s\n",
      "[CV] END bootstrap=False, max_depth=25, max_features=auto, min_samples_leaf=1, min_samples_split=5, n_estimators=20; total time=   4.3s\n",
      "[CV] END bootstrap=False, max_depth=25, max_features=auto, min_samples_leaf=1, min_samples_split=5, n_estimators=20; total time=   4.3s\n",
      "[CV] END bootstrap=False, max_depth=25, max_features=auto, min_samples_leaf=1, min_samples_split=5, n_estimators=20; total time=   4.3s\n",
      "[CV] END bootstrap=False, max_depth=25, max_features=auto, min_samples_leaf=1, min_samples_split=5, n_estimators=30; total time=   9.4s\n",
      "[CV] END bootstrap=False, max_depth=25, max_features=auto, min_samples_leaf=1, min_samples_split=5, n_estimators=30; total time=   6.6s\n",
      "[CV] END bootstrap=False, max_depth=25, max_features=auto, min_samples_leaf=1, min_samples_split=5, n_estimators=30; total time=   9.2s\n",
      "[CV] END bootstrap=False, max_depth=25, max_features=auto, min_samples_leaf=1, min_samples_split=5, n_estimators=30; total time=   7.3s\n",
      "[CV] END bootstrap=False, max_depth=25, max_features=auto, min_samples_leaf=1, min_samples_split=5, n_estimators=30; total time=   6.8s\n",
      "[CV] END bootstrap=False, max_depth=25, max_features=auto, min_samples_leaf=1, min_samples_split=10, n_estimators=10; total time=   2.2s\n",
      "[CV] END bootstrap=False, max_depth=25, max_features=auto, min_samples_leaf=1, min_samples_split=10, n_estimators=10; total time=   2.0s\n",
      "[CV] END bootstrap=False, max_depth=25, max_features=auto, min_samples_leaf=1, min_samples_split=10, n_estimators=10; total time=   2.2s\n",
      "[CV] END bootstrap=False, max_depth=25, max_features=auto, min_samples_leaf=1, min_samples_split=10, n_estimators=10; total time=   2.1s\n",
      "[CV] END bootstrap=False, max_depth=25, max_features=auto, min_samples_leaf=1, min_samples_split=10, n_estimators=10; total time=   2.1s\n",
      "[CV] END bootstrap=False, max_depth=25, max_features=auto, min_samples_leaf=1, min_samples_split=10, n_estimators=20; total time=   4.1s\n",
      "[CV] END bootstrap=False, max_depth=25, max_features=auto, min_samples_leaf=1, min_samples_split=10, n_estimators=20; total time=   4.4s\n",
      "[CV] END bootstrap=False, max_depth=25, max_features=auto, min_samples_leaf=1, min_samples_split=10, n_estimators=20; total time=   4.0s\n",
      "[CV] END bootstrap=False, max_depth=25, max_features=auto, min_samples_leaf=1, min_samples_split=10, n_estimators=20; total time=   4.1s\n",
      "[CV] END bootstrap=False, max_depth=25, max_features=auto, min_samples_leaf=1, min_samples_split=10, n_estimators=20; total time=   5.8s\n",
      "[CV] END bootstrap=False, max_depth=25, max_features=auto, min_samples_leaf=1, min_samples_split=10, n_estimators=30; total time=   6.3s\n",
      "[CV] END bootstrap=False, max_depth=25, max_features=auto, min_samples_leaf=1, min_samples_split=10, n_estimators=30; total time=   6.1s\n",
      "[CV] END bootstrap=False, max_depth=25, max_features=auto, min_samples_leaf=1, min_samples_split=10, n_estimators=30; total time=   6.1s\n",
      "[CV] END bootstrap=False, max_depth=25, max_features=auto, min_samples_leaf=1, min_samples_split=10, n_estimators=30; total time=   5.9s\n",
      "[CV] END bootstrap=False, max_depth=25, max_features=auto, min_samples_leaf=1, min_samples_split=10, n_estimators=30; total time=   6.0s\n",
      "[CV] END bootstrap=False, max_depth=25, max_features=auto, min_samples_leaf=5, min_samples_split=2, n_estimators=10; total time=   1.9s\n",
      "[CV] END bootstrap=False, max_depth=25, max_features=auto, min_samples_leaf=5, min_samples_split=2, n_estimators=10; total time=   1.9s\n",
      "[CV] END bootstrap=False, max_depth=25, max_features=auto, min_samples_leaf=5, min_samples_split=2, n_estimators=10; total time=   1.9s\n",
      "[CV] END bootstrap=False, max_depth=25, max_features=auto, min_samples_leaf=5, min_samples_split=2, n_estimators=10; total time=   1.9s\n",
      "[CV] END bootstrap=False, max_depth=25, max_features=auto, min_samples_leaf=5, min_samples_split=2, n_estimators=10; total time=   1.9s\n",
      "[CV] END bootstrap=False, max_depth=25, max_features=auto, min_samples_leaf=5, min_samples_split=2, n_estimators=20; total time=   3.8s\n",
      "[CV] END bootstrap=False, max_depth=25, max_features=auto, min_samples_leaf=5, min_samples_split=2, n_estimators=20; total time=   3.8s\n",
      "[CV] END bootstrap=False, max_depth=25, max_features=auto, min_samples_leaf=5, min_samples_split=2, n_estimators=20; total time=   3.7s\n",
      "[CV] END bootstrap=False, max_depth=25, max_features=auto, min_samples_leaf=5, min_samples_split=2, n_estimators=20; total time=   3.7s\n",
      "[CV] END bootstrap=False, max_depth=25, max_features=auto, min_samples_leaf=5, min_samples_split=2, n_estimators=20; total time=   4.0s\n",
      "[CV] END bootstrap=False, max_depth=25, max_features=auto, min_samples_leaf=5, min_samples_split=2, n_estimators=30; total time=   5.7s\n",
      "[CV] END bootstrap=False, max_depth=25, max_features=auto, min_samples_leaf=5, min_samples_split=2, n_estimators=30; total time=   5.8s\n",
      "[CV] END bootstrap=False, max_depth=25, max_features=auto, min_samples_leaf=5, min_samples_split=2, n_estimators=30; total time=   5.6s\n",
      "[CV] END bootstrap=False, max_depth=25, max_features=auto, min_samples_leaf=5, min_samples_split=2, n_estimators=30; total time=   5.7s\n",
      "[CV] END bootstrap=False, max_depth=25, max_features=auto, min_samples_leaf=5, min_samples_split=2, n_estimators=30; total time=   5.9s\n",
      "[CV] END bootstrap=False, max_depth=25, max_features=auto, min_samples_leaf=5, min_samples_split=5, n_estimators=10; total time=   2.1s\n",
      "[CV] END bootstrap=False, max_depth=25, max_features=auto, min_samples_leaf=5, min_samples_split=5, n_estimators=10; total time=   2.0s\n",
      "[CV] END bootstrap=False, max_depth=25, max_features=auto, min_samples_leaf=5, min_samples_split=5, n_estimators=10; total time=   2.0s\n",
      "[CV] END bootstrap=False, max_depth=25, max_features=auto, min_samples_leaf=5, min_samples_split=5, n_estimators=10; total time=   2.0s\n",
      "[CV] END bootstrap=False, max_depth=25, max_features=auto, min_samples_leaf=5, min_samples_split=5, n_estimators=10; total time=   3.6s\n",
      "[CV] END bootstrap=False, max_depth=25, max_features=auto, min_samples_leaf=5, min_samples_split=5, n_estimators=20; total time=   4.9s\n",
      "[CV] END bootstrap=False, max_depth=25, max_features=auto, min_samples_leaf=5, min_samples_split=5, n_estimators=20; total time=   4.2s\n",
      "[CV] END bootstrap=False, max_depth=25, max_features=auto, min_samples_leaf=5, min_samples_split=5, n_estimators=20; total time=   4.1s\n",
      "[CV] END bootstrap=False, max_depth=25, max_features=auto, min_samples_leaf=5, min_samples_split=5, n_estimators=20; total time=   4.7s\n",
      "[CV] END bootstrap=False, max_depth=25, max_features=auto, min_samples_leaf=5, min_samples_split=5, n_estimators=20; total time=   4.7s\n",
      "[CV] END bootstrap=False, max_depth=25, max_features=auto, min_samples_leaf=5, min_samples_split=5, n_estimators=30; total time=   5.8s\n",
      "[CV] END bootstrap=False, max_depth=25, max_features=auto, min_samples_leaf=5, min_samples_split=5, n_estimators=30; total time=   5.9s\n",
      "[CV] END bootstrap=False, max_depth=25, max_features=auto, min_samples_leaf=5, min_samples_split=5, n_estimators=30; total time=   5.7s\n",
      "[CV] END bootstrap=False, max_depth=25, max_features=auto, min_samples_leaf=5, min_samples_split=5, n_estimators=30; total time=   5.8s\n",
      "[CV] END bootstrap=False, max_depth=25, max_features=auto, min_samples_leaf=5, min_samples_split=5, n_estimators=30; total time=   5.7s\n",
      "[CV] END bootstrap=False, max_depth=25, max_features=auto, min_samples_leaf=5, min_samples_split=10, n_estimators=10; total time=   1.9s\n",
      "[CV] END bootstrap=False, max_depth=25, max_features=auto, min_samples_leaf=5, min_samples_split=10, n_estimators=10; total time=   1.9s\n",
      "[CV] END bootstrap=False, max_depth=25, max_features=auto, min_samples_leaf=5, min_samples_split=10, n_estimators=10; total time=   1.9s\n",
      "[CV] END bootstrap=False, max_depth=25, max_features=auto, min_samples_leaf=5, min_samples_split=10, n_estimators=10; total time=   1.9s\n",
      "[CV] END bootstrap=False, max_depth=25, max_features=auto, min_samples_leaf=5, min_samples_split=10, n_estimators=10; total time=   2.0s\n",
      "[CV] END bootstrap=False, max_depth=25, max_features=auto, min_samples_leaf=5, min_samples_split=10, n_estimators=20; total time=   4.0s\n",
      "[CV] END bootstrap=False, max_depth=25, max_features=auto, min_samples_leaf=5, min_samples_split=10, n_estimators=20; total time=   3.9s\n",
      "[CV] END bootstrap=False, max_depth=25, max_features=auto, min_samples_leaf=5, min_samples_split=10, n_estimators=20; total time=   3.8s\n",
      "[CV] END bootstrap=False, max_depth=25, max_features=auto, min_samples_leaf=5, min_samples_split=10, n_estimators=20; total time=   3.8s\n",
      "[CV] END bootstrap=False, max_depth=25, max_features=auto, min_samples_leaf=5, min_samples_split=10, n_estimators=20; total time=   5.0s\n",
      "[CV] END bootstrap=False, max_depth=25, max_features=auto, min_samples_leaf=5, min_samples_split=10, n_estimators=30; total time=   7.9s\n",
      "[CV] END bootstrap=False, max_depth=25, max_features=auto, min_samples_leaf=5, min_samples_split=10, n_estimators=30; total time=   6.0s\n",
      "[CV] END bootstrap=False, max_depth=25, max_features=auto, min_samples_leaf=5, min_samples_split=10, n_estimators=30; total time=   6.0s\n",
      "[CV] END bootstrap=False, max_depth=25, max_features=auto, min_samples_leaf=5, min_samples_split=10, n_estimators=30; total time=   5.6s\n",
      "[CV] END bootstrap=False, max_depth=25, max_features=auto, min_samples_leaf=5, min_samples_split=10, n_estimators=30; total time=   6.2s\n",
      "[CV] END bootstrap=False, max_depth=25, max_features=auto, min_samples_leaf=10, min_samples_split=2, n_estimators=10; total time=   1.9s\n",
      "[CV] END bootstrap=False, max_depth=25, max_features=auto, min_samples_leaf=10, min_samples_split=2, n_estimators=10; total time=   1.8s\n",
      "[CV] END bootstrap=False, max_depth=25, max_features=auto, min_samples_leaf=10, min_samples_split=2, n_estimators=10; total time=   1.7s\n",
      "[CV] END bootstrap=False, max_depth=25, max_features=auto, min_samples_leaf=10, min_samples_split=2, n_estimators=10; total time=   1.7s\n",
      "[CV] END bootstrap=False, max_depth=25, max_features=auto, min_samples_leaf=10, min_samples_split=2, n_estimators=10; total time=   1.8s\n",
      "[CV] END bootstrap=False, max_depth=25, max_features=auto, min_samples_leaf=10, min_samples_split=2, n_estimators=20; total time=   3.5s\n",
      "[CV] END bootstrap=False, max_depth=25, max_features=auto, min_samples_leaf=10, min_samples_split=2, n_estimators=20; total time=   3.9s\n",
      "[CV] END bootstrap=False, max_depth=25, max_features=auto, min_samples_leaf=10, min_samples_split=2, n_estimators=20; total time=   3.9s\n",
      "[CV] END bootstrap=False, max_depth=25, max_features=auto, min_samples_leaf=10, min_samples_split=2, n_estimators=20; total time=   4.0s\n",
      "[CV] END bootstrap=False, max_depth=25, max_features=auto, min_samples_leaf=10, min_samples_split=2, n_estimators=20; total time=   3.6s\n",
      "[CV] END bootstrap=False, max_depth=25, max_features=auto, min_samples_leaf=10, min_samples_split=2, n_estimators=30; total time=   5.3s\n",
      "[CV] END bootstrap=False, max_depth=25, max_features=auto, min_samples_leaf=10, min_samples_split=2, n_estimators=30; total time=   5.3s\n",
      "[CV] END bootstrap=False, max_depth=25, max_features=auto, min_samples_leaf=10, min_samples_split=2, n_estimators=30; total time=   5.2s\n",
      "[CV] END bootstrap=False, max_depth=25, max_features=auto, min_samples_leaf=10, min_samples_split=2, n_estimators=30; total time=   5.6s\n",
      "[CV] END bootstrap=False, max_depth=25, max_features=auto, min_samples_leaf=10, min_samples_split=2, n_estimators=30; total time=   6.7s\n",
      "[CV] END bootstrap=False, max_depth=25, max_features=auto, min_samples_leaf=10, min_samples_split=5, n_estimators=10; total time=   6.4s\n",
      "[CV] END bootstrap=False, max_depth=25, max_features=auto, min_samples_leaf=10, min_samples_split=5, n_estimators=10; total time=   4.0s\n",
      "[CV] END bootstrap=False, max_depth=25, max_features=auto, min_samples_leaf=10, min_samples_split=5, n_estimators=10; total time=   2.0s\n",
      "[CV] END bootstrap=False, max_depth=25, max_features=auto, min_samples_leaf=10, min_samples_split=5, n_estimators=10; total time=   2.0s\n",
      "[CV] END bootstrap=False, max_depth=25, max_features=auto, min_samples_leaf=10, min_samples_split=5, n_estimators=10; total time=   2.3s\n",
      "[CV] END bootstrap=False, max_depth=25, max_features=auto, min_samples_leaf=10, min_samples_split=5, n_estimators=20; total time=   4.2s\n",
      "[CV] END bootstrap=False, max_depth=25, max_features=auto, min_samples_leaf=10, min_samples_split=5, n_estimators=20; total time=   4.3s\n",
      "[CV] END bootstrap=False, max_depth=25, max_features=auto, min_samples_leaf=10, min_samples_split=5, n_estimators=20; total time=   4.6s\n",
      "[CV] END bootstrap=False, max_depth=25, max_features=auto, min_samples_leaf=10, min_samples_split=5, n_estimators=20; total time=   4.3s\n",
      "[CV] END bootstrap=False, max_depth=25, max_features=auto, min_samples_leaf=10, min_samples_split=5, n_estimators=20; total time=   3.9s\n",
      "[CV] END bootstrap=False, max_depth=25, max_features=auto, min_samples_leaf=10, min_samples_split=5, n_estimators=30; total time=   5.5s\n",
      "[CV] END bootstrap=False, max_depth=25, max_features=auto, min_samples_leaf=10, min_samples_split=5, n_estimators=30; total time=   5.6s\n",
      "[CV] END bootstrap=False, max_depth=25, max_features=auto, min_samples_leaf=10, min_samples_split=5, n_estimators=30; total time=   5.5s\n",
      "[CV] END bootstrap=False, max_depth=25, max_features=auto, min_samples_leaf=10, min_samples_split=5, n_estimators=30; total time=   5.8s\n",
      "[CV] END bootstrap=False, max_depth=25, max_features=auto, min_samples_leaf=10, min_samples_split=5, n_estimators=30; total time=   5.7s\n",
      "[CV] END bootstrap=False, max_depth=25, max_features=auto, min_samples_leaf=10, min_samples_split=10, n_estimators=10; total time=   2.1s\n",
      "[CV] END bootstrap=False, max_depth=25, max_features=auto, min_samples_leaf=10, min_samples_split=10, n_estimators=10; total time=   1.9s\n",
      "[CV] END bootstrap=False, max_depth=25, max_features=auto, min_samples_leaf=10, min_samples_split=10, n_estimators=10; total time=   1.8s\n",
      "[CV] END bootstrap=False, max_depth=25, max_features=auto, min_samples_leaf=10, min_samples_split=10, n_estimators=10; total time=   1.8s\n",
      "[CV] END bootstrap=False, max_depth=25, max_features=auto, min_samples_leaf=10, min_samples_split=10, n_estimators=10; total time=   1.8s\n",
      "[CV] END bootstrap=False, max_depth=25, max_features=auto, min_samples_leaf=10, min_samples_split=10, n_estimators=20; total time=   3.7s\n",
      "[CV] END bootstrap=False, max_depth=25, max_features=auto, min_samples_leaf=10, min_samples_split=10, n_estimators=20; total time=   3.7s\n",
      "[CV] END bootstrap=False, max_depth=25, max_features=auto, min_samples_leaf=10, min_samples_split=10, n_estimators=20; total time=   3.6s\n",
      "[CV] END bootstrap=False, max_depth=25, max_features=auto, min_samples_leaf=10, min_samples_split=10, n_estimators=20; total time=   3.9s\n",
      "[CV] END bootstrap=False, max_depth=25, max_features=auto, min_samples_leaf=10, min_samples_split=10, n_estimators=20; total time=   3.6s\n",
      "[CV] END bootstrap=False, max_depth=25, max_features=auto, min_samples_leaf=10, min_samples_split=10, n_estimators=30; total time=   5.9s\n",
      "[CV] END bootstrap=False, max_depth=25, max_features=auto, min_samples_leaf=10, min_samples_split=10, n_estimators=30; total time=   6.5s\n",
      "[CV] END bootstrap=False, max_depth=25, max_features=auto, min_samples_leaf=10, min_samples_split=10, n_estimators=30; total time=   7.4s\n",
      "[CV] END bootstrap=False, max_depth=25, max_features=auto, min_samples_leaf=10, min_samples_split=10, n_estimators=30; total time=   7.9s\n",
      "[CV] END bootstrap=False, max_depth=25, max_features=auto, min_samples_leaf=10, min_samples_split=10, n_estimators=30; total time=   5.7s\n",
      "{'bootstrap': False, 'max_depth': 10, 'max_features': 'auto', 'min_samples_leaf': 10, 'min_samples_split': 2, 'n_estimators': 20}\n"
     ]
    }
   ],
   "source": [
    "param_grid = {\n",
    "    'n_estimators': [10, 20, 30], \n",
    "    'max_depth': [10, 15, 25], \n",
    "    'max_features': ['auto'], \n",
    "    'min_samples_split':[2, 5, 10], \n",
    "    'min_samples_leaf':[1, 5, 10], \n",
    "    'bootstrap': [False]\n",
    "    \n",
    "}\n",
    "# run grid search over parameters using 5 fold CV verbose on \n",
    "grid_rf = GridSearchCV(em.RandomForestRegressor(random_state=rseed), param_grid, cv=5, verbose=2)\n",
    "grid_rf.fit(X_train_lnom.drop(columns=['usd_goal']), X_train_lnom['usd_goal'])\n",
    "print(grid_rf.best_params_)\n",
    "usd_goal_pred = grid_rf.predict(X_train_lnom.drop(columns=['usd_goal']))"
   ]
  },
  {
   "cell_type": "code",
   "execution_count": 17,
   "id": "79efa8ce-8f83-4833-8a85-0dd4ae50ed97",
   "metadata": {
    "collapsed": true,
    "jupyter": {
     "outputs_hidden": true
    },
    "tags": []
   },
   "outputs": [
    {
     "name": "stdout",
     "output_type": "stream",
     "text": [
      "Fitting 5 folds for each of 81 candidates, totalling 405 fits\n",
      "[CV] END bootstrap=False, max_depth=10, max_features=auto, min_samples_leaf=1, min_samples_split=2, n_estimators=10; total time=   1.8s\n",
      "[CV] END bootstrap=False, max_depth=10, max_features=auto, min_samples_leaf=1, min_samples_split=2, n_estimators=10; total time=   1.7s\n",
      "[CV] END bootstrap=False, max_depth=10, max_features=auto, min_samples_leaf=1, min_samples_split=2, n_estimators=10; total time=   1.9s\n"
     ]
    },
    {
     "ename": "KeyboardInterrupt",
     "evalue": "",
     "output_type": "error",
     "traceback": [
      "\u001b[0;31m---------------------------------------------------------------------------\u001b[0m",
      "\u001b[0;31mKeyboardInterrupt\u001b[0m                         Traceback (most recent call last)",
      "\u001b[0;32m<ipython-input-17-4c29bea5ae96>\u001b[0m in \u001b[0;36m<module>\u001b[0;34m\u001b[0m\n\u001b[1;32m     23\u001b[0m \u001b[0;31m# run grid search over parameters using 5 fold CV verbose on\u001b[0m\u001b[0;34m\u001b[0m\u001b[0;34m\u001b[0m\u001b[0;34m\u001b[0m\u001b[0m\n\u001b[1;32m     24\u001b[0m \u001b[0mgrid_rf\u001b[0m \u001b[0;34m=\u001b[0m \u001b[0mGridSearchCV\u001b[0m\u001b[0;34m(\u001b[0m\u001b[0mem\u001b[0m\u001b[0;34m.\u001b[0m\u001b[0mRandomForestClassifier\u001b[0m\u001b[0;34m(\u001b[0m\u001b[0mrandom_state\u001b[0m\u001b[0;34m=\u001b[0m\u001b[0mrseed\u001b[0m\u001b[0;34m,\u001b[0m \u001b[0mclass_weight\u001b[0m\u001b[0;34m=\u001b[0m\u001b[0;34m'balanced'\u001b[0m\u001b[0;34m)\u001b[0m\u001b[0;34m,\u001b[0m \u001b[0mparam_grid\u001b[0m\u001b[0;34m,\u001b[0m \u001b[0mcv\u001b[0m\u001b[0;34m=\u001b[0m\u001b[0;36m5\u001b[0m\u001b[0;34m,\u001b[0m \u001b[0mverbose\u001b[0m\u001b[0;34m=\u001b[0m\u001b[0;36m2\u001b[0m\u001b[0;34m)\u001b[0m\u001b[0;34m\u001b[0m\u001b[0;34m\u001b[0m\u001b[0m\n\u001b[0;32m---> 25\u001b[0;31m \u001b[0mgrid_rf\u001b[0m\u001b[0;34m.\u001b[0m\u001b[0mfit\u001b[0m\u001b[0;34m(\u001b[0m\u001b[0mX_train_lnom\u001b[0m\u001b[0;34m,\u001b[0m \u001b[0my_train\u001b[0m\u001b[0;34m)\u001b[0m\u001b[0;34m\u001b[0m\u001b[0;34m\u001b[0m\u001b[0m\n\u001b[0m\u001b[1;32m     26\u001b[0m \u001b[0mprint\u001b[0m\u001b[0;34m(\u001b[0m\u001b[0mgrid_rf\u001b[0m\u001b[0;34m.\u001b[0m\u001b[0mbest_params_\u001b[0m\u001b[0;34m)\u001b[0m\u001b[0;34m\u001b[0m\u001b[0;34m\u001b[0m\u001b[0m\n\u001b[1;32m     27\u001b[0m \u001b[0my_test_hat\u001b[0m \u001b[0;34m=\u001b[0m \u001b[0mgrid_rf\u001b[0m\u001b[0;34m.\u001b[0m\u001b[0mpredict\u001b[0m\u001b[0;34m(\u001b[0m\u001b[0mX_test_lnom\u001b[0m\u001b[0;34m)\u001b[0m\u001b[0;34m\u001b[0m\u001b[0;34m\u001b[0m\u001b[0m\n",
      "\u001b[0;32m~/anaconda3/envs/play/lib/python3.8/site-packages/sklearn/utils/validation.py\u001b[0m in \u001b[0;36minner_f\u001b[0;34m(*args, **kwargs)\u001b[0m\n\u001b[1;32m     61\u001b[0m             \u001b[0mextra_args\u001b[0m \u001b[0;34m=\u001b[0m \u001b[0mlen\u001b[0m\u001b[0;34m(\u001b[0m\u001b[0margs\u001b[0m\u001b[0;34m)\u001b[0m \u001b[0;34m-\u001b[0m \u001b[0mlen\u001b[0m\u001b[0;34m(\u001b[0m\u001b[0mall_args\u001b[0m\u001b[0;34m)\u001b[0m\u001b[0;34m\u001b[0m\u001b[0;34m\u001b[0m\u001b[0m\n\u001b[1;32m     62\u001b[0m             \u001b[0;32mif\u001b[0m \u001b[0mextra_args\u001b[0m \u001b[0;34m<=\u001b[0m \u001b[0;36m0\u001b[0m\u001b[0;34m:\u001b[0m\u001b[0;34m\u001b[0m\u001b[0;34m\u001b[0m\u001b[0m\n\u001b[0;32m---> 63\u001b[0;31m                 \u001b[0;32mreturn\u001b[0m \u001b[0mf\u001b[0m\u001b[0;34m(\u001b[0m\u001b[0;34m*\u001b[0m\u001b[0margs\u001b[0m\u001b[0;34m,\u001b[0m \u001b[0;34m**\u001b[0m\u001b[0mkwargs\u001b[0m\u001b[0;34m)\u001b[0m\u001b[0;34m\u001b[0m\u001b[0;34m\u001b[0m\u001b[0m\n\u001b[0m\u001b[1;32m     64\u001b[0m \u001b[0;34m\u001b[0m\u001b[0m\n\u001b[1;32m     65\u001b[0m             \u001b[0;31m# extra_args > 0\u001b[0m\u001b[0;34m\u001b[0m\u001b[0;34m\u001b[0m\u001b[0;34m\u001b[0m\u001b[0m\n",
      "\u001b[0;32m~/anaconda3/envs/play/lib/python3.8/site-packages/sklearn/model_selection/_search.py\u001b[0m in \u001b[0;36mfit\u001b[0;34m(self, X, y, groups, **fit_params)\u001b[0m\n\u001b[1;32m    839\u001b[0m                 \u001b[0;32mreturn\u001b[0m \u001b[0mresults\u001b[0m\u001b[0;34m\u001b[0m\u001b[0;34m\u001b[0m\u001b[0m\n\u001b[1;32m    840\u001b[0m \u001b[0;34m\u001b[0m\u001b[0m\n\u001b[0;32m--> 841\u001b[0;31m             \u001b[0mself\u001b[0m\u001b[0;34m.\u001b[0m\u001b[0m_run_search\u001b[0m\u001b[0;34m(\u001b[0m\u001b[0mevaluate_candidates\u001b[0m\u001b[0;34m)\u001b[0m\u001b[0;34m\u001b[0m\u001b[0;34m\u001b[0m\u001b[0m\n\u001b[0m\u001b[1;32m    842\u001b[0m \u001b[0;34m\u001b[0m\u001b[0m\n\u001b[1;32m    843\u001b[0m             \u001b[0;31m# multimetric is determined here because in the case of a callable\u001b[0m\u001b[0;34m\u001b[0m\u001b[0;34m\u001b[0m\u001b[0;34m\u001b[0m\u001b[0m\n",
      "\u001b[0;32m~/anaconda3/envs/play/lib/python3.8/site-packages/sklearn/model_selection/_search.py\u001b[0m in \u001b[0;36m_run_search\u001b[0;34m(self, evaluate_candidates)\u001b[0m\n\u001b[1;32m   1286\u001b[0m     \u001b[0;32mdef\u001b[0m \u001b[0m_run_search\u001b[0m\u001b[0;34m(\u001b[0m\u001b[0mself\u001b[0m\u001b[0;34m,\u001b[0m \u001b[0mevaluate_candidates\u001b[0m\u001b[0;34m)\u001b[0m\u001b[0;34m:\u001b[0m\u001b[0;34m\u001b[0m\u001b[0;34m\u001b[0m\u001b[0m\n\u001b[1;32m   1287\u001b[0m         \u001b[0;34m\"\"\"Search all candidates in param_grid\"\"\"\u001b[0m\u001b[0;34m\u001b[0m\u001b[0;34m\u001b[0m\u001b[0m\n\u001b[0;32m-> 1288\u001b[0;31m         \u001b[0mevaluate_candidates\u001b[0m\u001b[0;34m(\u001b[0m\u001b[0mParameterGrid\u001b[0m\u001b[0;34m(\u001b[0m\u001b[0mself\u001b[0m\u001b[0;34m.\u001b[0m\u001b[0mparam_grid\u001b[0m\u001b[0;34m)\u001b[0m\u001b[0;34m)\u001b[0m\u001b[0;34m\u001b[0m\u001b[0;34m\u001b[0m\u001b[0m\n\u001b[0m\u001b[1;32m   1289\u001b[0m \u001b[0;34m\u001b[0m\u001b[0m\n\u001b[1;32m   1290\u001b[0m \u001b[0;34m\u001b[0m\u001b[0m\n",
      "\u001b[0;32m~/anaconda3/envs/play/lib/python3.8/site-packages/sklearn/model_selection/_search.py\u001b[0m in \u001b[0;36mevaluate_candidates\u001b[0;34m(candidate_params, cv, more_results)\u001b[0m\n\u001b[1;32m    793\u001b[0m                               n_splits, n_candidates, n_candidates * n_splits))\n\u001b[1;32m    794\u001b[0m \u001b[0;34m\u001b[0m\u001b[0m\n\u001b[0;32m--> 795\u001b[0;31m                 out = parallel(delayed(_fit_and_score)(clone(base_estimator),\n\u001b[0m\u001b[1;32m    796\u001b[0m                                                        \u001b[0mX\u001b[0m\u001b[0;34m,\u001b[0m \u001b[0my\u001b[0m\u001b[0;34m,\u001b[0m\u001b[0;34m\u001b[0m\u001b[0;34m\u001b[0m\u001b[0m\n\u001b[1;32m    797\u001b[0m                                                        \u001b[0mtrain\u001b[0m\u001b[0;34m=\u001b[0m\u001b[0mtrain\u001b[0m\u001b[0;34m,\u001b[0m \u001b[0mtest\u001b[0m\u001b[0;34m=\u001b[0m\u001b[0mtest\u001b[0m\u001b[0;34m,\u001b[0m\u001b[0;34m\u001b[0m\u001b[0;34m\u001b[0m\u001b[0m\n",
      "\u001b[0;32m~/anaconda3/envs/play/lib/python3.8/site-packages/joblib/parallel.py\u001b[0m in \u001b[0;36m__call__\u001b[0;34m(self, iterable)\u001b[0m\n\u001b[1;32m   1042\u001b[0m                 \u001b[0mself\u001b[0m\u001b[0;34m.\u001b[0m\u001b[0m_iterating\u001b[0m \u001b[0;34m=\u001b[0m \u001b[0mself\u001b[0m\u001b[0;34m.\u001b[0m\u001b[0m_original_iterator\u001b[0m \u001b[0;32mis\u001b[0m \u001b[0;32mnot\u001b[0m \u001b[0;32mNone\u001b[0m\u001b[0;34m\u001b[0m\u001b[0;34m\u001b[0m\u001b[0m\n\u001b[1;32m   1043\u001b[0m \u001b[0;34m\u001b[0m\u001b[0m\n\u001b[0;32m-> 1044\u001b[0;31m             \u001b[0;32mwhile\u001b[0m \u001b[0mself\u001b[0m\u001b[0;34m.\u001b[0m\u001b[0mdispatch_one_batch\u001b[0m\u001b[0;34m(\u001b[0m\u001b[0miterator\u001b[0m\u001b[0;34m)\u001b[0m\u001b[0;34m:\u001b[0m\u001b[0;34m\u001b[0m\u001b[0;34m\u001b[0m\u001b[0m\n\u001b[0m\u001b[1;32m   1045\u001b[0m                 \u001b[0;32mpass\u001b[0m\u001b[0;34m\u001b[0m\u001b[0;34m\u001b[0m\u001b[0m\n\u001b[1;32m   1046\u001b[0m \u001b[0;34m\u001b[0m\u001b[0m\n",
      "\u001b[0;32m~/anaconda3/envs/play/lib/python3.8/site-packages/joblib/parallel.py\u001b[0m in \u001b[0;36mdispatch_one_batch\u001b[0;34m(self, iterator)\u001b[0m\n\u001b[1;32m    857\u001b[0m                 \u001b[0;32mreturn\u001b[0m \u001b[0;32mFalse\u001b[0m\u001b[0;34m\u001b[0m\u001b[0;34m\u001b[0m\u001b[0m\n\u001b[1;32m    858\u001b[0m             \u001b[0;32melse\u001b[0m\u001b[0;34m:\u001b[0m\u001b[0;34m\u001b[0m\u001b[0;34m\u001b[0m\u001b[0m\n\u001b[0;32m--> 859\u001b[0;31m                 \u001b[0mself\u001b[0m\u001b[0;34m.\u001b[0m\u001b[0m_dispatch\u001b[0m\u001b[0;34m(\u001b[0m\u001b[0mtasks\u001b[0m\u001b[0;34m)\u001b[0m\u001b[0;34m\u001b[0m\u001b[0;34m\u001b[0m\u001b[0m\n\u001b[0m\u001b[1;32m    860\u001b[0m                 \u001b[0;32mreturn\u001b[0m \u001b[0;32mTrue\u001b[0m\u001b[0;34m\u001b[0m\u001b[0;34m\u001b[0m\u001b[0m\n\u001b[1;32m    861\u001b[0m \u001b[0;34m\u001b[0m\u001b[0m\n",
      "\u001b[0;32m~/anaconda3/envs/play/lib/python3.8/site-packages/joblib/parallel.py\u001b[0m in \u001b[0;36m_dispatch\u001b[0;34m(self, batch)\u001b[0m\n\u001b[1;32m    775\u001b[0m         \u001b[0;32mwith\u001b[0m \u001b[0mself\u001b[0m\u001b[0;34m.\u001b[0m\u001b[0m_lock\u001b[0m\u001b[0;34m:\u001b[0m\u001b[0;34m\u001b[0m\u001b[0;34m\u001b[0m\u001b[0m\n\u001b[1;32m    776\u001b[0m             \u001b[0mjob_idx\u001b[0m \u001b[0;34m=\u001b[0m \u001b[0mlen\u001b[0m\u001b[0;34m(\u001b[0m\u001b[0mself\u001b[0m\u001b[0;34m.\u001b[0m\u001b[0m_jobs\u001b[0m\u001b[0;34m)\u001b[0m\u001b[0;34m\u001b[0m\u001b[0;34m\u001b[0m\u001b[0m\n\u001b[0;32m--> 777\u001b[0;31m             \u001b[0mjob\u001b[0m \u001b[0;34m=\u001b[0m \u001b[0mself\u001b[0m\u001b[0;34m.\u001b[0m\u001b[0m_backend\u001b[0m\u001b[0;34m.\u001b[0m\u001b[0mapply_async\u001b[0m\u001b[0;34m(\u001b[0m\u001b[0mbatch\u001b[0m\u001b[0;34m,\u001b[0m \u001b[0mcallback\u001b[0m\u001b[0;34m=\u001b[0m\u001b[0mcb\u001b[0m\u001b[0;34m)\u001b[0m\u001b[0;34m\u001b[0m\u001b[0;34m\u001b[0m\u001b[0m\n\u001b[0m\u001b[1;32m    778\u001b[0m             \u001b[0;31m# A job can complete so quickly than its callback is\u001b[0m\u001b[0;34m\u001b[0m\u001b[0;34m\u001b[0m\u001b[0;34m\u001b[0m\u001b[0m\n\u001b[1;32m    779\u001b[0m             \u001b[0;31m# called before we get here, causing self._jobs to\u001b[0m\u001b[0;34m\u001b[0m\u001b[0;34m\u001b[0m\u001b[0;34m\u001b[0m\u001b[0m\n",
      "\u001b[0;32m~/anaconda3/envs/play/lib/python3.8/site-packages/joblib/_parallel_backends.py\u001b[0m in \u001b[0;36mapply_async\u001b[0;34m(self, func, callback)\u001b[0m\n\u001b[1;32m    206\u001b[0m     \u001b[0;32mdef\u001b[0m \u001b[0mapply_async\u001b[0m\u001b[0;34m(\u001b[0m\u001b[0mself\u001b[0m\u001b[0;34m,\u001b[0m \u001b[0mfunc\u001b[0m\u001b[0;34m,\u001b[0m \u001b[0mcallback\u001b[0m\u001b[0;34m=\u001b[0m\u001b[0;32mNone\u001b[0m\u001b[0;34m)\u001b[0m\u001b[0;34m:\u001b[0m\u001b[0;34m\u001b[0m\u001b[0;34m\u001b[0m\u001b[0m\n\u001b[1;32m    207\u001b[0m         \u001b[0;34m\"\"\"Schedule a func to be run\"\"\"\u001b[0m\u001b[0;34m\u001b[0m\u001b[0;34m\u001b[0m\u001b[0m\n\u001b[0;32m--> 208\u001b[0;31m         \u001b[0mresult\u001b[0m \u001b[0;34m=\u001b[0m \u001b[0mImmediateResult\u001b[0m\u001b[0;34m(\u001b[0m\u001b[0mfunc\u001b[0m\u001b[0;34m)\u001b[0m\u001b[0;34m\u001b[0m\u001b[0;34m\u001b[0m\u001b[0m\n\u001b[0m\u001b[1;32m    209\u001b[0m         \u001b[0;32mif\u001b[0m \u001b[0mcallback\u001b[0m\u001b[0;34m:\u001b[0m\u001b[0;34m\u001b[0m\u001b[0;34m\u001b[0m\u001b[0m\n\u001b[1;32m    210\u001b[0m             \u001b[0mcallback\u001b[0m\u001b[0;34m(\u001b[0m\u001b[0mresult\u001b[0m\u001b[0;34m)\u001b[0m\u001b[0;34m\u001b[0m\u001b[0;34m\u001b[0m\u001b[0m\n",
      "\u001b[0;32m~/anaconda3/envs/play/lib/python3.8/site-packages/joblib/_parallel_backends.py\u001b[0m in \u001b[0;36m__init__\u001b[0;34m(self, batch)\u001b[0m\n\u001b[1;32m    570\u001b[0m         \u001b[0;31m# Don't delay the application, to avoid keeping the input\u001b[0m\u001b[0;34m\u001b[0m\u001b[0;34m\u001b[0m\u001b[0;34m\u001b[0m\u001b[0m\n\u001b[1;32m    571\u001b[0m         \u001b[0;31m# arguments in memory\u001b[0m\u001b[0;34m\u001b[0m\u001b[0;34m\u001b[0m\u001b[0;34m\u001b[0m\u001b[0m\n\u001b[0;32m--> 572\u001b[0;31m         \u001b[0mself\u001b[0m\u001b[0;34m.\u001b[0m\u001b[0mresults\u001b[0m \u001b[0;34m=\u001b[0m \u001b[0mbatch\u001b[0m\u001b[0;34m(\u001b[0m\u001b[0;34m)\u001b[0m\u001b[0;34m\u001b[0m\u001b[0;34m\u001b[0m\u001b[0m\n\u001b[0m\u001b[1;32m    573\u001b[0m \u001b[0;34m\u001b[0m\u001b[0m\n\u001b[1;32m    574\u001b[0m     \u001b[0;32mdef\u001b[0m \u001b[0mget\u001b[0m\u001b[0;34m(\u001b[0m\u001b[0mself\u001b[0m\u001b[0;34m)\u001b[0m\u001b[0;34m:\u001b[0m\u001b[0;34m\u001b[0m\u001b[0;34m\u001b[0m\u001b[0m\n",
      "\u001b[0;32m~/anaconda3/envs/play/lib/python3.8/site-packages/joblib/parallel.py\u001b[0m in \u001b[0;36m__call__\u001b[0;34m(self)\u001b[0m\n\u001b[1;32m    260\u001b[0m         \u001b[0;31m# change the default number of processes to -1\u001b[0m\u001b[0;34m\u001b[0m\u001b[0;34m\u001b[0m\u001b[0;34m\u001b[0m\u001b[0m\n\u001b[1;32m    261\u001b[0m         \u001b[0;32mwith\u001b[0m \u001b[0mparallel_backend\u001b[0m\u001b[0;34m(\u001b[0m\u001b[0mself\u001b[0m\u001b[0;34m.\u001b[0m\u001b[0m_backend\u001b[0m\u001b[0;34m,\u001b[0m \u001b[0mn_jobs\u001b[0m\u001b[0;34m=\u001b[0m\u001b[0mself\u001b[0m\u001b[0;34m.\u001b[0m\u001b[0m_n_jobs\u001b[0m\u001b[0;34m)\u001b[0m\u001b[0;34m:\u001b[0m\u001b[0;34m\u001b[0m\u001b[0;34m\u001b[0m\u001b[0m\n\u001b[0;32m--> 262\u001b[0;31m             return [func(*args, **kwargs)\n\u001b[0m\u001b[1;32m    263\u001b[0m                     for func, args, kwargs in self.items]\n\u001b[1;32m    264\u001b[0m \u001b[0;34m\u001b[0m\u001b[0m\n",
      "\u001b[0;32m~/anaconda3/envs/play/lib/python3.8/site-packages/joblib/parallel.py\u001b[0m in \u001b[0;36m<listcomp>\u001b[0;34m(.0)\u001b[0m\n\u001b[1;32m    260\u001b[0m         \u001b[0;31m# change the default number of processes to -1\u001b[0m\u001b[0;34m\u001b[0m\u001b[0;34m\u001b[0m\u001b[0;34m\u001b[0m\u001b[0m\n\u001b[1;32m    261\u001b[0m         \u001b[0;32mwith\u001b[0m \u001b[0mparallel_backend\u001b[0m\u001b[0;34m(\u001b[0m\u001b[0mself\u001b[0m\u001b[0;34m.\u001b[0m\u001b[0m_backend\u001b[0m\u001b[0;34m,\u001b[0m \u001b[0mn_jobs\u001b[0m\u001b[0;34m=\u001b[0m\u001b[0mself\u001b[0m\u001b[0;34m.\u001b[0m\u001b[0m_n_jobs\u001b[0m\u001b[0;34m)\u001b[0m\u001b[0;34m:\u001b[0m\u001b[0;34m\u001b[0m\u001b[0;34m\u001b[0m\u001b[0m\n\u001b[0;32m--> 262\u001b[0;31m             return [func(*args, **kwargs)\n\u001b[0m\u001b[1;32m    263\u001b[0m                     for func, args, kwargs in self.items]\n\u001b[1;32m    264\u001b[0m \u001b[0;34m\u001b[0m\u001b[0m\n",
      "\u001b[0;32m~/anaconda3/envs/play/lib/python3.8/site-packages/sklearn/utils/fixes.py\u001b[0m in \u001b[0;36m__call__\u001b[0;34m(self, *args, **kwargs)\u001b[0m\n\u001b[1;32m    220\u001b[0m     \u001b[0;32mdef\u001b[0m \u001b[0m__call__\u001b[0m\u001b[0;34m(\u001b[0m\u001b[0mself\u001b[0m\u001b[0;34m,\u001b[0m \u001b[0;34m*\u001b[0m\u001b[0margs\u001b[0m\u001b[0;34m,\u001b[0m \u001b[0;34m**\u001b[0m\u001b[0mkwargs\u001b[0m\u001b[0;34m)\u001b[0m\u001b[0;34m:\u001b[0m\u001b[0;34m\u001b[0m\u001b[0;34m\u001b[0m\u001b[0m\n\u001b[1;32m    221\u001b[0m         \u001b[0;32mwith\u001b[0m \u001b[0mconfig_context\u001b[0m\u001b[0;34m(\u001b[0m\u001b[0;34m**\u001b[0m\u001b[0mself\u001b[0m\u001b[0;34m.\u001b[0m\u001b[0mconfig\u001b[0m\u001b[0;34m)\u001b[0m\u001b[0;34m:\u001b[0m\u001b[0;34m\u001b[0m\u001b[0;34m\u001b[0m\u001b[0m\n\u001b[0;32m--> 222\u001b[0;31m             \u001b[0;32mreturn\u001b[0m \u001b[0mself\u001b[0m\u001b[0;34m.\u001b[0m\u001b[0mfunction\u001b[0m\u001b[0;34m(\u001b[0m\u001b[0;34m*\u001b[0m\u001b[0margs\u001b[0m\u001b[0;34m,\u001b[0m \u001b[0;34m**\u001b[0m\u001b[0mkwargs\u001b[0m\u001b[0;34m)\u001b[0m\u001b[0;34m\u001b[0m\u001b[0;34m\u001b[0m\u001b[0m\n\u001b[0m",
      "\u001b[0;32m~/anaconda3/envs/play/lib/python3.8/site-packages/sklearn/model_selection/_validation.py\u001b[0m in \u001b[0;36m_fit_and_score\u001b[0;34m(estimator, X, y, scorer, train, test, verbose, parameters, fit_params, return_train_score, return_parameters, return_n_test_samples, return_times, return_estimator, split_progress, candidate_progress, error_score)\u001b[0m\n\u001b[1;32m    591\u001b[0m             \u001b[0mestimator\u001b[0m\u001b[0;34m.\u001b[0m\u001b[0mfit\u001b[0m\u001b[0;34m(\u001b[0m\u001b[0mX_train\u001b[0m\u001b[0;34m,\u001b[0m \u001b[0;34m**\u001b[0m\u001b[0mfit_params\u001b[0m\u001b[0;34m)\u001b[0m\u001b[0;34m\u001b[0m\u001b[0;34m\u001b[0m\u001b[0m\n\u001b[1;32m    592\u001b[0m         \u001b[0;32melse\u001b[0m\u001b[0;34m:\u001b[0m\u001b[0;34m\u001b[0m\u001b[0;34m\u001b[0m\u001b[0m\n\u001b[0;32m--> 593\u001b[0;31m             \u001b[0mestimator\u001b[0m\u001b[0;34m.\u001b[0m\u001b[0mfit\u001b[0m\u001b[0;34m(\u001b[0m\u001b[0mX_train\u001b[0m\u001b[0;34m,\u001b[0m \u001b[0my_train\u001b[0m\u001b[0;34m,\u001b[0m \u001b[0;34m**\u001b[0m\u001b[0mfit_params\u001b[0m\u001b[0;34m)\u001b[0m\u001b[0;34m\u001b[0m\u001b[0;34m\u001b[0m\u001b[0m\n\u001b[0m\u001b[1;32m    594\u001b[0m \u001b[0;34m\u001b[0m\u001b[0m\n\u001b[1;32m    595\u001b[0m     \u001b[0;32mexcept\u001b[0m \u001b[0mException\u001b[0m \u001b[0;32mas\u001b[0m \u001b[0me\u001b[0m\u001b[0;34m:\u001b[0m\u001b[0;34m\u001b[0m\u001b[0;34m\u001b[0m\u001b[0m\n",
      "\u001b[0;32m~/anaconda3/envs/play/lib/python3.8/site-packages/sklearn/ensemble/_forest.py\u001b[0m in \u001b[0;36mfit\u001b[0;34m(self, X, y, sample_weight)\u001b[0m\n\u001b[1;32m    385\u001b[0m             \u001b[0;31m# parallel_backend contexts set at a higher level,\u001b[0m\u001b[0;34m\u001b[0m\u001b[0;34m\u001b[0m\u001b[0;34m\u001b[0m\u001b[0m\n\u001b[1;32m    386\u001b[0m             \u001b[0;31m# since correctness does not rely on using threads.\u001b[0m\u001b[0;34m\u001b[0m\u001b[0;34m\u001b[0m\u001b[0;34m\u001b[0m\u001b[0m\n\u001b[0;32m--> 387\u001b[0;31m             trees = Parallel(n_jobs=self.n_jobs, verbose=self.verbose,\n\u001b[0m\u001b[1;32m    388\u001b[0m                              \u001b[0;34m**\u001b[0m\u001b[0m_joblib_parallel_args\u001b[0m\u001b[0;34m(\u001b[0m\u001b[0mprefer\u001b[0m\u001b[0;34m=\u001b[0m\u001b[0;34m'threads'\u001b[0m\u001b[0;34m)\u001b[0m\u001b[0;34m)\u001b[0m\u001b[0;34m(\u001b[0m\u001b[0;34m\u001b[0m\u001b[0;34m\u001b[0m\u001b[0m\n\u001b[1;32m    389\u001b[0m                 delayed(_parallel_build_trees)(\n",
      "\u001b[0;32m~/anaconda3/envs/play/lib/python3.8/site-packages/joblib/parallel.py\u001b[0m in \u001b[0;36m__call__\u001b[0;34m(self, iterable)\u001b[0m\n\u001b[1;32m   1042\u001b[0m                 \u001b[0mself\u001b[0m\u001b[0;34m.\u001b[0m\u001b[0m_iterating\u001b[0m \u001b[0;34m=\u001b[0m \u001b[0mself\u001b[0m\u001b[0;34m.\u001b[0m\u001b[0m_original_iterator\u001b[0m \u001b[0;32mis\u001b[0m \u001b[0;32mnot\u001b[0m \u001b[0;32mNone\u001b[0m\u001b[0;34m\u001b[0m\u001b[0;34m\u001b[0m\u001b[0m\n\u001b[1;32m   1043\u001b[0m \u001b[0;34m\u001b[0m\u001b[0m\n\u001b[0;32m-> 1044\u001b[0;31m             \u001b[0;32mwhile\u001b[0m \u001b[0mself\u001b[0m\u001b[0;34m.\u001b[0m\u001b[0mdispatch_one_batch\u001b[0m\u001b[0;34m(\u001b[0m\u001b[0miterator\u001b[0m\u001b[0;34m)\u001b[0m\u001b[0;34m:\u001b[0m\u001b[0;34m\u001b[0m\u001b[0;34m\u001b[0m\u001b[0m\n\u001b[0m\u001b[1;32m   1045\u001b[0m                 \u001b[0;32mpass\u001b[0m\u001b[0;34m\u001b[0m\u001b[0;34m\u001b[0m\u001b[0m\n\u001b[1;32m   1046\u001b[0m \u001b[0;34m\u001b[0m\u001b[0m\n",
      "\u001b[0;32m~/anaconda3/envs/play/lib/python3.8/site-packages/joblib/parallel.py\u001b[0m in \u001b[0;36mdispatch_one_batch\u001b[0;34m(self, iterator)\u001b[0m\n\u001b[1;32m    857\u001b[0m                 \u001b[0;32mreturn\u001b[0m \u001b[0;32mFalse\u001b[0m\u001b[0;34m\u001b[0m\u001b[0;34m\u001b[0m\u001b[0m\n\u001b[1;32m    858\u001b[0m             \u001b[0;32melse\u001b[0m\u001b[0;34m:\u001b[0m\u001b[0;34m\u001b[0m\u001b[0;34m\u001b[0m\u001b[0m\n\u001b[0;32m--> 859\u001b[0;31m                 \u001b[0mself\u001b[0m\u001b[0;34m.\u001b[0m\u001b[0m_dispatch\u001b[0m\u001b[0;34m(\u001b[0m\u001b[0mtasks\u001b[0m\u001b[0;34m)\u001b[0m\u001b[0;34m\u001b[0m\u001b[0;34m\u001b[0m\u001b[0m\n\u001b[0m\u001b[1;32m    860\u001b[0m                 \u001b[0;32mreturn\u001b[0m \u001b[0;32mTrue\u001b[0m\u001b[0;34m\u001b[0m\u001b[0;34m\u001b[0m\u001b[0m\n\u001b[1;32m    861\u001b[0m \u001b[0;34m\u001b[0m\u001b[0m\n",
      "\u001b[0;32m~/anaconda3/envs/play/lib/python3.8/site-packages/joblib/parallel.py\u001b[0m in \u001b[0;36m_dispatch\u001b[0;34m(self, batch)\u001b[0m\n\u001b[1;32m    775\u001b[0m         \u001b[0;32mwith\u001b[0m \u001b[0mself\u001b[0m\u001b[0;34m.\u001b[0m\u001b[0m_lock\u001b[0m\u001b[0;34m:\u001b[0m\u001b[0;34m\u001b[0m\u001b[0;34m\u001b[0m\u001b[0m\n\u001b[1;32m    776\u001b[0m             \u001b[0mjob_idx\u001b[0m \u001b[0;34m=\u001b[0m \u001b[0mlen\u001b[0m\u001b[0;34m(\u001b[0m\u001b[0mself\u001b[0m\u001b[0;34m.\u001b[0m\u001b[0m_jobs\u001b[0m\u001b[0;34m)\u001b[0m\u001b[0;34m\u001b[0m\u001b[0;34m\u001b[0m\u001b[0m\n\u001b[0;32m--> 777\u001b[0;31m             \u001b[0mjob\u001b[0m \u001b[0;34m=\u001b[0m \u001b[0mself\u001b[0m\u001b[0;34m.\u001b[0m\u001b[0m_backend\u001b[0m\u001b[0;34m.\u001b[0m\u001b[0mapply_async\u001b[0m\u001b[0;34m(\u001b[0m\u001b[0mbatch\u001b[0m\u001b[0;34m,\u001b[0m \u001b[0mcallback\u001b[0m\u001b[0;34m=\u001b[0m\u001b[0mcb\u001b[0m\u001b[0;34m)\u001b[0m\u001b[0;34m\u001b[0m\u001b[0;34m\u001b[0m\u001b[0m\n\u001b[0m\u001b[1;32m    778\u001b[0m             \u001b[0;31m# A job can complete so quickly than its callback is\u001b[0m\u001b[0;34m\u001b[0m\u001b[0;34m\u001b[0m\u001b[0;34m\u001b[0m\u001b[0m\n\u001b[1;32m    779\u001b[0m             \u001b[0;31m# called before we get here, causing self._jobs to\u001b[0m\u001b[0;34m\u001b[0m\u001b[0;34m\u001b[0m\u001b[0;34m\u001b[0m\u001b[0m\n",
      "\u001b[0;32m~/anaconda3/envs/play/lib/python3.8/site-packages/joblib/_parallel_backends.py\u001b[0m in \u001b[0;36mapply_async\u001b[0;34m(self, func, callback)\u001b[0m\n\u001b[1;32m    206\u001b[0m     \u001b[0;32mdef\u001b[0m \u001b[0mapply_async\u001b[0m\u001b[0;34m(\u001b[0m\u001b[0mself\u001b[0m\u001b[0;34m,\u001b[0m \u001b[0mfunc\u001b[0m\u001b[0;34m,\u001b[0m \u001b[0mcallback\u001b[0m\u001b[0;34m=\u001b[0m\u001b[0;32mNone\u001b[0m\u001b[0;34m)\u001b[0m\u001b[0;34m:\u001b[0m\u001b[0;34m\u001b[0m\u001b[0;34m\u001b[0m\u001b[0m\n\u001b[1;32m    207\u001b[0m         \u001b[0;34m\"\"\"Schedule a func to be run\"\"\"\u001b[0m\u001b[0;34m\u001b[0m\u001b[0;34m\u001b[0m\u001b[0m\n\u001b[0;32m--> 208\u001b[0;31m         \u001b[0mresult\u001b[0m \u001b[0;34m=\u001b[0m \u001b[0mImmediateResult\u001b[0m\u001b[0;34m(\u001b[0m\u001b[0mfunc\u001b[0m\u001b[0;34m)\u001b[0m\u001b[0;34m\u001b[0m\u001b[0;34m\u001b[0m\u001b[0m\n\u001b[0m\u001b[1;32m    209\u001b[0m         \u001b[0;32mif\u001b[0m \u001b[0mcallback\u001b[0m\u001b[0;34m:\u001b[0m\u001b[0;34m\u001b[0m\u001b[0;34m\u001b[0m\u001b[0m\n\u001b[1;32m    210\u001b[0m             \u001b[0mcallback\u001b[0m\u001b[0;34m(\u001b[0m\u001b[0mresult\u001b[0m\u001b[0;34m)\u001b[0m\u001b[0;34m\u001b[0m\u001b[0;34m\u001b[0m\u001b[0m\n",
      "\u001b[0;32m~/anaconda3/envs/play/lib/python3.8/site-packages/joblib/_parallel_backends.py\u001b[0m in \u001b[0;36m__init__\u001b[0;34m(self, batch)\u001b[0m\n\u001b[1;32m    570\u001b[0m         \u001b[0;31m# Don't delay the application, to avoid keeping the input\u001b[0m\u001b[0;34m\u001b[0m\u001b[0;34m\u001b[0m\u001b[0;34m\u001b[0m\u001b[0m\n\u001b[1;32m    571\u001b[0m         \u001b[0;31m# arguments in memory\u001b[0m\u001b[0;34m\u001b[0m\u001b[0;34m\u001b[0m\u001b[0;34m\u001b[0m\u001b[0m\n\u001b[0;32m--> 572\u001b[0;31m         \u001b[0mself\u001b[0m\u001b[0;34m.\u001b[0m\u001b[0mresults\u001b[0m \u001b[0;34m=\u001b[0m \u001b[0mbatch\u001b[0m\u001b[0;34m(\u001b[0m\u001b[0;34m)\u001b[0m\u001b[0;34m\u001b[0m\u001b[0;34m\u001b[0m\u001b[0m\n\u001b[0m\u001b[1;32m    573\u001b[0m \u001b[0;34m\u001b[0m\u001b[0m\n\u001b[1;32m    574\u001b[0m     \u001b[0;32mdef\u001b[0m \u001b[0mget\u001b[0m\u001b[0;34m(\u001b[0m\u001b[0mself\u001b[0m\u001b[0;34m)\u001b[0m\u001b[0;34m:\u001b[0m\u001b[0;34m\u001b[0m\u001b[0;34m\u001b[0m\u001b[0m\n",
      "\u001b[0;32m~/anaconda3/envs/play/lib/python3.8/site-packages/joblib/parallel.py\u001b[0m in \u001b[0;36m__call__\u001b[0;34m(self)\u001b[0m\n\u001b[1;32m    260\u001b[0m         \u001b[0;31m# change the default number of processes to -1\u001b[0m\u001b[0;34m\u001b[0m\u001b[0;34m\u001b[0m\u001b[0;34m\u001b[0m\u001b[0m\n\u001b[1;32m    261\u001b[0m         \u001b[0;32mwith\u001b[0m \u001b[0mparallel_backend\u001b[0m\u001b[0;34m(\u001b[0m\u001b[0mself\u001b[0m\u001b[0;34m.\u001b[0m\u001b[0m_backend\u001b[0m\u001b[0;34m,\u001b[0m \u001b[0mn_jobs\u001b[0m\u001b[0;34m=\u001b[0m\u001b[0mself\u001b[0m\u001b[0;34m.\u001b[0m\u001b[0m_n_jobs\u001b[0m\u001b[0;34m)\u001b[0m\u001b[0;34m:\u001b[0m\u001b[0;34m\u001b[0m\u001b[0;34m\u001b[0m\u001b[0m\n\u001b[0;32m--> 262\u001b[0;31m             return [func(*args, **kwargs)\n\u001b[0m\u001b[1;32m    263\u001b[0m                     for func, args, kwargs in self.items]\n\u001b[1;32m    264\u001b[0m \u001b[0;34m\u001b[0m\u001b[0m\n",
      "\u001b[0;32m~/anaconda3/envs/play/lib/python3.8/site-packages/joblib/parallel.py\u001b[0m in \u001b[0;36m<listcomp>\u001b[0;34m(.0)\u001b[0m\n\u001b[1;32m    260\u001b[0m         \u001b[0;31m# change the default number of processes to -1\u001b[0m\u001b[0;34m\u001b[0m\u001b[0;34m\u001b[0m\u001b[0;34m\u001b[0m\u001b[0m\n\u001b[1;32m    261\u001b[0m         \u001b[0;32mwith\u001b[0m \u001b[0mparallel_backend\u001b[0m\u001b[0;34m(\u001b[0m\u001b[0mself\u001b[0m\u001b[0;34m.\u001b[0m\u001b[0m_backend\u001b[0m\u001b[0;34m,\u001b[0m \u001b[0mn_jobs\u001b[0m\u001b[0;34m=\u001b[0m\u001b[0mself\u001b[0m\u001b[0;34m.\u001b[0m\u001b[0m_n_jobs\u001b[0m\u001b[0;34m)\u001b[0m\u001b[0;34m:\u001b[0m\u001b[0;34m\u001b[0m\u001b[0;34m\u001b[0m\u001b[0m\n\u001b[0;32m--> 262\u001b[0;31m             return [func(*args, **kwargs)\n\u001b[0m\u001b[1;32m    263\u001b[0m                     for func, args, kwargs in self.items]\n\u001b[1;32m    264\u001b[0m \u001b[0;34m\u001b[0m\u001b[0m\n",
      "\u001b[0;32m~/anaconda3/envs/play/lib/python3.8/site-packages/sklearn/utils/fixes.py\u001b[0m in \u001b[0;36m__call__\u001b[0;34m(self, *args, **kwargs)\u001b[0m\n\u001b[1;32m    220\u001b[0m     \u001b[0;32mdef\u001b[0m \u001b[0m__call__\u001b[0m\u001b[0;34m(\u001b[0m\u001b[0mself\u001b[0m\u001b[0;34m,\u001b[0m \u001b[0;34m*\u001b[0m\u001b[0margs\u001b[0m\u001b[0;34m,\u001b[0m \u001b[0;34m**\u001b[0m\u001b[0mkwargs\u001b[0m\u001b[0;34m)\u001b[0m\u001b[0;34m:\u001b[0m\u001b[0;34m\u001b[0m\u001b[0;34m\u001b[0m\u001b[0m\n\u001b[1;32m    221\u001b[0m         \u001b[0;32mwith\u001b[0m \u001b[0mconfig_context\u001b[0m\u001b[0;34m(\u001b[0m\u001b[0;34m**\u001b[0m\u001b[0mself\u001b[0m\u001b[0;34m.\u001b[0m\u001b[0mconfig\u001b[0m\u001b[0;34m)\u001b[0m\u001b[0;34m:\u001b[0m\u001b[0;34m\u001b[0m\u001b[0;34m\u001b[0m\u001b[0m\n\u001b[0;32m--> 222\u001b[0;31m             \u001b[0;32mreturn\u001b[0m \u001b[0mself\u001b[0m\u001b[0;34m.\u001b[0m\u001b[0mfunction\u001b[0m\u001b[0;34m(\u001b[0m\u001b[0;34m*\u001b[0m\u001b[0margs\u001b[0m\u001b[0;34m,\u001b[0m \u001b[0;34m**\u001b[0m\u001b[0mkwargs\u001b[0m\u001b[0;34m)\u001b[0m\u001b[0;34m\u001b[0m\u001b[0;34m\u001b[0m\u001b[0m\n\u001b[0m",
      "\u001b[0;32m~/anaconda3/envs/play/lib/python3.8/site-packages/sklearn/ensemble/_forest.py\u001b[0m in \u001b[0;36m_parallel_build_trees\u001b[0;34m(tree, forest, X, y, sample_weight, tree_idx, n_trees, verbose, class_weight, n_samples_bootstrap)\u001b[0m\n\u001b[1;32m    169\u001b[0m         \u001b[0mtree\u001b[0m\u001b[0;34m.\u001b[0m\u001b[0mfit\u001b[0m\u001b[0;34m(\u001b[0m\u001b[0mX\u001b[0m\u001b[0;34m,\u001b[0m \u001b[0my\u001b[0m\u001b[0;34m,\u001b[0m \u001b[0msample_weight\u001b[0m\u001b[0;34m=\u001b[0m\u001b[0mcurr_sample_weight\u001b[0m\u001b[0;34m,\u001b[0m \u001b[0mcheck_input\u001b[0m\u001b[0;34m=\u001b[0m\u001b[0;32mFalse\u001b[0m\u001b[0;34m)\u001b[0m\u001b[0;34m\u001b[0m\u001b[0;34m\u001b[0m\u001b[0m\n\u001b[1;32m    170\u001b[0m     \u001b[0;32melse\u001b[0m\u001b[0;34m:\u001b[0m\u001b[0;34m\u001b[0m\u001b[0;34m\u001b[0m\u001b[0m\n\u001b[0;32m--> 171\u001b[0;31m         \u001b[0mtree\u001b[0m\u001b[0;34m.\u001b[0m\u001b[0mfit\u001b[0m\u001b[0;34m(\u001b[0m\u001b[0mX\u001b[0m\u001b[0;34m,\u001b[0m \u001b[0my\u001b[0m\u001b[0;34m,\u001b[0m \u001b[0msample_weight\u001b[0m\u001b[0;34m=\u001b[0m\u001b[0msample_weight\u001b[0m\u001b[0;34m,\u001b[0m \u001b[0mcheck_input\u001b[0m\u001b[0;34m=\u001b[0m\u001b[0;32mFalse\u001b[0m\u001b[0;34m)\u001b[0m\u001b[0;34m\u001b[0m\u001b[0;34m\u001b[0m\u001b[0m\n\u001b[0m\u001b[1;32m    172\u001b[0m \u001b[0;34m\u001b[0m\u001b[0m\n\u001b[1;32m    173\u001b[0m     \u001b[0;32mreturn\u001b[0m \u001b[0mtree\u001b[0m\u001b[0;34m\u001b[0m\u001b[0;34m\u001b[0m\u001b[0m\n",
      "\u001b[0;32m~/anaconda3/envs/play/lib/python3.8/site-packages/sklearn/tree/_classes.py\u001b[0m in \u001b[0;36mfit\u001b[0;34m(self, X, y, sample_weight, check_input, X_idx_sorted)\u001b[0m\n\u001b[1;32m    896\u001b[0m         \"\"\"\n\u001b[1;32m    897\u001b[0m \u001b[0;34m\u001b[0m\u001b[0m\n\u001b[0;32m--> 898\u001b[0;31m         super().fit(\n\u001b[0m\u001b[1;32m    899\u001b[0m             \u001b[0mX\u001b[0m\u001b[0;34m,\u001b[0m \u001b[0my\u001b[0m\u001b[0;34m,\u001b[0m\u001b[0;34m\u001b[0m\u001b[0;34m\u001b[0m\u001b[0m\n\u001b[1;32m    900\u001b[0m             \u001b[0msample_weight\u001b[0m\u001b[0;34m=\u001b[0m\u001b[0msample_weight\u001b[0m\u001b[0;34m,\u001b[0m\u001b[0;34m\u001b[0m\u001b[0;34m\u001b[0m\u001b[0m\n",
      "\u001b[0;32m~/anaconda3/envs/play/lib/python3.8/site-packages/sklearn/tree/_classes.py\u001b[0m in \u001b[0;36mfit\u001b[0;34m(self, X, y, sample_weight, check_input, X_idx_sorted)\u001b[0m\n\u001b[1;32m    387\u001b[0m                                            min_impurity_split)\n\u001b[1;32m    388\u001b[0m \u001b[0;34m\u001b[0m\u001b[0m\n\u001b[0;32m--> 389\u001b[0;31m         \u001b[0mbuilder\u001b[0m\u001b[0;34m.\u001b[0m\u001b[0mbuild\u001b[0m\u001b[0;34m(\u001b[0m\u001b[0mself\u001b[0m\u001b[0;34m.\u001b[0m\u001b[0mtree_\u001b[0m\u001b[0;34m,\u001b[0m \u001b[0mX\u001b[0m\u001b[0;34m,\u001b[0m \u001b[0my\u001b[0m\u001b[0;34m,\u001b[0m \u001b[0msample_weight\u001b[0m\u001b[0;34m)\u001b[0m\u001b[0;34m\u001b[0m\u001b[0;34m\u001b[0m\u001b[0m\n\u001b[0m\u001b[1;32m    390\u001b[0m \u001b[0;34m\u001b[0m\u001b[0m\n\u001b[1;32m    391\u001b[0m         \u001b[0;32mif\u001b[0m \u001b[0mself\u001b[0m\u001b[0;34m.\u001b[0m\u001b[0mn_outputs_\u001b[0m \u001b[0;34m==\u001b[0m \u001b[0;36m1\u001b[0m \u001b[0;32mand\u001b[0m \u001b[0mis_classifier\u001b[0m\u001b[0;34m(\u001b[0m\u001b[0mself\u001b[0m\u001b[0;34m)\u001b[0m\u001b[0;34m:\u001b[0m\u001b[0;34m\u001b[0m\u001b[0;34m\u001b[0m\u001b[0m\n",
      "\u001b[0;31mKeyboardInterrupt\u001b[0m: "
     ]
    }
   ],
   "source": [
    "##### ---> NOTE: this will take a while to execute \n",
    "\n",
    "## 6. Random Forest \n",
    "# set up a parameter grid to find optimal parameters\n",
    "param_grid = {\n",
    "    'n_estimators': [5, 10, 20], \n",
    "    'max_depth': [5, 10, 15, 25, 35], \n",
    "    'max_features': ['auto', 'sqrt'], \n",
    "    'min_samples_split':[2, 3, 5, 10], \n",
    "    'min_samples_leaf':[1, 2, 3, 10], \n",
    "    'bootstrap': [True, False]\n",
    "    \n",
    "}\n",
    "param_grid = {\n",
    "    'n_estimators': [10, 20, 30], \n",
    "    'max_depth': [10, 15, 25], \n",
    "    'max_features': ['auto'], \n",
    "    'min_samples_split':[2, 5, 10], \n",
    "    'min_samples_leaf':[1, 5, 10], \n",
    "    'bootstrap': [False]\n",
    "    \n",
    "}\n",
    "# run grid search over parameters using 5 fold CV verbose on \n",
    "grid_rf = GridSearchCV(em.RandomForestClassifier(random_state=rseed, class_weight='balanced'), param_grid, cv=5, verbose=2)\n",
    "grid_rf.fit(X_train_lnom, y_train)\n",
    "print(grid_rf.best_params_)\n",
    "y_test_hat = grid_rf.predict(X_test_lnom)\n",
    "print(pd.Series(y_test_hat).value_counts())\n",
    "rmse(y_test, y_test_hat)\n",
    "acc(y_test, y_test_hat)\n",
    "# OLD: best params = {'bootstrap': False, 'max_depth': 13, 'max_features': 'auto', 'min_samples_leaf': 1, 'min_samples_split': 2, 'n_estimators': 20}"
   ]
  },
  {
   "cell_type": "code",
   "execution_count": 18,
   "id": "21caf48f-0b78-4248-8087-7ea71b24707e",
   "metadata": {},
   "outputs": [
    {
     "name": "stdout",
     "output_type": "stream",
     "text": [
      "1    21154\n",
      "0    17565\n",
      "dtype: int64\n",
      "RMSE: 0.519\n",
      "Accuracy: 0.73\n"
     ]
    }
   ],
   "source": [
    "## 6. Random Forest (cont. )\n",
    "# selected optimal params from cell above\n",
    "best_params = {'max_depth': 15, 'min_samples_leaf': 1, 'min_samples_split': 5, 'n_estimators': 20, 'max_features': 'auto', 'bootstrap':False}\n",
    "#best params w/ usd goal lnoms as well \n",
    "best_params = {'max_depth': 15, 'min_samples_leaf': 5, 'min_samples_split': 2, 'n_estimators': 30, 'max_features': 'auto', 'bootstrap': False}\n",
    "# prams\n",
    "best_params = {'bootstrap': False, 'max_depth': 25, 'max_features': 'auto', 'min_samples_leaf': 10, 'min_samples_split': 2, 'n_estimators': 30}\n",
    "# run RF \n",
    "rf = em.RandomForestClassifier(random_state=rseed, class_weight='balanced', **best_params)\n",
    "rf.fit(X_train_lnom, y_train)\n",
    "y_test_hat = rf.predict(X_test_lnom)\n",
    "y_test_hat_proba = rf.predict_proba(X_test_lnom)\n",
    "print(pd.Series(y_test_hat).value_counts())\n",
    "rmse(y_test, y_test_hat)\n",
    "acc(y_test, y_test_hat)"
   ]
  },
  {
   "cell_type": "code",
   "execution_count": 19,
   "id": "7b368065-4671-411b-ae4a-4b2b10269011",
   "metadata": {},
   "outputs": [
    {
     "name": "stdout",
     "output_type": "stream",
     "text": [
      "False Positive Rate : 0.271\n",
      "False Negative Rate : 0.269\n",
      "True Positive Rate : 0.731\n",
      "True Negative Rate : 0.729\n",
      "F1 score 0.764\n"
     ]
    }
   ],
   "source": [
    "tfpn(y_test, y_test_hat)\n",
    "print(\"F1 score\", np.round(metrics.f1_score(y_test, y_test_hat), 3))"
   ]
  },
  {
   "cell_type": "code",
   "execution_count": 20,
   "id": "a0fddb10-c948-4ec9-a9ba-90f2b7614f7e",
   "metadata": {},
   "outputs": [
    {
     "data": {
      "text/plain": [
       "<sklearn.metrics._plot.roc_curve.RocCurveDisplay at 0x7fe8d0cf75e0>"
      ]
     },
     "execution_count": 20,
     "metadata": {},
     "output_type": "execute_result"
    },
    {
     "data": {
      "image/png": "[encoded data removed]",
      "text/plain": [
       "<Figure size 432x288 with 1 Axes>"
      ]
     },
     "metadata": {
      "needs_background": "light"
     },
     "output_type": "display_data"
    }
   ],
   "source": [
    "metrics.plot_roc_curve(rf, X_test_lnom, y_test)"
   ]
  },
  {
   "cell_type": "markdown",
   "id": "4e7a3565-334b-4ed3-8c4c-04250a4fb0aa",
   "metadata": {},
   "source": [
    "#### Generate some plots from RF output"
   ]
  },
  {
   "cell_type": "code",
   "execution_count": 21,
   "id": "608e77c7-7a55-47b4-8d70-6ee2142d8784",
   "metadata": {},
   "outputs": [
    {
     "data": {
      "text/plain": [
       "Text(0.5, 0, 'Predicted Probabilities')"
      ]
     },
     "execution_count": 21,
     "metadata": {},
     "output_type": "execute_result"
    },
    {
     "data": {
      "image/png": "[encoded data removed]",
      "text/plain": [
       "<Figure size 432x288 with 1 Axes>"
      ]
     },
     "metadata": {
      "needs_background": "light"
     },
     "output_type": "display_data"
    }
   ],
   "source": [
    "sns.histplot(x=y_test_hat_proba[:, 1], hue=y_test)\n",
    "plt.xlabel(\"Predicted Probabilities\")"
   ]
  },
  {
   "cell_type": "code",
   "execution_count": 22,
   "id": "debb48e6-c7cb-4ac9-ae3f-cfcb105bcf81",
   "metadata": {},
   "outputs": [
    {
     "data": {
      "text/plain": [
       "<AxesSubplot:ylabel='Density'>"
      ]
     },
     "execution_count": 22,
     "metadata": {},
     "output_type": "execute_result"
    },
    {
     "data": {
      "image/png": "[encoded data removed]",
      "text/plain": [
       "<Figure size 432x288 with 1 Axes>"
      ]
     },
     "metadata": {
      "needs_background": "light"
     },
     "output_type": "display_data"
    }
   ],
   "source": [
    "sns.kdeplot(x=y_test_hat_proba[:, 1], hue=y_test)"
   ]
  },
  {
   "cell_type": "code",
   "execution_count": 23,
   "id": "33879681-c0d9-4b52-a2d4-ce2738acc5a3",
   "metadata": {},
   "outputs": [
    {
     "data": {
      "text/plain": [
       "<AxesSubplot:xlabel='predicted', ylabel='observed'>"
      ]
     },
     "execution_count": 23,
     "metadata": {},
     "output_type": "execute_result"
    },
    {
     "data": {
      "image/png": "[encoded data removed]",
      "text/plain": [
       "<Figure size 432x288 with 2 Axes>"
      ]
     },
     "metadata": {
      "needs_background": "light"
     },
     "output_type": "display_data"
    }
   ],
   "source": [
    "rf_preds = pd.DataFrame({'observed':y_test, 'predicted':y_test_hat})\n",
    "sns.heatmap(pd.crosstab(rf_preds['observed'], rf_preds['predicted']), annot=True, cmap='Blues', fmt='g')"
   ]
  },
  {
   "cell_type": "code",
   "execution_count": 24,
   "id": "30506adc-6d16-4bb7-a3fe-b9c1ad7dc00c",
   "metadata": {},
   "outputs": [],
   "source": [
    "rf_impt_std = np.std([tree.feature_importances_ for tree in rf.estimators_], axis=0)"
   ]
  },
  {
   "cell_type": "code",
   "execution_count": 25,
   "id": "05155f9e-96b5-4eb3-8c58-899334b91bb2",
   "metadata": {},
   "outputs": [
    {
     "data": {
      "image/png": "[encoded data removed]",
      "text/plain": [
       "<Figure size 1080x576 with 1 Axes>"
      ]
     },
     "metadata": {
      "needs_background": "light"
     },
     "output_type": "display_data"
    }
   ],
   "source": [
    "rf_impt = pd.DataFrame({'var':X_cols_all, 'importance':rf.feature_importances_}).sort_values('importance', ascending=False)\n",
    "plt.subplots(1, 1, figsize=(15, 8))\n",
    "sns.barplot(x=\"var\", y=\"importance\", data=rf_impt, ci=\"sd\")\n",
    "plt.xticks(rotation=45)\n",
    "plt.show()"
   ]
  },
  {
   "cell_type": "code",
   "execution_count": 31,
   "id": "9988b5e5-17ba-42c8-8546-dfb8ebe4aa60",
   "metadata": {},
   "outputs": [
    {
     "name": "stdout",
     "output_type": "stream",
     "text": [
      "1    21374\n",
      "0    17345\n",
      "dtype: int64\n",
      "RMSE: 0.519\n",
      "Accuracy: 0.73\n"
     ]
    }
   ],
   "source": [
    "nb_proba_train = np.load(\"data/res/multi_nb_preds_train.npy\")\n",
    "nb_proba_test = np.load(\"data/res/multi_nb_preds.npy\")\n",
    "X_train_lnom2 = X_train_lnom.copy()\n",
    "X_test_lnom2 = X_test_lnom.copy()\n",
    "X_train_lnom2['nb_proba'] = nb_proba_train[:, 1]\n",
    "X_test_lnom2['nb_proba'] = nb_proba_test[:, 1]\n",
    "best_params = {'bootstrap': False, 'max_depth': 45, 'max_features': 'auto', 'min_samples_leaf': 10, 'min_samples_split': 2, 'n_estimators': 30}\n",
    "# run RF \n",
    "rf = em.RandomForestClassifier(random_state=rseed, class_weight='balanced', **best_params)\n",
    "rf.fit(X_train_lnom2, y_train)\n",
    "y_test_hat2 = rf.predict(X_test_lnom2)\n",
    "#y_test_hat_proba = rf.predict_proba(X_test_lnom2)\n",
    "print(pd.Series(y_test_hat2).value_counts())\n",
    "rmse(y_test, y_test_hat2)\n",
    "acc(y_test, y_test_hat2)"
   ]
  },
  {
   "cell_type": "code",
   "execution_count": 34,
   "id": "d119ce07-0b86-43e9-b060-981ec753e333",
   "metadata": {},
   "outputs": [
    {
     "name": "stdout",
     "output_type": "stream",
     "text": [
      "1    23897\n",
      "0    14822\n",
      "dtype: int64\n",
      "RMSE: 0.514\n",
      "Accuracy: 0.736\n"
     ]
    }
   ],
   "source": [
    "w2v_train = np.load(\"data/res/w2v_Xtrain_avg.npy\")\n",
    "w2v_test = np.load(\"data/res/w2v_Xtest_avg.npy\")\n",
    "X_train_lnom3 = pd.concat((X_train_lnom2, pd.DataFrame(w2v_train)), axis=1)\n",
    "X_test_lnom3 = pd.concat((X_test_lnom2, pd.DataFrame(w2v_test)), axis=1)\n",
    "best_params = {'bootstrap': False, 'max_depth': 40, 'max_features': 'auto', 'min_samples_leaf': 10, 'min_samples_split': 2, 'n_estimators': 30}\n",
    "# run RF \n",
    "rf = em.RandomForestClassifier(random_state=rseed, class_weight='balanced', **best_params)\n",
    "rf.fit(X_train_lnom3, y_train)\n",
    "y_test_hat3 = rf.predict(X_test_lnom3)\n",
    "#y_test_hat_proba = rf.predict_proba(X_test_lnom2)\n",
    "print(pd.Series(y_test_hat3).value_counts())\n",
    "rmse(y_test, y_test_hat3)\n",
    "acc(y_test, y_test_hat3)"
   ]
  },
  {
   "cell_type": "code",
   "execution_count": 36,
   "id": "f0a08bf4-b435-4097-821f-c94cffd272ac",
   "metadata": {},
   "outputs": [
    {
     "name": "stdout",
     "output_type": "stream",
     "text": [
      "1    23887\n",
      "0    14832\n",
      "dtype: int64\n",
      "RMSE: 0.51\n",
      "Accuracy: 0.74\n"
     ]
    }
   ],
   "source": [
    "w2v_train = np.load(\"data/res/w2v_Xtrain_avg.npy\")\n",
    "w2v_test = np.load(\"data/res/w2v_Xtest_avg.npy\")\n",
    "X_train_lnom3 = pd.concat((X_train_lnom2, pd.DataFrame(w2v_train)), axis=1)\n",
    "X_test_lnom3 = pd.concat((X_test_lnom2, pd.DataFrame(w2v_test)), axis=1)\n",
    "best_params = {'bootstrap': False, 'max_depth': 40, 'max_features': 'auto', 'min_samples_leaf': 10, 'min_samples_split': 2, 'n_estimators': 40}\n",
    "# run RF \n",
    "rf = em.RandomForestClassifier(random_state=rseed, class_weight='balanced', **best_params)\n",
    "rf.fit(X_train_lnom3, y_train)\n",
    "y_test_hat3 = rf.predict(X_test_lnom3)\n",
    "#y_test_hat_proba = rf.predict_proba(X_test_lnom2)\n",
    "print(pd.Series(y_test_hat3).value_counts())\n",
    "rmse(y_test, y_test_hat3)\n",
    "acc(y_test, y_test_hat3)"
   ]
  },
  {
   "cell_type": "code",
   "execution_count": null,
   "id": "cc9f3866-df01-41da-83ad-5cbf1b2c184f",
   "metadata": {},
   "outputs": [],
   "source": []
  },
  {
   "cell_type": "code",
   "execution_count": null,
   "id": "a1344477-fa6c-4997-965d-bed878ec95c2",
   "metadata": {},
   "outputs": [],
   "source": []
  },
  {
   "cell_type": "code",
   "execution_count": null,
   "id": "8303349b-fad7-4b6f-b534-c26c1508fc3e",
   "metadata": {},
   "outputs": [],
   "source": [
    "#### misc stuff re: dummy encodings: \n",
    "\n",
    "def add_dummies(df, dummy_cols):\n",
    "    return pd.get_dummies(df, drop_first=False, dummy_na=True, columns=dummy_cols)\n",
    "\n",
    "\n",
    "# specify columns\n",
    "y_col = \"outcome\"\n",
    "# y_col = [\"usd_goal\"]\n",
    "X_cols = [\"blurb_len\", \"spotlight\", \"staff_pick\", \"cat_position\",]\n",
    "X_dummy_cols = np.concatenate((\n",
    "    dfs_full.columns[dfs_full.columns.str.startswith(\"currency\")],\n",
    "    dfs_full.columns[dfs_full.columns.str.startswith(\"country\")], \n",
    "    dfs_full.columns[dfs_full.columns.str.startswith(\"cat_id\")], \n",
    "    dfs_full.columns[dfs_full.columns.str.startswith(\"cat_parent_id\")], \n",
    "    #dfs_full.columns[dfs_full.columns.str.startswith(\"loc_id\")], \n",
    "    dfs_full.columns[dfs_full.columns.str.startswith(\"loc_type\")], \n",
    "))\n",
    "X_lnom_cols = pd.Series(dummy_cols) + \"_mean\"\n",
    "#X_cols_all = np.concatenate((X_cols, X_dummy_cols))\n",
    "X_cols_all = np.concatenate((X_cols, X_lnom_cols))\n",
    "\n",
    "\n",
    "#X = dfs_full[X_cols_all].astype(float)\n",
    "#y = np.array(dfs_full[y_col])\n",
    "X = dfs_lnom[X_cols_all].astype(float)\n",
    "y = np.array(dfs_lnom[y_col])"
   ]
  },
  {
   "cell_type": "code",
   "execution_count": null,
   "id": "137eccce-5590-4d17-be53-fd9e2eb942e2",
   "metadata": {},
   "outputs": [],
   "source": []
  },
  {
   "cell_type": "code",
   "execution_count": null,
   "id": "d6c72dd8-a462-4b8a-989a-03cef02682bb",
   "metadata": {},
   "outputs": [],
   "source": []
  },
  {
   "cell_type": "code",
   "execution_count": null,
   "id": "091667f1-275f-496b-8476-c70d16505cd7",
   "metadata": {},
   "outputs": [],
   "source": []
  },
  {
   "cell_type": "code",
   "execution_count": null,
   "id": "7e841c63-c7b3-4090-83a5-66b1ba98b826",
   "metadata": {},
   "outputs": [],
   "source": []
  }
 ],
 "metadata": {
  "kernelspec": {
   "display_name": "Python 3",
   "language": "python",
   "name": "python3"
  },
  "language_info": {
   "codemirror_mode": {
    "name": "ipython",
    "version": 3
   },
   "file_extension": ".py",
   "mimetype": "text/x-python",
   "name": "python",
   "nbconvert_exporter": "python",
   "pygments_lexer": "ipython3",
   "version": "3.8.8"
  }
 },
 "nbformat": 4,
 "nbformat_minor": 5
}
